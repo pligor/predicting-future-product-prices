{
 "cells": [
  {
   "cell_type": "markdown",
   "metadata": {},
   "source": [
    "# DFA robustness simulations\n",
    "\n",
    "Dominik Krzemiński"
   ]
  },
  {
   "cell_type": "code",
   "execution_count": 1,
   "metadata": {},
   "outputs": [],
   "source": [
    "import numpy as np\n",
    "import matplotlib\n",
    "import matplotlib.pyplot as plt\n",
    "import scipy.signal as ss\n",
    "import scipy.stats as st\n",
    "\n",
    "plt.style.use('ggplot')\n",
    "%matplotlib inline"
   ]
  },
  {
   "cell_type": "markdown",
   "metadata": {},
   "source": [
    "Detrended Fluctuation Analysis is a method which allows to measure self-affinity properties of time series. It is claimed to be very roboust method for Hurst exponent estimation even for nonstationary signals. It consists of three main steps:\n",
    "\n",
    "1) Cumulative sum calculation;\n",
    "\n",
    "2) Detrending time series in windows $\\Delta n$ equally distributed on logarithmic scale;\n",
    "\n",
    "3) Mean squared residuals $F$ calculation on a set of windows $\\Delta n_i$;\n",
    "\n",
    "Finally, to determine DFA exponent one need to fit a line to so-called fluctuation function $F(\\Delta n)$. A slope of the line is our Hurst exponent estimator.\n",
    "\n",
    "In the following simulations we test robustness of the method to short and high amplitude artifacs and signal slicing. We use self-implemented version of DFA algorithm, which may be slower but for testing reasons is more transparent and thus easier to understand."
   ]
  },
  {
   "cell_type": "code",
   "execution_count": 2,
   "metadata": {
    "collapsed": true
   },
   "outputs": [],
   "source": [
    "def calc_rms(x, scale):\n",
    "    \"\"\"\n",
    "    Root Mean Square in windows with linear detrending.\n",
    "    \n",
    "    Args:\n",
    "    -----\n",
    "      *x* : numpy.array\n",
    "        one dimensional data vector\n",
    "      *scale* : int\n",
    "        length of the window in which RMS will be calculaed\n",
    "    Returns:\n",
    "    --------\n",
    "      *rms* : numpy.array\n",
    "        RMS data in each window with length len(x)//scale\n",
    "    \"\"\"\n",
    "    # making an array with data divided in windows\n",
    "    shape = (x.shape[0]//scale, scale)\n",
    "    X = np.lib.stride_tricks.as_strided(x,shape=shape)\n",
    "    # vector of x-axis points to regression\n",
    "    scale_ax = np.arange(scale)\n",
    "    rms = np.zeros(X.shape[0])\n",
    "    for e, xcut in enumerate(X):\n",
    "        coeff = np.polyfit(scale_ax, xcut, 1)\n",
    "        xfit = np.polyval(coeff, scale_ax)\n",
    "        # detrending and computing RMS of each window\n",
    "        rms[e] = np.sqrt(np.mean((xcut-xfit)**2))\n",
    "    return rms\n",
    "\n",
    "def dfa(x, scale_lim=[5,9], scale_dens=0.25, show=False):\n",
    "    \"\"\"\n",
    "    Detrended Fluctuation Analysis - algorithm with measures power law\n",
    "    scaling of the given signal *x*.\n",
    "    More details about algorithm can be found e.g. here:\n",
    "    Hardstone, R. et al. Detrended fluctuation analysis: A scale-free \n",
    "    view on neuronal oscillations, (2012).\n",
    "    \n",
    "    Args:\n",
    "    -----\n",
    "      *x* : numpy.array\n",
    "        one dimensional data vector\n",
    "      *scale_lim* = [5,9] : list of lenght 2 \n",
    "        boundaries of the scale where scale means windows in which RMS\n",
    "        is calculated. Numbers from list are indexes of 2 to the power\n",
    "        of range.\n",
    "      *scale_dens* = 0.25 : float\n",
    "        density of scale divisions\n",
    "      *show* = False\n",
    "        if True it shows matplotlib picture\n",
    "    Returns:\n",
    "    --------\n",
    "      *scales* : numpy.array\n",
    "        vector of scales\n",
    "      *fluct* : numpy.array\n",
    "        fluctuation function\n",
    "      *alpha* : float\n",
    "        DFA exponent\n",
    "    \"\"\"\n",
    "    # cumulative sum of data with substracted offset\n",
    "    y = np.cumsum(x - np.mean(x))\n",
    "    scales = (2**np.arange(scale_lim[0], scale_lim[1], scale_dens)).astype(np.int)\n",
    "    fluct = np.zeros(len(scales))\n",
    "    # computing RMS for each window\n",
    "    for e, sc in enumerate(scales):\n",
    "        fluct[e] = np.mean(np.sqrt(calc_rms(y, sc)**2))\n",
    "    # fitting a line to rms data\n",
    "    coeff = np.polyfit(np.log2(scales), np.log2(fluct), 1)\n",
    "    if show:\n",
    "        fluctfit = 2**np.polyval(coeff,np.log2(scales))\n",
    "        plt.loglog(scales, fluct, 'bo')\n",
    "        plt.loglog(scales, fluctfit, 'r', label=r'$\\alpha$ = %0.2f'%coeff[0])\n",
    "        plt.title('DFA')\n",
    "        plt.xlabel(r'$\\log_{10}$(time window)')\n",
    "        plt.ylabel(r'$\\log_{10}$<F(t)>')\n",
    "        plt.legend()\n",
    "        plt.show()\n",
    "    return scales, fluct, coeff[0]\n"
   ]
  },
  {
   "cell_type": "code",
   "execution_count": 3,
   "metadata": {
    "collapsed": true
   },
   "outputs": [],
   "source": [
    "def power_law_noise(n, alpha, var=1):\n",
    "    '''\n",
    "    Generale power law noise. \n",
    "    \n",
    "    Args:\n",
    "    -----\n",
    "      *n* : int\n",
    "        number of data points\n",
    "      *alpha* : float\n",
    "        DFA exponent\n",
    "      *var* = 1 : float\n",
    "        variance\n",
    "    Returns:\n",
    "    --------\n",
    "      *x* : numpy.array\n",
    "        generated noisy data with exponent *alpha*\n",
    "\n",
    "    Based on:\n",
    "    N. Jeremy Kasdin, Discrete simulation of power law noise (for\n",
    "    oscillator stability evaluation)\n",
    "    '''\n",
    "    # computing standard deviation from variance\n",
    "    stdev = np.sqrt(np.abs(var))\n",
    "    beta = 2*alpha-1\n",
    "    hfa = np.zeros(2*n)\n",
    "    hfa[0] = 1\n",
    "    for i in range(1,n):\n",
    "        hfa[i] = hfa[i-1] * (0.5*beta + (i-1))/i\n",
    "    # sample white noise\n",
    "    wfa = np.hstack((-stdev +2*stdev * np.random.rand(n), np.zeros(n)))\n",
    "    fh = np.fft.fft(hfa)\n",
    "    fw = np.fft.fft(wfa)\n",
    "    fh = fh[1:n+1]\n",
    "    fw = fw[1:n+1]\n",
    "    ftot = fh * fw\n",
    "    # matching the conventions of the Numerical Recipes\n",
    "    ftot = np.hstack((ftot, np.zeros(n-1)))\n",
    "    x = np.fft.ifft(ftot)    \n",
    "    return np.real(x[:n])\n"
   ]
  },
  {
   "cell_type": "markdown",
   "metadata": {},
   "source": [
    "Firstly let's just test our implemetation on randomly generated power-law data."
   ]
  },
  {
   "cell_type": "code",
   "execution_count": 4,
   "metadata": {},
   "outputs": [
    {
     "data": {
      "image/png": "[encoded data removed]",
      "text/plain": [
       "<matplotlib.figure.Figure at 0x7f741b963f90>"
      ]
     },
     "metadata": {},
     "output_type": "display_data"
    },
    {
     "name": "stdout",
     "output_type": "stream",
     "text": [
      "DFA exponent 0.674529494741\n"
     ]
    }
   ],
   "source": [
    "n = 2**12\n",
    "dfa_alpha = 0.7\n",
    "x = power_law_noise(n, dfa_alpha)\n",
    "scales, fluct, esta = dfa(x, show=1)\n",
    "print(\"DFA exponent {}\".format(esta))"
   ]
  },
  {
   "cell_type": "markdown",
   "metadata": {},
   "source": [
    "We got acceptable estimation of the initial value of $\\alpha$=0.7."
   ]
  },
  {
   "cell_type": "markdown",
   "metadata": {},
   "source": [
    "### Simulation 1: artifacts\n",
    "\n",
    "Now we are ready to perform the first simulation. In biomedical signals (EEG in particular) many high amplitude artifacts appear. Those can be caused by body movements, eyes blinking or just by recording device. Typically, in most of the studies researchers inspect signals visually and remove parts of them when neccessary. Although some more sophisticated methods exist, this is still the most common choice giving the best efficiency. However, because DFA is considered to be valid also for non-stationary time series we could take an adventage of that property. Beforehand let's test it if it is true.\n",
    "\n",
    "First of all, we need some model of signal artifacs."
   ]
  },
  {
   "cell_type": "code",
   "execution_count": 5,
   "metadata": {},
   "outputs": [
    {
     "data": {
      "text/plain": [
       "[<matplotlib.lines.Line2D at 0x7f741947b810>]"
      ]
     },
     "execution_count": 5,
     "metadata": {},
     "output_type": "execute_result"
    },
    {
     "data": {
      "image/png": "[encoded data removed]",
      "text/plain": [
       "<matplotlib.figure.Figure at 0x7f741bcc8dd0>"
      ]
     },
     "metadata": {},
     "output_type": "display_data"
    }
   ],
   "source": [
    "mr = ss.morlet(100, w=0.9, s=0.3)\n",
    "plt.plot(mr.real)"
   ]
  },
  {
   "cell_type": "markdown",
   "metadata": {},
   "source": [
    "Artifacts look very often as a big unexpected peak with much higher amplitude than the rest of the signal. I decided to model it as a Morlet wavelet with low frequency. I multiply part of the signal by that shape with some arbitrarly big amplitude.\n",
    "\n",
    "The picture below shows an example of signal with artifact. "
   ]
  },
  {
   "cell_type": "code",
   "execution_count": 6,
   "metadata": {},
   "outputs": [
    {
     "name": "stdout",
     "output_type": "stream",
     "text": [
      "DFA exponent 0.687642762101\n"
     ]
    },
    {
     "data": {
      "image/png": "[encoded data removed]",
      "text/plain": [
       "<matplotlib.figure.Figure at 0x7f74194ec690>"
      ]
     },
     "metadata": {},
     "output_type": "display_data"
    }
   ],
   "source": [
    "x = power_law_noise(n, dfa_alpha)\n",
    "plt.figure(figsize=(9,7))\n",
    "plt.subplot(211)\n",
    "plt.plot(x)\n",
    "plt.title(\"Original signal\")\n",
    "plt.ylim([-2.3,2.3])\n",
    "ncut = 500\n",
    "idx = 400\n",
    "mr = ss.morlet(ncut, w=1, s=0.3)\n",
    "x[idx:idx+ncut] *= 10*mr.real\n",
    "plt.subplot(212)\n",
    "plt.plot(x)\n",
    "plt.ylim([-2.3,2.3])\n",
    "plt.xlabel('time')\n",
    "plt.title(\"Signal with artifact\")\n",
    "scales, fluct, esta = dfa(x)\n",
    "print(\"DFA exponent {}\".format(esta))"
   ]
  },
  {
   "cell_type": "markdown",
   "metadata": {},
   "source": [
    "Now we perform bootstrapping, so in principle repeat such an operation *Nrep* times adding artifacts in random places with random amplitudes and lengths."
   ]
  },
  {
   "cell_type": "code",
   "execution_count": null,
   "metadata": {},
   "outputs": [
    {
     "name": "stdout",
     "output_type": "stream",
     "text": [
      "0\n",
      "10\n",
      "20\n",
      "30\n"
     ]
    }
   ],
   "source": [
    "Nrep = 1000                   # how many resamplings\n",
    "x_down, x_top = 400, 3500     # range of artifacts beginnings\n",
    "sig_amp, mu_amp = 3.5, 10     # amplitude parameters (to random Gauss generator)\n",
    "sig_ncut, mu_ncut = 100, 500  # length of the artifact\n",
    "\n",
    "dfavec = np.zeros(Nrep)\n",
    "for i in range(Nrep):\n",
    "    if i%10==0: print(i)#, end=' ')\n",
    "    x = power_law_noise(n, dfa_alpha)\n",
    "    idx = np.random.randint(x_down, x_top)\n",
    "    ncut = int(np.random.randn()*sig_ncut+mu_ncut)\n",
    "    mr = ss.morlet(ncut, w=np.random.randn()*0.1+1, s=np.random.randn()*0.1+0.3)\n",
    "    amp = np.random.randn()*sig_amp+mu_amp\n",
    "    if idx+ncut-x.shape[0] > 0: idx = x.shape[0]-ncut-1 # checks if idxs are in range of x\n",
    "    x[idx:idx+ncut] *= amp*mr.real\n",
    "    scales, fluct, estalpha = dfa(x)\n",
    "    dfavec[i] = estalpha"
   ]
  },
  {
   "cell_type": "markdown",
   "metadata": {},
   "source": [
    "As a result we get a histogram with confidence level values marked by red dashed lines and actual value marked as a purple line. We see that we cannot reject a null-hypothesis that artifacts (those generated as above) don't have any impact on DFA exponent estimation."
   ]
  },
  {
   "cell_type": "code",
   "execution_count": null,
   "metadata": {},
   "outputs": [],
   "source": [
    "alpha = 0.05\n",
    "v1 = st.scoreatpercentile(dfavec, 0.5*alpha*100)\n",
    "v2 = st.scoreatpercentile(dfavec, 100-0.5*alpha*100)\n",
    "plt.figure(figsize=(9,6))\n",
    "plt.hist(dfavec, color='#57aefc')\n",
    "plt.axvline(v1, color='r', linestyle='--')\n",
    "plt.axvline(v2, color='r', linestyle='--')\n",
    "plt.axvline(dfa_alpha, color='m')\n",
    "plt.ylabel('Counts')\n",
    "plt.xlabel('DFA-exp')\n",
    "plt.title('Histogram - artifacts')\n",
    "plt.show()"
   ]
  },
  {
   "cell_type": "markdown",
   "metadata": {},
   "source": [
    "### Simulation 2: slicing\n",
    "\n",
    "In the second simulation we are going to check what happens if we slice the signal and join two pieces together. Does it affect DFA value?\n",
    "\n",
    "As it happened before firstly we consider only signle case."
   ]
  },
  {
   "cell_type": "code",
   "execution_count": null,
   "metadata": {},
   "outputs": [],
   "source": [
    "n = 2**13\n",
    "x = power_law_noise(n, dfa_alpha)\n",
    "plt.figure(figsize=(9,7))\n",
    "plt.subplot(211)\n",
    "plt.plot(x)\n",
    "plt.title(\"Original signal\")\n",
    "plt.subplot(212)\n",
    "idx = 1400\n",
    "gap_width = 400\n",
    "x_c = np.concatenate((x[:idx],x[idx+gap_width:]))\n",
    "plt.plot(x_c)\n",
    "plt.xlabel('time')\n",
    "plt.title(\"Sliced signal\")\n",
    "scales, fluct, estaalpha = dfa(x_c)\n",
    "print(\"DFA exponent {}\".format(estaalpha))"
   ]
  },
  {
   "cell_type": "markdown",
   "metadata": {},
   "source": [
    "And now we test it by bootstrapping."
   ]
  },
  {
   "cell_type": "code",
   "execution_count": null,
   "metadata": {},
   "outputs": [],
   "source": [
    "Nrep = 1000                            # how many resamplings\n",
    "x_down, x_top = int(0.1*n), int(0.9*n) # range of slice\n",
    "sig_gw, mu_gw = 100, 300               # gap width\n",
    "\n",
    "gap_width = 200\n",
    "\n",
    "dfavec = np.zeros(Nrep)\n",
    "for i in range(Nrep):\n",
    "    if i%10==0: print(i, end=\" \")\n",
    "    x = power_law_noise(n, dfa_alpha)\n",
    "    idx = np.random.randint(x_down, x_top)\n",
    "    gap_width = int(np.random.randn()*sig_gw+mu_gw)\n",
    "    x_c = np.concatenate((x[:idx],x[idx+gap_width:]))\n",
    "    scales, fluct, estalpha = dfa(x)\n",
    "    dfavec[i] = estalpha"
   ]
  },
  {
   "cell_type": "markdown",
   "metadata": {},
   "source": [
    "Once again the initial value is in between confidence intervals so we can infer that slicing has no effect on DFA estimation."
   ]
  },
  {
   "cell_type": "code",
   "execution_count": null,
   "metadata": {},
   "outputs": [],
   "source": [
    "alpha = 0.05\n",
    "v1 = st.scoreatpercentile(dfavec, 0.5*alpha*100)\n",
    "v2 = st.scoreatpercentile(dfavec, 100-0.5*alpha*100)\n",
    "plt.figure(figsize=(9, 6))\n",
    "plt.hist(dfavec, color='#57aefc')\n",
    "plt.axvline(v1, color='r', linestyle='--')\n",
    "plt.axvline(v2, color='r', linestyle='--')\n",
    "plt.axvline(dfa_alpha, color='m')\n",
    "plt.ylabel('Counts')\n",
    "plt.xlabel('DFA-exp')\n",
    "plt.title('Histogram - slicing')\n",
    "plt.show()"
   ]
  },
  {
   "cell_type": "code",
   "execution_count": null,
   "metadata": {
    "collapsed": true
   },
   "outputs": [],
   "source": []
  }
 ],
 "metadata": {
  "kernelspec": {
   "display_name": "Python 2",
   "language": "python",
   "name": "python2"
  },
  "language_info": {
   "codemirror_mode": {
    "name": "ipython",
    "version": 2
   },
   "file_extension": ".py",
   "mimetype": "text/x-python",
   "name": "python",
   "nbconvert_exporter": "python",
   "pygments_lexer": "ipython2",
   "version": "2.7.13"
  }
 },
 "nbformat": 4,
 "nbformat_minor": 1
}
