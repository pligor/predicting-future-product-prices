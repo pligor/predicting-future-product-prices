{
 "cells": [
  {
   "cell_type": "code",
   "execution_count": 1,
   "metadata": {
    "collapsed": true
   },
   "outputs": [],
   "source": [
    "# -*- coding: UTF-8 -*-\n",
    "#%load_ext autoreload\n",
    "%reload_ext autoreload\n",
    "%autoreload 2"
   ]
  },
  {
   "cell_type": "markdown",
   "metadata": {},
   "source": [
    "- https://www.youtube.com/watch?v=ElmBrKyMXxs\n",
    "- https://github.com/hans/ipython-notebooks/blob/master/tf/TF%20tutorial.ipynb\n",
    "- https://github.com/ematvey/tensorflow-seq2seq-tutorials"
   ]
  },
  {
   "cell_type": "code",
   "execution_count": 2,
   "metadata": {},
   "outputs": [
    {
     "name": "stderr",
     "output_type": "stream",
     "text": [
      "/home/studenthp/anaconda2/envs/dis/lib/python2.7/site-packages/statsmodels/compat/pandas.py:56: FutureWarning: The pandas.core.datetools module is deprecated and will be removed in a future version. Please use the pandas.tseries module instead.\n",
      "  from pandas.core import datetools\n"
     ]
    }
   ],
   "source": [
    "from __future__ import division\n",
    "import tensorflow as tf\n",
    "from os import path, remove\n",
    "import numpy as np\n",
    "import pandas as pd\n",
    "import csv\n",
    "from sklearn.model_selection import StratifiedShuffleSplit\n",
    "from time import time\n",
    "from matplotlib import pyplot as plt\n",
    "import seaborn as sns\n",
    "from mylibs.jupyter_notebook_helper import show_graph, renderStatsList, renderStatsCollection, \\\n",
    "    renderStatsListWithLabels, renderStatsCollectionOfCrossValids\n",
    "from tensorflow.contrib import rnn\n",
    "from tensorflow.contrib import learn\n",
    "import shutil\n",
    "from tensorflow.contrib.learn.python.learn import learn_runner\n",
    "from mylibs.tf_helper import getDefaultGPUconfig\n",
    "from sklearn.metrics import r2_score\n",
    "from mylibs.py_helper import factors\n",
    "from fastdtw import fastdtw\n",
    "from collections import OrderedDict\n",
    "from scipy.spatial.distance import euclidean\n",
    "from statsmodels.tsa.stattools import coint\n",
    "from common import get_or_run_nn\n",
    "from data_providers.price_history_seq2seq_data_provider import PriceHistorySeq2SeqDataProvider\n",
    "from data_providers.price_history_dataset_generator import PriceHistoryDatasetGenerator\n",
    "from skopt.space.space import Integer, Real\n",
    "from skopt import gp_minimize\n",
    "from skopt.plots import plot_convergence\n",
    "import pickle\n",
    "import inspect\n",
    "import dill\n",
    "import sys\n",
    "from models.price_history_21_seq2seq_dyn_dec_ins import PriceHistorySeq2SeqDynDecIns"
   ]
  },
  {
   "cell_type": "code",
   "execution_count": 3,
   "metadata": {
    "collapsed": true
   },
   "outputs": [],
   "source": [
    "dtype = tf.float32\n",
    "seed = 16011984\n",
    "random_state = np.random.RandomState(seed=seed)\n",
    "config = getDefaultGPUconfig()\n",
    "n_jobs = 1\n",
    "%matplotlib inline"
   ]
  },
  {
   "cell_type": "markdown",
   "metadata": {},
   "source": [
    "### Step 0 - hyperparams"
   ]
  },
  {
   "cell_type": "markdown",
   "metadata": {},
   "source": [
    "vocab_size is all the potential words you could have (classification for translation case)\n",
    "and max sequence length are the SAME thing\n",
    "\n",
    "decoder RNN hidden units are usually same size as encoder RNN hidden units in translation but for our case it does not seem really to be a relationship there but we can experiment and find out later, not a priority thing right now"
   ]
  },
  {
   "cell_type": "code",
   "execution_count": 4,
   "metadata": {
    "collapsed": true
   },
   "outputs": [],
   "source": [
    "num_units = 400 #state size\n",
    "\n",
    "input_len = 60\n",
    "target_len = 30\n",
    "\n",
    "batch_size = 50\n",
    "with_EOS = False"
   ]
  },
  {
   "cell_type": "code",
   "execution_count": 5,
   "metadata": {
    "collapsed": true
   },
   "outputs": [],
   "source": [
    "total_train_size = 57994\n",
    "train_size = 6400 \n",
    "test_size = 1282"
   ]
  },
  {
   "cell_type": "markdown",
   "metadata": {},
   "source": [
    "# Global Scale Normalization"
   ]
  },
  {
   "cell_type": "markdown",
   "metadata": {},
   "source": [
    "### Once generate data"
   ]
  },
  {
   "cell_type": "code",
   "execution_count": 6,
   "metadata": {
    "collapsed": true
   },
   "outputs": [],
   "source": [
    "data_path = '../data/price_history'"
   ]
  },
  {
   "cell_type": "code",
   "execution_count": 7,
   "metadata": {
    "collapsed": true
   },
   "outputs": [],
   "source": [
    "#npz_full_train = data_path + '/price_history_03_dp_60to30_train.npz'\n",
    "#npz_full_train = data_path + '/price_history_60to30_targets_normed_train.npz'\n",
    "npz_full_train = data_path + '/price_history_03_dp_60to30_global_remove_scale_train.npz'\n",
    "\n",
    "#npz_train = data_path + '/price_history_03_dp_60to30_57980_train.npz'\n",
    "#npz_train = data_path + '/price_history_03_dp_60to30_6400_train.npz'\n",
    "#npz_train = data_path + '/price_history_60to30_6400_targets_normed_train.npz'\n",
    "npz_train = data_path + '/price_history_03_dp_60to30_6400_global_remove_scale_train.npz'\n",
    "\n",
    "#npz_test = data_path + '/price_history_03_dp_60to30_test.npz'\n",
    "#npz_test = data_path + '/price_history_60to30_targets_normed_test.npz'\n",
    "npz_test = data_path + '/price_history_03_dp_60to30_global_remove_scale_test.npz'"
   ]
  },
  {
   "cell_type": "code",
   "execution_count": 8,
   "metadata": {
    "collapsed": true
   },
   "outputs": [],
   "source": [
    "#%%time\n",
    "# csv_in = '../price_history_03_seq_start_suddens_trimmed.csv'\n",
    "\n",
    "# train_sku_ids, train_XX, train_YY, train_sequence_lens, train_seq_mask, test_pack = \\\n",
    "#     PriceHistoryDatasetGenerator(random_state=random_state).createAndSaveDataset(\n",
    "#             csv_in=csv_in,\n",
    "#             input_seq_len=input_len,\n",
    "#             target_seq_len=target_len,\n",
    "#             allowSmallerSequencesThanWindow=False,\n",
    "#             #min_date = '2016-11-01',\n",
    "#             split_fraction = 0.40,\n",
    "#             #keep_training_fraction = 0.22, #57994 * 0.22 = 12758.68\n",
    "#             normalize_targets = False,\n",
    "#             do_global_norm_scale = True,\n",
    "#             #disable saving for now since we have already created them\n",
    "#             save_files_dic = {\"train\": npz_full_train, \"test\": npz_test,},\n",
    "#     )"
   ]
  },
  {
   "cell_type": "code",
   "execution_count": 9,
   "metadata": {
    "collapsed": true
   },
   "outputs": [],
   "source": [
    "# print train_sku_ids.shape, train_XX.shape, train_YY.shape, train_sequence_lens.shape, train_seq_mask.shape\n",
    "# aa,bb,cc,dd,ee = test_pack.get_data()\n",
    "# aa.shape,bb.shape,cc.shape,dd.shape,ee.shape"
   ]
  },
  {
   "cell_type": "code",
   "execution_count": 10,
   "metadata": {
    "collapsed": true
   },
   "outputs": [],
   "source": [
    "# PriceHistoryDatasetGenerator.create_subsampled(inpath=npz_trainfull_train,\n",
    "#                                                target_size = train_size,\n",
    "#                                                outpath = npz_train, random_state=random_state)"
   ]
  },
  {
   "cell_type": "markdown",
   "metadata": {},
   "source": [
    "### Step 1 - collect data"
   ]
  },
  {
   "cell_type": "code",
   "execution_count": 11,
   "metadata": {},
   "outputs": [
    {
     "data": {
      "text/plain": [
       "((6400, 60, 1), (6400, 30))"
      ]
     },
     "execution_count": 11,
     "metadata": {},
     "output_type": "execute_result"
    }
   ],
   "source": [
    "dp = PriceHistorySeq2SeqDataProvider(npz_path=npz_train, batch_size=batch_size, with_EOS=with_EOS)\n",
    "dp.inputs.shape, dp.targets.shape"
   ]
  },
  {
   "cell_type": "code",
   "execution_count": 12,
   "metadata": {},
   "outputs": [
    {
     "data": {
      "text/plain": [
       "((50, 60, 1), (50, 30))"
      ]
     },
     "execution_count": 12,
     "metadata": {},
     "output_type": "execute_result"
    }
   ],
   "source": [
    "aa, bb = dp.next()\n",
    "aa.shape, bb.shape"
   ]
  },
  {
   "cell_type": "markdown",
   "metadata": {},
   "source": [
    "### Step 2 - Build model"
   ]
  },
  {
   "cell_type": "code",
   "execution_count": 13,
   "metadata": {
    "collapsed": true,
    "scrolled": true
   },
   "outputs": [],
   "source": [
    "model = PriceHistorySeq2SeqDynDecIns(rng=random_state, dtype=dtype, config=config, with_EOS=with_EOS)"
   ]
  },
  {
   "cell_type": "code",
   "execution_count": 14,
   "metadata": {
    "collapsed": true,
    "scrolled": true
   },
   "outputs": [],
   "source": [
    "# graph = model.getGraph(batch_size=batch_size,\n",
    "#                        num_units=num_units,\n",
    "#                        input_len=input_len,\n",
    "#                        target_len=target_len)"
   ]
  },
  {
   "cell_type": "code",
   "execution_count": 15,
   "metadata": {
    "collapsed": true
   },
   "outputs": [],
   "source": [
    "#show_graph(graph)"
   ]
  },
  {
   "cell_type": "markdown",
   "metadata": {},
   "source": [
    "### Step 3 training the network"
   ]
  },
  {
   "cell_type": "markdown",
   "metadata": {},
   "source": [
    "RECALL: baseline is around 4 for huber loss for current problem, anything above 4 should be considered as major errors"
   ]
  },
  {
   "cell_type": "code",
   "execution_count": 16,
   "metadata": {
    "collapsed": true
   },
   "outputs": [],
   "source": [
    "def experiment():\n",
    "    return model.run(npz_path=npz_train,\n",
    "             epochs=20,\n",
    "             batch_size = 50,\n",
    "             num_units = 400,\n",
    "             input_len=input_len,\n",
    "             target_len=target_len,\n",
    "             #learning_rate = 0.0026945952539362472,\n",
    "             preds_gather_enabled=True,\n",
    "             batch_norm_enabled = True,\n",
    "             activation = tf.nn.elu,\n",
    "             decoder_first_input = PriceHistorySeq2SeqDynDecIns.DECODER_FIRST_INPUT.PREVIOUS_INPUT,\n",
    "             #keep_prob_input = 0.9,\n",
    "             #lamda2 = 1e-2,\n",
    "            )"
   ]
  },
  {
   "cell_type": "markdown",
   "metadata": {},
   "source": [
    "Recall that without batch normalization within 10 epochs with num units 400 and batch_size 64 we reached at 4.940\n",
    "and with having the decoder inputs NOT filled from the outputs"
   ]
  },
  {
   "cell_type": "code",
   "execution_count": 17,
   "metadata": {
    "scrolled": true
   },
   "outputs": [
    {
     "name": "stdout",
     "output_type": "stream",
     "text": [
      "CPU times: user 704 ms, sys: 0 ns, total: 704 ms\n",
      "Wall time: 700 ms\n"
     ]
    }
   ],
   "source": [
    "%%time\n",
    "dyn_stats, preds_dict = get_or_run_nn(experiment, filename='022_seq2seq_60to30_001')"
   ]
  },
  {
   "cell_type": "code",
   "execution_count": 18,
   "metadata": {},
   "outputs": [
    {
     "data": {
      "image/png": "[encoded data removed]",
      "text/plain": [
       "<matplotlib.figure.Figure at 0x7fab2847cd90>"
      ]
     },
     "metadata": {},
     "output_type": "display_data"
    }
   ],
   "source": [
    "dyn_stats.plotStats()\n",
    "plt.show()"
   ]
  },
  {
   "cell_type": "code",
   "execution_count": 19,
   "metadata": {
    "collapsed": true
   },
   "outputs": [],
   "source": [
    "r2_scores = [r2_score(y_true=dp.targets[ind], y_pred=preds_dict[ind])\n",
    "            for ind in range(len(dp.targets))]"
   ]
  },
  {
   "cell_type": "code",
   "execution_count": 20,
   "metadata": {},
   "outputs": [
    {
     "data": {
      "text/plain": [
       "2569"
      ]
     },
     "execution_count": 20,
     "metadata": {},
     "output_type": "execute_result"
    }
   ],
   "source": [
    "ind = np.argmin(r2_scores)\n",
    "ind"
   ]
  },
  {
   "cell_type": "code",
   "execution_count": 21,
   "metadata": {
    "collapsed": true
   },
   "outputs": [],
   "source": [
    "reals = dp.targets[ind]\n",
    "preds = preds_dict[ind]"
   ]
  },
  {
   "cell_type": "code",
   "execution_count": 22,
   "metadata": {},
   "outputs": [
    {
     "data": {
      "text/plain": [
       "-1.4199962056347357e+32"
      ]
     },
     "execution_count": 22,
     "metadata": {},
     "output_type": "execute_result"
    }
   ],
   "source": [
    "r2_score(y_true=reals, y_pred=preds)"
   ]
  },
  {
   "cell_type": "code",
   "execution_count": 23,
   "metadata": {},
   "outputs": [
    {
     "data": {
      "text/plain": [
       "<matplotlib.axes._subplots.AxesSubplot at 0x7fab2847cd10>"
      ]
     },
     "execution_count": 23,
     "metadata": {},
     "output_type": "execute_result"
    },
    {
     "data": {
      "image/png": "[encoded data removed]",
      "text/plain": [
       "<matplotlib.figure.Figure at 0x7faac584fa50>"
      ]
     },
     "metadata": {},
     "output_type": "display_data"
    }
   ],
   "source": [
    "sns.tsplot(data=dp.inputs[ind].flatten())"
   ]
  },
  {
   "cell_type": "code",
   "execution_count": 24,
   "metadata": {},
   "outputs": [
    {
     "data": {
      "image/png": "[encoded data removed]",
      "text/plain": [
       "<matplotlib.figure.Figure at 0x7faac5a36f10>"
      ]
     },
     "metadata": {},
     "output_type": "display_data"
    }
   ],
   "source": [
    "fig = plt.figure(figsize=(15,6))\n",
    "plt.plot(reals, 'b')\n",
    "plt.plot(preds, 'g')\n",
    "plt.legend(['reals','preds'])\n",
    "plt.show()"
   ]
  },
  {
   "cell_type": "code",
   "execution_count": 25,
   "metadata": {},
   "outputs": [
    {
     "name": "stdout",
     "output_type": "stream",
     "text": [
      "CPU times: user 13 s, sys: 100 ms, total: 13.1 s\n",
      "Wall time: 13 s\n"
     ]
    }
   ],
   "source": [
    "%%time\n",
    "dtw_scores = [fastdtw(dp.targets[ind], preds_dict[ind])[0]\n",
    "             for ind in range(len(dp.targets))]"
   ]
  },
  {
   "cell_type": "code",
   "execution_count": 27,
   "metadata": {
    "collapsed": true
   },
   "outputs": [],
   "source": [
    "aa = fastdtw(dp.targets[0], preds_dict[0])"
   ]
  },
  {
   "cell_type": "code",
   "execution_count": 33,
   "metadata": {
    "collapsed": true
   },
   "outputs": [],
   "source": [
    "import fastdtw as fst\n",
    "targets = dp.targets[0]\n",
    "preds = preds_dict[0]\n",
    "ind = 0"
   ]
  },
  {
   "cell_type": "code",
   "execution_count": 35,
   "metadata": {},
   "outputs": [
    {
     "name": "stdout",
     "output_type": "stream",
     "text": [
      "<type 'numpy.ndarray'>\n",
      "<type 'numpy.float64'>\n",
      "(30,)\n",
      "<type 'numpy.ndarray'>\n",
      "<type 'numpy.float64'>\n",
      "(30,)\n"
     ]
    }
   ],
   "source": [
    "print type(targets)\n",
    "print type(targets[ind])\n",
    "print targets.shape\n",
    "print type(preds)\n",
    "print type(preds[ind])\n",
    "print preds.shape"
   ]
  },
  {
   "cell_type": "code",
   "execution_count": 26,
   "metadata": {},
   "outputs": [
    {
     "data": {
      "text/plain": [
       "2.103477780808928"
      ]
     },
     "execution_count": 26,
     "metadata": {},
     "output_type": "execute_result"
    }
   ],
   "source": [
    "np.mean(dtw_scores)"
   ]
  },
  {
   "cell_type": "code",
   "execution_count": 27,
   "metadata": {},
   "outputs": [
    {
     "data": {
      "text/plain": [
       "(-0.40984010460311138,\n",
       " 0.97016523699800961,\n",
       " array([-4.31395736, -3.55493606, -3.19393252]))"
      ]
     },
     "execution_count": 27,
     "metadata": {},
     "output_type": "execute_result"
    }
   ],
   "source": [
    "coint(preds, reals)"
   ]
  },
  {
   "cell_type": "code",
   "execution_count": 54,
   "metadata": {
    "scrolled": true
   },
   "outputs": [
    {
     "data": {
      "image/png": "[encoded data removed]",
      "text/plain": [
       "<matplotlib.figure.Figure at 0x7fe238052dd0>"
      ]
     },
     "metadata": {},
     "output_type": "display_data"
    }
   ],
   "source": [
    "cur_ind = np.random.randint(len(dp.targets))\n",
    "reals = dp.targets[cur_ind]\n",
    "preds = preds_dict[cur_ind]\n",
    "fig = plt.figure(figsize=(15,6))\n",
    "plt.plot(reals, 'b')\n",
    "plt.plot(preds, 'g')\n",
    "plt.legend(['reals','preds'])\n",
    "plt.show()"
   ]
  },
  {
   "cell_type": "markdown",
   "metadata": {},
   "source": [
    "#### Conclusion\n",
    "???"
   ]
  },
  {
   "cell_type": "code",
   "execution_count": null,
   "metadata": {
    "collapsed": true
   },
   "outputs": [],
   "source": []
  },
  {
   "cell_type": "markdown",
   "metadata": {},
   "source": [
    "# Global Scale Normalization plus normalization per instance"
   ]
  },
  {
   "cell_type": "markdown",
   "metadata": {},
   "source": [
    "### Once generate data"
   ]
  },
  {
   "cell_type": "code",
   "execution_count": 6,
   "metadata": {
    "collapsed": true
   },
   "outputs": [],
   "source": [
    "data_path = '../data/price_history'"
   ]
  },
  {
   "cell_type": "code",
   "execution_count": 7,
   "metadata": {
    "collapsed": true
   },
   "outputs": [],
   "source": [
    "#npz_full_train = data_path + '/price_history_03_dp_60to30_train.npz'\n",
    "#npz_full_train = data_path + '/price_history_60to30_targets_normed_train.npz'\n",
    "npz_full_train = data_path + '/price_history_03_dp_60to30_global_local_remove_scale_train.npz'\n",
    "\n",
    "#npz_train = data_path + '/price_history_03_dp_60to30_57980_train.npz'\n",
    "#npz_train = data_path + '/price_history_03_dp_60to30_6400_train.npz'\n",
    "#npz_train = data_path + '/price_history_60to30_6400_targets_normed_train.npz'\n",
    "npz_train = data_path + '/price_history_03_dp_60to30_6400_global_local_remove_scale_train.npz'\n",
    "\n",
    "#npz_test = data_path + '/price_history_03_dp_60to30_test.npz'\n",
    "#npz_test = data_path + '/price_history_60to30_targets_normed_test.npz'\n",
    "npz_test = data_path + '/price_history_03_dp_60to30_global_local_remove_scale_test.npz'"
   ]
  },
  {
   "cell_type": "code",
   "execution_count": 8,
   "metadata": {
    "collapsed": true
   },
   "outputs": [],
   "source": [
    "#%%time\n",
    "# csv_in = '../price_history_03_seq_start_suddens_trimmed.csv'\n",
    "\n",
    "# train_sku_ids, train_XX, train_YY, train_sequence_lens, train_seq_mask, test_pack = \\\n",
    "#     PriceHistoryDatasetGenerator(random_state=random_state).createAndSaveDataset(\n",
    "#             csv_in=csv_in,\n",
    "#             input_seq_len=input_len,\n",
    "#             target_seq_len=target_len,\n",
    "#             allowSmallerSequencesThanWindow=False,\n",
    "#             #min_date = '2016-11-01',\n",
    "#             split_fraction = 0.40,\n",
    "#             #keep_training_fraction = 0.22, #57994 * 0.22 = 12758.68\n",
    "#             normalize_targets = False,\n",
    "#             do_global_norm_scale = True,\n",
    "#             norm_instance_scale = True,\n",
    "#             #disable saving for now since we have already created them\n",
    "#             save_files_dic = {\"train\": npz_full_train, \"test\": npz_test,},\n",
    "#     )"
   ]
  },
  {
   "cell_type": "code",
   "execution_count": 9,
   "metadata": {},
   "outputs": [
    {
     "name": "stdout",
     "output_type": "stream",
     "text": [
      "(57994,) (57994, 60, 1) (57994, 30) (57994,) (57994, 60)\n"
     ]
    },
    {
     "data": {
      "text/plain": [
       "((1282,), (1282, 60, 1), (1282, 30), (1282,), (1282, 60))"
      ]
     },
     "execution_count": 9,
     "metadata": {},
     "output_type": "execute_result"
    }
   ],
   "source": [
    "# print train_sku_ids.shape, train_XX.shape, train_YY.shape, train_sequence_lens.shape, train_seq_mask.shape\n",
    "# aa,bb,cc,dd,ee = test_pack.get_data()\n",
    "# aa.shape,bb.shape,cc.shape,dd.shape,ee.shape"
   ]
  },
  {
   "cell_type": "code",
   "execution_count": 11,
   "metadata": {
    "collapsed": true
   },
   "outputs": [],
   "source": [
    "# PriceHistoryDatasetGenerator.create_subsampled(inpath=npz_full_train,\n",
    "#                                                target_size = train_size,\n",
    "#                                                outpath = npz_train, random_state=random_state)"
   ]
  },
  {
   "cell_type": "markdown",
   "metadata": {},
   "source": [
    "### Step 1 - collect data"
   ]
  },
  {
   "cell_type": "code",
   "execution_count": 12,
   "metadata": {},
   "outputs": [
    {
     "data": {
      "text/plain": [
       "((6400, 60, 1), (6400, 30))"
      ]
     },
     "execution_count": 12,
     "metadata": {},
     "output_type": "execute_result"
    }
   ],
   "source": [
    "dp = PriceHistorySeq2SeqDataProvider(npz_path=npz_train, batch_size=batch_size, with_EOS=with_EOS)\n",
    "dp.inputs.shape, dp.targets.shape"
   ]
  },
  {
   "cell_type": "code",
   "execution_count": 13,
   "metadata": {},
   "outputs": [
    {
     "data": {
      "text/plain": [
       "((50, 60, 1), (50, 30))"
      ]
     },
     "execution_count": 13,
     "metadata": {},
     "output_type": "execute_result"
    }
   ],
   "source": [
    "aa, bb = dp.next()\n",
    "aa.shape, bb.shape"
   ]
  },
  {
   "cell_type": "markdown",
   "metadata": {},
   "source": [
    "### Step 2 - Build model"
   ]
  },
  {
   "cell_type": "code",
   "execution_count": 14,
   "metadata": {
    "collapsed": true,
    "scrolled": true
   },
   "outputs": [],
   "source": [
    "model = PriceHistorySeq2SeqDynDecIns(rng=random_state, dtype=dtype, config=config, with_EOS=with_EOS)"
   ]
  },
  {
   "cell_type": "code",
   "execution_count": 15,
   "metadata": {
    "collapsed": true,
    "scrolled": true
   },
   "outputs": [],
   "source": [
    "# graph = model.getGraph(batch_size=batch_size,\n",
    "#                        num_units=num_units,\n",
    "#                        input_len=input_len,\n",
    "#                        target_len=target_len)"
   ]
  },
  {
   "cell_type": "code",
   "execution_count": 16,
   "metadata": {
    "collapsed": true
   },
   "outputs": [],
   "source": [
    "#show_graph(graph)"
   ]
  },
  {
   "cell_type": "markdown",
   "metadata": {},
   "source": [
    "### Step 3 training the network"
   ]
  },
  {
   "cell_type": "markdown",
   "metadata": {},
   "source": [
    "RECALL: baseline is around 4 for huber loss for current problem, anything above 4 should be considered as major errors"
   ]
  },
  {
   "cell_type": "code",
   "execution_count": 17,
   "metadata": {
    "collapsed": true
   },
   "outputs": [],
   "source": [
    "def experiment():\n",
    "    return model.run(npz_path=npz_train,\n",
    "             epochs=20,\n",
    "             batch_size = 50,\n",
    "             num_units = 400,\n",
    "             input_len=input_len,\n",
    "             target_len=target_len,\n",
    "             #learning_rate = 0.0026945952539362472,\n",
    "             preds_gather_enabled=True,\n",
    "             batch_norm_enabled = True,\n",
    "             activation = tf.nn.elu,\n",
    "             decoder_first_input = PriceHistorySeq2SeqDynDecIns.DECODER_FIRST_INPUT.PREVIOUS_INPUT,\n",
    "             #keep_prob_input = 0.9,\n",
    "             #lamda2 = 1e-2,\n",
    "            )"
   ]
  },
  {
   "cell_type": "markdown",
   "metadata": {},
   "source": [
    "Recall that without batch normalization within 10 epochs with num units 400 and batch_size 64 we reached at 4.940\n",
    "and with having the decoder inputs NOT filled from the outputs"
   ]
  },
  {
   "cell_type": "code",
   "execution_count": 18,
   "metadata": {
    "scrolled": true
   },
   "outputs": [
    {
     "name": "stdout",
     "output_type": "stream",
     "text": [
      "epochs: 20\n",
      "learning_rate: 0.001\n",
      "keep_prob_input: 1.0\n",
      "End Epoch 01 (32.886 secs): err(train) = 0.074512\n",
      "current dec_ins_percent_usage: 1.0\n",
      "End Epoch 02 (31.881 secs): err(train) = 0.056361\n",
      "current dec_ins_percent_usage: 0.75\n",
      "End Epoch 03 (32.316 secs): err(train) = 0.050933\n",
      "current dec_ins_percent_usage: 0.5\n",
      "End Epoch 04 (31.666 secs): err(train) = 0.067669\n",
      "current dec_ins_percent_usage: 0.25\n",
      "End Epoch 05 (31.630 secs): err(train) = 0.316446\n",
      "current dec_ins_percent_usage: 0.0\n",
      "End Epoch 06 (31.573 secs): err(train) = 0.240851\n",
      "current dec_ins_percent_usage: 0.0\n",
      "End Epoch 07 (31.606 secs): err(train) = 0.236075\n",
      "current dec_ins_percent_usage: 0.0\n",
      "End Epoch 08 (31.580 secs): err(train) = 0.224232\n",
      "current dec_ins_percent_usage: 0.0\n",
      "End Epoch 09 (31.602 secs): err(train) = 0.225593\n",
      "current dec_ins_percent_usage: 0.0\n",
      "End Epoch 10 (31.577 secs): err(train) = 0.221800\n",
      "current dec_ins_percent_usage: 0.0\n",
      "End Epoch 11 (31.592 secs): err(train) = 0.220316\n",
      "current dec_ins_percent_usage: 0.0\n",
      "End Epoch 12 (31.589 secs): err(train) = 0.216775\n",
      "current dec_ins_percent_usage: 0.0\n",
      "End Epoch 13 (31.629 secs): err(train) = 0.212408\n",
      "current dec_ins_percent_usage: 0.0\n",
      "End Epoch 14 (31.581 secs): err(train) = 0.210910\n",
      "current dec_ins_percent_usage: 0.0\n",
      "End Epoch 15 (31.594 secs): err(train) = 0.207556\n",
      "current dec_ins_percent_usage: 0.0\n",
      "End Epoch 16 (31.590 secs): err(train) = 0.210312\n",
      "current dec_ins_percent_usage: 0.0\n",
      "End Epoch 17 (31.592 secs): err(train) = 0.208736\n",
      "current dec_ins_percent_usage: 0.0\n",
      "End Epoch 18 (31.566 secs): err(train) = 0.209090\n",
      "current dec_ins_percent_usage: 0.0\n",
      "End Epoch 19 (31.578 secs): err(train) = 0.206408\n",
      "current dec_ins_percent_usage: 0.0\n",
      "End Epoch 20 (31.601 secs): err(train) = 0.204282\n",
      "current dec_ins_percent_usage: 0.0\n",
      "\n",
      "CPU times: user 11min 9s, sys: 46.5 s, total: 11min 55s\n",
      "Wall time: 10min 55s\n"
     ]
    }
   ],
   "source": [
    "%%time\n",
    "dyn_stats, preds_dict = get_or_run_nn(experiment, filename='022_seq2seq_60to30_002')"
   ]
  },
  {
   "cell_type": "code",
   "execution_count": 19,
   "metadata": {},
   "outputs": [
    {
     "data": {
      "image/png": "[encoded data removed]",
      "text/plain": [
       "<matplotlib.figure.Figure at 0x7f4231991c50>"
      ]
     },
     "metadata": {},
     "output_type": "display_data"
    }
   ],
   "source": [
    "dyn_stats.plotStats()\n",
    "plt.show()"
   ]
  },
  {
   "cell_type": "code",
   "execution_count": 20,
   "metadata": {
    "collapsed": true
   },
   "outputs": [],
   "source": [
    "r2_scores = [r2_score(y_true=dp.targets[ind], y_pred=preds_dict[ind])\n",
    "            for ind in range(len(dp.targets))]"
   ]
  },
  {
   "cell_type": "code",
   "execution_count": 21,
   "metadata": {},
   "outputs": [
    {
     "data": {
      "text/plain": [
       "5860"
      ]
     },
     "execution_count": 21,
     "metadata": {},
     "output_type": "execute_result"
    }
   ],
   "source": [
    "ind = np.argmin(r2_scores)\n",
    "ind"
   ]
  },
  {
   "cell_type": "code",
   "execution_count": 22,
   "metadata": {
    "collapsed": true
   },
   "outputs": [],
   "source": [
    "reals = dp.targets[ind]\n",
    "preds = preds_dict[ind]"
   ]
  },
  {
   "cell_type": "code",
   "execution_count": 23,
   "metadata": {},
   "outputs": [
    {
     "data": {
      "text/plain": [
       "-1.0348669019461579e+31"
      ]
     },
     "execution_count": 23,
     "metadata": {},
     "output_type": "execute_result"
    }
   ],
   "source": [
    "r2_score(y_true=reals, y_pred=preds)"
   ]
  },
  {
   "cell_type": "code",
   "execution_count": 24,
   "metadata": {},
   "outputs": [
    {
     "data": {
      "text/plain": [
       "<matplotlib.axes._subplots.AxesSubplot at 0x7f42183a0cd0>"
      ]
     },
     "execution_count": 24,
     "metadata": {},
     "output_type": "execute_result"
    },
    {
     "data": {
      "image/png": "[encoded data removed]",
      "text/plain": [
       "<matplotlib.figure.Figure at 0x7f4218069050>"
      ]
     },
     "metadata": {},
     "output_type": "display_data"
    }
   ],
   "source": [
    "sns.tsplot(data=dp.inputs[ind].flatten())"
   ]
  },
  {
   "cell_type": "code",
   "execution_count": 25,
   "metadata": {},
   "outputs": [
    {
     "data": {
      "image/png": "[encoded data removed]",
      "text/plain": [
       "<matplotlib.figure.Figure at 0x7f42107f1950>"
      ]
     },
     "metadata": {},
     "output_type": "display_data"
    }
   ],
   "source": [
    "fig = plt.figure(figsize=(15,6))\n",
    "plt.plot(reals, 'b')\n",
    "plt.plot(preds, 'g')\n",
    "plt.legend(['reals','preds'])\n",
    "plt.show()"
   ]
  },
  {
   "cell_type": "code",
   "execution_count": 26,
   "metadata": {},
   "outputs": [
    {
     "name": "stdout",
     "output_type": "stream",
     "text": [
      "CPU times: user 13.5 s, sys: 88 ms, total: 13.6 s\n",
      "Wall time: 13.4 s\n"
     ]
    }
   ],
   "source": [
    "%%time\n",
    "dtw_scores = [fastdtw(dp.targets[ind], preds_dict[ind])[0]\n",
    "             for ind in range(len(dp.targets))]"
   ]
  },
  {
   "cell_type": "code",
   "execution_count": 27,
   "metadata": {},
   "outputs": [
    {
     "data": {
      "text/plain": [
       "12.693255650923957"
      ]
     },
     "execution_count": 27,
     "metadata": {},
     "output_type": "execute_result"
    }
   ],
   "source": [
    "np.mean(dtw_scores)"
   ]
  },
  {
   "cell_type": "code",
   "execution_count": 28,
   "metadata": {},
   "outputs": [
    {
     "data": {
      "text/plain": [
       "(7.555547687587393, 1.0, array([-4.31395736, -3.55493606, -3.19393252]))"
      ]
     },
     "execution_count": 28,
     "metadata": {},
     "output_type": "execute_result"
    }
   ],
   "source": [
    "coint(preds, reals)"
   ]
  },
  {
   "cell_type": "code",
   "execution_count": 29,
   "metadata": {
    "scrolled": true
   },
   "outputs": [
    {
     "data": {
      "image/png": "[encoded data removed]",
      "text/plain": [
       "<matplotlib.figure.Figure at 0x7f42107e6750>"
      ]
     },
     "metadata": {},
     "output_type": "display_data"
    }
   ],
   "source": [
    "cur_ind = np.random.randint(len(dp.targets))\n",
    "reals = dp.targets[cur_ind]\n",
    "preds = preds_dict[cur_ind]\n",
    "fig = plt.figure(figsize=(15,6))\n",
    "plt.plot(reals, 'b')\n",
    "plt.plot(preds, 'g')\n",
    "plt.legend(['reals','preds'])\n",
    "plt.show()"
   ]
  },
  {
   "cell_type": "markdown",
   "metadata": {},
   "source": [
    "#### Conclusion\n",
    "Local Scaling didn't help! We will use only global scaling"
   ]
  },
  {
   "cell_type": "code",
   "execution_count": null,
   "metadata": {
    "collapsed": true
   },
   "outputs": [],
   "source": []
  },
  {
   "cell_type": "markdown",
   "metadata": {},
   "source": [
    "# Global Scale Normalization plus with normalized targets"
   ]
  },
  {
   "cell_type": "markdown",
   "metadata": {},
   "source": [
    "### Once generate data"
   ]
  },
  {
   "cell_type": "code",
   "execution_count": 9,
   "metadata": {
    "collapsed": true
   },
   "outputs": [],
   "source": [
    "data_path = '../data/price_history'"
   ]
  },
  {
   "cell_type": "code",
   "execution_count": 10,
   "metadata": {
    "collapsed": true
   },
   "outputs": [],
   "source": [
    "#npz_full_train = data_path + '/price_history_03_dp_60to30_train.npz'\n",
    "#npz_full_train = data_path + '/price_history_60to30_targets_normed_train.npz'\n",
    "npz_full_train = data_path + '/price_history_03_dp_60to30_global_remove_scale_targets_normed_train.npz'\n",
    "\n",
    "#npz_train = data_path + '/price_history_03_dp_60to30_57980_train.npz'\n",
    "#npz_train = data_path + '/price_history_03_dp_60to30_6400_train.npz'\n",
    "#npz_train = data_path + '/price_history_60to30_6400_targets_normed_train.npz'\n",
    "npz_train = data_path + '/price_history_03_dp_60to30_6400_global_remove_scale_targets_normed_train.npz'\n",
    "\n",
    "#npz_test = data_path + '/price_history_03_dp_60to30_test.npz'\n",
    "#npz_test = data_path + '/price_history_60to30_targets_normed_test.npz'\n",
    "npz_test = data_path + '/price_history_03_dp_60to30_global_remove_scale_targets_normed_test.npz'"
   ]
  },
  {
   "cell_type": "code",
   "execution_count": 11,
   "metadata": {
    "collapsed": true
   },
   "outputs": [],
   "source": [
    "#%%time\n",
    "csv_in = '../price_history_03_seq_start_suddens_trimmed.csv'\n",
    "\n",
    "train_sku_ids, train_XX, train_YY, train_sequence_lens, train_seq_mask, test_pack = \\\n",
    "    PriceHistoryDatasetGenerator(random_state=random_state).createAndSaveDataset(\n",
    "            csv_in=csv_in,\n",
    "            input_seq_len=input_len,\n",
    "            target_seq_len=target_len,\n",
    "            allowSmallerSequencesThanWindow=False,\n",
    "            #min_date = '2016-11-01',\n",
    "            split_fraction = 0.40,\n",
    "            #keep_training_fraction = 0.22, #57994 * 0.22 = 12758.68\n",
    "            normalize_targets = True,\n",
    "            do_global_norm_scale = True,\n",
    "            norm_instance_scale = False,\n",
    "            #disable saving for now since we have already created them\n",
    "            save_files_dic = {\"train\": npz_full_train, \"test\": npz_test,},\n",
    "    )"
   ]
  },
  {
   "cell_type": "code",
   "execution_count": 12,
   "metadata": {},
   "outputs": [
    {
     "name": "stdout",
     "output_type": "stream",
     "text": [
      "(57994,) (57994, 60, 1) (57994, 30) (57994,) (57994, 60)\n"
     ]
    },
    {
     "data": {
      "text/plain": [
       "((1282,), (1282, 60, 1), (1282, 30), (1282,), (1282, 60))"
      ]
     },
     "execution_count": 12,
     "metadata": {},
     "output_type": "execute_result"
    }
   ],
   "source": [
    "print train_sku_ids.shape, train_XX.shape, train_YY.shape, train_sequence_lens.shape, train_seq_mask.shape\n",
    "aa,bb,cc,dd,ee = test_pack.get_data()\n",
    "aa.shape,bb.shape,cc.shape,dd.shape,ee.shape"
   ]
  },
  {
   "cell_type": "code",
   "execution_count": 13,
   "metadata": {
    "collapsed": true
   },
   "outputs": [],
   "source": [
    "PriceHistoryDatasetGenerator.create_subsampled(inpath=npz_full_train,\n",
    "                                               target_size = train_size,\n",
    "                                               outpath = npz_train, random_state=random_state)"
   ]
  },
  {
   "cell_type": "markdown",
   "metadata": {},
   "source": [
    "### Step 1 - collect data"
   ]
  },
  {
   "cell_type": "code",
   "execution_count": 14,
   "metadata": {},
   "outputs": [
    {
     "data": {
      "text/plain": [
       "((6400, 60, 1), (6400, 30))"
      ]
     },
     "execution_count": 14,
     "metadata": {},
     "output_type": "execute_result"
    }
   ],
   "source": [
    "dp = PriceHistorySeq2SeqDataProvider(npz_path=npz_train, batch_size=batch_size, with_EOS=with_EOS)\n",
    "dp.inputs.shape, dp.targets.shape"
   ]
  },
  {
   "cell_type": "code",
   "execution_count": 15,
   "metadata": {},
   "outputs": [
    {
     "data": {
      "text/plain": [
       "((50, 60, 1), (50, 30))"
      ]
     },
     "execution_count": 15,
     "metadata": {},
     "output_type": "execute_result"
    }
   ],
   "source": [
    "aa, bb = dp.next()\n",
    "aa.shape, bb.shape"
   ]
  },
  {
   "cell_type": "markdown",
   "metadata": {},
   "source": [
    "### Step 2 - Build model"
   ]
  },
  {
   "cell_type": "code",
   "execution_count": 16,
   "metadata": {
    "collapsed": true,
    "scrolled": true
   },
   "outputs": [],
   "source": [
    "model = PriceHistorySeq2SeqDynDecIns(rng=random_state, dtype=dtype, config=config, with_EOS=with_EOS)"
   ]
  },
  {
   "cell_type": "code",
   "execution_count": 17,
   "metadata": {
    "collapsed": true,
    "scrolled": true
   },
   "outputs": [],
   "source": [
    "# graph = model.getGraph(batch_size=batch_size,\n",
    "#                        num_units=num_units,\n",
    "#                        input_len=input_len,\n",
    "#                        target_len=target_len)"
   ]
  },
  {
   "cell_type": "code",
   "execution_count": 18,
   "metadata": {
    "collapsed": true
   },
   "outputs": [],
   "source": [
    "#show_graph(graph)"
   ]
  },
  {
   "cell_type": "markdown",
   "metadata": {},
   "source": [
    "### Step 3 training the network"
   ]
  },
  {
   "cell_type": "markdown",
   "metadata": {},
   "source": [
    "RECALL: baseline is around 4 for huber loss for current problem, anything above 4 should be considered as major errors"
   ]
  },
  {
   "cell_type": "code",
   "execution_count": 19,
   "metadata": {
    "collapsed": true
   },
   "outputs": [],
   "source": [
    "def experiment():\n",
    "    return model.run(npz_path=npz_train,\n",
    "             epochs=20,\n",
    "             batch_size = 50,\n",
    "             num_units = 400,\n",
    "             input_len=input_len,\n",
    "             target_len=target_len,\n",
    "             #learning_rate = 0.0026945952539362472,\n",
    "             preds_gather_enabled=True,\n",
    "             batch_norm_enabled = True,\n",
    "             activation = tf.nn.elu,\n",
    "             decoder_first_input = PriceHistorySeq2SeqDynDecIns.DECODER_FIRST_INPUT.ZEROS,\n",
    "             #keep_prob_input = 0.9,\n",
    "             #lamda2 = 1e-2,\n",
    "            )"
   ]
  },
  {
   "cell_type": "markdown",
   "metadata": {},
   "source": [
    "Recall that without batch normalization within 10 epochs with num units 400 and batch_size 64 we reached at 4.940\n",
    "and with having the decoder inputs NOT filled from the outputs"
   ]
  },
  {
   "cell_type": "code",
   "execution_count": 32,
   "metadata": {
    "scrolled": true
   },
   "outputs": [
    {
     "name": "stdout",
     "output_type": "stream",
     "text": [
      "epochs: 20\n",
      "learning_rate: 0.001\n",
      "keep_prob_input: 1.0\n",
      "End Epoch 01 (32.824 secs): err(train) = 0.000948\n",
      "current dec_ins_percent_usage: 1.0\n",
      "End Epoch 02 (31.627 secs): err(train) = 0.000671\n",
      "current dec_ins_percent_usage: 0.75\n",
      "End Epoch 03 (31.602 secs): err(train) = 0.000678\n",
      "current dec_ins_percent_usage: 0.5\n",
      "End Epoch 04 (31.638 secs): err(train) = 0.000791\n",
      "current dec_ins_percent_usage: 0.25\n",
      "End Epoch 05 (31.657 secs): err(train) = 0.003951\n",
      "current dec_ins_percent_usage: 0.0\n",
      "End Epoch 06 (31.715 secs): err(train) = 0.003404\n",
      "current dec_ins_percent_usage: 0.0\n",
      "End Epoch 07 (31.621 secs): err(train) = 0.003395\n",
      "current dec_ins_percent_usage: 0.0\n",
      "End Epoch 08 (31.632 secs): err(train) = 0.003381\n",
      "current dec_ins_percent_usage: 0.0\n",
      "End Epoch 09 (31.668 secs): err(train) = 0.003372\n",
      "current dec_ins_percent_usage: 0.0\n",
      "End Epoch 10 (31.632 secs): err(train) = 0.003384\n",
      "current dec_ins_percent_usage: 0.0\n",
      "End Epoch 11 (31.654 secs): err(train) = 0.003378\n",
      "current dec_ins_percent_usage: 0.0\n",
      "End Epoch 12 (31.639 secs): err(train) = 0.003367\n",
      "current dec_ins_percent_usage: 0.0\n",
      "End Epoch 13 (31.640 secs): err(train) = 0.003353\n",
      "current dec_ins_percent_usage: 0.0\n",
      "End Epoch 14 (31.656 secs): err(train) = 0.003364\n",
      "current dec_ins_percent_usage: 0.0\n",
      "End Epoch 15 (31.623 secs): err(train) = 0.003332\n",
      "current dec_ins_percent_usage: 0.0\n",
      "End Epoch 16 (31.600 secs): err(train) = 0.003323\n",
      "current dec_ins_percent_usage: 0.0\n",
      "End Epoch 17 (31.666 secs): err(train) = 0.003311\n",
      "current dec_ins_percent_usage: 0.0\n",
      "End Epoch 18 (31.598 secs): err(train) = 0.003277\n",
      "current dec_ins_percent_usage: 0.0\n",
      "End Epoch 19 (31.586 secs): err(train) = 0.003230\n",
      "current dec_ins_percent_usage: 0.0\n",
      "End Epoch 20 (31.589 secs): err(train) = 0.003263\n",
      "current dec_ins_percent_usage: 0.0\n",
      "\n",
      "CPU times: user 11min 10s, sys: 46.1 s, total: 11min 56s\n",
      "Wall time: 10min 55s\n"
     ]
    }
   ],
   "source": [
    "%%time\n",
    "dyn_stats, preds_dict = get_or_run_nn(experiment, filename='022_seq2seq_60to30_003')"
   ]
  },
  {
   "cell_type": "code",
   "execution_count": 33,
   "metadata": {},
   "outputs": [
    {
     "data": {
      "image/png": "[encoded data removed]",
      "text/plain": [
       "<matplotlib.figure.Figure at 0x7fe26795ef50>"
      ]
     },
     "metadata": {},
     "output_type": "display_data"
    }
   ],
   "source": [
    "dyn_stats.plotStats()\n",
    "plt.show()"
   ]
  },
  {
   "cell_type": "code",
   "execution_count": 34,
   "metadata": {
    "collapsed": true
   },
   "outputs": [],
   "source": [
    "r2_scores = [r2_score(y_true=dp.targets[ind], y_pred=preds_dict[ind])\n",
    "            for ind in range(len(dp.targets))]"
   ]
  },
  {
   "cell_type": "code",
   "execution_count": 35,
   "metadata": {},
   "outputs": [
    {
     "data": {
      "text/plain": [
       "4621"
      ]
     },
     "execution_count": 35,
     "metadata": {},
     "output_type": "execute_result"
    }
   ],
   "source": [
    "ind = np.argmin(r2_scores)\n",
    "ind"
   ]
  },
  {
   "cell_type": "code",
   "execution_count": 36,
   "metadata": {
    "collapsed": true
   },
   "outputs": [],
   "source": [
    "reals = dp.targets[ind]\n",
    "preds = preds_dict[ind]"
   ]
  },
  {
   "cell_type": "code",
   "execution_count": 37,
   "metadata": {},
   "outputs": [
    {
     "data": {
      "text/plain": [
       "-1.7316564499006635e+31"
      ]
     },
     "execution_count": 37,
     "metadata": {},
     "output_type": "execute_result"
    }
   ],
   "source": [
    "r2_score(y_true=reals, y_pred=preds)"
   ]
  },
  {
   "cell_type": "code",
   "execution_count": 38,
   "metadata": {},
   "outputs": [
    {
     "data": {
      "text/plain": [
       "<matplotlib.axes._subplots.AxesSubplot at 0x7fe2671d3350>"
      ]
     },
     "execution_count": 38,
     "metadata": {},
     "output_type": "execute_result"
    },
    {
     "data": {
      "image/png": "[encoded data removed]",
      "text/plain": [
       "<matplotlib.figure.Figure at 0x7fe26721acd0>"
      ]
     },
     "metadata": {},
     "output_type": "display_data"
    }
   ],
   "source": [
    "sns.tsplot(data=dp.inputs[ind].flatten())"
   ]
  },
  {
   "cell_type": "code",
   "execution_count": 39,
   "metadata": {},
   "outputs": [
    {
     "data": {
      "image/png": "[encoded data removed]",
      "text/plain": [
       "<matplotlib.figure.Figure at 0x7fe267384750>"
      ]
     },
     "metadata": {},
     "output_type": "display_data"
    }
   ],
   "source": [
    "fig = plt.figure(figsize=(15,6))\n",
    "plt.plot(reals, 'b')\n",
    "plt.plot(preds, 'g')\n",
    "plt.legend(['reals','preds'])\n",
    "plt.show()"
   ]
  },
  {
   "cell_type": "code",
   "execution_count": 40,
   "metadata": {},
   "outputs": [
    {
     "name": "stdout",
     "output_type": "stream",
     "text": [
      "CPU times: user 13.3 s, sys: 76 ms, total: 13.4 s\n",
      "Wall time: 13.2 s\n"
     ]
    }
   ],
   "source": [
    "%%time\n",
    "dtw_scores = [fastdtw(dp.targets[ind], preds_dict[ind])[0]\n",
    "             for ind in range(len(dp.targets))]"
   ]
  },
  {
   "cell_type": "code",
   "execution_count": 41,
   "metadata": {},
   "outputs": [
    {
     "data": {
      "text/plain": [
       "1.2217091336270045"
      ]
     },
     "execution_count": 41,
     "metadata": {},
     "output_type": "execute_result"
    }
   ],
   "source": [
    "np.mean(dtw_scores)"
   ]
  },
  {
   "cell_type": "code",
   "execution_count": 42,
   "metadata": {},
   "outputs": [
    {
     "data": {
      "text/plain": [
       "(1.1907827807061317, 1.0, array([-4.31395736, -3.55493606, -3.19393252]))"
      ]
     },
     "execution_count": 42,
     "metadata": {},
     "output_type": "execute_result"
    }
   ],
   "source": [
    "coint(preds, reals)"
   ]
  },
  {
   "cell_type": "code",
   "execution_count": 55,
   "metadata": {
    "scrolled": false
   },
   "outputs": [
    {
     "data": {
      "image/png": "[encoded data removed]",
      "text/plain": [
       "<matplotlib.figure.Figure at 0x7fe20bc2cd90>"
      ]
     },
     "metadata": {},
     "output_type": "display_data"
    }
   ],
   "source": [
    "cur_ind = np.random.randint(len(dp.targets))\n",
    "reals = dp.targets[cur_ind]\n",
    "preds = preds_dict[cur_ind]\n",
    "fig = plt.figure(figsize=(15,6))\n",
    "plt.plot(reals, 'b')\n",
    "plt.plot(preds, 'g')\n",
    "plt.legend(['reals','preds'])\n",
    "plt.show()"
   ]
  },
  {
   "cell_type": "code",
   "execution_count": 68,
   "metadata": {},
   "outputs": [
    {
     "data": {
      "text/plain": [
       "[(0, 0),\n",
       " (1, -1),\n",
       " (2, -2),\n",
       " (3, -3),\n",
       " (4, -4),\n",
       " (5, -5),\n",
       " (6, -6),\n",
       " (7, -7),\n",
       " (8, -8),\n",
       " (9, -9)]"
      ]
     },
     "execution_count": 68,
     "metadata": {},
     "output_type": "execute_result"
    }
   ],
   "source": [
    "aa =  zip(np.arange(10), np.arange(10)*-1)\n",
    "aa"
   ]
  },
  {
   "cell_type": "code",
   "execution_count": null,
   "metadata": {
    "collapsed": true
   },
   "outputs": [],
   "source": []
  }
 ],
 "metadata": {
  "kernelspec": {
   "display_name": "Python 2",
   "language": "python",
   "name": "python2"
  },
  "language_info": {
   "codemirror_mode": {
    "name": "ipython",
    "version": 2
   },
   "file_extension": ".py",
   "mimetype": "text/x-python",
   "name": "python",
   "nbconvert_exporter": "python",
   "pygments_lexer": "ipython2",
   "version": "2.7.13"
  }
 },
 "nbformat": 4,
 "nbformat_minor": 2
}
