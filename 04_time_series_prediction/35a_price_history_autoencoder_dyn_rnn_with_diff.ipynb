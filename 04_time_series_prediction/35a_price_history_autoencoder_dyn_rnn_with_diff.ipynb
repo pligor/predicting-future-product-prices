{
 "cells": [
  {
   "cell_type": "code",
   "execution_count": 1,
   "metadata": {
    "collapsed": true
   },
   "outputs": [],
   "source": [
    "# -*- coding: UTF-8 -*-\n",
    "#%load_ext autoreload\n",
    "%reload_ext autoreload\n",
    "%autoreload 2"
   ]
  },
  {
   "cell_type": "code",
   "execution_count": 2,
   "metadata": {},
   "outputs": [
    {
     "name": "stderr",
     "output_type": "stream",
     "text": [
      "/home/studenthp/anaconda2/envs/dis/lib/python2.7/site-packages/statsmodels/compat/pandas.py:56: FutureWarning: The pandas.core.datetools module is deprecated and will be removed in a future version. Please use the pandas.tseries module instead.\n",
      "  from pandas.core import datetools\n"
     ]
    }
   ],
   "source": [
    "from __future__ import division\n",
    "import tensorflow as tf\n",
    "from os import path, remove\n",
    "import numpy as np\n",
    "import pandas as pd\n",
    "import csv\n",
    "from sklearn.model_selection import StratifiedShuffleSplit\n",
    "from time import time\n",
    "from matplotlib import pyplot as plt\n",
    "import seaborn as sns\n",
    "from mylibs.jupyter_notebook_helper import show_graph, renderStatsList, renderStatsCollection, \\\n",
    "    renderStatsListWithLabels, renderStatsCollectionOfCrossValids, plot_res_gp, my_plot_convergence\n",
    "from tensorflow.contrib import rnn\n",
    "from tensorflow.contrib import learn\n",
    "import shutil\n",
    "from tensorflow.contrib.learn.python.learn import learn_runner\n",
    "from mylibs.tf_helper import getDefaultGPUconfig\n",
    "from sklearn.metrics import r2_score\n",
    "from mylibs.py_helper import factors\n",
    "from fastdtw import fastdtw\n",
    "from collections import OrderedDict\n",
    "from scipy.spatial.distance import euclidean\n",
    "from statsmodels.tsa.stattools import coint\n",
    "from common_33 import get_or_run_nn\n",
    "from skopt.space.space import Integer, Real\n",
    "from skopt import gp_minimize\n",
    "from skopt.plots import plot_convergence\n",
    "import pickle\n",
    "import inspect\n",
    "import dill\n",
    "import sys\n",
    "\n",
    "from models.model_35_price_history_autoencoder import PriceHistoryAutoencoder\n",
    "from data_providers.data_provider_33_price_history_autoencoder import PriceHistoryAutoEncDataProvider\n",
    "#from gp_opt.price_history_27_gp_opt import PriceHistoryGpOpt"
   ]
  },
  {
   "cell_type": "code",
   "execution_count": 3,
   "metadata": {
    "collapsed": true
   },
   "outputs": [],
   "source": [
    "dtype = tf.float32\n",
    "seed = 16011984\n",
    "random_state = np.random.RandomState(seed=seed)\n",
    "config = getDefaultGPUconfig()\n",
    "n_jobs = 1\n",
    "%matplotlib inline"
   ]
  },
  {
   "cell_type": "markdown",
   "metadata": {},
   "source": [
    "### Step 0 - hyperparams"
   ]
  },
  {
   "cell_type": "code",
   "execution_count": 4,
   "metadata": {},
   "outputs": [
    {
     "data": {
      "text/plain": [
       "[1, 53, 13, 689]"
      ]
     },
     "execution_count": 4,
     "metadata": {},
     "output_type": "execute_result"
    }
   ],
   "source": [
    "factors(689)"
   ]
  },
  {
   "cell_type": "code",
   "execution_count": 5,
   "metadata": {
    "collapsed": true
   },
   "outputs": [],
   "source": [
    "max_seq_len = 682"
   ]
  },
  {
   "cell_type": "code",
   "execution_count": 6,
   "metadata": {
    "collapsed": true
   },
   "outputs": [],
   "source": [
    "#full_train_size = 55820\n",
    "#train_size = 55800\n",
    "#small_train_size = 6000 #just because of performance reasons, no statistics behind this decision\n",
    "#test_size = 6200"
   ]
  },
  {
   "cell_type": "code",
   "execution_count": 7,
   "metadata": {
    "collapsed": true
   },
   "outputs": [],
   "source": [
    "data_path = '../../../../Dropbox/data'"
   ]
  },
  {
   "cell_type": "code",
   "execution_count": 8,
   "metadata": {
    "collapsed": true
   },
   "outputs": [],
   "source": [
    "phae_path = data_path + '/price_hist_autoencoder'"
   ]
  },
  {
   "cell_type": "code",
   "execution_count": 9,
   "metadata": {
    "collapsed": true
   },
   "outputs": [],
   "source": [
    "csv_in = '../price_history_03_seq_start_suddens_trimmed.csv'\n",
    "assert path.isfile(csv_in)"
   ]
  },
  {
   "cell_type": "code",
   "execution_count": 10,
   "metadata": {
    "collapsed": true
   },
   "outputs": [],
   "source": [
    "npz_unprocessed = phae_path + '/price_history_full_seqs.npz'\n",
    "assert path.isfile(npz_unprocessed)"
   ]
  },
  {
   "cell_type": "code",
   "execution_count": 11,
   "metadata": {
    "collapsed": true
   },
   "outputs": [],
   "source": [
    "npz_dates = phae_path + '/price_history_full_seqs_dates.npz'\n",
    "assert path.isfile(npz_dates)"
   ]
  },
  {
   "cell_type": "code",
   "execution_count": 12,
   "metadata": {
    "collapsed": true
   },
   "outputs": [],
   "source": [
    "npz_train = phae_path + '/price_history_seqs_dates_normed_train.npz'\n",
    "assert path.isfile(npz_train)"
   ]
  },
  {
   "cell_type": "code",
   "execution_count": 13,
   "metadata": {
    "collapsed": true
   },
   "outputs": [],
   "source": [
    "npz_test = phae_path + '/price_history_seqs_dates_normed_test.npz'\n",
    "assert path.isfile(npz_test)"
   ]
  },
  {
   "cell_type": "code",
   "execution_count": 14,
   "metadata": {
    "collapsed": true
   },
   "outputs": [],
   "source": [
    "npz_path = npz_train[:-len('_train.npz')]"
   ]
  },
  {
   "cell_type": "code",
   "execution_count": 15,
   "metadata": {},
   "outputs": [
    {
     "name": "stdout",
     "output_type": "stream",
     "text": [
      "inputs , (689, 682, 7)\n",
      "sku_ids , (689,)\n",
      "sequence_masks , (689, 682)\n",
      "extra_inputs , (689, 682, 6)\n",
      "sequence_lengths , (689,)\n"
     ]
    }
   ],
   "source": [
    "for key, val in np.load(npz_train).iteritems():\n",
    "    print key, \",\", val.shape"
   ]
  },
  {
   "cell_type": "markdown",
   "metadata": {},
   "source": [
    "### Step 1 - collect data"
   ]
  },
  {
   "cell_type": "code",
   "execution_count": 16,
   "metadata": {},
   "outputs": [
    {
     "name": "stdout",
     "output_type": "stream",
     "text": [
      "(689, 682, 7)\n",
      "(689, 682, 6)\n",
      "(689,)\n",
      "(689, 682)\n"
     ]
    }
   ],
   "source": [
    "dp = PriceHistoryAutoEncDataProvider(npz_path=npz_path, batch_size=53, with_EOS=False)\n",
    "for data in dp.datalist:\n",
    "    print data.shape"
   ]
  },
  {
   "cell_type": "code",
   "execution_count": 17,
   "metadata": {
    "collapsed": true
   },
   "outputs": [],
   "source": [
    "# for item in dp.next():\n",
    "#     print item.shape"
   ]
  },
  {
   "cell_type": "markdown",
   "metadata": {},
   "source": [
    "### Step 2 - Build model"
   ]
  },
  {
   "cell_type": "code",
   "execution_count": 18,
   "metadata": {
    "collapsed": true,
    "scrolled": true
   },
   "outputs": [],
   "source": [
    "# model = PriceHistoryAutoencoder(rng=random_state, dtype=dtype, config=config)\n",
    "# graph = model.getGraph(batch_size=53,\n",
    "#                        enc_num_units = 10,\n",
    "#                        dec_num_units = 10,\n",
    "#                        ts_len=max_seq_len)"
   ]
  },
  {
   "cell_type": "markdown",
   "metadata": {},
   "source": [
    "targets\n",
    "Tensor(\"data/strided_slice:0\", shape=(53, 682), dtype=float32)\n",
    "\n",
    "Tensor(\"encoder_rnn_layer/rnn/while/Exit_2:0\", shape=(?, 10), dtype=float32)\n",
    "\n",
    "Tensor(\"encoder_state_out_process/Elu:0\", shape=(?, 2), dtype=float32)\n",
    "\n",
    "Tensor(\"decoder_state_in_process/Elu:0\", shape=(?, 10), dtype=float32)\n",
    "\n",
    "Tensor(\"decoder_rnn_layer/rnn/transpose:0\", shape=(53, 682, 10), dtype=float32)\n",
    "\n",
    "Tensor(\"decoder_outs/Reshape:0\", shape=(36146, 10), dtype=float32)\n",
    "\n",
    "Tensor(\"readout_affine/Identity:0\", shape=(36146, 1), dtype=float32)\n",
    "Tensor(\"readout_affine/Reshape:0\", shape=(53, 682), dtype=float32)\n",
    "\n",
    "Tensor(\"error/mul_1:0\", shape=(53, 682), dtype=float32)\n",
    "\n",
    "Tensor(\"error/Mean:0\", shape=(), dtype=float32)\n",
    "Tensor(\"error/Mean:0\", shape=(), dtype=float32)\n",
    "\n",
    "Tensor(\"error_diff/mul_1:0\", shape=(53, 681), dtype=float32)\n",
    "\n",
    "Tensor(\"error_diff/Mean:0\", shape=(), dtype=float32)\n",
    "Tensor(\"error_diff/Mean:0\", shape=(), dtype=float32)"
   ]
  },
  {
   "cell_type": "code",
   "execution_count": 19,
   "metadata": {
    "collapsed": true
   },
   "outputs": [],
   "source": [
    "#show_graph(graph)"
   ]
  },
  {
   "cell_type": "markdown",
   "metadata": {},
   "source": [
    "## Quick test run"
   ]
  },
  {
   "cell_type": "code",
   "execution_count": null,
   "metadata": {
    "collapsed": true
   },
   "outputs": [],
   "source": [
    "def experiment():\n",
    "    return model.run(npz_path=npz_path,\n",
    "                     epochs=2,\n",
    "                     batch_size = 53,\n",
    "                     enc_num_units = 400,\n",
    "                     dec_num_units = 400,\n",
    "                     ts_len=max_seq_len,\n",
    "                     learning_rate = 1e-4,\n",
    "                     preds_gather_enabled = False,\n",
    "                    )\n",
    "dyn_stats_dic = experiment()"
   ]
  },
  {
   "cell_type": "code",
   "execution_count": 22,
   "metadata": {
    "collapsed": true
   },
   "outputs": [],
   "source": [
    "dyn_stats_dic['dyn_stats'].plotStats()\n",
    "plt.show()\n",
    "dyn_stats_dic['dyn_stats_diff'].plotStats()\n",
    "plt.show()"
   ]
  },
  {
   "cell_type": "markdown",
   "metadata": {},
   "source": [
    "### Step 3 training the network"
   ]
  },
  {
   "cell_type": "code",
   "execution_count": 20,
   "metadata": {
    "collapsed": true
   },
   "outputs": [],
   "source": [
    "model = PriceHistoryAutoencoder(rng=random_state, dtype=dtype, config=config)"
   ]
  },
  {
   "cell_type": "code",
   "execution_count": 21,
   "metadata": {},
   "outputs": [
    {
     "data": {
      "text/plain": [
       "'/home/studenthp/Dropbox/data/price_hist_autoencoder/price_history_seqs_dates_normed_test.npz'"
      ]
     },
     "execution_count": 21,
     "metadata": {},
     "output_type": "execute_result"
    }
   ],
   "source": [
    "npz_test = npz_path + '_test.npz'\n",
    "assert path.isfile(npz_test)\n",
    "path.abspath(npz_test)"
   ]
  },
  {
   "cell_type": "code",
   "execution_count": 37,
   "metadata": {
    "collapsed": true
   },
   "outputs": [],
   "source": [
    "def experiment():\n",
    "    return model.run(npz_path=npz_path,\n",
    "                     epochs=50,\n",
    "                     batch_size = 53,\n",
    "                     enc_num_units = 450,\n",
    "                     dec_num_units = 450,\n",
    "                     ts_len=max_seq_len,\n",
    "                     learning_rate = 1e-3,\n",
    "                     preds_gather_enabled = True,\n",
    "                    )"
   ]
  },
  {
   "cell_type": "code",
   "execution_count": 38,
   "metadata": {
    "scrolled": true
   },
   "outputs": [
    {
     "name": "stdout",
     "output_type": "stream",
     "text": [
      "epochs: 50\n",
      "dec_num_units: 450\n",
      "learning_rate: 0.001\n",
      "enc_num_units: 450\n",
      "End Epoch 01 (114.810 secs): err(train) = 0.028195, err_diff(train) = 0.000470\n",
      "End Epoch 02 (114.619 secs): err(train) = 0.006016, err_diff(train) = 0.000210\n",
      "End Epoch 03 (114.573 secs): err(train) = 0.005023, err_diff(train) = 0.000173\n",
      "End Epoch 04 (114.516 secs): err(train) = 0.004870, err_diff(train) = 0.000160\n",
      "End Epoch 05 (114.488 secs): err(train) = 0.004861, err_diff(train) = 0.000159\n",
      "End Epoch 06 (114.539 secs): err(train) = 0.004783, err_diff(train) = 0.000158\n",
      "End Epoch 07 (114.465 secs): err(train) = 0.004787, err_diff(train) = 0.000158\n",
      "End Epoch 08 (114.488 secs): err(train) = 0.004754, err_diff(train) = 0.000156\n",
      "End Epoch 09 (114.470 secs): err(train) = 0.004738, err_diff(train) = 0.000156\n",
      "End Epoch 10 (114.491 secs): err(train) = 0.004756, err_diff(train) = 0.000156\n",
      "End Epoch 11 (114.505 secs): err(train) = 0.004725, err_diff(train) = 0.000155\n",
      "End Epoch 12 (114.481 secs): err(train) = 0.004509, err_diff(train) = 0.000158\n",
      "End Epoch 13 (115.098 secs): err(train) = 0.005213, err_diff(train) = 0.000172\n",
      "End Epoch 14 (116.232 secs): err(train) = 0.005025, err_diff(train) = 0.000170\n",
      "End Epoch 15 (116.222 secs): err(train) = 0.004829, err_diff(train) = 0.000162\n",
      "End Epoch 16 (116.232 secs): err(train) = 0.004837, err_diff(train) = 0.000158\n",
      "End Epoch 17 (116.239 secs): err(train) = 0.004793, err_diff(train) = 0.000156\n",
      "End Epoch 18 (116.248 secs): err(train) = 0.004764, err_diff(train) = 0.000157\n",
      "End Epoch 19 (116.238 secs): err(train) = 0.004758, err_diff(train) = 0.000156\n",
      "End Epoch 20 (116.213 secs): err(train) = 0.004833, err_diff(train) = 0.000162\n",
      "End Epoch 21 (116.274 secs): err(train) = 0.004970, err_diff(train) = 0.000165\n",
      "End Epoch 22 (116.178 secs): err(train) = 0.004845, err_diff(train) = 0.000160\n",
      "End Epoch 23 (116.184 secs): err(train) = 0.004797, err_diff(train) = 0.000157\n",
      "End Epoch 24 (116.235 secs): err(train) = 0.004828, err_diff(train) = 0.000157\n",
      "End Epoch 25 (116.184 secs): err(train) = 0.004833, err_diff(train) = 0.000158\n",
      "End Epoch 26 (116.208 secs): err(train) = 0.004822, err_diff(train) = 0.000158\n",
      "End Epoch 27 (116.226 secs): err(train) = 0.004833, err_diff(train) = 0.000158\n",
      "End Epoch 28 (116.290 secs): err(train) = 0.004843, err_diff(train) = 0.000158\n",
      "End Epoch 29 (116.153 secs): err(train) = 0.004892, err_diff(train) = 0.000159\n",
      "End Epoch 30 (116.269 secs): err(train) = 0.004905, err_diff(train) = 0.000160\n",
      "End Epoch 31 (116.187 secs): err(train) = 0.004876, err_diff(train) = 0.000158\n",
      "End Epoch 32 (116.224 secs): err(train) = 0.004824, err_diff(train) = 0.000156\n",
      "End Epoch 33 (116.162 secs): err(train) = 0.004786, err_diff(train) = 0.000156\n",
      "End Epoch 34 (116.281 secs): err(train) = 0.004751, err_diff(train) = 0.000155\n",
      "End Epoch 35 (116.304 secs): err(train) = 0.004750, err_diff(train) = 0.000155\n",
      "End Epoch 36 (116.191 secs): err(train) = 0.004740, err_diff(train) = 0.000155\n",
      "End Epoch 37 (116.224 secs): err(train) = 0.004746, err_diff(train) = 0.000155\n",
      "End Epoch 38 (116.247 secs): err(train) = 0.004736, err_diff(train) = 0.000155\n",
      "End Epoch 39 (116.214 secs): err(train) = 0.004729, err_diff(train) = 0.000155\n",
      "End Epoch 40 (116.180 secs): err(train) = 0.004703, err_diff(train) = 0.000156\n",
      "End Epoch 41 (116.196 secs): err(train) = 0.004768, err_diff(train) = 0.000155\n",
      "End Epoch 42 (116.195 secs): err(train) = 0.004772, err_diff(train) = 0.000156\n",
      "End Epoch 43 (116.045 secs): err(train) = 0.004626, err_diff(train) = 0.000155\n",
      "End Epoch 44 (116.247 secs): err(train) = 0.004775, err_diff(train) = 0.000157\n",
      "End Epoch 45 (116.242 secs): err(train) = 0.004785, err_diff(train) = 0.000156\n",
      "End Epoch 46 (116.213 secs): err(train) = 0.004781, err_diff(train) = 0.000156\n",
      "End Epoch 47 (116.201 secs): err(train) = 0.004770, err_diff(train) = 0.000156\n",
      "End Epoch 48 (116.322 secs): err(train) = 0.004754, err_diff(train) = 0.000155\n",
      "End Epoch 49 (116.161 secs): err(train) = 0.004734, err_diff(train) = 0.000155\n",
      "End Epoch 50 (116.162 secs): err(train) = 0.004684, err_diff(train) = 0.000156\n",
      "total test error: 0.00485708288705\n",
      "total test diff error: 0.000161643493182\n",
      "\n"
     ]
    }
   ],
   "source": [
    "#%%time\n",
    "# dyn_stats_dic, preds_dict, targets, twods = experiment()\n",
    "dyn_stats_dic, preds_dict, targets, twods = get_or_run_nn(experiment, filename='035_autoencoder_001',\n",
    "                                                      nn_runs_folder = data_path + \"/nn_runs\")"
   ]
  },
  {
   "cell_type": "code",
   "execution_count": 52,
   "metadata": {},
   "outputs": [
    {
     "data": {
      "image/png": "[encoded data removed]",
      "text/plain": [
       "<matplotlib.figure.Figure at 0x7f219c677e90>"
      ]
     },
     "metadata": {},
     "output_type": "display_data"
    },
    {
     "data": {
      "image/png": "[encoded data removed]",
      "text/plain": [
       "<matplotlib.figure.Figure at 0x7f218e696c50>"
      ]
     },
     "metadata": {},
     "output_type": "display_data"
    }
   ],
   "source": [
    "dyn_stats_dic['dyn_stats'].plotStats()\n",
    "plt.show()\n",
    "dyn_stats_dic['dyn_stats_diff'].plotStats()\n",
    "plt.show()"
   ]
  },
  {
   "cell_type": "code",
   "execution_count": 53,
   "metadata": {
    "collapsed": true
   },
   "outputs": [],
   "source": [
    "r2_scores = [r2_score(y_true=targets[ind], y_pred=preds_dict[ind])\n",
    "            for ind in range(len(targets))]"
   ]
  },
  {
   "cell_type": "code",
   "execution_count": 54,
   "metadata": {},
   "outputs": [
    {
     "data": {
      "text/plain": [
       "35"
      ]
     },
     "execution_count": 54,
     "metadata": {},
     "output_type": "execute_result"
    }
   ],
   "source": [
    "ind = np.argmin(r2_scores)\n",
    "ind"
   ]
  },
  {
   "cell_type": "code",
   "execution_count": 55,
   "metadata": {
    "collapsed": true
   },
   "outputs": [],
   "source": [
    "reals = targets[ind]\n",
    "preds = preds_dict[ind]"
   ]
  },
  {
   "cell_type": "code",
   "execution_count": 56,
   "metadata": {},
   "outputs": [
    {
     "data": {
      "text/plain": [
       "-41667189.193788297"
      ]
     },
     "execution_count": 56,
     "metadata": {},
     "output_type": "execute_result"
    }
   ],
   "source": [
    "r2_score(y_true=reals, y_pred=preds)"
   ]
  },
  {
   "cell_type": "code",
   "execution_count": 57,
   "metadata": {
    "collapsed": true
   },
   "outputs": [],
   "source": [
    "#sns.tsplot(data=dp.inputs[ind].flatten())"
   ]
  },
  {
   "cell_type": "code",
   "execution_count": 58,
   "metadata": {},
   "outputs": [
    {
     "data": {
      "image/png": "[encoded data removed]",
      "text/plain": [
       "<matplotlib.figure.Figure at 0x7f218c5b3d50>"
      ]
     },
     "metadata": {},
     "output_type": "display_data"
    }
   ],
   "source": [
    "fig = plt.figure(figsize=(15,6))\n",
    "plt.plot(reals, 'b')\n",
    "plt.plot(preds, 'g')\n",
    "plt.legend(['reals','preds'])\n",
    "plt.show()"
   ]
  },
  {
   "cell_type": "code",
   "execution_count": 59,
   "metadata": {},
   "outputs": [
    {
     "name": "stdout",
     "output_type": "stream",
     "text": [
      "CPU times: user 11 s, sys: 44 ms, total: 11 s\n",
      "Wall time: 11 s\n"
     ]
    }
   ],
   "source": [
    "%%time\n",
    "dtw_scores = [fastdtw(targets[ind], preds_dict[ind])[0]\n",
    "             for ind in range(len(targets))]"
   ]
  },
  {
   "cell_type": "code",
   "execution_count": 60,
   "metadata": {},
   "outputs": [
    {
     "data": {
      "text/plain": [
       "19.136018541095279"
      ]
     },
     "execution_count": 60,
     "metadata": {},
     "output_type": "execute_result"
    }
   ],
   "source": [
    "np.mean(dtw_scores)"
   ]
  },
  {
   "cell_type": "code",
   "execution_count": 61,
   "metadata": {},
   "outputs": [
    {
     "data": {
      "text/plain": [
       "(-0.64945719395275836,\n",
       " 0.95182243204465811,\n",
       " array([-4.21692744, -3.50625177, -3.16106388]))"
      ]
     },
     "execution_count": 61,
     "metadata": {},
     "output_type": "execute_result"
    }
   ],
   "source": [
    "coint(preds, reals)"
   ]
  },
  {
   "cell_type": "code",
   "execution_count": 62,
   "metadata": {
    "scrolled": false
   },
   "outputs": [
    {
     "data": {
      "image/png": "[encoded data removed]",
      "text/plain": [
       "<matplotlib.figure.Figure at 0x7f218c3ff310>"
      ]
     },
     "metadata": {},
     "output_type": "display_data"
    }
   ],
   "source": [
    "cur_ind = np.random.randint(len(targets))\n",
    "reals = targets[cur_ind]\n",
    "preds = preds_dict[cur_ind]\n",
    "fig = plt.figure(figsize=(15,6))\n",
    "plt.plot(reals, 'b', label='reals')\n",
    "plt.plot(preds, 'g')\n",
    "plt.legend(['reals','preds'])\n",
    "plt.show()"
   ]
  },
  {
   "cell_type": "markdown",
   "metadata": {},
   "source": [
    "### Conclusion\n",
    "The autoencoder is not able to represent in a visibly obvious way our price history time series"
   ]
  },
  {
   "cell_type": "markdown",
   "metadata": {},
   "source": [
    "# TS in Two Dimensions"
   ]
  },
  {
   "cell_type": "code",
   "execution_count": 63,
   "metadata": {},
   "outputs": [
    {
     "data": {
      "text/plain": [
       "(689, 2)"
      ]
     },
     "execution_count": 63,
     "metadata": {},
     "output_type": "execute_result"
    }
   ],
   "source": [
    "twod_arr = np.array(twods.values())\n",
    "twod_arr.shape"
   ]
  },
  {
   "cell_type": "code",
   "execution_count": 64,
   "metadata": {},
   "outputs": [
    {
     "data": {
      "image/png": "[encoded data removed]",
      "text/plain": [
       "<matplotlib.figure.Figure at 0x7f218c546710>"
      ]
     },
     "metadata": {},
     "output_type": "display_data"
    }
   ],
   "source": [
    "plt.figure(figsize=(16,7))\n",
    "plt.plot(twod_arr[:, 0], twod_arr[:, 1], 'r.')\n",
    "plt.title('two dimensional representation of our time series after dimensionality reduction')\n",
    "plt.xlabel('first dimension')\n",
    "plt.ylabel('second dimension')\n",
    "plt.show()"
   ]
  },
  {
   "cell_type": "code",
   "execution_count": null,
   "metadata": {
    "collapsed": true
   },
   "outputs": [],
   "source": []
  }
 ],
 "metadata": {
  "kernelspec": {
   "display_name": "Python 2",
   "language": "python",
   "name": "python2"
  },
  "language_info": {
   "codemirror_mode": {
    "name": "ipython",
    "version": 2
   },
   "file_extension": ".py",
   "mimetype": "text/x-python",
   "name": "python",
   "nbconvert_exporter": "python",
   "pygments_lexer": "ipython2",
   "version": "2.7.13"
  }
 },
 "nbformat": 4,
 "nbformat_minor": 2
}
