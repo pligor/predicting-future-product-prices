{
 "cells": [
  {
   "cell_type": "code",
   "execution_count": 1,
   "metadata": {
    "collapsed": true
   },
   "outputs": [],
   "source": [
    "# -*- coding: UTF-8 -*-\n",
    "#%load_ext autoreload\n",
    "%reload_ext autoreload\n",
    "%autoreload 2"
   ]
  },
  {
   "cell_type": "code",
   "execution_count": 2,
   "metadata": {},
   "outputs": [
    {
     "name": "stderr",
     "output_type": "stream",
     "text": [
      "/home/student/anaconda2/envs/dis/lib/python2.7/site-packages/statsmodels/compat/pandas.py:56: FutureWarning: The pandas.core.datetools module is deprecated and will be removed in a future version. Please use the pandas.tseries module instead.\n",
      "  from pandas.core import datetools\n"
     ]
    }
   ],
   "source": [
    "from __future__ import division\n",
    "import tensorflow as tf\n",
    "from os import path, remove\n",
    "import numpy as np\n",
    "import pandas as pd\n",
    "import csv\n",
    "from sklearn.model_selection import StratifiedShuffleSplit\n",
    "from time import time\n",
    "from matplotlib import pyplot as plt\n",
    "import seaborn as sns\n",
    "from mylibs.jupyter_notebook_helper import show_graph, renderStatsList, renderStatsCollection, \\\n",
    "    renderStatsListWithLabels, renderStatsCollectionOfCrossValids\n",
    "from tensorflow.contrib import rnn\n",
    "from tensorflow.contrib import learn\n",
    "import shutil\n",
    "from tensorflow.contrib.learn.python.learn import learn_runner\n",
    "from mylibs.tf_helper import getDefaultGPUconfig\n",
    "from sklearn.metrics import r2_score\n",
    "from mylibs.py_helper import factors\n",
    "from fastdtw import fastdtw\n",
    "from collections import OrderedDict\n",
    "from scipy.spatial.distance import euclidean\n",
    "from statsmodels.tsa.stattools import coint\n",
    "from common import get_or_run_nn\n",
    "from data_providers.price_history_seq2seq_data_provider import PriceHistorySeq2SeqDataProvider\n",
    "from data_providers.price_history_27_dataset_generator import PriceHistory27DatasetGenerator\n",
    "from skopt.space.space import Integer, Real\n",
    "from skopt import gp_minimize\n",
    "from skopt.plots import plot_convergence\n",
    "import pickle\n",
    "import inspect\n",
    "import dill\n",
    "import sys\n",
    "#from models.price_history_21_seq2seq_dyn_dec_ins import PriceHistorySeq2SeqDynDecIns\n",
    "from data_providers.PriceHistoryMobileAttrsCombinator import PriceHistoryMobileAttrsCombinator\n",
    "from sklearn.neighbors import NearestNeighbors\n",
    "from datetime import datetime\n",
    "from data_providers.price_hist_with_relevant_deals import PriceHistWithRelevantDeals"
   ]
  },
  {
   "cell_type": "code",
   "execution_count": 3,
   "metadata": {
    "collapsed": true
   },
   "outputs": [],
   "source": [
    "dtype = tf.float32\n",
    "seed = 16011984\n",
    "random_state = np.random.RandomState(seed=seed)\n",
    "config = getDefaultGPUconfig()\n",
    "n_jobs = 1\n",
    "%matplotlib inline"
   ]
  },
  {
   "cell_type": "markdown",
   "metadata": {},
   "source": [
    "### Step 0 - hyperparams"
   ]
  },
  {
   "cell_type": "markdown",
   "metadata": {},
   "source": [
    "vocab_size is all the potential words you could have (classification for translation case)\n",
    "and max sequence length are the SAME thing\n",
    "\n",
    "decoder RNN hidden units are usually same size as encoder RNN hidden units in translation but for our case it does not seem really to be a relationship there but we can experiment and find out later, not a priority thing right now"
   ]
  },
  {
   "cell_type": "code",
   "execution_count": 4,
   "metadata": {
    "collapsed": true
   },
   "outputs": [],
   "source": [
    "num_units = 400 #state size\n",
    "\n",
    "input_len = 60\n",
    "target_len = 30\n",
    "\n",
    "batch_size = 50\n",
    "with_EOS = False"
   ]
  },
  {
   "cell_type": "code",
   "execution_count": 5,
   "metadata": {
    "collapsed": true
   },
   "outputs": [],
   "source": [
    "total_train_size = 57994"
   ]
  },
  {
   "cell_type": "markdown",
   "metadata": {},
   "source": [
    "### Include relevant deals"
   ]
  },
  {
   "cell_type": "code",
   "execution_count": 6,
   "metadata": {
    "collapsed": true
   },
   "outputs": [],
   "source": [
    "from time import sleep"
   ]
  },
  {
   "cell_type": "code",
   "execution_count": 7,
   "metadata": {
    "collapsed": true
   },
   "outputs": [],
   "source": [
    "data_path = '../../../../Dropbox/data'\n",
    "ph_data_path = data_path + '/price_history'\n",
    "npz_full = ph_data_path + '/price_history_mobattrs_date_dp_60to30_62020.npz'\n",
    "assert path.isfile(npz_full)"
   ]
  },
  {
   "cell_type": "code",
   "execution_count": 8,
   "metadata": {
    "collapsed": true
   },
   "outputs": [],
   "source": [
    "csv_in = '../price_history_03_seq_start_suddens_trimmed.csv'"
   ]
  },
  {
   "cell_type": "code",
   "execution_count": 9,
   "metadata": {},
   "outputs": [],
   "source": [
    "#npz_train = ph_data_path + '/price_history_dp_60to30_63548_46400_train.npz'\n",
    "#npz_train_mobattrs = ph_data_path + '/price_history_mobattrs_dp_60to30_57994_train.npz'\n",
    "\n",
    "# npz_test = ph_data_path + '/price_history_dp_60to30_57994_11584_test.npz'\n",
    "# npz_test_mobattrs = ph_data_path + '/price_history_mobattrs_dp_60to30_57994_test.npz'"
   ]
  },
  {
   "cell_type": "code",
   "execution_count": 10,
   "metadata": {},
   "outputs": [],
   "source": [
    "obj = PriceHistWithRelevantDeals(npz_path=npz_full, price_history_csv_path=csv_in, random_state=random_state,\n",
    "                                verbose=False)"
   ]
  },
  {
   "cell_type": "code",
   "execution_count": 11,
   "metadata": {},
   "outputs": [],
   "source": [
    "dic = obj.execute(relevancy_count=2)"
   ]
  },
  {
   "cell_type": "code",
   "execution_count": 12,
   "metadata": {},
   "outputs": [],
   "source": [
    "npz_augmented = ph_data_path + '/price_history_mobattrs_date_deals_dp_60to30.npz'"
   ]
  },
  {
   "cell_type": "code",
   "execution_count": 13,
   "metadata": {},
   "outputs": [
    {
     "data": {
      "text/plain": [
       "['inputs',\n",
       " 'sequence_masks',\n",
       " 'mobile_attrs',\n",
       " 'decoder_inputs',\n",
       " 'decoder_extra_inputs',\n",
       " 'sku_ids',\n",
       " 'targets',\n",
       " 'sequence_lengths']"
      ]
     },
     "execution_count": 13,
     "metadata": {},
     "output_type": "execute_result"
    }
   ],
   "source": [
    "dic.keys()"
   ]
  },
  {
   "cell_type": "code",
   "execution_count": 15,
   "metadata": {},
   "outputs": [
    {
     "data": {
      "text/plain": [
       "(60, 9)"
      ]
     },
     "execution_count": 15,
     "metadata": {},
     "output_type": "execute_result"
    }
   ],
   "source": [
    "dic['inputs'][0].shape"
   ]
  },
  {
   "cell_type": "code",
   "execution_count": 36,
   "metadata": {},
   "outputs": [
    {
     "name": "stdout",
     "output_type": "stream",
     "text": [
      "inputs 59790\n",
      "sequence_masks 59790\n",
      "mobile_attrs 59790\n",
      "decoder_inputs 59790\n",
      "decoder_extra_inputs 59790\n",
      "sku_ids 59790\n",
      "targets 59790\n",
      "sequence_lengths 59790\n"
     ]
    }
   ],
   "source": [
    "for key, val in dic.iteritems():\n",
    "    print key, len(val)"
   ]
  },
  {
   "cell_type": "code",
   "execution_count": 22,
   "metadata": {},
   "outputs": [
    {
     "data": {
      "text/plain": [
       "59790"
      ]
     },
     "execution_count": 22,
     "metadata": {},
     "output_type": "execute_result"
    }
   ],
   "source": [
    "len(dic['targets'])"
   ]
  },
  {
   "cell_type": "code",
   "execution_count": 23,
   "metadata": {},
   "outputs": [
    {
     "data": {
      "text/plain": [
       "59790"
      ]
     },
     "execution_count": 23,
     "metadata": {},
     "output_type": "execute_result"
    }
   ],
   "source": [
    "len(dic['inputs'])"
   ]
  },
  {
   "cell_type": "code",
   "execution_count": 29,
   "metadata": {},
   "outputs": [
    {
     "data": {
      "text/plain": [
       "403"
      ]
     },
     "execution_count": 29,
     "metadata": {},
     "output_type": "execute_result"
    }
   ],
   "source": [
    "args = np.argwhere([curin.shape != (60, 9) for curin in dic['inputs']]).flatten()\n",
    "len(args)"
   ]
  },
  {
   "cell_type": "code",
   "execution_count": 33,
   "metadata": {},
   "outputs": [],
   "source": [
    "args = list(args)"
   ]
  },
  {
   "cell_type": "code",
   "execution_count": 35,
   "metadata": {},
   "outputs": [
    {
     "name": "stdout",
     "output_type": "stream",
     "text": [
      "(60, 8)\n",
      "(60, 8)\n",
      "(60, 8)\n",
      "(60, 8)\n",
      "(60, 8)\n",
      "(60, 8)\n",
      "(60, 8)\n",
      "(60, 8)\n",
      "(60, 8)\n",
      "(60, 8)\n",
      "(60, 8)\n",
      "(60, 8)\n",
      "(60, 8)\n",
      "(60, 8)\n",
      "(60, 8)\n",
      "(60, 8)\n",
      "(60, 8)\n",
      "(60, 8)\n",
      "(60, 8)\n",
      "(60, 8)\n",
      "(60, 8)\n",
      "(60, 8)\n",
      "(60, 8)\n",
      "(60, 8)\n",
      "(60, 8)\n",
      "(60, 8)\n",
      "(60, 8)\n",
      "(60, 8)\n",
      "(60, 8)\n",
      "(60, 8)\n",
      "(60, 8)\n",
      "(60, 8)\n",
      "(60, 8)\n",
      "(60, 8)\n",
      "(60, 8)\n",
      "(60, 8)\n",
      "(60, 8)\n",
      "(60, 8)\n",
      "(60, 8)\n",
      "(60, 8)\n",
      "(60, 8)\n",
      "(60, 8)\n",
      "(60, 8)\n",
      "(60, 8)\n",
      "(60, 8)\n",
      "(60, 8)\n",
      "(60, 8)\n",
      "(60, 8)\n",
      "(60, 8)\n",
      "(60, 8)\n",
      "(60, 8)\n",
      "(60, 8)\n",
      "(60, 8)\n",
      "(60, 8)\n",
      "(60, 8)\n",
      "(60, 8)\n",
      "(60, 8)\n",
      "(60, 8)\n",
      "(60, 8)\n",
      "(60, 8)\n",
      "(60, 8)\n",
      "(60, 8)\n",
      "(60, 8)\n",
      "(60, 8)\n",
      "(60, 8)\n",
      "(60, 8)\n",
      "(60, 8)\n",
      "(60, 8)\n",
      "(60, 8)\n",
      "(60, 8)\n",
      "(60, 8)\n",
      "(60, 8)\n",
      "(60, 8)\n",
      "(60, 8)\n",
      "(60, 8)\n",
      "(60, 8)\n",
      "(60, 8)\n",
      "(60, 8)\n",
      "(60, 8)\n",
      "(60, 8)\n",
      "(60, 8)\n",
      "(60, 8)\n",
      "(60, 8)\n",
      "(60, 8)\n",
      "(60, 8)\n",
      "(60, 8)\n",
      "(60, 8)\n",
      "(60, 8)\n",
      "(60, 8)\n",
      "(60, 8)\n",
      "(60, 8)\n",
      "(60, 8)\n",
      "(60, 8)\n",
      "(60, 8)\n",
      "(60, 8)\n",
      "(60, 8)\n",
      "(60, 8)\n",
      "(60, 8)\n",
      "(60, 8)\n",
      "(60, 8)\n",
      "(60, 8)\n",
      "(60, 8)\n",
      "(60, 8)\n",
      "(60, 8)\n",
      "(60, 8)\n",
      "(60, 8)\n",
      "(60, 8)\n",
      "(60, 8)\n",
      "(60, 8)\n",
      "(60, 8)\n",
      "(60, 8)\n",
      "(60, 8)\n",
      "(60, 8)\n",
      "(60, 8)\n",
      "(60, 8)\n",
      "(60, 8)\n",
      "(60, 8)\n",
      "(60, 8)\n",
      "(60, 8)\n",
      "(60, 8)\n",
      "(60, 8)\n",
      "(60, 8)\n",
      "(60, 8)\n",
      "(60, 8)\n",
      "(60, 8)\n",
      "(60, 8)\n",
      "(60, 8)\n",
      "(60, 8)\n",
      "(60, 8)\n",
      "(60, 8)\n",
      "(60, 8)\n",
      "(60, 8)\n",
      "(60, 8)\n",
      "(60, 8)\n",
      "(60, 8)\n",
      "(60, 8)\n",
      "(60, 8)\n",
      "(60, 8)\n",
      "(60, 8)\n",
      "(60, 8)\n",
      "(60, 8)\n",
      "(60, 8)\n",
      "(60, 8)\n",
      "(60, 8)\n",
      "(60, 8)\n",
      "(60, 8)\n",
      "(60, 8)\n",
      "(60, 8)\n",
      "(60, 8)\n",
      "(60, 8)\n",
      "(60, 8)\n",
      "(60, 8)\n",
      "(60, 8)\n",
      "(60, 8)\n",
      "(60, 8)\n",
      "(60, 8)\n",
      "(60, 8)\n",
      "(60, 8)\n",
      "(60, 8)\n",
      "(60, 8)\n",
      "(60, 8)\n",
      "(60, 8)\n",
      "(60, 8)\n",
      "(60, 8)\n",
      "(60, 8)\n",
      "(60, 8)\n",
      "(60, 8)\n",
      "(60, 8)\n",
      "(60, 8)\n",
      "(60, 8)\n",
      "(60, 8)\n",
      "(60, 8)\n",
      "(60, 8)\n",
      "(60, 8)\n",
      "(60, 8)\n",
      "(60, 8)\n",
      "(60, 8)\n",
      "(60, 8)\n",
      "(60, 8)\n",
      "(60, 8)\n",
      "(60, 8)\n",
      "(60, 8)\n",
      "(60, 8)\n",
      "(60, 8)\n",
      "(60, 8)\n",
      "(60, 8)\n",
      "(60, 8)\n",
      "(60, 8)\n",
      "(60, 8)\n",
      "(60, 8)\n",
      "(60, 8)\n",
      "(60, 8)\n",
      "(60, 8)\n",
      "(60, 8)\n",
      "(60, 8)\n",
      "(60, 8)\n",
      "(60, 8)\n",
      "(60, 8)\n",
      "(60, 8)\n",
      "(60, 8)\n",
      "(60, 8)\n",
      "(60, 8)\n",
      "(60, 8)\n",
      "(60, 8)\n",
      "(60, 8)\n",
      "(60, 8)\n",
      "(60, 8)\n",
      "(60, 8)\n",
      "(60, 8)\n",
      "(60, 8)\n",
      "(60, 8)\n",
      "(60, 8)\n",
      "(60, 8)\n",
      "(60, 8)\n",
      "(60, 8)\n",
      "(60, 8)\n",
      "(60, 8)\n",
      "(60, 8)\n",
      "(60, 8)\n",
      "(60, 8)\n",
      "(60, 8)\n",
      "(60, 8)\n",
      "(60, 8)\n",
      "(60, 8)\n",
      "(60, 8)\n",
      "(60, 8)\n",
      "(60, 8)\n",
      "(60, 8)\n",
      "(60, 8)\n",
      "(60, 8)\n",
      "(60, 8)\n",
      "(60, 8)\n",
      "(60, 8)\n",
      "(60, 8)\n",
      "(60, 8)\n",
      "(60, 8)\n",
      "(60, 8)\n",
      "(60, 8)\n",
      "(60, 8)\n",
      "(60, 8)\n",
      "(60, 8)\n",
      "(60, 8)\n",
      "(60, 8)\n",
      "(60, 8)\n",
      "(60, 8)\n",
      "(60, 8)\n",
      "(60, 8)\n",
      "(60, 8)\n",
      "(60, 8)\n",
      "(60, 8)\n",
      "(60, 8)\n",
      "(60, 8)\n",
      "(60, 8)\n",
      "(60, 8)\n",
      "(60, 8)\n",
      "(60, 8)\n",
      "(60, 8)\n",
      "(60, 8)\n",
      "(60, 8)\n",
      "(60, 8)\n",
      "(60, 8)\n",
      "(60, 8)\n",
      "(60, 8)\n",
      "(60, 8)\n",
      "(60, 8)\n",
      "(60, 8)\n",
      "(60, 8)\n",
      "(60, 8)\n",
      "(60, 8)\n",
      "(60, 8)\n",
      "(60, 8)\n",
      "(60, 8)\n",
      "(60, 8)\n",
      "(60, 8)\n",
      "(60, 8)\n",
      "(60, 8)\n",
      "(60, 8)\n",
      "(60, 8)\n",
      "(60, 8)\n",
      "(60, 8)\n",
      "(60, 8)\n",
      "(60, 8)\n",
      "(60, 8)\n",
      "(60, 8)\n",
      "(60, 8)\n",
      "(60, 8)\n",
      "(60, 8)\n",
      "(60, 8)\n",
      "(60, 8)\n",
      "(60, 8)\n",
      "(60, 8)\n",
      "(60, 8)\n",
      "(60, 8)\n",
      "(60, 8)\n",
      "(60, 8)\n",
      "(60, 8)\n",
      "(60, 8)\n",
      "(60, 8)\n",
      "(60, 8)\n",
      "(60, 8)\n",
      "(60, 8)\n",
      "(60, 8)\n",
      "(60, 8)\n",
      "(60, 8)\n",
      "(60, 8)\n",
      "(60, 8)\n",
      "(60, 8)\n",
      "(60, 8)\n",
      "(60, 8)\n",
      "(60, 8)\n",
      "(60, 8)\n",
      "(60, 8)\n",
      "(60, 8)\n",
      "(60, 8)\n",
      "(60, 8)\n",
      "(60, 8)\n",
      "(60, 8)\n",
      "(60, 8)\n",
      "(60, 8)\n",
      "(60, 8)\n",
      "(60, 8)\n",
      "(60, 8)\n",
      "(60, 8)\n",
      "(60, 8)\n",
      "(60, 8)\n",
      "(60, 8)\n",
      "(60, 8)\n",
      "(60, 8)\n",
      "(60, 8)\n",
      "(60, 8)\n",
      "(60, 8)\n",
      "(60, 8)\n",
      "(60, 8)\n",
      "(60, 8)\n",
      "(60, 8)\n",
      "(60, 8)\n",
      "(60, 8)\n",
      "(60, 8)\n",
      "(60, 8)\n",
      "(60, 8)\n",
      "(60, 8)\n",
      "(60, 8)\n",
      "(60, 8)\n",
      "(60, 8)\n",
      "(60, 8)\n",
      "(60, 8)\n",
      "(60, 8)\n",
      "(60, 8)\n",
      "(60, 8)\n",
      "(60, 8)\n",
      "(60, 8)\n",
      "(60, 8)\n",
      "(60, 8)\n",
      "(60, 8)\n",
      "(60, 8)\n",
      "(60, 8)\n",
      "(60, 8)\n",
      "(60, 8)\n",
      "(60, 8)\n",
      "(60, 8)\n",
      "(60, 8)\n",
      "(60, 8)\n",
      "(60, 8)\n",
      "(60, 8)\n",
      "(60, 8)\n",
      "(60, 8)\n",
      "(60, 8)\n",
      "(60, 8)\n",
      "(60, 8)\n",
      "(60, 8)\n",
      "(60, 8)\n",
      "(60, 8)\n",
      "(60, 8)\n",
      "(60, 8)\n",
      "(60, 8)\n",
      "(60, 8)\n",
      "(60, 8)\n",
      "(60, 8)\n",
      "(60, 8)\n",
      "(60, 8)\n",
      "(60, 8)\n",
      "(60, 8)\n",
      "(60, 8)\n",
      "(60, 8)\n",
      "(60, 8)\n",
      "(60, 8)\n",
      "(60, 8)\n",
      "(60, 8)\n",
      "(60, 8)\n",
      "(60, 8)\n",
      "(60, 8)\n",
      "(60, 8)\n",
      "(60, 8)\n",
      "(60, 8)\n",
      "(60, 8)\n",
      "(60, 8)\n",
      "(60, 8)\n",
      "(60, 8)\n",
      "(60, 8)\n",
      "(60, 8)\n",
      "(60, 8)\n",
      "(60, 8)\n",
      "(60, 8)\n"
     ]
    }
   ],
   "source": [
    "# for cur in dic['inputs'][args]:\n",
    "#     print cur.shape\n",
    "for arg in args:\n",
    "    print dic['inputs'][arg].shape"
   ]
  },
  {
   "cell_type": "code",
   "execution_count": 37,
   "metadata": {
    "collapsed": true
   },
   "outputs": [],
   "source": [
    "keep_args = set(range(len(dic['inputs']))).difference(args)"
   ]
  },
  {
   "cell_type": "code",
   "execution_count": 41,
   "metadata": {},
   "outputs": [],
   "source": [
    "assert len(keep_args) == len(dic['inputs']) - len(args)\n",
    "keep_args = list(keep_args)"
   ]
  },
  {
   "cell_type": "code",
   "execution_count": 43,
   "metadata": {},
   "outputs": [
    {
     "data": {
      "text/plain": [
       "(59387, 60, 9)"
      ]
     },
     "execution_count": 43,
     "metadata": {},
     "output_type": "execute_result"
    }
   ],
   "source": [
    "newdic = {\n",
    "    'inputs': np.array([dic[key][keep_arg] for keep_arg in keep_args])\n",
    "}\n",
    "newdic['inputs'].shape"
   ]
  },
  {
   "cell_type": "code",
   "execution_count": 44,
   "metadata": {},
   "outputs": [
    {
     "name": "stdout",
     "output_type": "stream",
     "text": [
      "(59387, 60)\n",
      "(59387, 139)\n",
      "(59387, 30, 7)\n",
      "(59387, 30, 6)\n",
      "(59387,)\n",
      "(59387, 30)\n",
      "(59387,)\n"
     ]
    }
   ],
   "source": [
    "for key, val in dic.iteritems():\n",
    "    if key == 'inputs':\n",
    "        continue\n",
    "    newdic[key] = dic[key][keep_args]\n",
    "    print newdic[key].shape"
   ]
  },
  {
   "cell_type": "code",
   "execution_count": 45,
   "metadata": {},
   "outputs": [
    {
     "data": {
      "text/plain": [
       "(59387, 60, 9)"
      ]
     },
     "execution_count": 45,
     "metadata": {},
     "output_type": "execute_result"
    }
   ],
   "source": [
    "#dic['inputs'] = np.array(dic['inputs'])\n",
    "np.array(newdic['inputs']).shape"
   ]
  },
  {
   "cell_type": "code",
   "execution_count": 46,
   "metadata": {},
   "outputs": [],
   "source": [
    "np.savez(npz_augmented, **newdic)"
   ]
  },
  {
   "cell_type": "code",
   "execution_count": 11,
   "metadata": {},
   "outputs": [
    {
     "name": "stdout",
     "output_type": "stream",
     "text": [
      "inputs (62020, 60, 7)\n",
      "sequence_masks (62020, 60)\n",
      "mobile_attrs (62020, 139)\n",
      "decoder_inputs (62020, 30, 7)\n",
      "decoder_extra_inputs (62020, 30, 6)\n",
      "sku_ids (62020,)\n",
      "targets (62020, 30)\n",
      "sequence_lengths (62020,)\n"
     ]
    }
   ],
   "source": [
    "npz = np.load(npz_full)\n",
    "for key, val in npz.iteritems():\n",
    "    print key,val.shape"
   ]
  },
  {
   "cell_type": "code",
   "execution_count": 12,
   "metadata": {
    "collapsed": true
   },
   "outputs": [],
   "source": [
    "my_current_ind = 100 #just because"
   ]
  },
  {
   "cell_type": "code",
   "execution_count": 13,
   "metadata": {},
   "outputs": [
    {
     "data": {
      "text/plain": [
       "10084353"
      ]
     },
     "execution_count": 13,
     "metadata": {},
     "output_type": "execute_result"
    }
   ],
   "source": [
    "target_ind = npz['sku_ids'][my_current_ind]\n",
    "target_ind #this is the SKU ID we are interested in now"
   ]
  },
  {
   "cell_type": "code",
   "execution_count": 14,
   "metadata": {
    "collapsed": true
   },
   "outputs": [],
   "source": [
    "from relevant_deals import RelevantDeals"
   ]
  },
  {
   "cell_type": "code",
   "execution_count": 15,
   "metadata": {
    "collapsed": true
   },
   "outputs": [],
   "source": [
    "rd = RelevantDeals()"
   ]
  },
  {
   "cell_type": "code",
   "execution_count": 16,
   "metadata": {
    "collapsed": true
   },
   "outputs": [],
   "source": [
    "all_deals = rd.getSome(target_ind)"
   ]
  },
  {
   "cell_type": "code",
   "execution_count": 17,
   "metadata": {
    "collapsed": true
   },
   "outputs": [],
   "source": [
    "relevancy_order = 2 #2 extra sku ids to keep"
   ]
  },
  {
   "cell_type": "code",
   "execution_count": 18,
   "metadata": {},
   "outputs": [
    {
     "data": {
      "text/plain": [
       "array([9875453, 8720352])"
      ]
     },
     "execution_count": 18,
     "metadata": {},
     "output_type": "execute_result"
    }
   ],
   "source": [
    "relevant_sku_ids = all_deals[:relevancy_order]\n",
    "relevant_sku_ids"
   ]
  },
  {
   "cell_type": "code",
   "execution_count": 19,
   "metadata": {
    "collapsed": true
   },
   "outputs": [],
   "source": [
    "#get everything normalized globally\n",
    "df = PriceHistory27DatasetGenerator(random_state=random_state).global_norm_scale(\n",
    "    pd.read_csv(csv_in, index_col=0, quoting=csv.QUOTE_ALL, encoding='utf-8')\n",
    ")"
   ]
  },
  {
   "cell_type": "code",
   "execution_count": 20,
   "metadata": {},
   "outputs": [
    {
     "data": {
      "text/plain": [
       "(4, 2, 6)"
      ]
     },
     "execution_count": 20,
     "metadata": {},
     "output_type": "execute_result"
    }
   ],
   "source": [
    "yearday = 1\n",
    "month_ind = 2\n",
    "weekday_ind = 3\n",
    "year_ind = 4\n",
    "yearweek_ind = 5\n",
    "day_ind = 6\n",
    "\n",
    "year_ind, month_ind, day_ind"
   ]
  },
  {
   "cell_type": "code",
   "execution_count": 21,
   "metadata": {},
   "outputs": [
    {
     "name": "stdout",
     "output_type": "stream",
     "text": [
      "[  56.   57.   58.   59.   60.   61.   62.   63.   64.   65.   66.   67.\n",
      "   68.   69.   70.   71.   72.   73.   74.   75.   76.   77.   78.   79.\n",
      "   80.   81.   82.   83.   84.   85.   86.   87.   88.   89.   90.   91.\n",
      "   92.   93.   94.   95.   96.   97.   98.   99.  100.  101.  102.  103.\n",
      "  104.  105.  106.  107.  108.  109.  110.  111.  112.  113.  114.  115.]\n",
      "[ 2.  3.  4.]\n",
      "[ 0.  1.  2.  3.  4.  5.  6.]\n",
      "[ 2017.]\n",
      "[  8.   9.  10.  11.  12.  13.  14.  15.  16.  17.]\n",
      "[  1.   2.   3.   4.   5.   6.   7.   8.   9.  10.  11.  12.  13.  14.  15.\n",
      "  16.  17.  18.  19.  20.  21.  22.  23.  24.  25.  26.  27.  28.  29.  30.\n",
      "  31.]\n"
     ]
    }
   ],
   "source": [
    "print np.unique(npz['inputs'][my_current_ind][:, 1]) #<--- this is year day\n",
    "print np.unique(npz['inputs'][my_current_ind][:, 2]) #<--- this is month\n",
    "print np.unique(npz['inputs'][my_current_ind][:, 3]) #<--- this is weekday\n",
    "print np.unique(npz['inputs'][my_current_ind][:, 4]) #<---- this is the year\n",
    "print np.unique(npz['inputs'][my_current_ind][:, 5]) #<--- this is year week\n",
    "print np.unique(npz['inputs'][my_current_ind][:, 6]) #<--- this is month day"
   ]
  },
  {
   "cell_type": "code",
   "execution_count": 22,
   "metadata": {
    "collapsed": true
   },
   "outputs": [],
   "source": [
    "the_input = npz['inputs'][my_current_ind]"
   ]
  },
  {
   "cell_type": "code",
   "execution_count": 23,
   "metadata": {},
   "outputs": [
    {
     "data": {
      "text/plain": [
       "(7,)"
      ]
     },
     "execution_count": 23,
     "metadata": {},
     "output_type": "execute_result"
    }
   ],
   "source": [
    "start_item = the_input[0].astype(np.int)\n",
    "start_item.shape"
   ]
  },
  {
   "cell_type": "code",
   "execution_count": 24,
   "metadata": {},
   "outputs": [
    {
     "data": {
      "text/plain": [
       "'2017-02-25'"
      ]
     },
     "execution_count": 24,
     "metadata": {},
     "output_type": "execute_result"
    }
   ],
   "source": [
    "start_date = \"{}-{:02d}-{:02d}\".format(start_item[year_ind], start_item[month_ind], start_item[day_ind])\n",
    "#this format is useful because we can compare them as strings without conversion\n",
    "start_date"
   ]
  },
  {
   "cell_type": "code",
   "execution_count": 25,
   "metadata": {},
   "outputs": [
    {
     "data": {
      "text/plain": [
       "'2017-04-25'"
      ]
     },
     "execution_count": 25,
     "metadata": {},
     "output_type": "execute_result"
    }
   ],
   "source": [
    "end_item = npz['inputs'][my_current_ind][-1].astype(np.int)\n",
    "end_date = \"{}-{:02d}-{:02d}\".format(end_item[year_ind], end_item[month_ind], end_item[day_ind])\n",
    "end_date"
   ]
  },
  {
   "cell_type": "markdown",
   "metadata": {},
   "source": [
    "So for the same date window if we find data from the relevant deal we are good to go  \n",
    "If we do NOT find them ... we could go and search the next deal within some limit of course  \n",
    "So if we exceed this limit, what could we do?  \n",
    "\n",
    "1. We could pass zeros is one solution\n",
    "2. We could drop this item completely is another solution"
   ]
  },
  {
   "cell_type": "code",
   "execution_count": 26,
   "metadata": {},
   "outputs": [
    {
     "data": {
      "text/plain": [
       "9875453"
      ]
     },
     "execution_count": 26,
     "metadata": {},
     "output_type": "execute_result"
    }
   ],
   "source": [
    "# for one sku id\n",
    "cur_sku_id = relevant_sku_ids[0]\n",
    "cur_sku_id"
   ]
  },
  {
   "cell_type": "code",
   "execution_count": null,
   "metadata": {},
   "outputs": [],
   "source": []
  },
  {
   "cell_type": "code",
   "execution_count": 27,
   "metadata": {},
   "outputs": [
    {
     "data": {
      "text/plain": [
       "210"
      ]
     },
     "execution_count": 27,
     "metadata": {},
     "output_type": "execute_result"
    }
   ],
   "source": [
    "seq = PriceHistory27DatasetGenerator.extractSequence(df.loc[cur_sku_id])\n",
    "len(seq)"
   ]
  },
  {
   "cell_type": "code",
   "execution_count": 28,
   "metadata": {},
   "outputs": [
    {
     "data": {
      "text/plain": [
       "True"
      ]
     },
     "execution_count": 28,
     "metadata": {},
     "output_type": "execute_result"
    }
   ],
   "source": [
    "check = seq.index[0] <= start_date and end_date <= seq.index[-1]\n",
    "check"
   ]
  },
  {
   "cell_type": "code",
   "execution_count": 29,
   "metadata": {},
   "outputs": [
    {
     "data": {
      "text/plain": [
       "100"
      ]
     },
     "execution_count": 29,
     "metadata": {},
     "output_type": "execute_result"
    }
   ],
   "source": [
    "#extract the sequence of interest\n",
    "begin_ind = np.argwhere(seq.index == start_date).flatten()[0]\n",
    "begin_ind"
   ]
  },
  {
   "cell_type": "code",
   "execution_count": 30,
   "metadata": {},
   "outputs": [
    {
     "data": {
      "text/plain": [
       "159"
      ]
     },
     "execution_count": 30,
     "metadata": {},
     "output_type": "execute_result"
    }
   ],
   "source": [
    "ending_ind = np.argwhere(seq.index == end_date).flatten()[0]\n",
    "ending_ind"
   ]
  },
  {
   "cell_type": "code",
   "execution_count": 31,
   "metadata": {},
   "outputs": [
    {
     "data": {
      "text/plain": [
       "(60,)"
      ]
     },
     "execution_count": 31,
     "metadata": {},
     "output_type": "execute_result"
    }
   ],
   "source": [
    "seq_of_interest = seq[begin_ind:ending_ind+1]\n",
    "seq_of_interest.shape"
   ]
  },
  {
   "cell_type": "code",
   "execution_count": 32,
   "metadata": {},
   "outputs": [
    {
     "data": {
      "text/plain": [
       "(60, 7)"
      ]
     },
     "execution_count": 32,
     "metadata": {},
     "output_type": "execute_result"
    }
   ],
   "source": [
    "the_input.shape"
   ]
  },
  {
   "cell_type": "code",
   "execution_count": 33,
   "metadata": {},
   "outputs": [
    {
     "data": {
      "image/png": "[encoded data removed]",
      "text/plain": [
       "<matplotlib.figure.Figure at 0x7f94c979acd0>"
      ]
     },
     "metadata": {},
     "output_type": "display_data"
    }
   ],
   "source": [
    "sns.tsplot(seq_of_interest)\n",
    "plt.show()"
   ]
  },
  {
   "cell_type": "code",
   "execution_count": 34,
   "metadata": {},
   "outputs": [
    {
     "data": {
      "image/png": "[encoded data removed]",
      "text/plain": [
       "<matplotlib.figure.Figure at 0x7f94e9152390>"
      ]
     },
     "metadata": {},
     "output_type": "display_data"
    }
   ],
   "source": [
    "unbiased = PriceHistory27DatasetGenerator.removeBiasFromSeq(seq_of_interest)\n",
    "sns.tsplot(unbiased)\n",
    "plt.show()"
   ]
  },
  {
   "cell_type": "code",
   "execution_count": 35,
   "metadata": {},
   "outputs": [
    {
     "data": {
      "text/plain": [
       "(60, 1)"
      ]
     },
     "execution_count": 35,
     "metadata": {},
     "output_type": "execute_result"
    }
   ],
   "source": [
    "ready_deal = unbiased.values[np.newaxis].T\n",
    "ready_deal.shape"
   ]
  },
  {
   "cell_type": "code",
   "execution_count": 36,
   "metadata": {},
   "outputs": [
    {
     "data": {
      "text/plain": [
       "(60, 8)"
      ]
     },
     "execution_count": 36,
     "metadata": {},
     "output_type": "execute_result"
    }
   ],
   "source": [
    "newinput = np.hstack((the_input, ready_deal))\n",
    "newinput.shape"
   ]
  },
  {
   "cell_type": "code",
   "execution_count": 37,
   "metadata": {},
   "outputs": [
    {
     "data": {
      "text/plain": [
       "(60, 2)"
      ]
     },
     "execution_count": 37,
     "metadata": {},
     "output_type": "execute_result"
    }
   ],
   "source": [
    "np.array([unbiased, unbiased]).T"
   ]
  },
  {
   "cell_type": "code",
   "execution_count": 40,
   "metadata": {},
   "outputs": [],
   "source": [
    "aa = np.array([unbiased, unbiased]).T"
   ]
  },
  {
   "cell_type": "code",
   "execution_count": 42,
   "metadata": {},
   "outputs": [
    {
     "data": {
      "text/plain": [
       "(0,)"
      ]
     },
     "execution_count": 42,
     "metadata": {},
     "output_type": "execute_result"
    }
   ],
   "source": [
    "ee = np.array([]).T\n",
    "ee.shape"
   ]
  },
  {
   "cell_type": "code",
   "execution_count": 43,
   "metadata": {},
   "outputs": [
    {
     "ename": "ValueError",
     "evalue": "all the input arrays must have same number of dimensions",
     "output_type": "error",
     "traceback": [
      "\u001b[0;31m---------------------------------------------------------------------------\u001b[0m",
      "\u001b[0;31mValueError\u001b[0m                                Traceback (most recent call last)",
      "\u001b[0;32m<ipython-input-43-becc3f89ac5f>\u001b[0m in \u001b[0;36m<module>\u001b[0;34m()\u001b[0m\n\u001b[0;32m----> 1\u001b[0;31m \u001b[0mnp\u001b[0m\u001b[0;34m.\u001b[0m\u001b[0mhstack\u001b[0m\u001b[0;34m(\u001b[0m\u001b[0;34m(\u001b[0m\u001b[0mthe_input\u001b[0m\u001b[0;34m,\u001b[0m \u001b[0mee\u001b[0m\u001b[0;34m)\u001b[0m\u001b[0;34m)\u001b[0m\u001b[0;34m.\u001b[0m\u001b[0mshape\u001b[0m\u001b[0;34m\u001b[0m\u001b[0m\n\u001b[0m",
      "\u001b[0;32m/home/student/anaconda2/envs/dis/lib/python2.7/site-packages/numpy/core/shape_base.pyc\u001b[0m in \u001b[0;36mhstack\u001b[0;34m(tup)\u001b[0m\n\u001b[1;32m    291\u001b[0m         \u001b[0;32mreturn\u001b[0m \u001b[0m_nx\u001b[0m\u001b[0;34m.\u001b[0m\u001b[0mconcatenate\u001b[0m\u001b[0;34m(\u001b[0m\u001b[0marrs\u001b[0m\u001b[0;34m,\u001b[0m \u001b[0;36m0\u001b[0m\u001b[0;34m)\u001b[0m\u001b[0;34m\u001b[0m\u001b[0m\n\u001b[1;32m    292\u001b[0m     \u001b[0;32melse\u001b[0m\u001b[0;34m:\u001b[0m\u001b[0;34m\u001b[0m\u001b[0m\n\u001b[0;32m--> 293\u001b[0;31m         \u001b[0;32mreturn\u001b[0m \u001b[0m_nx\u001b[0m\u001b[0;34m.\u001b[0m\u001b[0mconcatenate\u001b[0m\u001b[0;34m(\u001b[0m\u001b[0marrs\u001b[0m\u001b[0;34m,\u001b[0m \u001b[0;36m1\u001b[0m\u001b[0;34m)\u001b[0m\u001b[0;34m\u001b[0m\u001b[0m\n\u001b[0m\u001b[1;32m    294\u001b[0m \u001b[0;34m\u001b[0m\u001b[0m\n\u001b[1;32m    295\u001b[0m \u001b[0;34m\u001b[0m\u001b[0m\n",
      "\u001b[0;31mValueError\u001b[0m: all the input arrays must have same number of dimensions"
     ]
    }
   ],
   "source": [
    "np.hstack((the_input, ee)).shape"
   ]
  },
  {
   "cell_type": "code",
   "execution_count": 47,
   "metadata": {},
   "outputs": [
    {
     "data": {
      "text/plain": [
       "[0, 1, 2]"
      ]
     },
     "execution_count": 47,
     "metadata": {},
     "output_type": "execute_result"
    }
   ],
   "source": []
  },
  {
   "cell_type": "code",
   "execution_count": 46,
   "metadata": {},
   "outputs": [
    {
     "data": {
      "text/plain": [
       "[-3, -2, -1]"
      ]
     },
     "execution_count": 46,
     "metadata": {},
     "output_type": "execute_result"
    }
   ],
   "source": []
  },
  {
   "cell_type": "code",
   "execution_count": 48,
   "metadata": {
    "collapsed": true
   },
   "outputs": [],
   "source": [
    "mylist = []\n",
    "for ii, jj in zip(range(-3, 0), range(0, 3)):\n",
    "    mylist.append((ii, jj))"
   ]
  },
  {
   "cell_type": "code",
   "execution_count": 55,
   "metadata": {},
   "outputs": [
    {
     "data": {
      "text/plain": [
       "[(-3, 0), (-2, 1), (-1, 2)]"
      ]
     },
     "execution_count": 55,
     "metadata": {},
     "output_type": "execute_result"
    }
   ],
   "source": [
    "mylist"
   ]
  },
  {
   "cell_type": "code",
   "execution_count": 58,
   "metadata": {},
   "outputs": [
    {
     "data": {
      "text/plain": [
       "[0, 1, 2]"
      ]
     },
     "execution_count": 58,
     "metadata": {},
     "output_type": "execute_result"
    }
   ],
   "source": [
    "map(list, zip(*mylist))[1]"
   ]
  },
  {
   "cell_type": "code",
   "execution_count": 118,
   "metadata": {},
   "outputs": [
    {
     "data": {
      "text/plain": [
       "<matplotlib.axes._subplots.AxesSubplot at 0x7efbda885510>"
      ]
     },
     "execution_count": 118,
     "metadata": {},
     "output_type": "execute_result"
    },
    {
     "data": {
      "image/png": "[encoded data removed]",
      "text/plain": [
       "<matplotlib.figure.Figure at 0x7efbda825550>"
      ]
     },
     "metadata": {},
     "output_type": "display_data"
    }
   ],
   "source": [
    "sns.tsplot(aa[:, 1])"
   ]
  },
  {
   "cell_type": "markdown",
   "metadata": {},
   "source": [
    "#### This is taking longer than expected but ok"
   ]
  },
  {
   "cell_type": "code",
   "execution_count": 28,
   "metadata": {},
   "outputs": [
    {
     "name": "stdout",
     "output_type": "stream",
     "text": [
      "CPU times: user 5min 21s, sys: 464 ms, total: 5min 22s\n",
      "Wall time: 5min 22s\n"
     ]
    }
   ],
   "source": [
    "%%time\n",
    "dic = PriceHistory27DatasetGenerator.merge_date_info(npz_path=npz_full)"
   ]
  },
  {
   "cell_type": "code",
   "execution_count": 30,
   "metadata": {},
   "outputs": [
    {
     "name": "stdout",
     "output_type": "stream",
     "text": [
      "(63548, 60, 7)\n",
      "(63548, 60)\n",
      "(63548,)\n",
      "(63548, 30, 7)\n",
      "(63548, 30, 6)\n",
      "(63548,)\n",
      "(63548, 30)\n"
     ]
    }
   ],
   "source": [
    "for key, val in dic.iteritems():\n",
    "    print val.shape"
   ]
  },
  {
   "cell_type": "code",
   "execution_count": 33,
   "metadata": {
    "collapsed": true
   },
   "outputs": [],
   "source": [
    "# npz_full_with_date = ph_data_path + '/price_history_dp_60to30_63548_date_info.npz'\n",
    "# np.savez(npz_full_with_date, **dic)"
   ]
  },
  {
   "cell_type": "markdown",
   "metadata": {},
   "source": [
    "# Combine Data"
   ]
  },
  {
   "cell_type": "code",
   "execution_count": 31,
   "metadata": {
    "collapsed": true
   },
   "outputs": [],
   "source": [
    "combinator = PriceHistoryMobileAttrsCombinator()"
   ]
  },
  {
   "cell_type": "code",
   "execution_count": 34,
   "metadata": {},
   "outputs": [
    {
     "name": "stdout",
     "output_type": "stream",
     "text": [
      "CPU times: user 10.4 s, sys: 464 ms, total: 10.9 s\n",
      "Wall time: 10.8 s\n"
     ]
    }
   ],
   "source": [
    "%%time\n",
    "dic, inds, count_key_errors, key_errors = combinator.combine(npz_in=npz_full_with_date)"
   ]
  },
  {
   "cell_type": "code",
   "execution_count": 36,
   "metadata": {},
   "outputs": [
    {
     "name": "stdout",
     "output_type": "stream",
     "text": [
      "(62020, 60, 7)\n",
      "(62020,)\n",
      "(62020,)\n",
      "(62020, 139)\n",
      "(62020, 30, 7)\n",
      "(62020, 30, 6)\n",
      "(62020, 60)\n",
      "(62020, 30)\n"
     ]
    }
   ],
   "source": [
    "for key, val in dic.iteritems():\n",
    "    print val.shape"
   ]
  },
  {
   "cell_type": "code",
   "execution_count": 37,
   "metadata": {
    "collapsed": true
   },
   "outputs": [],
   "source": [
    "npz_full_mobattrs_date = ph_data_path + '/price_history_mobattrs_date_dp_60to30_62020.npz'"
   ]
  },
  {
   "cell_type": "code",
   "execution_count": 38,
   "metadata": {
    "collapsed": true
   },
   "outputs": [],
   "source": [
    "np.savez(npz_full_mobattrs_date, **dic)"
   ]
  },
  {
   "cell_type": "code",
   "execution_count": 39,
   "metadata": {},
   "outputs": [
    {
     "data": {
      "text/plain": [
       "1528"
      ]
     },
     "execution_count": 39,
     "metadata": {},
     "output_type": "execute_result"
    }
   ],
   "source": [
    "count_key_errors#, key_errors"
   ]
  },
  {
   "cell_type": "markdown",
   "metadata": {},
   "source": [
    "# Train - Test Split"
   ]
  },
  {
   "cell_type": "code",
   "execution_count": 42,
   "metadata": {
    "collapsed": true
   },
   "outputs": [],
   "source": [
    "npz_train_mobattrs_date = ph_data_path + '/price_history_mobattrs_date_dp_60to30_62020_train.npz'\n",
    "npz_test_mobattrs_date = ph_data_path + '/price_history_mobattrs_date_dp_60to30_62020_test.npz'"
   ]
  },
  {
   "cell_type": "code",
   "execution_count": 43,
   "metadata": {
    "collapsed": true
   },
   "outputs": [],
   "source": [
    "PriceHistory27DatasetGenerator.train_test_split(fullpath=npz_full_mobattrs_date, test_size=6200,\n",
    "                                                train_path=npz_train_mobattrs_date,\n",
    "                                                test_path=npz_test_mobattrs_date, random_state=random_state)"
   ]
  },
  {
   "cell_type": "code",
   "execution_count": 50,
   "metadata": {
    "collapsed": true
   },
   "outputs": [],
   "source": [
    "npz_train_mobattrs_date_small = ph_data_path + '/price_history_mobattrs_date_dp_60to30_62020_6000_train.npz'"
   ]
  },
  {
   "cell_type": "code",
   "execution_count": 51,
   "metadata": {
    "collapsed": true
   },
   "outputs": [],
   "source": [
    "PriceHistory27DatasetGenerator.create_subsampled(inpath=npz_train_mobattrs_date, target_size=6000,\n",
    "                                               outpath=npz_train_mobattrs_date_small, random_state=random_state)"
   ]
  },
  {
   "cell_type": "code",
   "execution_count": null,
   "metadata": {
    "collapsed": true
   },
   "outputs": [],
   "source": []
  }
 ],
 "metadata": {
  "kernelspec": {
   "display_name": "Python 2",
   "language": "python",
   "name": "python2"
  },
  "language_info": {
   "codemirror_mode": {
    "name": "ipython",
    "version": 2
   },
   "file_extension": ".py",
   "mimetype": "text/x-python",
   "name": "python",
   "nbconvert_exporter": "python",
   "pygments_lexer": "ipython2",
   "version": "2.7.13"
  }
 },
 "nbformat": 4,
 "nbformat_minor": 2
}
