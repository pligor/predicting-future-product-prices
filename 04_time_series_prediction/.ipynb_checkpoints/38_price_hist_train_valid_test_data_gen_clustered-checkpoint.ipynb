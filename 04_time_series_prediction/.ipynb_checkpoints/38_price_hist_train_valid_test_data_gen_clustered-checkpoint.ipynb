{
 "cells": [
  {
   "cell_type": "code",
   "execution_count": 1,
   "metadata": {
    "collapsed": true
   },
   "outputs": [],
   "source": [
    "# -*- coding: UTF-8 -*-\n",
    "#%load_ext autoreload\n",
    "%reload_ext autoreload\n",
    "%autoreload 2"
   ]
  },
  {
   "cell_type": "code",
   "execution_count": 2,
   "metadata": {},
   "outputs": [
    {
     "name": "stderr",
     "output_type": "stream",
     "text": [
      "/home/student/anaconda2/envs/dis/lib/python2.7/site-packages/statsmodels/compat/pandas.py:56: FutureWarning: The pandas.core.datetools module is deprecated and will be removed in a future version. Please use the pandas.tseries module instead.\n",
      "  from pandas.core import datetools\n"
     ]
    }
   ],
   "source": [
    "from __future__ import division\n",
    "import tensorflow as tf\n",
    "from os import path, remove\n",
    "import numpy as np\n",
    "import pandas as pd\n",
    "import csv\n",
    "from sklearn.model_selection import StratifiedShuffleSplit\n",
    "from time import time\n",
    "from matplotlib import pyplot as plt\n",
    "import seaborn as sns\n",
    "from mylibs.jupyter_notebook_helper import show_graph, renderStatsList, renderStatsCollection, \\\n",
    "    renderStatsListWithLabels, renderStatsCollectionOfCrossValids\n",
    "from tensorflow.contrib import rnn\n",
    "from tensorflow.contrib import learn\n",
    "import shutil\n",
    "from tensorflow.contrib.learn.python.learn import learn_runner\n",
    "from mylibs.tf_helper import getDefaultGPUconfig\n",
    "from sklearn.metrics import r2_score\n",
    "from mylibs.py_helper import factors\n",
    "from fastdtw import fastdtw\n",
    "from collections import OrderedDict\n",
    "from scipy.spatial.distance import euclidean\n",
    "from statsmodels.tsa.stattools import coint\n",
    "from common import get_or_run_nn\n",
    "from data_providers.price_history_seq2seq_data_provider import PriceHistorySeq2SeqDataProvider\n",
    "from skopt.space.space import Integer, Real\n",
    "from skopt import gp_minimize\n",
    "from skopt.plots import plot_convergence\n",
    "import pickle\n",
    "import inspect\n",
    "import dill\n",
    "import sys\n",
    "#from models.price_history_21_seq2seq_dyn_dec_ins import PriceHistorySeq2SeqDynDecIns\n",
    "from data_providers.PriceHistoryMobileAttrsCombinator import PriceHistoryMobileAttrsCombinator\n",
    "from sklearn.neighbors import NearestNeighbors\n",
    "from datetime import datetime\n",
    "from data_providers.price_hist_with_relevant_deals import PriceHistWithRelevantDeals\n",
    "\n",
    "import operator"
   ]
  },
  {
   "cell_type": "code",
   "execution_count": 3,
   "metadata": {
    "collapsed": true
   },
   "outputs": [],
   "source": [
    "dtype = tf.float32\n",
    "seed = 16011984\n",
    "random_state = np.random.RandomState(seed=seed)\n",
    "config = getDefaultGPUconfig()\n",
    "n_jobs = 1\n",
    "%matplotlib inline"
   ]
  },
  {
   "cell_type": "markdown",
   "metadata": {},
   "source": [
    "### Step 0 - hyperparams"
   ]
  },
  {
   "cell_type": "markdown",
   "metadata": {},
   "source": [
    "vocab_size is all the potential words you could have (classification for translation case)\n",
    "and max sequence length are the SAME thing\n",
    "\n",
    "decoder RNN hidden units are usually same size as encoder RNN hidden units in translation but for our case it does not seem really to be a relationship there but we can experiment and find out later, not a priority thing right now"
   ]
  },
  {
   "cell_type": "code",
   "execution_count": 4,
   "metadata": {
    "collapsed": true
   },
   "outputs": [],
   "source": [
    "input_len = 60\n",
    "target_len = 30\n",
    "with_EOS = False\n",
    "kmeans_group = 10"
   ]
  },
  {
   "cell_type": "code",
   "execution_count": 5,
   "metadata": {
    "collapsed": true
   },
   "outputs": [],
   "source": [
    "#reading from\n",
    "data_path = '../../../../Dropbox/data'\n",
    "mobattrs_ph_path = data_path + '/mobattrs_price_history'\n",
    "mobattrs_ph_norm_path = mobattrs_ph_path + '/mobattrs_ph_norm.npy'\n",
    "sku_ids_groups_path = data_path + '/sku_ids_groups'\n",
    "npz_sku_ids_group_kmeans = sku_ids_groups_path + '/sku_ids_kmeans_{:02d}.npz'.format(kmeans_group)\n",
    "\n",
    "price_history_csv = \"../price_history_03_seq_start_suddens_trimmed.csv\"\n",
    "\n",
    "mobiles_path = data_path + '/mobiles'\n",
    "mobs_norm_path = mobiles_path + '/mobiles_norm.csv'"
   ]
  },
  {
   "cell_type": "code",
   "execution_count": 6,
   "metadata": {
    "collapsed": true
   },
   "outputs": [],
   "source": [
    "sku_id_groups = np.load(npz_sku_ids_group_kmeans)\n",
    "cur_zip = zip(sku_id_groups.items(), [item[1].shape for item in sku_id_groups.items()])\n",
    "sorted_groups = OrderedDict([item[0] for item in sorted(cur_zip, key=operator.itemgetter(1))])"
   ]
  },
  {
   "cell_type": "code",
   "execution_count": 7,
   "metadata": {},
   "outputs": [
    {
     "name": "stdout",
     "output_type": "stream",
     "text": [
      "2 , (3,)\n",
      "6 , (24,)\n",
      "4 , (32,)\n",
      "0 , (50,)\n",
      "1 , (57,)\n",
      "7 , (79,)\n",
      "8 , (79,)\n",
      "5 , (102,)\n",
      "3 , (109,)\n",
      "9 , (154,)\n"
     ]
    }
   ],
   "source": [
    "for key, val in sorted_groups.iteritems():\n",
    "    print key, \",\", val.shape"
   ]
  },
  {
   "cell_type": "code",
   "execution_count": 8,
   "metadata": {
    "collapsed": true
   },
   "outputs": [],
   "source": [
    "from data_providers.data_gen_38 import DatasetGenerator"
   ]
  },
  {
   "cell_type": "code",
   "execution_count": 9,
   "metadata": {
    "collapsed": true
   },
   "outputs": [],
   "source": [
    "dg = DatasetGenerator(npz_sku_ids_group_kmeans=npz_sku_ids_group_kmeans,\n",
    "                     price_history_csv=price_history_csv,\n",
    "                     input_min_len = input_len,\n",
    "                     target_len=target_len,\n",
    "                     random_state=random_state)"
   ]
  },
  {
   "cell_type": "code",
   "execution_count": 10,
   "metadata": {},
   "outputs": [
    {
     "name": "stdout",
     "output_type": "stream",
     "text": [
      "[ 7653378  8874019  9500739  7219275  9501836  7321695  8435811  7335955\n",
      " 10766459  9724038  9132174 10252434 10741925  7423345 10350760  9633962\n",
      "  8437937  6260915  9889976 10619076 10909904 10922201  5535970  7620866\n",
      "  9445080  9820435  8116861  7282995  9550139  6957383  9105758  3656048\n",
      " 10430833 10456126  9130370 10603460  9898380 10830222  9402788  7723431\n",
      "  9107905  7621093 10922474 10620599  8012281  5804541  7508833 10117891\n",
      " 10922517  6918686  9259567  7621172 10822203  6808160 10955366 10922599\n",
      " 10705514 10822252  8460398  9216668  8395434  9419455 10822358 10742492\n",
      "  8286967 10670840  9173758  9669402  8735524  9188134  9333571 10627915\n",
      " 10468270  9758209  8770390 10802015  8436609 10902417 10627992  9669553\n",
      " 10020902  6808527  8985553  7357394  8758228  6044652 10263538  3136502\n",
      "  8082430 11002883 10001441 10019886  9655436 10251789 10569851  7904356\n",
      "  8244331  9759446  8176770  9192579  7259273 10296471  9562308 10019997\n",
      "  9542492  6601918  9198786  9757914  9473245 10550505  9454972 10646927\n",
      "  9028851 10830068  9674179  7630281 10829293 10020336  9547257 10774028\n",
      "  9332994  9542574  8281639  6733376 10765893  7945834  8515183  8874945\n",
      "  6989466  9352876  9981614 10858159 10864321 10499793  9572084  7753482\n",
      " 10858255  9555755 10655541  9064268  7868248  7655259  8873827  9410037\n",
      "  8130418  7957675  9654138  8294272  7129068 10725259  9232277  8435610\n",
      "  9561760 10620877]\n"
     ]
    }
   ],
   "source": [
    "aa, bb, cc = dg.prepare(chosen_cluster=9)"
   ]
  },
  {
   "cell_type": "code",
   "execution_count": 14,
   "metadata": {
    "collapsed": true
   },
   "outputs": [],
   "source": [
    "# instead of keeping the series, simply find the first threshold (train vs valid and test)\n",
    "# and then return the second threshold (train + valid vs test)\n",
    "\n",
    "# Next step is to split the original df of the prices in three separate dfs and feed them inside the old generator\n",
    "# to create training samples\n",
    "# note that the valid will actually be the previous 60 days of data and forecasting to valid\n",
    "# the test will be the previous 60 days of data and forecasting to test\n",
    "# In other words we will have overlaps to create the validation set and the testing set\n",
    "\n",
    "# In addition the training dataset for the final model will be consisted of both the train and valid span of data\n",
    "# So this means a fourth dataframe should be generated"
   ]
  },
  {
   "cell_type": "code",
   "execution_count": 12,
   "metadata": {},
   "outputs": [
    {
     "data": {
      "text/plain": [
       "pandas.core.series.Series"
      ]
     },
     "execution_count": 12,
     "metadata": {},
     "output_type": "execute_result"
    }
   ],
   "source": [
    "type(aa[0])"
   ]
  },
  {
   "cell_type": "markdown",
   "metadata": {},
   "source": [
    "# Actual Run"
   ]
  },
  {
   "cell_type": "code",
   "execution_count": 83,
   "metadata": {
    "collapsed": true
   },
   "outputs": [],
   "source": [
    "data_path = '../../../../Dropbox/data'\n",
    "ph_data_path = data_path + '/price_history'\n",
    "assert path.isdir(ph_data_path)"
   ]
  },
  {
   "cell_type": "code",
   "execution_count": 84,
   "metadata": {
    "collapsed": true
   },
   "outputs": [],
   "source": [
    "npz_full = ph_data_path + '/price_history_per_mobile_phone.npz'"
   ]
  },
  {
   "cell_type": "code",
   "execution_count": 85,
   "metadata": {
    "collapsed": true
   },
   "outputs": [],
   "source": [
    "dataset_gen = PriceHistoryDatasetPerMobilePhone(random_state=random_state)"
   ]
  },
  {
   "cell_type": "code",
   "execution_count": 86,
   "metadata": {},
   "outputs": [
    {
     "data": {
      "text/plain": [
       "['9820435',\n",
       " '8332719',\n",
       " '7357394',\n",
       " '9351583',\n",
       " '8012281',\n",
       " '7655259',\n",
       " '6253594',\n",
       " '8138004',\n",
       " '10576161',\n",
       " '7408246',\n",
       " '7967487',\n",
       " '9130370',\n",
       " '8779166',\n",
       " '7653378',\n",
       " '10536998',\n",
       " '8669008',\n",
       " '9896674',\n",
       " '9941958',\n",
       " '7321695',\n",
       " '10499793',\n",
       " '9259167',\n",
       " '8221632',\n",
       " '9986194',\n",
       " '9898913',\n",
       " '10129132',\n",
       " '9055991',\n",
       " '10327862',\n",
       " '7364333',\n",
       " '8176770',\n",
       " '7507905',\n",
       " '3656048',\n",
       " '10112367',\n",
       " '8695009',\n",
       " '8735993',\n",
       " '10242128',\n",
       " '8648639',\n",
       " '8414311',\n",
       " '9875453',\n",
       " '7508833',\n",
       " '9426447',\n",
       " '6261140',\n",
       " '7294741',\n",
       " '9674179',\n",
       " '9064268',\n",
       " '7321837',\n",
       " '10409332',\n",
       " '10020902',\n",
       " '10002261',\n",
       " '6870822',\n",
       " '7351792',\n",
       " '10620877',\n",
       " '7620866',\n",
       " '9301596',\n",
       " '9981614',\n",
       " '8087014',\n",
       " '9941623',\n",
       " '5308163',\n",
       " '9469401',\n",
       " '8938578',\n",
       " '10046764',\n",
       " '10468270',\n",
       " '9035623',\n",
       " '9558425',\n",
       " '10340158',\n",
       " '7514433',\n",
       " '9758209',\n",
       " '9757914',\n",
       " '9028851',\n",
       " '10339856',\n",
       " '7509017',\n",
       " '6989466',\n",
       " '6999080',\n",
       " '10340038',\n",
       " '10242193',\n",
       " '9306016',\n",
       " '7401406',\n",
       " '8379645',\n",
       " '8379646',\n",
       " '9783218',\n",
       " '9783213',\n",
       " '9956199',\n",
       " '9268867',\n",
       " '9783217',\n",
       " '9783216',\n",
       " '9783215',\n",
       " '6998933',\n",
       " '7634031',\n",
       " '8999919',\n",
       " '6756290',\n",
       " '6536691',\n",
       " '7448041',\n",
       " '9017595',\n",
       " '8864711',\n",
       " '10550085',\n",
       " '8438203',\n",
       " '10430833',\n",
       " '7504732',\n",
       " '10620558',\n",
       " '10456126',\n",
       " '8130418',\n",
       " '9549977',\n",
       " '9562308',\n",
       " '10251789',\n",
       " '7811257',\n",
       " '7541851',\n",
       " '6808160',\n",
       " '9473245',\n",
       " '8095786',\n",
       " '8770390',\n",
       " '10513102',\n",
       " '10446143',\n",
       " '8797638',\n",
       " '8873832',\n",
       " '9272109',\n",
       " '8909629',\n",
       " '6044652',\n",
       " '7723431',\n",
       " '9287995',\n",
       " '9395784',\n",
       " '8515393',\n",
       " '9561760',\n",
       " '9098838',\n",
       " '10598138',\n",
       " '7129068',\n",
       " '9333571',\n",
       " '7780575',\n",
       " '8972925',\n",
       " '10117891',\n",
       " '9454972',\n",
       " '10620346',\n",
       " '10430368',\n",
       " '8684161',\n",
       " '10263538',\n",
       " '10327727',\n",
       " '9669402',\n",
       " '8820025',\n",
       " '8046417',\n",
       " '8783760',\n",
       " '10021828',\n",
       " '7946058',\n",
       " '10646927',\n",
       " '8735524',\n",
       " '9039085',\n",
       " '10372691',\n",
       " '3136502',\n",
       " '9536994',\n",
       " '7599025',\n",
       " '7621172',\n",
       " '6317061',\n",
       " '9338643',\n",
       " '10529304',\n",
       " '6264653',\n",
       " '8414880',\n",
       " '7335154',\n",
       " '8515183',\n",
       " '9192579',\n",
       " '10537404',\n",
       " '10019886',\n",
       " '9524580',\n",
       " '9383253',\n",
       " '8628040',\n",
       " '7282995',\n",
       " '9730380',\n",
       " '8082430',\n",
       " '6487622',\n",
       " '10000553',\n",
       " '9535485',\n",
       " '10455691',\n",
       " '7957675',\n",
       " '9555755',\n",
       " '9654138',\n",
       " '8136245',\n",
       " '9535232',\n",
       " '10000323',\n",
       " '8791213',\n",
       " '8909064',\n",
       " '9524579',\n",
       " '9524578',\n",
       " '8239538',\n",
       " '9759446',\n",
       " '9815040',\n",
       " '9898380',\n",
       " '10339621',\n",
       " '8153953',\n",
       " '7753482',\n",
       " '8130646',\n",
       " '9845360',\n",
       " '9034797',\n",
       " '9374090',\n",
       " '10327645',\n",
       " '9889976',\n",
       " '10603019',\n",
       " '8913842',\n",
       " '9618789',\n",
       " '8693332',\n",
       " '10093039',\n",
       " '8784094',\n",
       " '9685830',\n",
       " '8340504',\n",
       " '8435610',\n",
       " '5983545',\n",
       " '8317727',\n",
       " '9624747',\n",
       " '9216668',\n",
       " '10106328',\n",
       " '9844865',\n",
       " '10250011',\n",
       " '4763156',\n",
       " '10455448',\n",
       " '7333160',\n",
       " '10351727',\n",
       " '10550505',\n",
       " '7988857',\n",
       " '7050290',\n",
       " '10512952',\n",
       " '8864706',\n",
       " '8934572',\n",
       " '9232277',\n",
       " '8490920',\n",
       " '8286967',\n",
       " '9658075',\n",
       " '9416983',\n",
       " '9468414',\n",
       " '5535970',\n",
       " '9517024',\n",
       " '8742945',\n",
       " '10081282',\n",
       " '7219275',\n",
       " '10603203',\n",
       " '9547257',\n",
       " '6696391',\n",
       " '8597734',\n",
       " '8842715',\n",
       " '9668098',\n",
       " '7751495',\n",
       " '9259567',\n",
       " '9668091',\n",
       " '7288733',\n",
       " '5450546',\n",
       " '8863487',\n",
       " '9132174',\n",
       " '10550986',\n",
       " '9615391',\n",
       " '9925594',\n",
       " '7562927',\n",
       " '7257310',\n",
       " '10455301',\n",
       " '10549703',\n",
       " '9192081',\n",
       " '8116861',\n",
       " '7310752',\n",
       " '6744233',\n",
       " '10620599',\n",
       " '6733376',\n",
       " '8395434',\n",
       " '10351487',\n",
       " '9969844',\n",
       " '9410037',\n",
       " '7180618',\n",
       " '10263525',\n",
       " '9304030',\n",
       " '9995201',\n",
       " '10445742',\n",
       " '9615498',\n",
       " '9615369',\n",
       " '8444503',\n",
       " '10296471',\n",
       " '8349172',\n",
       " '8284007',\n",
       " '10513434',\n",
       " '10445832',\n",
       " '7264929',\n",
       " '6957383',\n",
       " '6724273',\n",
       " '9561798',\n",
       " '9672674',\n",
       " '7630281',\n",
       " '10036784',\n",
       " '9445080',\n",
       " '8384618',\n",
       " '9468830',\n",
       " '10597333',\n",
       " '10569851',\n",
       " '8984512',\n",
       " '8333136',\n",
       " '10430269',\n",
       " '9724038',\n",
       " '10297324',\n",
       " '8515689',\n",
       " '7487368',\n",
       " '10631640',\n",
       " '7423345',\n",
       " '6808527',\n",
       " '7904356',\n",
       " '10020336',\n",
       " '10551073',\n",
       " '8436609',\n",
       " '8913485',\n",
       " '8437937',\n",
       " '7992726',\n",
       " '8153619',\n",
       " '9001596',\n",
       " '9608073',\n",
       " '8874019',\n",
       " '8294272',\n",
       " '10468510',\n",
       " '7259273',\n",
       " '9542492',\n",
       " '8348233',\n",
       " '6666214',\n",
       " '9402788',\n",
       " '7314178',\n",
       " '8460398',\n",
       " '10199444',\n",
       " '8864161',\n",
       " '7344391',\n",
       " '6871862',\n",
       " '6601918',\n",
       " '8720352',\n",
       " '10328199',\n",
       " '9189255',\n",
       " '9970245',\n",
       " '6871261',\n",
       " '9043554',\n",
       " '9198786',\n",
       " '10057571',\n",
       " '9489172',\n",
       " '9192250',\n",
       " '8880414',\n",
       " '7750303',\n",
       " '10643104',\n",
       " '7505653',\n",
       " '8281639',\n",
       " '10617623',\n",
       " '7750919',\n",
       " '9668397',\n",
       " '9664652',\n",
       " '8107566',\n",
       " '9329087',\n",
       " '10350760',\n",
       " '8864604',\n",
       " '3783654',\n",
       " '9520852',\n",
       " '6918686',\n",
       " '7335955',\n",
       " '9501836',\n",
       " '10000278',\n",
       " '7356761',\n",
       " '9595109',\n",
       " '10282598',\n",
       " '10619619',\n",
       " '9360800',\n",
       " '9669553',\n",
       " '8244331',\n",
       " '9409925',\n",
       " '8617989',\n",
       " '9824249',\n",
       " '9332994',\n",
       " '10644470',\n",
       " '8645920',\n",
       " '8758228',\n",
       " '10619076',\n",
       " '10315304',\n",
       " '8874945',\n",
       " '8874195',\n",
       " '9352876',\n",
       " '9409718',\n",
       " '8221631',\n",
       " '9079935',\n",
       " '9107905',\n",
       " '5898447',\n",
       " '9542574',\n",
       " '9898535',\n",
       " '9042908',\n",
       " '6592480',\n",
       " '8311334',\n",
       " '8145112',\n",
       " '10315447',\n",
       " '9815037',\n",
       " '10373479',\n",
       " '9815039',\n",
       " '8435811',\n",
       " '8880028',\n",
       " '9655436',\n",
       " '9500739',\n",
       " '9550139',\n",
       " '7621093',\n",
       " '8864337',\n",
       " '8256116',\n",
       " '9572084',\n",
       " '6798407',\n",
       " '7311062',\n",
       " '10084353',\n",
       " '10001441',\n",
       " '9445259',\n",
       " '10603460',\n",
       " '8669043',\n",
       " '9757586',\n",
       " '5804541',\n",
       " '8995944',\n",
       " '5558359',\n",
       " '10529171',\n",
       " '9195103',\n",
       " '9561935',\n",
       " '7360931',\n",
       " '7945834',\n",
       " '9877558',\n",
       " '6677566',\n",
       " '7945421',\n",
       " '8436601',\n",
       " '9672740',\n",
       " '10085889',\n",
       " '10252434',\n",
       " '10019997',\n",
       " '9188134',\n",
       " '10283639',\n",
       " '9981788',\n",
       " '9412950',\n",
       " '7426369',\n",
       " '6317107',\n",
       " '8873827',\n",
       " '9633962',\n",
       " '8988217',\n",
       " '7697920',\n",
       " '9419455',\n",
       " '9105758',\n",
       " '6487975',\n",
       " '9177791',\n",
       " '10315407',\n",
       " '6933062',\n",
       " '9173758',\n",
       " '7868248',\n",
       " '10065912',\n",
       " '9517102',\n",
       " '7860520',\n",
       " '6260915',\n",
       " '8985553']"
      ]
     },
     "execution_count": 86,
     "metadata": {},
     "output_type": "execute_result"
    }
   ],
   "source": [
    "dic = dataset_gen.genSaveDictionary(csv_in=csv_in, window_len=90, npz_out=npz_full)\n",
    "dic.keys()"
   ]
  },
  {
   "cell_type": "markdown",
   "metadata": {},
   "source": [
    "# Arima"
   ]
  },
  {
   "cell_type": "code",
   "execution_count": 104,
   "metadata": {
    "collapsed": true
   },
   "outputs": [],
   "source": [
    "from arima.arima_estimator import ArimaEstimator\n",
    "import warnings\n",
    "from collections import OrderedDict\n",
    "from mylibs.py_helper import cartesian_coord\n",
    "from arima.arima_cv import ArimaCV"
   ]
  },
  {
   "cell_type": "code",
   "execution_count": 91,
   "metadata": {
    "collapsed": true
   },
   "outputs": [],
   "source": [
    "parameters = OrderedDict([\n",
    "    ('p_auto_regression_order', range(6)), #0-5\n",
    "    ('d_integration_level', range(3)), #0-2\n",
    "    ('q_moving_average', range(6)), #0-5\n",
    "])"
   ]
  },
  {
   "cell_type": "code",
   "execution_count": 93,
   "metadata": {},
   "outputs": [
    {
     "data": {
      "text/plain": [
       "(108, 3)"
      ]
     },
     "execution_count": 93,
     "metadata": {},
     "output_type": "execute_result"
    }
   ],
   "source": [
    "cart = cartesian_coord(*parameters.values())\n",
    "cart.shape"
   ]
  },
  {
   "cell_type": "code",
   "execution_count": 105,
   "metadata": {},
   "outputs": [
    {
     "data": {
      "text/plain": [
       "['test', 'train', 'train_dates']"
      ]
     },
     "execution_count": 105,
     "metadata": {},
     "output_type": "execute_result"
    }
   ],
   "source": [
    "cur_sku = dic.values()[0]\n",
    "cur_sku.keys()"
   ]
  },
  {
   "cell_type": "code",
   "execution_count": 110,
   "metadata": {},
   "outputs": [
    {
     "data": {
      "text/plain": [
       "(31, 90)"
      ]
     },
     "execution_count": 110,
     "metadata": {},
     "output_type": "execute_result"
    }
   ],
   "source": [
    "full_mat = cur_sku['train']\n",
    "full_mat.shape"
   ]
  },
  {
   "cell_type": "code",
   "execution_count": 111,
   "metadata": {},
   "outputs": [
    {
     "data": {
      "text/plain": [
       "30"
      ]
     },
     "execution_count": 111,
     "metadata": {},
     "output_type": "execute_result"
    }
   ],
   "source": [
    "target_len"
   ]
  },
  {
   "cell_type": "code",
   "execution_count": 113,
   "metadata": {},
   "outputs": [
    {
     "data": {
      "text/plain": [
       "(31, 60)"
      ]
     },
     "execution_count": 113,
     "metadata": {},
     "output_type": "execute_result"
    }
   ],
   "source": [
    "inputs = full_mat[:, :-target_len]\n",
    "inputs.shape"
   ]
  },
  {
   "cell_type": "code",
   "execution_count": 115,
   "metadata": {},
   "outputs": [
    {
     "data": {
      "text/plain": [
       "(31, 30)"
      ]
     },
     "execution_count": 115,
     "metadata": {},
     "output_type": "execute_result"
    }
   ],
   "source": [
    "targets = full_mat[:, -target_len:]\n",
    "targets.shape"
   ]
  },
  {
   "cell_type": "code",
   "execution_count": 117,
   "metadata": {},
   "outputs": [
    {
     "name": "stdout",
     "output_type": "stream",
     "text": [
      "CPU times: user 15.4 s, sys: 53.1 s, total: 1min 8s\n",
      "Wall time: 9.06 s\n"
     ]
    }
   ],
   "source": [
    "%%time\n",
    "with warnings.catch_warnings():\n",
    "    warnings.filterwarnings(\"ignore\")\n",
    "    ae = ArimaEstimator(p_auto_regression_order=0, d_integration_level=1, q_moving_average=0, easy_mode=True)\n",
    "    ae.fit(inputs, targets).score(inputs, targets)"
   ]
  },
  {
   "cell_type": "code",
   "execution_count": 118,
   "metadata": {
    "collapsed": true
   },
   "outputs": [],
   "source": [
    "score_dic_filepath = data_path + \"/arima/scoredic_testing.npy\""
   ]
  },
  {
   "cell_type": "code",
   "execution_count": 119,
   "metadata": {},
   "outputs": [
    {
     "data": {
      "text/plain": [
       "'/home/student/Dropbox/data/arima/scoredic_testing.npy'"
      ]
     },
     "execution_count": 119,
     "metadata": {},
     "output_type": "execute_result"
    }
   ],
   "source": [
    "path.abspath(score_dic_filepath)"
   ]
  },
  {
   "cell_type": "code",
   "execution_count": 121,
   "metadata": {},
   "outputs": [
    {
     "name": "stdout",
     "output_type": "stream",
     "text": [
      "CPU times: user 4h 41min 23s, sys: 13h 11min 9s, total: 17h 52min 33s\n",
      "Wall time: 4h 4min 51s\n"
     ]
    }
   ],
   "source": [
    "%%time\n",
    "with warnings.catch_warnings():\n",
    "    warnings.filterwarnings(\"ignore\")\n",
    "    scoredic = ArimaCV.cross_validate(inputs=inputs, targets=targets, cartesian_combinations=cart,\n",
    "                                      score_dic_filepath=score_dic_filepath, easy_mode=True)"
   ]
  },
  {
   "cell_type": "code",
   "execution_count": null,
   "metadata": {
    "collapsed": true
   },
   "outputs": [],
   "source": [
    "#4h 4min 51s / 108 cases => ~= 136 seconds per case !"
   ]
  },
  {
   "cell_type": "code",
   "execution_count": 127,
   "metadata": {},
   "outputs": [
    {
     "data": {
      "text/plain": [
       "(108, 2)"
      ]
     },
     "execution_count": 127,
     "metadata": {},
     "output_type": "execute_result"
    }
   ],
   "source": [
    "arr = np.array(list(scoredic.iteritems()))\n",
    "arr.shape"
   ]
  },
  {
   "cell_type": "code",
   "execution_count": 137,
   "metadata": {},
   "outputs": [
    {
     "data": {
      "text/plain": [
       "nan"
      ]
     },
     "execution_count": 137,
     "metadata": {},
     "output_type": "execute_result"
    }
   ],
   "source": [
    "np.NaN"
   ]
  },
  {
   "cell_type": "code",
   "execution_count": 146,
   "metadata": {
    "collapsed": true
   },
   "outputs": [],
   "source": [
    "import math"
   ]
  },
  {
   "cell_type": "code",
   "execution_count": 149,
   "metadata": {},
   "outputs": [
    {
     "data": {
      "text/plain": [
       "False"
      ]
     },
     "execution_count": 149,
     "metadata": {},
     "output_type": "execute_result"
    }
   ],
   "source": [
    "float('nan') == np.NaN"
   ]
  },
  {
   "cell_type": "code",
   "execution_count": 152,
   "metadata": {},
   "outputs": [
    {
     "data": {
      "text/plain": [
       "(81, 2)"
      ]
     },
     "execution_count": 152,
     "metadata": {},
     "output_type": "execute_result"
    }
   ],
   "source": [
    "#np.isnan()\n",
    "filtered_arr = arr[ np.logical_not(arr[:, 1] != arr[:, 1]) ]\n",
    "filtered_arr.shape"
   ]
  },
  {
   "cell_type": "code",
   "execution_count": 154,
   "metadata": {},
   "outputs": [
    {
     "data": {
      "text/plain": [
       "[<matplotlib.lines.Line2D at 0x7fd2a3a19cd0>]"
      ]
     },
     "execution_count": 154,
     "metadata": {},
     "output_type": "execute_result"
    },
    {
     "data": {
      "image/png": "[encoded data removed]",
      "text/plain": [
       "<matplotlib.figure.Figure at 0x7fd2a3f88810>"
      ]
     },
     "metadata": {},
     "output_type": "display_data"
    }
   ],
   "source": [
    "plt.plot(filtered_arr[:, 1])"
   ]
  },
  {
   "cell_type": "code",
   "execution_count": 156,
   "metadata": {},
   "outputs": [
    {
     "data": {
      "text/plain": [
       "35"
      ]
     },
     "execution_count": 156,
     "metadata": {},
     "output_type": "execute_result"
    }
   ],
   "source": [
    "minarg = np.argmin(filtered_arr[:, 1])\n",
    "minarg"
   ]
  },
  {
   "cell_type": "code",
   "execution_count": 161,
   "metadata": {},
   "outputs": [
    {
     "data": {
      "text/plain": [
       "(0, 1, 0)"
      ]
     },
     "execution_count": 161,
     "metadata": {},
     "output_type": "execute_result"
    }
   ],
   "source": [
    "best_params = filtered_arr[minarg, 0]\n",
    "best_params"
   ]
  },
  {
   "cell_type": "code",
   "execution_count": 173,
   "metadata": {},
   "outputs": [
    {
     "data": {
      "text/plain": [
       "(60,)"
      ]
     },
     "execution_count": 173,
     "metadata": {},
     "output_type": "execute_result"
    }
   ],
   "source": [
    "test_mat = cur_sku['test']\n",
    "test_ins = test_mat[:-target_len]\n",
    "test_ins.shape"
   ]
  },
  {
   "cell_type": "code",
   "execution_count": 171,
   "metadata": {},
   "outputs": [
    {
     "data": {
      "text/plain": [
       "(30,)"
      ]
     },
     "execution_count": 171,
     "metadata": {},
     "output_type": "execute_result"
    }
   ],
   "source": [
    "test_tars = test_mat[-target_len:]\n",
    "test_tars.shape"
   ]
  },
  {
   "cell_type": "code",
   "execution_count": 174,
   "metadata": {},
   "outputs": [
    {
     "data": {
      "text/plain": [
       "(1, 60)"
      ]
     },
     "execution_count": 174,
     "metadata": {},
     "output_type": "execute_result"
    }
   ],
   "source": [
    "test_ins_vals = test_ins.values.reshape(1, -1)\n",
    "test_ins_vals.shape"
   ]
  },
  {
   "cell_type": "code",
   "execution_count": 172,
   "metadata": {},
   "outputs": [
    {
     "data": {
      "text/plain": [
       "(1, 30)"
      ]
     },
     "execution_count": 172,
     "metadata": {},
     "output_type": "execute_result"
    }
   ],
   "source": [
    "test_tars_vals = test_tars.values.reshape(1, -1)\n",
    "test_tars_vals.shape"
   ]
  },
  {
   "cell_type": "markdown",
   "metadata": {},
   "source": [
    "# Testing with easy mode on"
   ]
  },
  {
   "cell_type": "code",
   "execution_count": 176,
   "metadata": {},
   "outputs": [
    {
     "name": "stdout",
     "output_type": "stream",
     "text": [
      "CPU times: user 316 ms, sys: 1.2 s, total: 1.51 s\n",
      "Wall time: 200 ms\n"
     ]
    }
   ],
   "source": [
    "%%time\n",
    "with warnings.catch_warnings():\n",
    "    warnings.filterwarnings(\"ignore\")\n",
    "    ae = ArimaEstimator(p_auto_regression_order=best_params[0],\n",
    "                        d_integration_level=best_params[1],\n",
    "                        q_moving_average=best_params[2],\n",
    "                        easy_mode=True)\n",
    "    score = ae.fit(test_ins_vals, test_tars_vals).score(test_ins_vals, test_tars_vals)"
   ]
  },
  {
   "cell_type": "code",
   "execution_count": 179,
   "metadata": {},
   "outputs": [
    {
     "data": {
      "text/plain": [
       "0.0084708222952833978"
      ]
     },
     "execution_count": 179,
     "metadata": {},
     "output_type": "execute_result"
    }
   ],
   "source": [
    "score"
   ]
  },
  {
   "cell_type": "code",
   "execution_count": 184,
   "metadata": {},
   "outputs": [
    {
     "data": {
      "image/png": "[encoded data removed]",
      "text/plain": [
       "<matplotlib.figure.Figure at 0x7fd2a35cf750>"
      ]
     },
     "metadata": {},
     "output_type": "display_data"
    }
   ],
   "source": [
    "plt.figure(figsize=(15,7))\n",
    "plt.plot(ae.preds.flatten(), label='preds')\n",
    "test_tars.plot(label='real')\n",
    "plt.legend()\n",
    "plt.show()"
   ]
  },
  {
   "cell_type": "markdown",
   "metadata": {},
   "source": [
    "# Testing with easy mode off"
   ]
  },
  {
   "cell_type": "code",
   "execution_count": 185,
   "metadata": {},
   "outputs": [
    {
     "name": "stdout",
     "output_type": "stream",
     "text": [
      "CPU times: user 276 ms, sys: 956 ms, total: 1.23 s\n",
      "Wall time: 203 ms\n"
     ]
    }
   ],
   "source": [
    "%%time\n",
    "with warnings.catch_warnings():\n",
    "    warnings.filterwarnings(\"ignore\")\n",
    "    ae = ArimaEstimator(p_auto_regression_order=best_params[0],\n",
    "                        d_integration_level=best_params[1],\n",
    "                        q_moving_average=best_params[2],\n",
    "                        easy_mode=False)\n",
    "    score = ae.fit(test_ins_vals, test_tars_vals).score(test_ins_vals, test_tars_vals)"
   ]
  },
  {
   "cell_type": "code",
   "execution_count": 186,
   "metadata": {},
   "outputs": [
    {
     "data": {
      "text/plain": [
       "0.16127036409641349"
      ]
     },
     "execution_count": 186,
     "metadata": {},
     "output_type": "execute_result"
    }
   ],
   "source": [
    "score"
   ]
  },
  {
   "cell_type": "code",
   "execution_count": 187,
   "metadata": {},
   "outputs": [
    {
     "data": {
      "image/png": "[encoded data removed]",
      "text/plain": [
       "<matplotlib.figure.Figure at 0x7fd2a350de90>"
      ]
     },
     "metadata": {},
     "output_type": "display_data"
    }
   ],
   "source": [
    "plt.figure(figsize=(15,7))\n",
    "plt.plot(ae.preds.flatten(), label='preds')\n",
    "test_tars.plot(label='real')\n",
    "plt.legend()\n",
    "plt.show()"
   ]
  },
  {
   "cell_type": "markdown",
   "metadata": {},
   "source": [
    "#### Conclusion\n",
    "If you are training in easy mode then what you get at the end is that the model only cares for the previous value in order to do its predictions and this makes it much easier for everybody but in reality we might not have advantage"
   ]
  },
  {
   "cell_type": "code",
   "execution_count": null,
   "metadata": {
    "collapsed": true
   },
   "outputs": [],
   "source": []
  }
 ],
 "metadata": {
  "kernelspec": {
   "display_name": "Python 2",
   "language": "python",
   "name": "python2"
  },
  "language_info": {
   "codemirror_mode": {
    "name": "ipython",
    "version": 2
   },
   "file_extension": ".py",
   "mimetype": "text/x-python",
   "name": "python",
   "nbconvert_exporter": "python",
   "pygments_lexer": "ipython2",
   "version": "2.7.13"
  }
 },
 "nbformat": 4,
 "nbformat_minor": 2
}
