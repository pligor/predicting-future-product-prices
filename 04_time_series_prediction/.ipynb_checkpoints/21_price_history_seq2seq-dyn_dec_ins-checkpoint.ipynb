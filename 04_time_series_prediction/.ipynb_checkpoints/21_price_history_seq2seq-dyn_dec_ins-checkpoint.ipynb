{
 "cells": [
  {
   "cell_type": "code",
   "execution_count": 1,
   "metadata": {
    "collapsed": true
   },
   "outputs": [],
   "source": [
    "# -*- coding: UTF-8 -*-\n",
    "#%load_ext autoreload\n",
    "%reload_ext autoreload\n",
    "%autoreload 2"
   ]
  },
  {
   "cell_type": "markdown",
   "metadata": {},
   "source": [
    "- https://www.youtube.com/watch?v=ElmBrKyMXxs\n",
    "- https://github.com/hans/ipython-notebooks/blob/master/tf/TF%20tutorial.ipynb\n",
    "- https://github.com/ematvey/tensorflow-seq2seq-tutorials"
   ]
  },
  {
   "cell_type": "code",
   "execution_count": 2,
   "metadata": {},
   "outputs": [
    {
     "name": "stderr",
     "output_type": "stream",
     "text": [
      "/home/studenthp/anaconda2/envs/dis/lib/python2.7/site-packages/statsmodels/compat/pandas.py:56: FutureWarning: The pandas.core.datetools module is deprecated and will be removed in a future version. Please use the pandas.tseries module instead.\n",
      "  from pandas.core import datetools\n"
     ]
    }
   ],
   "source": [
    "from __future__ import division\n",
    "import tensorflow as tf\n",
    "from os import path, remove\n",
    "import numpy as np\n",
    "import pandas as pd\n",
    "import csv\n",
    "from sklearn.model_selection import StratifiedShuffleSplit\n",
    "from time import time\n",
    "from matplotlib import pyplot as plt\n",
    "import seaborn as sns\n",
    "from mylibs.jupyter_notebook_helper import show_graph, renderStatsList, renderStatsCollection, \\\n",
    "    renderStatsListWithLabels, renderStatsCollectionOfCrossValids\n",
    "from tensorflow.contrib import rnn\n",
    "from tensorflow.contrib import learn\n",
    "import shutil\n",
    "from tensorflow.contrib.learn.python.learn import learn_runner\n",
    "from mylibs.tf_helper import getDefaultGPUconfig\n",
    "from sklearn.metrics import r2_score\n",
    "from mylibs.py_helper import factors\n",
    "from fastdtw import fastdtw\n",
    "from collections import OrderedDict\n",
    "from scipy.spatial.distance import euclidean\n",
    "from statsmodels.tsa.stattools import coint\n",
    "from common import get_or_run_nn\n",
    "from data_providers.price_history_seq2seq_data_provider import PriceHistorySeq2SeqDataProvider\n",
    "from data_providers.price_history_dataset_generator import PriceHistoryDatasetGenerator\n",
    "from skopt.space.space import Integer, Real\n",
    "from skopt import gp_minimize\n",
    "from skopt.plots import plot_convergence\n",
    "import pickle\n",
    "import inspect\n",
    "import dill\n",
    "import sys\n",
    "from models.price_history_21_seq2seq_dyn_dec_ins import PriceHistorySeq2SeqDynDecIns"
   ]
  },
  {
   "cell_type": "code",
   "execution_count": 3,
   "metadata": {
    "collapsed": true
   },
   "outputs": [],
   "source": [
    "dtype = tf.float32\n",
    "seed = 16011984\n",
    "random_state = np.random.RandomState(seed=seed)\n",
    "config = getDefaultGPUconfig()\n",
    "n_jobs = 1\n",
    "%matplotlib inline"
   ]
  },
  {
   "cell_type": "markdown",
   "metadata": {},
   "source": [
    "### Step 0 - hyperparams"
   ]
  },
  {
   "cell_type": "markdown",
   "metadata": {},
   "source": [
    "vocab_size is all the potential words you could have (classification for translation case)\n",
    "and max sequence length are the SAME thing\n",
    "\n",
    "decoder RNN hidden units are usually same size as encoder RNN hidden units in translation but for our case it does not seem really to be a relationship there but we can experiment and find out later, not a priority thing right now"
   ]
  },
  {
   "cell_type": "code",
   "execution_count": 4,
   "metadata": {
    "collapsed": true
   },
   "outputs": [],
   "source": [
    "epochs = 10\n",
    "\n",
    "num_features = 1\n",
    "num_units = 400 #state size\n",
    "\n",
    "input_len = 60\n",
    "target_len = 30\n",
    "\n",
    "batch_size = 50 #47\n",
    "#trunc_backprop_len = ??\n",
    "with_EOS = False"
   ]
  },
  {
   "cell_type": "code",
   "execution_count": 5,
   "metadata": {
    "collapsed": true
   },
   "outputs": [],
   "source": [
    "total_train_size = 57994\n",
    "train_size = 6400 \n",
    "test_size = 1282"
   ]
  },
  {
   "cell_type": "markdown",
   "metadata": {},
   "source": [
    "### Once generate data"
   ]
  },
  {
   "cell_type": "code",
   "execution_count": 6,
   "metadata": {
    "collapsed": true
   },
   "outputs": [],
   "source": [
    "data_path = '../data/price_history'"
   ]
  },
  {
   "cell_type": "code",
   "execution_count": 7,
   "metadata": {
    "collapsed": true
   },
   "outputs": [],
   "source": [
    "#npz_full_train = data_path + '/price_history_03_dp_60to30_train.npz'\n",
    "#npz_full_train = data_path + '/price_history_60to30_targets_normed_train.npz'\n",
    "\n",
    "#npz_train = data_path + '/price_history_03_dp_60to30_57980_train.npz'\n",
    "#npz_train = data_path + '/price_history_03_dp_60to30_6400_train.npz'\n",
    "npz_train = data_path + '/price_history_60to30_6400_targets_normed_train.npz'\n",
    "\n",
    "#npz_test = data_path + '/price_history_03_dp_60to30_test.npz'\n",
    "npz_test = data_path + '/price_history_60to30_targets_normed_test.npz'"
   ]
  },
  {
   "cell_type": "markdown",
   "metadata": {},
   "source": [
    "### Step 1 - collect data"
   ]
  },
  {
   "cell_type": "code",
   "execution_count": 8,
   "metadata": {},
   "outputs": [
    {
     "data": {
      "text/plain": [
       "((6400, 60, 1), (6400, 30))"
      ]
     },
     "execution_count": 8,
     "metadata": {},
     "output_type": "execute_result"
    }
   ],
   "source": [
    "dp = PriceHistorySeq2SeqDataProvider(npz_path=npz_train, batch_size=batch_size, with_EOS=with_EOS)\n",
    "dp.inputs.shape, dp.targets.shape"
   ]
  },
  {
   "cell_type": "code",
   "execution_count": 9,
   "metadata": {},
   "outputs": [
    {
     "data": {
      "text/plain": [
       "((50, 60, 1), (50, 30))"
      ]
     },
     "execution_count": 9,
     "metadata": {},
     "output_type": "execute_result"
    }
   ],
   "source": [
    "aa, bb = dp.next()\n",
    "aa.shape, bb.shape"
   ]
  },
  {
   "cell_type": "markdown",
   "metadata": {},
   "source": [
    "### Step 2 - Build model"
   ]
  },
  {
   "cell_type": "code",
   "execution_count": 10,
   "metadata": {
    "collapsed": true,
    "scrolled": true
   },
   "outputs": [],
   "source": [
    "model = PriceHistorySeq2SeqDynDecIns(rng=random_state, dtype=dtype, config=config, with_EOS=with_EOS)"
   ]
  },
  {
   "cell_type": "code",
   "execution_count": 11,
   "metadata": {
    "scrolled": true
   },
   "outputs": [
    {
     "name": "stdout",
     "output_type": "stream",
     "text": [
      "60\n",
      "Tensor(\"inputs/unstack:0\", shape=(50, 1), dtype=float32)\n",
      "\n",
      "Tensor(\"encoder_rnn_layer/rnn/gru_cell_59/add:0\", shape=(50, 400), dtype=float32)\n",
      "\n",
      "WITH ZEROS\n",
      "time\n",
      "Tensor(\"decoder_rnn_layer/rnn/while/add:0\", shape=(), dtype=int32)\n",
      "\n",
      "decoder_final_loop_state\n",
      "Tensor(\"decoder_rnn_layer/rnn/while/Exit_5:0\", shape=(50, 30), dtype=float32)\n",
      "\n",
      "<tensorflow.python.ops.tensor_array_ops.TensorArray object at 0x7f57385ef9d0>\n",
      "\n",
      "Tensor(\"error/Select:0\", shape=(50, 30), dtype=float32)\n",
      "\n",
      "Tensor(\"error/Mean:0\", shape=(), dtype=float32)\n",
      "Tensor(\"error/Mean:0\", shape=(), dtype=float32)\n",
      "\n"
     ]
    }
   ],
   "source": [
    "graph = model.getGraph(batch_size=batch_size,\n",
    "                       num_units=num_units,\n",
    "                       input_len=input_len,\n",
    "                       target_len=target_len)"
   ]
  },
  {
   "cell_type": "code",
   "execution_count": 12,
   "metadata": {
    "collapsed": true
   },
   "outputs": [],
   "source": [
    "#show_graph(graph)"
   ]
  },
  {
   "cell_type": "markdown",
   "metadata": {},
   "source": [
    "### Step 3 training the network"
   ]
  },
  {
   "cell_type": "markdown",
   "metadata": {},
   "source": [
    "RECALL: baseline is around 4 for huber loss for current problem, anything above 4 should be considered as major errors"
   ]
  },
  {
   "cell_type": "code",
   "execution_count": 13,
   "metadata": {},
   "outputs": [
    {
     "data": {
      "text/plain": [
       "(30, 400, 50)"
      ]
     },
     "execution_count": 13,
     "metadata": {},
     "output_type": "execute_result"
    }
   ],
   "source": [
    "#rnn_cell = PriceHistorySeq2SeqCV.RNN_CELLS.GRU\n",
    "#cross_val_n_splits = 5\n",
    "epochs = 30\n",
    "epochs, num_units, batch_size"
   ]
  },
  {
   "cell_type": "code",
   "execution_count": 14,
   "metadata": {
    "collapsed": true
   },
   "outputs": [],
   "source": [
    "#set(factors(train_size)).intersection(factors(train_size/5))"
   ]
  },
  {
   "cell_type": "code",
   "execution_count": 15,
   "metadata": {
    "collapsed": true
   },
   "outputs": [],
   "source": [
    "best_learning_rate = 1e-3 #0.0026945952539362472\n",
    "keep_prob_input = 0.7\n",
    "lamda2 = 1e-2"
   ]
  },
  {
   "cell_type": "code",
   "execution_count": 16,
   "metadata": {
    "collapsed": true
   },
   "outputs": [],
   "source": [
    "def experiment():\n",
    "    return model.run(npz_path=npz_train,\n",
    "             epochs=epochs,\n",
    "             batch_size = batch_size,\n",
    "             num_units = num_units,\n",
    "             input_len=input_len,\n",
    "             target_len=target_len,\n",
    "             learning_rate = best_learning_rate,\n",
    "             preds_gather_enabled=True,\n",
    "             keep_prob_input = keep_prob_input,\n",
    "             lamda2=lamda2,\n",
    "            )"
   ]
  },
  {
   "cell_type": "markdown",
   "metadata": {},
   "source": [
    "Recall that without batch normalization within 10 epochs with num units 400 and batch_size 64 we reached at 4.940\n",
    "and with having the decoder inputs NOT filled from the outputs"
   ]
  },
  {
   "cell_type": "code",
   "execution_count": 17,
   "metadata": {
    "scrolled": true
   },
   "outputs": [
    {
     "name": "stdout",
     "output_type": "stream",
     "text": [
      "CPU times: user 736 ms, sys: 8 ms, total: 744 ms\n",
      "Wall time: 749 ms\n"
     ]
    }
   ],
   "source": [
    "%%time\n",
    "dyn_stats, preds_dict = get_or_run_nn(\n",
    "  experiment,\n",
    "  filename='021_seq2seq_60to30_dyn_dec_ins_epochs{}_learning_rate_{:.4f}_prob_input{}_lamda2_{}'.format(\n",
    "      epochs, best_learning_rate, keep_prob_input, lamda2\n",
    "  ))"
   ]
  },
  {
   "cell_type": "code",
   "execution_count": 18,
   "metadata": {},
   "outputs": [
    {
     "data": {
      "image/png": "[encoded data removed]",
      "text/plain": [
       "<matplotlib.figure.Figure at 0x7f02b82f2bd0>"
      ]
     },
     "metadata": {},
     "output_type": "display_data"
    }
   ],
   "source": [
    "dyn_stats.plotStats()\n",
    "plt.show()"
   ]
  },
  {
   "cell_type": "code",
   "execution_count": 19,
   "metadata": {
    "collapsed": true
   },
   "outputs": [],
   "source": [
    "r2_scores = [r2_score(y_true=dp.targets[ind], y_pred=preds_dict[ind])\n",
    "            for ind in range(len(dp.targets))]"
   ]
  },
  {
   "cell_type": "code",
   "execution_count": 20,
   "metadata": {},
   "outputs": [
    {
     "data": {
      "text/plain": [
       "4398"
      ]
     },
     "execution_count": 20,
     "metadata": {},
     "output_type": "execute_result"
    }
   ],
   "source": [
    "ind = np.argmin(r2_scores)\n",
    "ind"
   ]
  },
  {
   "cell_type": "code",
   "execution_count": 21,
   "metadata": {
    "collapsed": true
   },
   "outputs": [],
   "source": [
    "reals = dp.targets[ind]\n",
    "preds = preds_dict[ind]"
   ]
  },
  {
   "cell_type": "code",
   "execution_count": 22,
   "metadata": {},
   "outputs": [
    {
     "data": {
      "text/plain": [
       "-7.4717219964671917e+30"
      ]
     },
     "execution_count": 22,
     "metadata": {},
     "output_type": "execute_result"
    }
   ],
   "source": [
    "r2_score(y_true=reals, y_pred=preds)"
   ]
  },
  {
   "cell_type": "code",
   "execution_count": 23,
   "metadata": {},
   "outputs": [
    {
     "data": {
      "text/plain": [
       "<matplotlib.axes._subplots.AxesSubplot at 0x7f0251085e50>"
      ]
     },
     "execution_count": 23,
     "metadata": {},
     "output_type": "execute_result"
    },
    {
     "data": {
      "image/png": "[encoded data removed]",
      "text/plain": [
       "<matplotlib.figure.Figure at 0x7f0250f87890>"
      ]
     },
     "metadata": {},
     "output_type": "display_data"
    }
   ],
   "source": [
    "sns.tsplot(data=dp.inputs[ind].flatten())"
   ]
  },
  {
   "cell_type": "code",
   "execution_count": 24,
   "metadata": {},
   "outputs": [
    {
     "data": {
      "image/png": "[encoded data removed]",
      "text/plain": [
       "<matplotlib.figure.Figure at 0x7f0250f35590>"
      ]
     },
     "metadata": {},
     "output_type": "display_data"
    }
   ],
   "source": [
    "fig = plt.figure(figsize=(15,6))\n",
    "plt.plot(reals, 'b')\n",
    "plt.plot(preds, 'g')\n",
    "plt.legend(['reals','preds'])\n",
    "plt.show()"
   ]
  },
  {
   "cell_type": "code",
   "execution_count": 25,
   "metadata": {},
   "outputs": [
    {
     "name": "stdout",
     "output_type": "stream",
     "text": [
      "CPU times: user 13.3 s, sys: 32 ms, total: 13.3 s\n",
      "Wall time: 13.3 s\n"
     ]
    }
   ],
   "source": [
    "%%time\n",
    "dtw_scores = [fastdtw(dp.targets[ind], preds_dict[ind])[0]\n",
    "             for ind in range(len(dp.targets))]"
   ]
  },
  {
   "cell_type": "code",
   "execution_count": 26,
   "metadata": {},
   "outputs": [
    {
     "data": {
      "text/plain": [
       "162.57913656256787"
      ]
     },
     "execution_count": 26,
     "metadata": {},
     "output_type": "execute_result"
    }
   ],
   "source": [
    "np.mean(dtw_scores)"
   ]
  },
  {
   "cell_type": "code",
   "execution_count": 27,
   "metadata": {},
   "outputs": [
    {
     "data": {
      "text/plain": [
       "(1.8883101905635189, 1.0, array([-4.31395736, -3.55493606, -3.19393252]))"
      ]
     },
     "execution_count": 27,
     "metadata": {},
     "output_type": "execute_result"
    }
   ],
   "source": [
    "coint(preds, reals)"
   ]
  },
  {
   "cell_type": "code",
   "execution_count": 28,
   "metadata": {
    "scrolled": true
   },
   "outputs": [
    {
     "data": {
      "image/png": "[encoded data removed]",
      "text/plain": [
       "<matplotlib.figure.Figure at 0x7f024d4192d0>"
      ]
     },
     "metadata": {},
     "output_type": "display_data"
    }
   ],
   "source": [
    "cur_ind = np.random.randint(len(dp.targets))\n",
    "reals = dp.targets[cur_ind]\n",
    "preds = preds_dict[cur_ind]\n",
    "fig = plt.figure(figsize=(15,6))\n",
    "plt.plot(reals, 'b')\n",
    "plt.plot(preds, 'g')\n",
    "plt.legend(['reals','preds'])\n",
    "plt.show()"
   ]
  },
  {
   "cell_type": "markdown",
   "metadata": {},
   "source": [
    "#### Conclusion\n",
    "???"
   ]
  },
  {
   "cell_type": "markdown",
   "metadata": {},
   "source": [
    "## Without L2, Dropout and Batch Norm but with ELU"
   ]
  },
  {
   "cell_type": "code",
   "execution_count": 29,
   "metadata": {},
   "outputs": [
    {
     "data": {
      "text/plain": [
       "(20, 400, 50)"
      ]
     },
     "execution_count": 29,
     "metadata": {},
     "output_type": "execute_result"
    }
   ],
   "source": [
    "epochs = 20\n",
    "num_units = 400\n",
    "activation = tf.nn.elu\n",
    "epochs, num_units, batch_size"
   ]
  },
  {
   "cell_type": "code",
   "execution_count": 30,
   "metadata": {
    "collapsed": true
   },
   "outputs": [],
   "source": [
    "best_learning_rate = 1e-3 #0.0026945952539362472\n",
    "batch_norm_enabled = False"
   ]
  },
  {
   "cell_type": "code",
   "execution_count": 31,
   "metadata": {
    "collapsed": true
   },
   "outputs": [],
   "source": [
    "def experiment():\n",
    "    return model.run(npz_path=npz_train,\n",
    "             epochs=epochs,\n",
    "             batch_size = batch_size,\n",
    "             num_units = num_units,\n",
    "             input_len=input_len,\n",
    "             target_len=target_len,\n",
    "             learning_rate = best_learning_rate,\n",
    "             preds_gather_enabled = True,\n",
    "             batch_norm_enabled = batch_norm_enabled,\n",
    "             activation = activation,\n",
    "            )"
   ]
  },
  {
   "cell_type": "markdown",
   "metadata": {},
   "source": [
    "Recall that without batch normalization within 10 epochs with num units 400 and batch_size 64 we reached at 4.940\n",
    "and with having the decoder inputs NOT filled from the outputs"
   ]
  },
  {
   "cell_type": "code",
   "execution_count": 32,
   "metadata": {
    "scrolled": true
   },
   "outputs": [
    {
     "name": "stdout",
     "output_type": "stream",
     "text": [
      "epochs: 20\n",
      "learning_rate: 0.001\n",
      "keep_prob_input: 1.0\n",
      "End Epoch 01 (31.400 secs): err(train) = 1.314\n",
      "current dec_ins_percent_usage: 1.0\n",
      "End Epoch 02 (30.690 secs): err(train) = 1.010\n",
      "current dec_ins_percent_usage: 0.888888888889\n",
      "End Epoch 03 (30.666 secs): err(train) = 1.005\n",
      "current dec_ins_percent_usage: 0.777777777778\n",
      "End Epoch 04 (30.686 secs): err(train) = 1.004\n",
      "current dec_ins_percent_usage: 0.666666666667\n",
      "End Epoch 05 (30.630 secs): err(train) = 1.043\n",
      "current dec_ins_percent_usage: 0.555555555556\n",
      "End Epoch 06 (30.658 secs): err(train) = 1.042\n",
      "current dec_ins_percent_usage: 0.444444444444\n",
      "End Epoch 07 (30.683 secs): err(train) = 1.092\n",
      "current dec_ins_percent_usage: 0.333333333333\n",
      "End Epoch 08 (30.791 secs): err(train) = 1.206\n",
      "current dec_ins_percent_usage: 0.222222222222\n",
      "End Epoch 09 (30.649 secs): err(train) = 1.595\n",
      "current dec_ins_percent_usage: 0.111111111111\n",
      "End Epoch 10 (30.666 secs): err(train) = 5.343\n",
      "current dec_ins_percent_usage: 0.0\n",
      "End Epoch 11 (30.623 secs): err(train) = 5.329\n",
      "current dec_ins_percent_usage: 0.0\n",
      "End Epoch 12 (30.661 secs): err(train) = 5.136\n",
      "current dec_ins_percent_usage: 0.0\n",
      "End Epoch 13 (30.625 secs): err(train) = 5.075\n",
      "current dec_ins_percent_usage: 0.0\n",
      "End Epoch 14 (30.612 secs): err(train) = 5.064\n",
      "current dec_ins_percent_usage: 0.0\n",
      "End Epoch 15 (30.674 secs): err(train) = 5.069\n",
      "current dec_ins_percent_usage: 0.0\n",
      "End Epoch 16 (30.669 secs): err(train) = 5.060\n",
      "current dec_ins_percent_usage: 0.0\n",
      "End Epoch 17 (30.611 secs): err(train) = 5.065\n",
      "current dec_ins_percent_usage: 0.0\n",
      "End Epoch 18 (30.652 secs): err(train) = 5.052\n",
      "current dec_ins_percent_usage: 0.0\n",
      "End Epoch 19 (30.723 secs): err(train) = 5.414\n",
      "current dec_ins_percent_usage: 0.0\n",
      "End Epoch 20 (30.636 secs): err(train) = 5.062\n",
      "current dec_ins_percent_usage: 0.0\n",
      "\n",
      "CPU times: user 9min 56s, sys: 42.2 s, total: 10min 38s\n",
      "Wall time: 10min 29s\n"
     ]
    }
   ],
   "source": [
    "%%time\n",
    "dyn_stats, preds_dict = get_or_run_nn(\n",
    "  experiment,\n",
    "  filename='021_seq2seq_60to30_dyn_dec_ins_epochs{}_learning_rate_{:.4f}_batch_norm_{}_num_units{}_elu'.format(\n",
    "      epochs, best_learning_rate, batch_norm_enabled, num_units\n",
    "  ))"
   ]
  },
  {
   "cell_type": "code",
   "execution_count": 18,
   "metadata": {},
   "outputs": [
    {
     "data": {
      "image/png": "[encoded data removed]",
      "text/plain": [
       "<matplotlib.figure.Figure at 0x7f44844d1f10>"
      ]
     },
     "metadata": {},
     "output_type": "display_data"
    }
   ],
   "source": [
    "dyn_stats.plotStats()\n",
    "plt.show()"
   ]
  },
  {
   "cell_type": "code",
   "execution_count": 19,
   "metadata": {
    "collapsed": true
   },
   "outputs": [],
   "source": [
    "r2_scores = [r2_score(y_true=dp.targets[ind], y_pred=preds_dict[ind])\n",
    "            for ind in range(len(dp.targets))]"
   ]
  },
  {
   "cell_type": "code",
   "execution_count": 20,
   "metadata": {},
   "outputs": [
    {
     "data": {
      "text/plain": [
       "4398"
      ]
     },
     "execution_count": 20,
     "metadata": {},
     "output_type": "execute_result"
    }
   ],
   "source": [
    "ind = np.argmin(r2_scores)\n",
    "ind"
   ]
  },
  {
   "cell_type": "code",
   "execution_count": 21,
   "metadata": {
    "collapsed": true
   },
   "outputs": [],
   "source": [
    "reals = dp.targets[ind]\n",
    "preds = preds_dict[ind]"
   ]
  },
  {
   "cell_type": "code",
   "execution_count": 22,
   "metadata": {},
   "outputs": [
    {
     "data": {
      "text/plain": [
       "-7.4717219964671917e+30"
      ]
     },
     "execution_count": 22,
     "metadata": {},
     "output_type": "execute_result"
    }
   ],
   "source": [
    "r2_score(y_true=reals, y_pred=preds)"
   ]
  },
  {
   "cell_type": "code",
   "execution_count": 23,
   "metadata": {},
   "outputs": [
    {
     "data": {
      "text/plain": [
       "<matplotlib.axes._subplots.AxesSubplot at 0x7f441373c190>"
      ]
     },
     "execution_count": 23,
     "metadata": {},
     "output_type": "execute_result"
    },
    {
     "data": {
      "image/png": "[encoded data removed]",
      "text/plain": [
       "<matplotlib.figure.Figure at 0x7f44844d1a90>"
      ]
     },
     "metadata": {},
     "output_type": "display_data"
    }
   ],
   "source": [
    "sns.tsplot(data=dp.inputs[ind].flatten())"
   ]
  },
  {
   "cell_type": "code",
   "execution_count": 24,
   "metadata": {},
   "outputs": [
    {
     "data": {
      "image/png": "[encoded data removed]",
      "text/plain": [
       "<matplotlib.figure.Figure at 0x7f44136d6650>"
      ]
     },
     "metadata": {},
     "output_type": "display_data"
    }
   ],
   "source": [
    "fig = plt.figure(figsize=(15,6))\n",
    "plt.plot(reals, 'b')\n",
    "plt.plot(preds, 'g')\n",
    "plt.legend(['reals','preds'])\n",
    "plt.show()"
   ]
  },
  {
   "cell_type": "code",
   "execution_count": 25,
   "metadata": {},
   "outputs": [
    {
     "name": "stdout",
     "output_type": "stream",
     "text": [
      "CPU times: user 13.9 s, sys: 28 ms, total: 14 s\n",
      "Wall time: 13.9 s\n"
     ]
    }
   ],
   "source": [
    "%%time\n",
    "dtw_scores = [fastdtw(dp.targets[ind], preds_dict[ind])[0]\n",
    "             for ind in range(len(dp.targets))]"
   ]
  },
  {
   "cell_type": "code",
   "execution_count": 26,
   "metadata": {},
   "outputs": [
    {
     "data": {
      "text/plain": [
       "162.57913656256787"
      ]
     },
     "execution_count": 26,
     "metadata": {},
     "output_type": "execute_result"
    }
   ],
   "source": [
    "np.mean(dtw_scores)"
   ]
  },
  {
   "cell_type": "code",
   "execution_count": 27,
   "metadata": {},
   "outputs": [
    {
     "data": {
      "text/plain": [
       "(1.8883101905635189, 1.0, array([-4.31395736, -3.55493606, -3.19393252]))"
      ]
     },
     "execution_count": 27,
     "metadata": {},
     "output_type": "execute_result"
    }
   ],
   "source": [
    "coint(preds, reals)"
   ]
  },
  {
   "cell_type": "code",
   "execution_count": 50,
   "metadata": {
    "scrolled": true
   },
   "outputs": [
    {
     "data": {
      "image/png": "[encoded data removed]",
      "text/plain": [
       "<matplotlib.figure.Figure at 0x7f43ed18bc90>"
      ]
     },
     "metadata": {},
     "output_type": "display_data"
    }
   ],
   "source": [
    "cur_ind = np.random.randint(len(dp.targets))\n",
    "reals = dp.targets[cur_ind]\n",
    "preds = preds_dict[cur_ind]\n",
    "fig = plt.figure(figsize=(15,6))\n",
    "plt.plot(reals, 'b')\n",
    "plt.plot(preds, 'g')\n",
    "plt.legend(['reals','preds'])\n",
    "plt.show()"
   ]
  },
  {
   "cell_type": "markdown",
   "metadata": {},
   "source": [
    "#### Conclusion\n",
    "???"
   ]
  },
  {
   "cell_type": "markdown",
   "metadata": {},
   "source": [
    "# Trying again with zero as first input to the decoder"
   ]
  },
  {
   "cell_type": "code",
   "execution_count": 13,
   "metadata": {},
   "outputs": [
    {
     "data": {
      "text/plain": [
       "(20, 400, 50)"
      ]
     },
     "execution_count": 13,
     "metadata": {},
     "output_type": "execute_result"
    }
   ],
   "source": [
    "epochs = 20\n",
    "num_units = 400\n",
    "activation = tf.nn.elu\n",
    "epochs, num_units, batch_size"
   ]
  },
  {
   "cell_type": "code",
   "execution_count": 14,
   "metadata": {
    "collapsed": true
   },
   "outputs": [],
   "source": [
    "best_learning_rate = 1e-3 #0.0026945952539362472\n",
    "batch_norm_enabled = False"
   ]
  },
  {
   "cell_type": "code",
   "execution_count": 15,
   "metadata": {
    "collapsed": true
   },
   "outputs": [],
   "source": [
    "def experiment():\n",
    "    return model.run(npz_path=npz_train,\n",
    "             epochs=epochs,\n",
    "             batch_size = batch_size,\n",
    "             num_units = num_units,\n",
    "             input_len=input_len,\n",
    "             target_len=target_len,\n",
    "             learning_rate = best_learning_rate,\n",
    "             preds_gather_enabled = True,\n",
    "             batch_norm_enabled = batch_norm_enabled,\n",
    "             activation = activation,\n",
    "            )"
   ]
  },
  {
   "cell_type": "markdown",
   "metadata": {},
   "source": [
    "Recall that without batch normalization within 10 epochs with num units 400 and batch_size 64 we reached at 4.940\n",
    "and with having the decoder inputs NOT filled from the outputs"
   ]
  },
  {
   "cell_type": "code",
   "execution_count": 16,
   "metadata": {
    "scrolled": true
   },
   "outputs": [
    {
     "ename": "TypeError",
     "evalue": "__call__() got an unexpected keyword argument 'num_units'",
     "output_type": "error",
     "traceback": [
      "\u001b[0;31m---------------------------------------------------------------------------\u001b[0m",
      "\u001b[0;31mTypeError\u001b[0m                                 Traceback (most recent call last)",
      "\u001b[0;32m<ipython-input-16-6e0d89cc148b>\u001b[0m in \u001b[0;36m<module>\u001b[0;34m()\u001b[0m\n\u001b[0;32m----> 1\u001b[0;31m \u001b[0mget_ipython\u001b[0m\u001b[0;34m(\u001b[0m\u001b[0;34m)\u001b[0m\u001b[0;34m.\u001b[0m\u001b[0mrun_cell_magic\u001b[0m\u001b[0;34m(\u001b[0m\u001b[0;34mu'time'\u001b[0m\u001b[0;34m,\u001b[0m \u001b[0;34mu''\u001b[0m\u001b[0;34m,\u001b[0m \u001b[0;34mu\"dyn_stats, preds_dict = get_or_run_nn(\\n  experiment,\\n  filename=\\n    '021_seq2seq_60to30_dyn_dec_ins_epochs{}_learning_rate_{:.4f}_batch_norm_{}_num_units{}_elu_zero_first'.format(\\n      epochs, best_learning_rate, batch_norm_enabled, num_units\\n  ))\"\u001b[0m\u001b[0;34m)\u001b[0m\u001b[0;34m\u001b[0m\u001b[0m\n\u001b[0m",
      "\u001b[0;32m/home/studenthp/anaconda2/envs/dis/lib/python2.7/site-packages/IPython/core/interactiveshell.pyc\u001b[0m in \u001b[0;36mrun_cell_magic\u001b[0;34m(self, magic_name, line, cell)\u001b[0m\n\u001b[1;32m   2113\u001b[0m             \u001b[0mmagic_arg_s\u001b[0m \u001b[0;34m=\u001b[0m \u001b[0mself\u001b[0m\u001b[0;34m.\u001b[0m\u001b[0mvar_expand\u001b[0m\u001b[0;34m(\u001b[0m\u001b[0mline\u001b[0m\u001b[0;34m,\u001b[0m \u001b[0mstack_depth\u001b[0m\u001b[0;34m)\u001b[0m\u001b[0;34m\u001b[0m\u001b[0m\n\u001b[1;32m   2114\u001b[0m             \u001b[0;32mwith\u001b[0m \u001b[0mself\u001b[0m\u001b[0;34m.\u001b[0m\u001b[0mbuiltin_trap\u001b[0m\u001b[0;34m:\u001b[0m\u001b[0;34m\u001b[0m\u001b[0m\n\u001b[0;32m-> 2115\u001b[0;31m                 \u001b[0mresult\u001b[0m \u001b[0;34m=\u001b[0m \u001b[0mfn\u001b[0m\u001b[0;34m(\u001b[0m\u001b[0mmagic_arg_s\u001b[0m\u001b[0;34m,\u001b[0m \u001b[0mcell\u001b[0m\u001b[0;34m)\u001b[0m\u001b[0;34m\u001b[0m\u001b[0m\n\u001b[0m\u001b[1;32m   2116\u001b[0m             \u001b[0;32mreturn\u001b[0m \u001b[0mresult\u001b[0m\u001b[0;34m\u001b[0m\u001b[0m\n\u001b[1;32m   2117\u001b[0m \u001b[0;34m\u001b[0m\u001b[0m\n",
      "\u001b[0;32m<decorator-gen-59>\u001b[0m in \u001b[0;36mtime\u001b[0;34m(self, line, cell, local_ns)\u001b[0m\n",
      "\u001b[0;32m/home/studenthp/anaconda2/envs/dis/lib/python2.7/site-packages/IPython/core/magic.pyc\u001b[0m in \u001b[0;36m<lambda>\u001b[0;34m(f, *a, **k)\u001b[0m\n\u001b[1;32m    186\u001b[0m     \u001b[0;31m# but it's overkill for just that one bit of state.\u001b[0m\u001b[0;34m\u001b[0m\u001b[0;34m\u001b[0m\u001b[0m\n\u001b[1;32m    187\u001b[0m     \u001b[0;32mdef\u001b[0m \u001b[0mmagic_deco\u001b[0m\u001b[0;34m(\u001b[0m\u001b[0marg\u001b[0m\u001b[0;34m)\u001b[0m\u001b[0;34m:\u001b[0m\u001b[0;34m\u001b[0m\u001b[0m\n\u001b[0;32m--> 188\u001b[0;31m         \u001b[0mcall\u001b[0m \u001b[0;34m=\u001b[0m \u001b[0;32mlambda\u001b[0m \u001b[0mf\u001b[0m\u001b[0;34m,\u001b[0m \u001b[0;34m*\u001b[0m\u001b[0ma\u001b[0m\u001b[0;34m,\u001b[0m \u001b[0;34m**\u001b[0m\u001b[0mk\u001b[0m\u001b[0;34m:\u001b[0m \u001b[0mf\u001b[0m\u001b[0;34m(\u001b[0m\u001b[0;34m*\u001b[0m\u001b[0ma\u001b[0m\u001b[0;34m,\u001b[0m \u001b[0;34m**\u001b[0m\u001b[0mk\u001b[0m\u001b[0;34m)\u001b[0m\u001b[0;34m\u001b[0m\u001b[0m\n\u001b[0m\u001b[1;32m    189\u001b[0m \u001b[0;34m\u001b[0m\u001b[0m\n\u001b[1;32m    190\u001b[0m         \u001b[0;32mif\u001b[0m \u001b[0mcallable\u001b[0m\u001b[0;34m(\u001b[0m\u001b[0marg\u001b[0m\u001b[0;34m)\u001b[0m\u001b[0;34m:\u001b[0m\u001b[0;34m\u001b[0m\u001b[0m\n",
      "\u001b[0;32m/home/studenthp/anaconda2/envs/dis/lib/python2.7/site-packages/IPython/core/magics/execution.pyc\u001b[0m in \u001b[0;36mtime\u001b[0;34m(self, line, cell, local_ns)\u001b[0m\n\u001b[1;32m   1183\u001b[0m         \u001b[0;32melse\u001b[0m\u001b[0;34m:\u001b[0m\u001b[0;34m\u001b[0m\u001b[0m\n\u001b[1;32m   1184\u001b[0m             \u001b[0mst\u001b[0m \u001b[0;34m=\u001b[0m \u001b[0mclock2\u001b[0m\u001b[0;34m(\u001b[0m\u001b[0;34m)\u001b[0m\u001b[0;34m\u001b[0m\u001b[0m\n\u001b[0;32m-> 1185\u001b[0;31m             \u001b[0;32mexec\u001b[0m\u001b[0;34m(\u001b[0m\u001b[0mcode\u001b[0m\u001b[0;34m,\u001b[0m \u001b[0mglob\u001b[0m\u001b[0;34m,\u001b[0m \u001b[0mlocal_ns\u001b[0m\u001b[0;34m)\u001b[0m\u001b[0;34m\u001b[0m\u001b[0m\n\u001b[0m\u001b[1;32m   1186\u001b[0m             \u001b[0mend\u001b[0m \u001b[0;34m=\u001b[0m \u001b[0mclock2\u001b[0m\u001b[0;34m(\u001b[0m\u001b[0;34m)\u001b[0m\u001b[0;34m\u001b[0m\u001b[0m\n\u001b[1;32m   1187\u001b[0m             \u001b[0mout\u001b[0m \u001b[0;34m=\u001b[0m \u001b[0mNone\u001b[0m\u001b[0;34m\u001b[0m\u001b[0m\n",
      "\u001b[0;32m<timed exec>\u001b[0m in \u001b[0;36m<module>\u001b[0;34m()\u001b[0m\n",
      "\u001b[0;32m/home/studenthp/pligor.george@gmail.com/msc_Artificial_Intelligence/dissertation/04_time_series_prediction/common.pyc\u001b[0m in \u001b[0;36mget_or_run_nn\u001b[0;34m(callback, filename, nn_runs_folder)\u001b[0m\n\u001b[1;32m     11\u001b[0m         \u001b[0;32mreturn\u001b[0m \u001b[0marr\u001b[0m\u001b[0;34m[\u001b[0m\u001b[0;34m'dyn_stats'\u001b[0m\u001b[0;34m]\u001b[0m\u001b[0;34m[\u001b[0m\u001b[0;34m(\u001b[0m\u001b[0;34m)\u001b[0m\u001b[0;34m]\u001b[0m\u001b[0;34m,\u001b[0m \u001b[0marr\u001b[0m\u001b[0;34m[\u001b[0m\u001b[0;34m'preds_dict'\u001b[0m\u001b[0;34m]\u001b[0m\u001b[0;34m[\u001b[0m\u001b[0;34m(\u001b[0m\u001b[0;34m)\u001b[0m\u001b[0;34m]\u001b[0m\u001b[0;34m\u001b[0m\u001b[0m\n\u001b[1;32m     12\u001b[0m     \u001b[0;32melse\u001b[0m\u001b[0;34m:\u001b[0m\u001b[0;34m\u001b[0m\u001b[0m\n\u001b[0;32m---> 13\u001b[0;31m         \u001b[0mdyn_stats\u001b[0m\u001b[0;34m,\u001b[0m \u001b[0mpreds_dict\u001b[0m \u001b[0;34m=\u001b[0m \u001b[0mcallback\u001b[0m\u001b[0;34m(\u001b[0m\u001b[0;34m)\u001b[0m\u001b[0;34m\u001b[0m\u001b[0m\n\u001b[0m\u001b[1;32m     14\u001b[0m         \u001b[0mnp\u001b[0m\u001b[0;34m.\u001b[0m\u001b[0msavez\u001b[0m\u001b[0;34m(\u001b[0m\u001b[0mfilepath\u001b[0m\u001b[0;34m,\u001b[0m \u001b[0mdyn_stats\u001b[0m\u001b[0;34m=\u001b[0m\u001b[0mdyn_stats\u001b[0m\u001b[0;34m,\u001b[0m \u001b[0mpreds_dict\u001b[0m\u001b[0;34m=\u001b[0m\u001b[0mpreds_dict\u001b[0m\u001b[0;34m)\u001b[0m\u001b[0;34m\u001b[0m\u001b[0m\n\u001b[1;32m     15\u001b[0m         \u001b[0;32mreturn\u001b[0m \u001b[0mdyn_stats\u001b[0m\u001b[0;34m,\u001b[0m \u001b[0mpreds_dict\u001b[0m\u001b[0;34m\u001b[0m\u001b[0m\n",
      "\u001b[0;32m<ipython-input-15-a85c5bde417d>\u001b[0m in \u001b[0;36mexperiment\u001b[0;34m()\u001b[0m\n\u001b[1;32m      9\u001b[0m              \u001b[0mpreds_gather_enabled\u001b[0m \u001b[0;34m=\u001b[0m \u001b[0mTrue\u001b[0m\u001b[0;34m,\u001b[0m\u001b[0;34m\u001b[0m\u001b[0m\n\u001b[1;32m     10\u001b[0m              \u001b[0mbatch_norm_enabled\u001b[0m \u001b[0;34m=\u001b[0m \u001b[0mbatch_norm_enabled\u001b[0m\u001b[0;34m,\u001b[0m\u001b[0;34m\u001b[0m\u001b[0m\n\u001b[0;32m---> 11\u001b[0;31m              \u001b[0mactivation\u001b[0m \u001b[0;34m=\u001b[0m \u001b[0mactivation\u001b[0m\u001b[0;34m,\u001b[0m\u001b[0;34m\u001b[0m\u001b[0m\n\u001b[0m\u001b[1;32m     12\u001b[0m             )\n",
      "\u001b[0;32m/home/studenthp/pligor.george@gmail.com/msc_Artificial_Intelligence/dissertation/04_time_series_prediction/models/price_history_21_seq2seq_dyn_dec_ins.py\u001b[0m in \u001b[0;36mrun\u001b[0;34m(self, npz_path, epochs, batch_size, num_units, input_len, target_len, activation, batch_norm_enabled, lamda2, keep_prob_input, learning_rate, eos_token, preds_gather_enabled, cost_func, rnn_cell)\u001b[0m\n\u001b[1;32m    121\u001b[0m         graph = self.getGraph(batch_size=batch_size, verbose=False, num_units=num_units, input_len=input_len,\n\u001b[1;32m    122\u001b[0m                               \u001b[0mrnn_cell\u001b[0m\u001b[0;34m=\u001b[0m\u001b[0mrnn_cell\u001b[0m\u001b[0;34m(\u001b[0m\u001b[0mactivation\u001b[0m\u001b[0;34m)\u001b[0m\u001b[0;34m,\u001b[0m \u001b[0mtarget_len\u001b[0m\u001b[0;34m=\u001b[0m\u001b[0mtarget_len\u001b[0m\u001b[0;34m,\u001b[0m \u001b[0mcost_func\u001b[0m\u001b[0;34m=\u001b[0m\u001b[0mcost_func\u001b[0m\u001b[0;34m,\u001b[0m \u001b[0meos_token\u001b[0m\u001b[0;34m=\u001b[0m\u001b[0meos_token\u001b[0m\u001b[0;34m,\u001b[0m\u001b[0;34m\u001b[0m\u001b[0m\n\u001b[0;32m--> 123\u001b[0;31m                               learning_rate=learning_rate, lamda2=lamda2, batch_norm_enabled=batch_norm_enabled)\n\u001b[0m\u001b[1;32m    124\u001b[0m         \u001b[0;31m# input_keep_prob=input_keep_prob, hidden_keep_prob=hidden_keep_prob,\u001b[0m\u001b[0;34m\u001b[0m\u001b[0;34m\u001b[0m\u001b[0m\n\u001b[1;32m    125\u001b[0m \u001b[0;34m\u001b[0m\u001b[0m\n",
      "\u001b[0;32m/home/studenthp/pligor.george@gmail.com/msc_Artificial_Intelligence/dissertation/04_time_series_prediction/models/price_history_21_seq2seq_dyn_dec_ins.py\u001b[0m in \u001b[0;36mgetGraph\u001b[0;34m(self, batch_size, num_units, input_len, target_len, batch_norm_enabled, lamda2, eos_token, rnn_cell, cost_func, learning_rate, verbose)\u001b[0m\n\u001b[1;32m    285\u001b[0m                 \u001b[0;31m# don't really care for encoder outputs, but only for its final state\u001b[0m\u001b[0;34m\u001b[0m\u001b[0;34m\u001b[0m\u001b[0m\n\u001b[1;32m    286\u001b[0m                 \u001b[0;31m# the encoder consumes all the input to get a sense of the trend of price history\u001b[0m\u001b[0;34m\u001b[0m\u001b[0;34m\u001b[0m\u001b[0m\n\u001b[0;32m--> 287\u001b[0;31m                 _, encoder_final_state = rnn.static_rnn(cell=rnn_cell(num_units=num_units),\n\u001b[0m\u001b[1;32m    288\u001b[0m                                                         \u001b[0minputs\u001b[0m\u001b[0;34m=\u001b[0m\u001b[0mprocessed_inputs_series\u001b[0m\u001b[0;34m,\u001b[0m\u001b[0;34m\u001b[0m\u001b[0m\n\u001b[1;32m    289\u001b[0m                                                         \u001b[0minitial_state\u001b[0m\u001b[0;34m=\u001b[0m\u001b[0mNone\u001b[0m\u001b[0;34m,\u001b[0m\u001b[0;34m\u001b[0m\u001b[0m\n",
      "\u001b[0;31mTypeError\u001b[0m: __call__() got an unexpected keyword argument 'num_units'"
     ]
    }
   ],
   "source": [
    "%%time\n",
    "dyn_stats, preds_dict = get_or_run_nn(\n",
    "  experiment,\n",
    "  filename=\n",
    "    '021_seq2seq_60to30_dyn_dec_ins_epochs{}_learning_rate_{:.4f}_batch_norm_{}_num_units{}_elu_zero_first'.format(\n",
    "      epochs, best_learning_rate, batch_norm_enabled, num_units\n",
    "  ))"
   ]
  },
  {
   "cell_type": "code",
   "execution_count": 17,
   "metadata": {},
   "outputs": [
    {
     "data": {
      "image/png": "[encoded data removed]",
      "text/plain": [
       "<matplotlib.figure.Figure at 0x7f14a8262950>"
      ]
     },
     "metadata": {},
     "output_type": "display_data"
    }
   ],
   "source": [
    "dyn_stats.plotStats()\n",
    "plt.show()"
   ]
  },
  {
   "cell_type": "code",
   "execution_count": 18,
   "metadata": {
    "collapsed": true
   },
   "outputs": [],
   "source": [
    "r2_scores = [r2_score(y_true=dp.targets[ind], y_pred=preds_dict[ind])\n",
    "            for ind in range(len(dp.targets))]"
   ]
  },
  {
   "cell_type": "code",
   "execution_count": 20,
   "metadata": {},
   "outputs": [
    {
     "data": {
      "text/plain": [
       "4398"
      ]
     },
     "execution_count": 20,
     "metadata": {},
     "output_type": "execute_result"
    }
   ],
   "source": [
    "ind = np.argmin(r2_scores)\n",
    "ind"
   ]
  },
  {
   "cell_type": "code",
   "execution_count": 21,
   "metadata": {
    "collapsed": true
   },
   "outputs": [],
   "source": [
    "reals = dp.targets[ind]\n",
    "preds = preds_dict[ind]"
   ]
  },
  {
   "cell_type": "code",
   "execution_count": 22,
   "metadata": {},
   "outputs": [
    {
     "data": {
      "text/plain": [
       "-7.4717219964671917e+30"
      ]
     },
     "execution_count": 22,
     "metadata": {},
     "output_type": "execute_result"
    }
   ],
   "source": [
    "r2_score(y_true=reals, y_pred=preds)"
   ]
  },
  {
   "cell_type": "code",
   "execution_count": 23,
   "metadata": {},
   "outputs": [
    {
     "data": {
      "text/plain": [
       "<matplotlib.axes._subplots.AxesSubplot at 0x7f441373c190>"
      ]
     },
     "execution_count": 23,
     "metadata": {},
     "output_type": "execute_result"
    },
    {
     "data": {
      "image/png": "[encoded data removed]",
      "text/plain": [
       "<matplotlib.figure.Figure at 0x7f44844d1a90>"
      ]
     },
     "metadata": {},
     "output_type": "display_data"
    }
   ],
   "source": [
    "sns.tsplot(data=dp.inputs[ind].flatten())"
   ]
  },
  {
   "cell_type": "code",
   "execution_count": 24,
   "metadata": {},
   "outputs": [
    {
     "data": {
      "image/png": "[encoded data removed]",
      "text/plain": [
       "<matplotlib.figure.Figure at 0x7f44136d6650>"
      ]
     },
     "metadata": {},
     "output_type": "display_data"
    }
   ],
   "source": [
    "fig = plt.figure(figsize=(15,6))\n",
    "plt.plot(reals, 'b')\n",
    "plt.plot(preds, 'g')\n",
    "plt.legend(['reals','preds'])\n",
    "plt.show()"
   ]
  },
  {
   "cell_type": "code",
   "execution_count": 25,
   "metadata": {},
   "outputs": [
    {
     "name": "stdout",
     "output_type": "stream",
     "text": [
      "CPU times: user 13.9 s, sys: 28 ms, total: 14 s\n",
      "Wall time: 13.9 s\n"
     ]
    }
   ],
   "source": [
    "%%time\n",
    "dtw_scores = [fastdtw(dp.targets[ind], preds_dict[ind])[0]\n",
    "             for ind in range(len(dp.targets))]"
   ]
  },
  {
   "cell_type": "code",
   "execution_count": 26,
   "metadata": {},
   "outputs": [
    {
     "data": {
      "text/plain": [
       "162.57913656256787"
      ]
     },
     "execution_count": 26,
     "metadata": {},
     "output_type": "execute_result"
    }
   ],
   "source": [
    "np.mean(dtw_scores)"
   ]
  },
  {
   "cell_type": "code",
   "execution_count": 27,
   "metadata": {},
   "outputs": [
    {
     "data": {
      "text/plain": [
       "(1.8883101905635189, 1.0, array([-4.31395736, -3.55493606, -3.19393252]))"
      ]
     },
     "execution_count": 27,
     "metadata": {},
     "output_type": "execute_result"
    }
   ],
   "source": [
    "coint(preds, reals)"
   ]
  },
  {
   "cell_type": "code",
   "execution_count": 50,
   "metadata": {
    "scrolled": true
   },
   "outputs": [
    {
     "data": {
      "image/png": "[encoded data removed]",
      "text/plain": [
       "<matplotlib.figure.Figure at 0x7f43ed18bc90>"
      ]
     },
     "metadata": {},
     "output_type": "display_data"
    }
   ],
   "source": [
    "cur_ind = np.random.randint(len(dp.targets))\n",
    "reals = dp.targets[cur_ind]\n",
    "preds = preds_dict[cur_ind]\n",
    "fig = plt.figure(figsize=(15,6))\n",
    "plt.plot(reals, 'b')\n",
    "plt.plot(preds, 'g')\n",
    "plt.legend(['reals','preds'])\n",
    "plt.show()"
   ]
  },
  {
   "cell_type": "markdown",
   "metadata": {},
   "source": [
    "#### Conclusion\n",
    "???"
   ]
  }
 ],
 "metadata": {
  "kernelspec": {
   "display_name": "Python 2",
   "language": "python",
   "name": "python2"
  },
  "language_info": {
   "codemirror_mode": {
    "name": "ipython",
    "version": 2
   },
   "file_extension": ".py",
   "mimetype": "text/x-python",
   "name": "python",
   "nbconvert_exporter": "python",
   "pygments_lexer": "ipython2",
   "version": "2.7.13"
  }
 },
 "nbformat": 4,
 "nbformat_minor": 2
}
