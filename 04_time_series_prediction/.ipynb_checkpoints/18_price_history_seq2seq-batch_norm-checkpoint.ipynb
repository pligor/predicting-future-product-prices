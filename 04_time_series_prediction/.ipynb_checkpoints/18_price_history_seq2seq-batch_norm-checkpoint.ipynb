{
 "cells": [
  {
   "cell_type": "code",
   "execution_count": 1,
   "metadata": {
    "collapsed": true
   },
   "outputs": [],
   "source": [
    "# -*- coding: UTF-8 -*-\n",
    "#%load_ext autoreload\n",
    "%reload_ext autoreload\n",
    "%autoreload 2"
   ]
  },
  {
   "cell_type": "markdown",
   "metadata": {},
   "source": [
    "- https://www.youtube.com/watch?v=ElmBrKyMXxs\n",
    "- https://github.com/hans/ipython-notebooks/blob/master/tf/TF%20tutorial.ipynb\n",
    "- https://github.com/ematvey/tensorflow-seq2seq-tutorials"
   ]
  },
  {
   "cell_type": "code",
   "execution_count": 2,
   "metadata": {},
   "outputs": [
    {
     "name": "stderr",
     "output_type": "stream",
     "text": [
      "/home/studenthp/anaconda2/envs/dis/lib/python2.7/site-packages/statsmodels/compat/pandas.py:56: FutureWarning: The pandas.core.datetools module is deprecated and will be removed in a future version. Please use the pandas.tseries module instead.\n",
      "  from pandas.core import datetools\n"
     ]
    }
   ],
   "source": [
    "from __future__ import division\n",
    "import tensorflow as tf\n",
    "from os import path, remove\n",
    "import numpy as np\n",
    "import pandas as pd\n",
    "import csv\n",
    "from sklearn.model_selection import StratifiedShuffleSplit\n",
    "from time import time\n",
    "from matplotlib import pyplot as plt\n",
    "import seaborn as sns\n",
    "from mylibs.jupyter_notebook_helper import show_graph, renderStatsList, renderStatsCollection, \\\n",
    "    renderStatsListWithLabels, renderStatsCollectionOfCrossValids\n",
    "from tensorflow.contrib import rnn\n",
    "from tensorflow.contrib import learn\n",
    "import shutil\n",
    "from tensorflow.contrib.learn.python.learn import learn_runner\n",
    "from mylibs.tf_helper import getDefaultGPUconfig\n",
    "from sklearn.metrics import r2_score\n",
    "from mylibs.py_helper import factors\n",
    "from fastdtw import fastdtw\n",
    "from collections import OrderedDict\n",
    "from scipy.spatial.distance import euclidean\n",
    "from statsmodels.tsa.stattools import coint\n",
    "from common import get_or_run_nn\n",
    "from data_providers.price_history_seq2seq_data_provider import PriceHistorySeq2SeqDataProvider\n",
    "from data_providers.price_history_dataset_generator import PriceHistoryDatasetGenerator\n",
    "from skopt.space.space import Integer, Real\n",
    "from skopt import gp_minimize\n",
    "from skopt.plots import plot_convergence\n",
    "import pickle\n",
    "import inspect\n",
    "import dill\n",
    "import sys\n",
    "from models.price_history_18_seq2seq_raw_batch_norm import PriceHistorySeq2SeqRawBatchNorm"
   ]
  },
  {
   "cell_type": "code",
   "execution_count": 3,
   "metadata": {
    "collapsed": true
   },
   "outputs": [],
   "source": [
    "dtype = tf.float32\n",
    "seed = 16011984\n",
    "random_state = np.random.RandomState(seed=seed)\n",
    "config = getDefaultGPUconfig()\n",
    "n_jobs = 1\n",
    "%matplotlib inline"
   ]
  },
  {
   "cell_type": "markdown",
   "metadata": {},
   "source": [
    "### Step 0 - hyperparams"
   ]
  },
  {
   "cell_type": "markdown",
   "metadata": {},
   "source": [
    "vocab_size is all the potential words you could have (classification for translation case)\n",
    "and max sequence length are the SAME thing\n",
    "\n",
    "decoder RNN hidden units are usually same size as encoder RNN hidden units in translation but for our case it does not seem really to be a relationship there but we can experiment and find out later, not a priority thing right now"
   ]
  },
  {
   "cell_type": "code",
   "execution_count": 6,
   "metadata": {
    "collapsed": true
   },
   "outputs": [],
   "source": [
    "epochs = 10\n",
    "\n",
    "num_features = 1\n",
    "num_units = 400 #state size\n",
    "\n",
    "input_len = 60\n",
    "target_len = 30\n",
    "\n",
    "batch_size = 50 #47\n",
    "#trunc_backprop_len = ??\n",
    "with_EOS = False"
   ]
  },
  {
   "cell_type": "code",
   "execution_count": 7,
   "metadata": {
    "collapsed": true
   },
   "outputs": [],
   "source": [
    "total_train_size = 57994\n",
    "train_size = 6400 \n",
    "test_size = 1282"
   ]
  },
  {
   "cell_type": "markdown",
   "metadata": {},
   "source": [
    "### Once generate data"
   ]
  },
  {
   "cell_type": "code",
   "execution_count": 8,
   "metadata": {
    "collapsed": true
   },
   "outputs": [],
   "source": [
    "data_path = '../data/price_history'"
   ]
  },
  {
   "cell_type": "code",
   "execution_count": 9,
   "metadata": {
    "collapsed": true
   },
   "outputs": [],
   "source": [
    "#npz_full_train = data_path + '/price_history_03_dp_60to30_train.npz'\n",
    "#npz_full_train = data_path + '/price_history_60to30_targets_normed_train.npz'\n",
    "\n",
    "#npz_train = data_path + '/price_history_03_dp_60to30_57980_train.npz'\n",
    "#npz_train = data_path + '/price_history_03_dp_60to30_6400_train.npz'\n",
    "npz_train = data_path + '/price_history_60to30_6400_targets_normed_train.npz'\n",
    "\n",
    "#npz_test = data_path + '/price_history_03_dp_60to30_test.npz'\n",
    "npz_test = data_path + '/price_history_60to30_targets_normed_test.npz'"
   ]
  },
  {
   "cell_type": "markdown",
   "metadata": {},
   "source": [
    "### Step 1 - collect data"
   ]
  },
  {
   "cell_type": "code",
   "execution_count": 10,
   "metadata": {},
   "outputs": [
    {
     "data": {
      "text/plain": [
       "((6400, 60, 1), (6400, 30))"
      ]
     },
     "execution_count": 10,
     "metadata": {},
     "output_type": "execute_result"
    }
   ],
   "source": [
    "dp = PriceHistorySeq2SeqDataProvider(npz_path=npz_train, batch_size=batch_size, with_EOS=with_EOS)\n",
    "dp.inputs.shape, dp.targets.shape"
   ]
  },
  {
   "cell_type": "code",
   "execution_count": 11,
   "metadata": {},
   "outputs": [
    {
     "data": {
      "text/plain": [
       "((50, 60, 1), (50, 30))"
      ]
     },
     "execution_count": 11,
     "metadata": {},
     "output_type": "execute_result"
    }
   ],
   "source": [
    "aa, bb = dp.next()\n",
    "aa.shape, bb.shape"
   ]
  },
  {
   "cell_type": "markdown",
   "metadata": {},
   "source": [
    "### Step 2 - Build model"
   ]
  },
  {
   "cell_type": "code",
   "execution_count": 12,
   "metadata": {
    "collapsed": true,
    "scrolled": true
   },
   "outputs": [],
   "source": [
    "model = PriceHistorySeq2SeqRawBatchNorm(rng=random_state, dtype=dtype, config=config, with_EOS=with_EOS)"
   ]
  },
  {
   "cell_type": "code",
   "execution_count": 13,
   "metadata": {
    "scrolled": true
   },
   "outputs": [
    {
     "name": "stdout",
     "output_type": "stream",
     "text": [
      "60\n",
      "Tensor(\"inputs/unstack:0\", shape=(50, 1), dtype=float32)\n",
      "\n",
      "Tensor(\"encoder_rnn_layer/rnn/gru_cell_59/add:0\", shape=(50, 400), dtype=float32)\n",
      "\n",
      "time\n",
      "Tensor(\"decoder_rnn_layer/rnn/while/add:0\", shape=(), dtype=int32)\n",
      "\n",
      "decoder_final_loop_state\n",
      "Tensor(\"decoder_rnn_layer/rnn/while/Exit_5:0\", shape=(50, 30), dtype=float32)\n",
      "\n",
      "<tensorflow.python.ops.tensor_array_ops.TensorArray object at 0x7f777d71c590>\n",
      "\n",
      "Tensor(\"error/Select:0\", shape=(50, 30), dtype=float32)\n",
      "\n",
      "Tensor(\"error/Mean:0\", shape=(), dtype=float32)\n",
      "Tensor(\"error/Mean:0\", shape=(), dtype=float32)\n",
      "\n"
     ]
    }
   ],
   "source": [
    "graph = model.getGraph(batch_size=batch_size,\n",
    "                       num_units=num_units,\n",
    "                       input_len=input_len,\n",
    "                       target_len=target_len)"
   ]
  },
  {
   "cell_type": "code",
   "execution_count": 14,
   "metadata": {
    "collapsed": true
   },
   "outputs": [],
   "source": [
    "#show_graph(graph)"
   ]
  },
  {
   "cell_type": "markdown",
   "metadata": {},
   "source": [
    "### Step 3 training the network"
   ]
  },
  {
   "cell_type": "markdown",
   "metadata": {},
   "source": [
    "RECALL: baseline is around 4 for huber loss for current problem, anything above 4 should be considered as major errors"
   ]
  },
  {
   "cell_type": "code",
   "execution_count": 15,
   "metadata": {},
   "outputs": [
    {
     "data": {
      "text/plain": [
       "(10, 400, 50)"
      ]
     },
     "execution_count": 15,
     "metadata": {},
     "output_type": "execute_result"
    }
   ],
   "source": [
    "#rnn_cell = PriceHistorySeq2SeqCV.RNN_CELLS.GRU\n",
    "#cross_val_n_splits = 5\n",
    "epochs, num_units, batch_size"
   ]
  },
  {
   "cell_type": "code",
   "execution_count": 16,
   "metadata": {
    "collapsed": true
   },
   "outputs": [],
   "source": [
    "#set(factors(train_size)).intersection(factors(train_size/5))"
   ]
  },
  {
   "cell_type": "code",
   "execution_count": 17,
   "metadata": {
    "collapsed": true
   },
   "outputs": [],
   "source": [
    "best_learning_rate = 1e-3 #0.0026945952539362472"
   ]
  },
  {
   "cell_type": "code",
   "execution_count": 18,
   "metadata": {
    "collapsed": true
   },
   "outputs": [],
   "source": [
    "def experiment():\n",
    "    return model.run(npz_path=npz_train,\n",
    "             epochs=10,\n",
    "             batch_size = 50,\n",
    "             num_units = 400,\n",
    "             input_len=input_len,\n",
    "             target_len=target_len,\n",
    "             learning_rate = best_learning_rate,\n",
    "             preds_gather_enabled=True,\n",
    "             #eos_token = float(1e3),\n",
    "            )"
   ]
  },
  {
   "cell_type": "markdown",
   "metadata": {},
   "source": [
    "Recall that without batch normalization within 10 epochs with num units 400 and batch_size 64 we reached at 4.940\n",
    "and with having the decoder inputs NOT filled from the outputs"
   ]
  },
  {
   "cell_type": "markdown",
   "metadata": {},
   "source": [
    "Attempt:  \n",
    "Obviously performance is worse because when trying to get the system match normalized outputs with non normalized targets it will fail\n",
    "\n",
    "learning rate: 0.001000  \n",
    "epochs: 10  \n",
    "End Epoch 01 (32.398 secs): err(train) = 4.630  \n",
    "End Epoch 02 (31.190 secs): err(train) = 4.481  \n",
    "End Epoch 03 (31.188 secs): err(train) = 4.390  \n",
    "End Epoch 04 (31.200 secs): err(train) = 4.310  \n",
    "End Epoch 05 (31.228 secs): err(train) = 4.240  \n",
    "End Epoch 06 (31.251 secs): err(train) = 4.170  \n",
    "End Epoch 07 (31.178 secs): err(train) = 4.101  \n",
    "End Epoch 08 (31.235 secs): err(train) = 4.036  \n",
    "End Epoch 09 (31.185 secs): err(train) = 3.984  \n",
    "End Epoch 10 (31.154 secs): err(train) = 3.920  \n",
    "\n",
    "All much larger than the 1.004 which is when it is overfitting"
   ]
  },
  {
   "cell_type": "code",
   "execution_count": 19,
   "metadata": {
    "scrolled": true
   },
   "outputs": [
    {
     "name": "stdout",
     "output_type": "stream",
     "text": [
      "learning rate: 0.001000\n",
      "epochs: 10\n",
      "End Epoch 01 (32.294 secs): err(train) = 1.777\n",
      "End Epoch 02 (31.138 secs): err(train) = 1.204\n",
      "End Epoch 03 (31.133 secs): err(train) = 1.117\n",
      "End Epoch 04 (31.145 secs): err(train) = 1.073\n",
      "End Epoch 05 (31.156 secs): err(train) = 1.049\n",
      "End Epoch 06 (31.108 secs): err(train) = 1.034\n",
      "End Epoch 07 (31.102 secs): err(train) = 1.033\n",
      "End Epoch 08 (31.132 secs): err(train) = 1.013\n",
      "End Epoch 09 (31.157 secs): err(train) = 1.007\n",
      "End Epoch 10 (31.129 secs): err(train) = 1.004\n",
      "\n",
      "CPU times: user 5min 36s, sys: 21.9 s, total: 5min 58s\n",
      "Wall time: 5min 33s\n"
     ]
    }
   ],
   "source": [
    "%%time\n",
    "dyn_stats, preds_dict = get_or_run_nn(experiment,\n",
    "                                      filename='018_seq2seq_60to30_epochs{}_learning_rate_{:.4f}'.format(\n",
    "                                          epochs, best_learning_rate\n",
    "                                      ))"
   ]
  },
  {
   "cell_type": "code",
   "execution_count": 20,
   "metadata": {},
   "outputs": [
    {
     "data": {
      "image/png": "[encoded data removed]",
      "text/plain": [
       "<matplotlib.figure.Figure at 0x7f8274245d90>"
      ]
     },
     "metadata": {},
     "output_type": "display_data"
    }
   ],
   "source": [
    "dyn_stats.plotStats()\n",
    "plt.show()"
   ]
  },
  {
   "cell_type": "code",
   "execution_count": 21,
   "metadata": {
    "collapsed": true
   },
   "outputs": [],
   "source": [
    "r2_scores = [r2_score(y_true=dp.targets[ind], y_pred=preds_dict[ind])\n",
    "            for ind in range(len(dp.targets))]"
   ]
  },
  {
   "cell_type": "code",
   "execution_count": 30,
   "metadata": {},
   "outputs": [
    {
     "data": {
      "text/plain": [
       "4398"
      ]
     },
     "execution_count": 30,
     "metadata": {},
     "output_type": "execute_result"
    }
   ],
   "source": [
    "ind = np.argmin(r2_scores)\n",
    "ind"
   ]
  },
  {
   "cell_type": "code",
   "execution_count": 22,
   "metadata": {
    "collapsed": true
   },
   "outputs": [],
   "source": [
    "reals = dp.targets[ind]\n",
    "preds = preds_dict[ind]"
   ]
  },
  {
   "cell_type": "code",
   "execution_count": 23,
   "metadata": {},
   "outputs": [
    {
     "data": {
      "text/plain": [
       "0.0"
      ]
     },
     "execution_count": 23,
     "metadata": {},
     "output_type": "execute_result"
    }
   ],
   "source": [
    "r2_score(y_true=reals, y_pred=preds)"
   ]
  },
  {
   "cell_type": "code",
   "execution_count": 24,
   "metadata": {},
   "outputs": [
    {
     "data": {
      "text/plain": [
       "<matplotlib.axes._subplots.AxesSubplot at 0x7f8273136490>"
      ]
     },
     "execution_count": 24,
     "metadata": {},
     "output_type": "execute_result"
    },
    {
     "data": {
      "image/png": "[encoded data removed]",
      "text/plain": [
       "<matplotlib.figure.Figure at 0x7f82730f85d0>"
      ]
     },
     "metadata": {},
     "output_type": "display_data"
    }
   ],
   "source": [
    "sns.tsplot(data=dp.inputs[ind].flatten())"
   ]
  },
  {
   "cell_type": "code",
   "execution_count": 25,
   "metadata": {},
   "outputs": [
    {
     "data": {
      "image/png": "[encoded data removed]",
      "text/plain": [
       "<matplotlib.figure.Figure at 0x7f8272c1f490>"
      ]
     },
     "metadata": {},
     "output_type": "display_data"
    }
   ],
   "source": [
    "fig = plt.figure(figsize=(15,6))\n",
    "plt.plot(reals, 'b')\n",
    "plt.plot(preds, 'g')\n",
    "plt.legend(['reals','preds'])\n",
    "plt.show()"
   ]
  },
  {
   "cell_type": "code",
   "execution_count": 26,
   "metadata": {},
   "outputs": [
    {
     "name": "stdout",
     "output_type": "stream",
     "text": [
      "CPU times: user 13 s, sys: 60 ms, total: 13 s\n",
      "Wall time: 12.9 s\n"
     ]
    }
   ],
   "source": [
    "%%time\n",
    "dtw_scores = [fastdtw(dp.targets[ind], preds_dict[ind])[0]\n",
    "             for ind in range(len(dp.targets))]"
   ]
  },
  {
   "cell_type": "code",
   "execution_count": 27,
   "metadata": {},
   "outputs": [
    {
     "data": {
      "text/plain": [
       "8.9385718451794691"
      ]
     },
     "execution_count": 27,
     "metadata": {},
     "output_type": "execute_result"
    }
   ],
   "source": [
    "np.mean(dtw_scores)"
   ]
  },
  {
   "cell_type": "code",
   "execution_count": 28,
   "metadata": {},
   "outputs": [
    {
     "data": {
      "text/plain": [
       "(-2.0103289088173533,\n",
       " 0.52320489914792923,\n",
       " array([-4.31395736, -3.55493606, -3.19393252]))"
      ]
     },
     "execution_count": 28,
     "metadata": {},
     "output_type": "execute_result"
    }
   ],
   "source": [
    "coint(preds, reals)"
   ]
  },
  {
   "cell_type": "code",
   "execution_count": 33,
   "metadata": {
    "scrolled": true
   },
   "outputs": [
    {
     "data": {
      "image/png": "[encoded data removed]",
      "text/plain": [
       "<matplotlib.figure.Figure at 0x7f8272873110>"
      ]
     },
     "metadata": {},
     "output_type": "display_data"
    }
   ],
   "source": [
    "cur_ind = np.random.randint(len(dp.targets))\n",
    "reals = dp.targets[cur_ind]\n",
    "preds = preds_dict[cur_ind]\n",
    "fig = plt.figure(figsize=(15,6))\n",
    "plt.plot(reals, 'b')\n",
    "plt.plot(preds, 'g')\n",
    "plt.legend(['reals','preds'])\n",
    "plt.show()"
   ]
  },
  {
   "cell_type": "markdown",
   "metadata": {},
   "source": [
    "#### Conclusion\n",
    "???"
   ]
  },
  {
   "cell_type": "code",
   "execution_count": null,
   "metadata": {
    "collapsed": true
   },
   "outputs": [],
   "source": []
  }
 ],
 "metadata": {
  "kernelspec": {
   "display_name": "Python 2",
   "language": "python",
   "name": "python2"
  },
  "language_info": {
   "codemirror_mode": {
    "name": "ipython",
    "version": 2
   },
   "file_extension": ".py",
   "mimetype": "text/x-python",
   "name": "python",
   "nbconvert_exporter": "python",
   "pygments_lexer": "ipython2",
   "version": "2.7.13"
  }
 },
 "nbformat": 4,
 "nbformat_minor": 2
}
