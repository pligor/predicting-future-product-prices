{
 "cells": [
  {
   "cell_type": "code",
   "execution_count": 1,
   "metadata": {
    "collapsed": true
   },
   "outputs": [],
   "source": [
    "# -*- coding: UTF-8 -*-\n",
    "#%load_ext autoreload\n",
    "%reload_ext autoreload\n",
    "%autoreload 2"
   ]
  },
  {
   "cell_type": "code",
   "execution_count": 2,
   "metadata": {},
   "outputs": [
    {
     "name": "stderr",
     "output_type": "stream",
     "text": [
      "/home/studenthp/anaconda2/envs/dis/lib/python2.7/site-packages/statsmodels/compat/pandas.py:56: FutureWarning: The pandas.core.datetools module is deprecated and will be removed in a future version. Please use the pandas.tseries module instead.\n",
      "  from pandas.core import datetools\n"
     ]
    }
   ],
   "source": [
    "from __future__ import division\n",
    "import tensorflow as tf\n",
    "from os import path, remove\n",
    "import numpy as np\n",
    "import pandas as pd\n",
    "import csv\n",
    "from sklearn.model_selection import StratifiedShuffleSplit\n",
    "from time import time\n",
    "from matplotlib import pyplot as plt\n",
    "import seaborn as sns\n",
    "from mylibs.jupyter_notebook_helper import show_graph, renderStatsList, renderStatsCollection, \\\n",
    "    renderStatsListWithLabels, renderStatsCollectionOfCrossValids, plot_res_gp, my_plot_convergence\n",
    "from tensorflow.contrib import rnn\n",
    "from tensorflow.contrib import learn\n",
    "import shutil\n",
    "from tensorflow.contrib.learn.python.learn import learn_runner\n",
    "from mylibs.tf_helper import getDefaultGPUconfig\n",
    "from sklearn.metrics import r2_score\n",
    "from mylibs.py_helper import factors\n",
    "from fastdtw import fastdtw\n",
    "from collections import OrderedDict\n",
    "from scipy.spatial.distance import euclidean\n",
    "from statsmodels.tsa.stattools import coint\n",
    "from common import get_or_run_nn\n",
    "from skopt.space.space import Integer, Real\n",
    "from skopt import gp_minimize\n",
    "from skopt.plots import plot_convergence\n",
    "import pickle\n",
    "import inspect\n",
    "import dill\n",
    "import sys\n",
    "\n",
    "from data_providers.price_history_32_autoenc_data_gen import PriceHistoryAutoEncoderDatasetGenerator\n",
    "from models.model_32_price_history_autoencoder import PriceHistoryAutoencoder\n",
    "from data_providers.data_provider_32_price_history_autoencoder import PriceHistoryAutoEncDataProvider\n",
    "#from gp_opt.price_history_27_gp_opt import PriceHistoryGpOpt"
   ]
  },
  {
   "cell_type": "code",
   "execution_count": 3,
   "metadata": {
    "collapsed": true
   },
   "outputs": [],
   "source": [
    "dtype = tf.float32\n",
    "seed = 16011984\n",
    "random_state = np.random.RandomState(seed=seed)\n",
    "config = getDefaultGPUconfig()\n",
    "n_jobs = 1\n",
    "%matplotlib inline"
   ]
  },
  {
   "cell_type": "markdown",
   "metadata": {},
   "source": [
    "### Step 0 - hyperparams"
   ]
  },
  {
   "cell_type": "markdown",
   "metadata": {},
   "source": [
    "vocab_size is all the potential words you could have (classification for translation case)\n",
    "and max sequence length are the SAME thing\n",
    "\n",
    "decoder RNN hidden units are usually same size as encoder RNN hidden units in translation but for our case it does not seem really to be a relationship there but we can experiment and find out later, not a priority thing right now"
   ]
  },
  {
   "cell_type": "code",
   "execution_count": 4,
   "metadata": {
    "collapsed": true
   },
   "outputs": [],
   "source": [
    "batch_size = 1"
   ]
  },
  {
   "cell_type": "code",
   "execution_count": 5,
   "metadata": {
    "collapsed": true
   },
   "outputs": [],
   "source": [
    "#full_train_size = 55820\n",
    "#train_size = 55800\n",
    "#small_train_size = 6000 #just because of performance reasons, no statistics behind this decision\n",
    "#test_size = 6200"
   ]
  },
  {
   "cell_type": "code",
   "execution_count": 6,
   "metadata": {
    "collapsed": true
   },
   "outputs": [],
   "source": [
    "data_path = '../../../../Dropbox/data'"
   ]
  },
  {
   "cell_type": "code",
   "execution_count": 7,
   "metadata": {
    "collapsed": true
   },
   "outputs": [],
   "source": [
    "phae_path = data_path + '/price_hist_autoencoder'"
   ]
  },
  {
   "cell_type": "code",
   "execution_count": 8,
   "metadata": {
    "collapsed": true
   },
   "outputs": [],
   "source": [
    "csv_in = '../price_history_03_seq_start_suddens_trimmed.csv'\n",
    "assert path.isfile(csv_in)"
   ]
  },
  {
   "cell_type": "code",
   "execution_count": 9,
   "metadata": {
    "collapsed": true
   },
   "outputs": [],
   "source": [
    "npz_one_instance = phae_path + '/price_history_seqs_dates_normed_one_instance_train.npz'\n",
    "\n",
    "npz_one_instance_prefix = npz_one_instance[:-len('_train.npz')]"
   ]
  },
  {
   "cell_type": "markdown",
   "metadata": {},
   "source": [
    "### Once generate data"
   ]
  },
  {
   "cell_type": "code",
   "execution_count": 9,
   "metadata": {},
   "outputs": [
    {
     "data": {
      "text/plain": [
       "(689, 684)"
      ]
     },
     "execution_count": 9,
     "metadata": {},
     "output_type": "execute_result"
    }
   ],
   "source": [
    "df = pd.read_csv(csv_in, index_col=0, quoting=csv.QUOTE_ALL, encoding='utf-8')\n",
    "df.shape"
   ]
  },
  {
   "cell_type": "code",
   "execution_count": 26,
   "metadata": {
    "collapsed": true
   },
   "outputs": [],
   "source": [
    "npz_path = phae_path + '/price_history_full_seqs.npz'"
   ]
  },
  {
   "cell_type": "code",
   "execution_count": 19,
   "metadata": {},
   "outputs": [
    {
     "name": "stdout",
     "output_type": "stream",
     "text": [
      "CPU times: user 1.02 s, sys: 84 ms, total: 1.1 s\n",
      "Wall time: 1.3 s\n"
     ]
    }
   ],
   "source": [
    "%%time\n",
    "train_pack, test_pack = PriceHistoryAutoEncoderDatasetGenerator(random_state=random_state).createAndSaveDataset(\n",
    "    csv_in = csv_in,\n",
    "    do_global_norm_scale = True,\n",
    "    save_files_dic = {\n",
    "        'train': npz_path,\n",
    "        'test': None,\n",
    "    }\n",
    ")"
   ]
  },
  {
   "cell_type": "code",
   "execution_count": 25,
   "metadata": {},
   "outputs": [
    {
     "name": "stdout",
     "output_type": "stream",
     "text": [
      "(689,)\n",
      "(689, 682)\n",
      "(689,)\n",
      "(689, 682)\n",
      "(689, 682)\n"
     ]
    }
   ],
   "source": [
    "#sku_ids\n",
    "#inputs\n",
    "#sequence lengths\n",
    "#masks\n",
    "#dates\n",
    "for bb in train_pack.get_data():\n",
    "    print bb.shape"
   ]
  },
  {
   "cell_type": "code",
   "execution_count": 32,
   "metadata": {},
   "outputs": [
    {
     "name": "stdout",
     "output_type": "stream",
     "text": [
      "CPU times: user 11.8 s, sys: 16 ms, total: 11.8 s\n",
      "Wall time: 11.8 s\n"
     ]
    }
   ],
   "source": [
    "%%time\n",
    "merged_dic = PriceHistoryAutoEncoderDatasetGenerator.merge_date_info(npz_path=npz_path)"
   ]
  },
  {
   "cell_type": "code",
   "execution_count": 40,
   "metadata": {},
   "outputs": [
    {
     "data": {
      "text/plain": [
       "682"
      ]
     },
     "execution_count": 40,
     "metadata": {},
     "output_type": "execute_result"
    }
   ],
   "source": [
    "max_seq_len = merged_dic['inputs'].shape[1]\n",
    "max_seq_len"
   ]
  },
  {
   "cell_type": "code",
   "execution_count": 43,
   "metadata": {
    "collapsed": true
   },
   "outputs": [],
   "source": [
    "assert len(np.argwhere(merged_dic['extra_inputs'][0][:, 0] == -1).flatten()) + merged_dic['sequence_lengths'][0] \\\n",
    "    == max_seq_len, \"just checking if our conversion occured as it should have\""
   ]
  },
  {
   "cell_type": "code",
   "execution_count": 45,
   "metadata": {
    "collapsed": true
   },
   "outputs": [],
   "source": [
    "npz_dates = phae_path + '/price_history_full_seqs_dates.npz'\n",
    "#np.savez(npz_dates, **merged_dic)"
   ]
  },
  {
   "cell_type": "code",
   "execution_count": 46,
   "metadata": {},
   "outputs": [
    {
     "name": "stdout",
     "output_type": "stream",
     "text": [
      "inputs , (689, 682, 7)\n",
      "sku_ids , (689,)\n",
      "sequence_masks , (689, 682)\n",
      "extra_inputs , (689, 682, 6)\n",
      "sequence_lengths , (689,)\n"
     ]
    }
   ],
   "source": [
    "dic = np.load(npz_dates)\n",
    "for key, val in dic.iteritems():\n",
    "    print key, \",\", val.shape"
   ]
  },
  {
   "cell_type": "code",
   "execution_count": 47,
   "metadata": {},
   "outputs": [
    {
     "data": {
      "text/plain": [
       "(689, 682)"
      ]
     },
     "execution_count": 47,
     "metadata": {},
     "output_type": "execute_result"
    }
   ],
   "source": [
    "years = dic['extra_inputs'][:, :, 3]\n",
    "years.shape"
   ]
  },
  {
   "cell_type": "code",
   "execution_count": 51,
   "metadata": {},
   "outputs": [
    {
     "data": {
      "text/plain": [
       "(469898,)"
      ]
     },
     "execution_count": 51,
     "metadata": {},
     "output_type": "execute_result"
    }
   ],
   "source": [
    "years_flat = years.flatten()\n",
    "years_flat.shape"
   ]
  },
  {
   "cell_type": "code",
   "execution_count": 52,
   "metadata": {},
   "outputs": [
    {
     "data": {
      "text/plain": [
       "(119295,)"
      ]
     },
     "execution_count": 52,
     "metadata": {},
     "output_type": "execute_result"
    }
   ],
   "source": [
    "years_filtered = years_flat[years_flat >= 0]\n",
    "years_filtered.shape"
   ]
  },
  {
   "cell_type": "code",
   "execution_count": 54,
   "metadata": {},
   "outputs": [
    {
     "data": {
      "text/plain": [
       "2016.7819606856951"
      ]
     },
     "execution_count": 54,
     "metadata": {},
     "output_type": "execute_result"
    }
   ],
   "source": [
    "np.mean(years_filtered)"
   ]
  },
  {
   "cell_type": "code",
   "execution_count": 55,
   "metadata": {},
   "outputs": [
    {
     "data": {
      "text/plain": [
       "0.41596840166451909"
      ]
     },
     "execution_count": 55,
     "metadata": {},
     "output_type": "execute_result"
    }
   ],
   "source": [
    "np.std(years_filtered)"
   ]
  },
  {
   "cell_type": "code",
   "execution_count": 80,
   "metadata": {},
   "outputs": [
    {
     "name": "stdout",
     "output_type": "stream",
     "text": [
      "inputs , (689, 682, 7)\n",
      "sku_ids , (689,)\n",
      "sequence_masks , (689, 682)\n",
      "extra_inputs , (689, 682, 6)\n",
      "sequence_lengths , (689,)\n",
      "CPU times: user 128 ms, sys: 12 ms, total: 140 ms\n",
      "Wall time: 139 ms\n"
     ]
    }
   ],
   "source": [
    "%%time\n",
    "norm_dates_dic = PriceHistoryAutoEncoderDatasetGenerator.normalize_date_info(npz_dates)\n",
    "for key, val in norm_dates_dic.iteritems():\n",
    "    print key, \",\", val.shape"
   ]
  },
  {
   "cell_type": "code",
   "execution_count": 94,
   "metadata": {},
   "outputs": [
    {
     "data": {
      "text/plain": [
       "array([[ 1.67902267,  1.67902267,  1.67902267, ..., -1.        ,\n",
       "        -1.        , -1.        ],\n",
       "       [ 1.67902267,  1.67902267,  1.67902267, ..., -1.        ,\n",
       "        -1.        , -1.        ],\n",
       "       [ 1.67902267,  1.67902267,  1.67902267, ..., -1.        ,\n",
       "        -1.        , -1.        ],\n",
       "       ..., \n",
       "       [ 1.67902267,  1.67902267,  1.67902267, ..., -1.        ,\n",
       "        -1.        , -1.        ],\n",
       "       [ 1.67902267,  1.67902267,  1.67902267, ..., -1.        ,\n",
       "        -1.        , -1.        ],\n",
       "       [ 1.67902267,  1.67902267,  1.67902267, ..., -1.        ,\n",
       "        -1.        , -1.        ]], dtype=float32)"
      ]
     },
     "execution_count": 94,
     "metadata": {},
     "output_type": "execute_result"
    }
   ],
   "source": [
    "norm_dates_dic['extra_inputs'][:, :, 0]"
   ]
  },
  {
   "cell_type": "code",
   "execution_count": 96,
   "metadata": {
    "collapsed": true
   },
   "outputs": [],
   "source": [
    "npz_dates = phae_path + '/price_history_seqs_dates_normed_train.npz'\n",
    "np.savez(npz_dates, **norm_dates_dic)"
   ]
  },
  {
   "cell_type": "code",
   "execution_count": 98,
   "metadata": {
    "collapsed": true
   },
   "outputs": [],
   "source": [
    "final_dic = np.load(npz_dates)"
   ]
  },
  {
   "cell_type": "code",
   "execution_count": 99,
   "metadata": {},
   "outputs": [
    {
     "name": "stdout",
     "output_type": "stream",
     "text": [
      "inputs , (689, 682, 7)\n",
      "sku_ids , (689,)\n",
      "sequence_masks , (689, 682)\n",
      "extra_inputs , (689, 682, 6)\n",
      "sequence_lengths , (689,)\n"
     ]
    }
   ],
   "source": [
    "for key, val in final_dic.iteritems():\n",
    "    print key, \",\", val.shape"
   ]
  },
  {
   "cell_type": "code",
   "execution_count": 101,
   "metadata": {},
   "outputs": [
    {
     "name": "stdout",
     "output_type": "stream",
     "text": [
      "inputs , (1, 682, 7)\n",
      "sku_ids , (1,)\n",
      "sequence_masks , (1, 682)\n",
      "extra_inputs , (1, 682, 6)\n",
      "sequence_lengths , (1,)\n"
     ]
    }
   ],
   "source": [
    "small_dic = {}\n",
    "for key, val in final_dic.iteritems():\n",
    "    small_dic[key] = val[:1]\n",
    "    print key, \",\", small_dic[key].shape"
   ]
  },
  {
   "cell_type": "code",
   "execution_count": 102,
   "metadata": {
    "collapsed": true
   },
   "outputs": [],
   "source": [
    "np.savez(npz_one_instance, **small_dic)"
   ]
  },
  {
   "cell_type": "code",
   "execution_count": 10,
   "metadata": {
    "collapsed": true
   },
   "outputs": [],
   "source": [
    "# PriceHistoryDatasetGenerator.create_subsampled(inpath=npz_train_full, target_size=55800,\n",
    "#                                                outpath=npz_train_trimmed, random_state=random_state)"
   ]
  },
  {
   "cell_type": "markdown",
   "metadata": {},
   "source": [
    "### Step 1 - collect data"
   ]
  },
  {
   "cell_type": "code",
   "execution_count": 15,
   "metadata": {},
   "outputs": [
    {
     "name": "stdout",
     "output_type": "stream",
     "text": [
      "(1, 682, 7)\n",
      "(1, 682, 6)\n"
     ]
    }
   ],
   "source": [
    "dp = PriceHistoryAutoEncDataProvider(npz_path=npz_one_instance_prefix, batch_size=1, with_EOS=False)\n",
    "for data in dp.datalist:\n",
    "    print data.shape"
   ]
  },
  {
   "cell_type": "code",
   "execution_count": 32,
   "metadata": {},
   "outputs": [
    {
     "name": "stdout",
     "output_type": "stream",
     "text": [
      "(1, 210, 7)\n",
      "(1, 210, 6)\n"
     ]
    }
   ],
   "source": [
    "dp = PriceHistoryAutoEncDataProvider(npz_path=npz_one_instance_prefix, batch_size=1, with_EOS=False, ts_max_len=210)\n",
    "for data in dp.datalist:\n",
    "    print data.shape"
   ]
  },
  {
   "cell_type": "markdown",
   "metadata": {},
   "source": [
    "(1, 682, 7)  \n",
    "(1, 682, 6)"
   ]
  },
  {
   "cell_type": "code",
   "execution_count": 14,
   "metadata": {
    "collapsed": true
   },
   "outputs": [],
   "source": [
    "# for item in dp.next():\n",
    "#     print item.shape"
   ]
  },
  {
   "cell_type": "markdown",
   "metadata": {},
   "source": [
    "### Step 2 - Build model"
   ]
  },
  {
   "cell_type": "code",
   "execution_count": 10,
   "metadata": {
    "collapsed": true,
    "scrolled": true
   },
   "outputs": [],
   "source": [
    "model = PriceHistoryAutoencoder(rng=random_state, dtype=dtype, config=config)"
   ]
  },
  {
   "cell_type": "code",
   "execution_count": 11,
   "metadata": {
    "collapsed": true,
    "scrolled": true
   },
   "outputs": [],
   "source": [
    "# graph = model.getGraph(batch_size=batch_size,\n",
    "#                        enc_num_units = 10,\n",
    "#                        dec_num_units = 10,\n",
    "#                        ts_len=210)"
   ]
  },
  {
   "cell_type": "markdown",
   "metadata": {},
   "source": [
    "Tensor(\"data/strided_slice:0\", shape=(50, 210), dtype=float32)\n",
    "\n",
    "210\n",
    "Tensor(\"inputs/unstack:0\", shape=(50, 7), dtype=float32)\n",
    "\n",
    "Tensor(\"encoder_rnn_layer/rnn/gru_cell_209/add:0\", shape=(50, 10), dtype=float32)\n",
    "\n",
    "Tensor(\"encoder_state_out_process/Elu:0\", shape=(50, 2), dtype=float32)\n",
    "\n",
    "Tensor(\"decoder_state_in_process/Elu:0\", shape=(50, 10), dtype=float32)\n",
    "\n",
    "210\n",
    "Tensor(\"dec_extra_ins/unstack:0\", shape=(50, 6), dtype=float32)\n",
    "\n",
    "decoder_outputs len: 210\n",
    "Tensor(\"decoder_rnn_layer/rnn/gru_cell/add:0\", shape=(50, 10), dtype=float32)\n",
    "\n",
    "Tensor(\"decoder_outs/stack:0\", shape=(50, 210, 10), dtype=float32)\n",
    "Tensor(\"decoder_outs/Reshape:0\", shape=(10500, 10), dtype=float32)\n",
    "\n",
    "Tensor(\"readout_affine/Identity:0\", shape=(10500, 1), dtype=float32)\n",
    "Tensor(\"readout_affine/Reshape:0\", shape=(50, 210), dtype=float32)\n",
    "\n",
    "Tensor(\"error/Select:0\", shape=(50, 210), dtype=float32)\n",
    "\n",
    "Tensor(\"error/Mean:0\", shape=(), dtype=float32)\n",
    "Tensor(\"error/Mean:0\", shape=(), dtype=float32)"
   ]
  },
  {
   "cell_type": "code",
   "execution_count": 12,
   "metadata": {
    "collapsed": true
   },
   "outputs": [],
   "source": [
    "#show_graph(graph)"
   ]
  },
  {
   "cell_type": "markdown",
   "metadata": {},
   "source": [
    "## Quick test run"
   ]
  },
  {
   "cell_type": "code",
   "execution_count": 15,
   "metadata": {},
   "outputs": [
    {
     "name": "stdout",
     "output_type": "stream",
     "text": [
      "epochs: 100\n",
      "dec_num_units: 400\n",
      "learning_rate: 0.0001\n",
      "enc_num_units: 400\n",
      "End Epoch 01 (4.461 secs): err(train) = 0.051802\n",
      "End Epoch 02 (0.446 secs): err(train) = 0.026912\n",
      "End Epoch 03 (0.453 secs): err(train) = 0.014934\n",
      "End Epoch 04 (0.449 secs): err(train) = 0.012791\n",
      "End Epoch 05 (0.454 secs): err(train) = 0.014734\n",
      "End Epoch 06 (0.446 secs): err(train) = 0.015680\n",
      "End Epoch 07 (0.454 secs): err(train) = 0.014043\n",
      "End Epoch 08 (0.449 secs): err(train) = 0.010638\n",
      "End Epoch 09 (0.454 secs): err(train) = 0.006924\n",
      "End Epoch 10 (0.446 secs): err(train) = 0.004112\n",
      "End Epoch 11 (0.453 secs): err(train) = 0.002822\n",
      "End Epoch 12 (0.448 secs): err(train) = 0.002983\n",
      "End Epoch 13 (0.454 secs): err(train) = 0.003953\n",
      "End Epoch 14 (0.446 secs): err(train) = 0.004882\n",
      "End Epoch 15 (0.453 secs): err(train) = 0.005164\n",
      "End Epoch 16 (0.449 secs): err(train) = 0.004666\n",
      "End Epoch 17 (0.450 secs): err(train) = 0.003652\n",
      "End Epoch 18 (0.447 secs): err(train) = 0.002543\n",
      "End Epoch 19 (0.450 secs): err(train) = 0.001708\n",
      "End Epoch 20 (0.457 secs): err(train) = 0.001326\n",
      "End Epoch 21 (0.454 secs): err(train) = 0.001360\n",
      "End Epoch 22 (0.451 secs): err(train) = 0.001615\n",
      "End Epoch 23 (0.450 secs): err(train) = 0.001852\n",
      "End Epoch 24 (0.456 secs): err(train) = 0.001898\n",
      "End Epoch 25 (0.450 secs): err(train) = 0.001712\n",
      "End Epoch 26 (0.452 secs): err(train) = 0.001371\n",
      "End Epoch 27 (0.446 secs): err(train) = 0.001013\n",
      "End Epoch 28 (0.457 secs): err(train) = 0.000767\n",
      "End Epoch 29 (0.450 secs): err(train) = 0.000697\n",
      "End Epoch 30 (0.455 secs): err(train) = 0.000783\n",
      "End Epoch 31 (0.446 secs): err(train) = 0.000942\n",
      "End Epoch 32 (0.455 secs): err(train) = 0.001073\n",
      "End Epoch 33 (0.451 secs): err(train) = 0.001105\n",
      "End Epoch 34 (0.456 secs): err(train) = 0.001024\n",
      "End Epoch 35 (0.448 secs): err(train) = 0.000865\n",
      "End Epoch 36 (0.456 secs): err(train) = 0.000696\n",
      "End Epoch 37 (0.450 secs): err(train) = 0.000576\n",
      "End Epoch 38 (0.454 secs): err(train) = 0.000533\n",
      "End Epoch 39 (0.447 secs): err(train) = 0.000556\n",
      "End Epoch 40 (0.457 secs): err(train) = 0.000607\n",
      "End Epoch 41 (0.448 secs): err(train) = 0.000642\n",
      "End Epoch 42 (0.456 secs): err(train) = 0.000634\n",
      "End Epoch 43 (0.446 secs): err(train) = 0.000584\n",
      "End Epoch 44 (0.455 secs): err(train) = 0.000515\n",
      "End Epoch 45 (0.450 secs): err(train) = 0.000456\n",
      "End Epoch 46 (0.457 secs): err(train) = 0.000430\n",
      "End Epoch 47 (0.447 secs): err(train) = 0.000440\n",
      "End Epoch 48 (0.456 secs): err(train) = 0.000470\n",
      "End Epoch 49 (0.449 secs): err(train) = 0.000499\n",
      "End Epoch 50 (0.456 secs): err(train) = 0.000510\n",
      "End Epoch 51 (0.447 secs): err(train) = 0.000497\n",
      "End Epoch 52 (0.456 secs): err(train) = 0.000468\n",
      "End Epoch 53 (0.452 secs): err(train) = 0.000438\n",
      "End Epoch 54 (0.457 secs): err(train) = 0.000419\n",
      "End Epoch 55 (0.448 secs): err(train) = 0.000416\n",
      "End Epoch 56 (0.456 secs): err(train) = 0.000424\n",
      "End Epoch 57 (0.451 secs): err(train) = 0.000434\n",
      "End Epoch 58 (0.456 secs): err(train) = 0.000436\n",
      "End Epoch 59 (0.448 secs): err(train) = 0.000427\n",
      "End Epoch 60 (0.457 secs): err(train) = 0.000412\n",
      "End Epoch 61 (0.451 secs): err(train) = 0.000397\n",
      "End Epoch 62 (0.456 secs): err(train) = 0.000388\n",
      "End Epoch 63 (0.447 secs): err(train) = 0.000387\n",
      "End Epoch 64 (0.456 secs): err(train) = 0.000391\n",
      "End Epoch 65 (0.450 secs): err(train) = 0.000395\n",
      "End Epoch 66 (0.455 secs): err(train) = 0.000394\n",
      "End Epoch 67 (0.447 secs): err(train) = 0.000389\n",
      "End Epoch 68 (0.457 secs): err(train) = 0.000381\n",
      "End Epoch 69 (0.451 secs): err(train) = 0.000374\n",
      "End Epoch 70 (0.457 secs): err(train) = 0.000370\n",
      "End Epoch 71 (0.447 secs): err(train) = 0.000369\n",
      "End Epoch 72 (0.456 secs): err(train) = 0.000371\n",
      "End Epoch 73 (0.451 secs): err(train) = 0.000372\n",
      "End Epoch 74 (0.456 secs): err(train) = 0.000371\n",
      "End Epoch 75 (0.448 secs): err(train) = 0.000368\n",
      "End Epoch 76 (0.456 secs): err(train) = 0.000364\n",
      "End Epoch 77 (0.452 secs): err(train) = 0.000361\n",
      "End Epoch 78 (0.455 secs): err(train) = 0.000361\n",
      "End Epoch 79 (0.448 secs): err(train) = 0.000361\n",
      "End Epoch 80 (0.454 secs): err(train) = 0.000361\n",
      "End Epoch 81 (0.450 secs): err(train) = 0.000361\n",
      "End Epoch 82 (0.458 secs): err(train) = 0.000359\n",
      "End Epoch 83 (0.449 secs): err(train) = 0.000356\n",
      "End Epoch 84 (0.449 secs): err(train) = 0.000354\n",
      "End Epoch 85 (0.453 secs): err(train) = 0.000352\n",
      "End Epoch 86 (0.451 secs): err(train) = 0.000352\n",
      "End Epoch 87 (0.454 secs): err(train) = 0.000351\n",
      "End Epoch 88 (0.448 secs): err(train) = 0.000351\n",
      "End Epoch 89 (0.458 secs): err(train) = 0.000349\n",
      "End Epoch 90 (0.449 secs): err(train) = 0.000348\n",
      "End Epoch 91 (0.459 secs): err(train) = 0.000346\n",
      "End Epoch 92 (0.448 secs): err(train) = 0.000345\n",
      "End Epoch 93 (0.459 secs): err(train) = 0.000345\n",
      "End Epoch 94 (0.452 secs): err(train) = 0.000344\n",
      "End Epoch 95 (0.458 secs): err(train) = 0.000344\n",
      "End Epoch 96 (0.448 secs): err(train) = 0.000343\n",
      "End Epoch 97 (0.459 secs): err(train) = 0.000341\n",
      "End Epoch 98 (0.451 secs): err(train) = 0.000340\n",
      "End Epoch 99 (0.457 secs): err(train) = 0.000339\n",
      "End Epoch 100 (0.448 secs): err(train) = 0.000338\n",
      "\n"
     ]
    }
   ],
   "source": [
    "def experiment():\n",
    "    return model.run(npz_path=npz_one_instance_prefix,\n",
    "                     epochs=100,\n",
    "                     batch_size = batch_size,\n",
    "                     enc_num_units = 400,\n",
    "                     dec_num_units = 400,\n",
    "                     ts_len=210,\n",
    "                     learning_rate = 1e-4,\n",
    "                     preds_gather_enabled = False,\n",
    "                    )\n",
    "dyn_stats = experiment()"
   ]
  },
  {
   "cell_type": "code",
   "execution_count": 17,
   "metadata": {},
   "outputs": [
    {
     "data": {
      "text/plain": [
       "([<matplotlib.figure.Figure at 0x7fe0ac2cd910>],\n",
       " [<matplotlib.axes._subplots.AxesSubplot at 0x7fdfefdcc410>])"
      ]
     },
     "execution_count": 17,
     "metadata": {},
     "output_type": "execute_result"
    },
    {
     "data": {
      "image/png": "[encoded data removed]",
      "text/plain": [
       "<matplotlib.figure.Figure at 0x7fe0ac2cd910>"
      ]
     },
     "metadata": {},
     "output_type": "display_data"
    }
   ],
   "source": [
    "dyn_stats.plotStats()"
   ]
  },
  {
   "cell_type": "markdown",
   "metadata": {},
   "source": [
    "#### Conclusion\n",
    "For one instance that is the most easy case it seems to be trainable, let's get the predicted values to observe how it actually looks like"
   ]
  },
  {
   "cell_type": "markdown",
   "metadata": {},
   "source": [
    "### Step 3 training the network"
   ]
  },
  {
   "cell_type": "code",
   "execution_count": 10,
   "metadata": {
    "collapsed": true
   },
   "outputs": [],
   "source": [
    "model = PriceHistoryAutoencoder(rng=random_state, dtype=dtype, config=config)"
   ]
  },
  {
   "cell_type": "code",
   "execution_count": 11,
   "metadata": {},
   "outputs": [
    {
     "data": {
      "text/plain": [
       "1"
      ]
     },
     "execution_count": 11,
     "metadata": {},
     "output_type": "execute_result"
    }
   ],
   "source": [
    "batch_size"
   ]
  },
  {
   "cell_type": "code",
   "execution_count": 12,
   "metadata": {},
   "outputs": [
    {
     "data": {
      "text/plain": [
       "'/home/studenthp/Dropbox/data/price_hist_autoencoder/price_history_seqs_dates_normed_one_instance_test.npz'"
      ]
     },
     "execution_count": 12,
     "metadata": {},
     "output_type": "execute_result"
    }
   ],
   "source": [
    "npz_test = npz_one_instance_prefix + '_test.npz'\n",
    "assert path.isfile(npz_test)\n",
    "path.abspath(npz_test)"
   ]
  },
  {
   "cell_type": "code",
   "execution_count": 13,
   "metadata": {
    "collapsed": true
   },
   "outputs": [],
   "source": [
    "def experiment():\n",
    "    return model.run(npz_path=npz_one_instance_prefix,\n",
    "                     epochs=100,\n",
    "                     batch_size = batch_size,\n",
    "                     enc_num_units = 400,\n",
    "                     dec_num_units = 400,\n",
    "                     ts_len=210,\n",
    "                     learning_rate = 1e-4,\n",
    "                     preds_gather_enabled = True,\n",
    "                    )"
   ]
  },
  {
   "cell_type": "code",
   "execution_count": 14,
   "metadata": {
    "scrolled": true
   },
   "outputs": [
    {
     "name": "stdout",
     "output_type": "stream",
     "text": [
      "epochs: 100\n",
      "dec_num_units: 400\n",
      "learning_rate: 0.0001\n",
      "enc_num_units: 400\n",
      "End Epoch 01 (4.590 secs): err(train) = 0.029315\n",
      "End Epoch 02 (0.457 secs): err(train) = 0.019486\n",
      "End Epoch 03 (0.450 secs): err(train) = 0.018148\n",
      "End Epoch 04 (0.455 secs): err(train) = 0.017070\n",
      "End Epoch 05 (0.449 secs): err(train) = 0.014101\n",
      "End Epoch 06 (0.457 secs): err(train) = 0.010726\n",
      "End Epoch 07 (0.448 secs): err(train) = 0.008404\n",
      "End Epoch 08 (0.459 secs): err(train) = 0.007487\n",
      "End Epoch 09 (0.452 secs): err(train) = 0.007176\n",
      "End Epoch 10 (0.458 secs): err(train) = 0.006478\n",
      "End Epoch 11 (0.451 secs): err(train) = 0.005189\n",
      "End Epoch 12 (0.455 secs): err(train) = 0.003809\n",
      "End Epoch 13 (0.452 secs): err(train) = 0.002897\n",
      "End Epoch 14 (0.458 secs): err(train) = 0.002591\n",
      "End Epoch 15 (0.452 secs): err(train) = 0.002549\n",
      "End Epoch 16 (0.454 secs): err(train) = 0.002336\n",
      "End Epoch 17 (0.451 secs): err(train) = 0.001847\n",
      "End Epoch 18 (0.460 secs): err(train) = 0.001333\n",
      "End Epoch 19 (0.454 secs): err(train) = 0.001101\n",
      "End Epoch 20 (0.454 secs): err(train) = 0.001210\n",
      "End Epoch 21 (0.452 secs): err(train) = 0.001426\n",
      "End Epoch 22 (0.458 secs): err(train) = 0.001473\n",
      "End Epoch 23 (0.451 secs): err(train) = 0.001306\n",
      "End Epoch 24 (0.454 secs): err(train) = 0.001101\n",
      "End Epoch 25 (0.453 secs): err(train) = 0.001031\n",
      "End Epoch 26 (0.455 secs): err(train) = 0.001087\n",
      "End Epoch 27 (0.451 secs): err(train) = 0.001113\n",
      "End Epoch 28 (0.455 secs): err(train) = 0.001003\n",
      "End Epoch 29 (0.452 secs): err(train) = 0.000811\n",
      "End Epoch 30 (0.458 secs): err(train) = 0.000671\n",
      "End Epoch 31 (0.452 secs): err(train) = 0.000647\n",
      "End Epoch 32 (0.455 secs): err(train) = 0.000681\n",
      "End Epoch 33 (0.452 secs): err(train) = 0.000679\n",
      "End Epoch 34 (0.459 secs): err(train) = 0.000613\n",
      "End Epoch 35 (0.453 secs): err(train) = 0.000540\n",
      "End Epoch 36 (0.459 secs): err(train) = 0.000519\n",
      "End Epoch 37 (0.452 secs): err(train) = 0.000548\n",
      "End Epoch 38 (0.459 secs): err(train) = 0.000575\n",
      "End Epoch 39 (0.451 secs): err(train) = 0.000561\n",
      "End Epoch 40 (0.455 secs): err(train) = 0.000520\n",
      "End Epoch 41 (0.453 secs): err(train) = 0.000493\n",
      "End Epoch 42 (0.457 secs): err(train) = 0.000496\n",
      "End Epoch 43 (0.454 secs): err(train) = 0.000509\n",
      "End Epoch 44 (0.450 secs): err(train) = 0.000504\n",
      "End Epoch 45 (0.453 secs): err(train) = 0.000473\n",
      "End Epoch 46 (0.453 secs): err(train) = 0.000440\n",
      "End Epoch 47 (0.455 secs): err(train) = 0.000424\n",
      "End Epoch 48 (0.451 secs): err(train) = 0.000423\n",
      "End Epoch 49 (0.454 secs): err(train) = 0.000420\n",
      "End Epoch 50 (0.452 secs): err(train) = 0.000402\n",
      "End Epoch 51 (0.458 secs): err(train) = 0.000381\n",
      "End Epoch 52 (0.454 secs): err(train) = 0.000370\n",
      "End Epoch 53 (0.454 secs): err(train) = 0.000372\n",
      "End Epoch 54 (0.451 secs): err(train) = 0.000375\n",
      "End Epoch 55 (0.459 secs): err(train) = 0.000369\n",
      "End Epoch 56 (0.453 secs): err(train) = 0.000358\n",
      "End Epoch 57 (0.455 secs): err(train) = 0.000350\n",
      "End Epoch 58 (0.452 secs): err(train) = 0.000349\n",
      "End Epoch 59 (0.458 secs): err(train) = 0.000350\n",
      "End Epoch 60 (0.452 secs): err(train) = 0.000345\n",
      "End Epoch 61 (0.456 secs): err(train) = 0.000337\n",
      "End Epoch 62 (0.452 secs): err(train) = 0.000331\n",
      "End Epoch 63 (0.458 secs): err(train) = 0.000330\n",
      "End Epoch 64 (0.451 secs): err(train) = 0.000330\n",
      "End Epoch 65 (0.455 secs): err(train) = 0.000328\n",
      "End Epoch 66 (0.451 secs): err(train) = 0.000323\n",
      "End Epoch 67 (0.457 secs): err(train) = 0.000319\n",
      "End Epoch 68 (0.454 secs): err(train) = 0.000318\n",
      "End Epoch 69 (0.455 secs): err(train) = 0.000318\n",
      "End Epoch 70 (0.453 secs): err(train) = 0.000316\n",
      "End Epoch 71 (0.459 secs): err(train) = 0.000312\n",
      "End Epoch 72 (0.452 secs): err(train) = 0.000309\n",
      "End Epoch 73 (0.452 secs): err(train) = 0.000308\n",
      "End Epoch 74 (0.453 secs): err(train) = 0.000306\n",
      "End Epoch 75 (0.453 secs): err(train) = 0.000303\n",
      "End Epoch 76 (0.456 secs): err(train) = 0.000300\n",
      "End Epoch 77 (0.451 secs): err(train) = 0.000298\n",
      "End Epoch 78 (0.454 secs): err(train) = 0.000296\n",
      "End Epoch 79 (0.453 secs): err(train) = 0.000295\n",
      "End Epoch 80 (0.460 secs): err(train) = 0.000293\n",
      "End Epoch 81 (0.454 secs): err(train) = 0.000291\n",
      "End Epoch 82 (0.453 secs): err(train) = 0.000290\n",
      "End Epoch 83 (0.453 secs): err(train) = 0.000289\n",
      "End Epoch 84 (0.458 secs): err(train) = 0.000288\n",
      "End Epoch 85 (0.452 secs): err(train) = 0.000286\n",
      "End Epoch 86 (0.456 secs): err(train) = 0.000285\n",
      "End Epoch 87 (0.453 secs): err(train) = 0.000284\n",
      "End Epoch 88 (0.459 secs): err(train) = 0.000283\n",
      "End Epoch 89 (0.453 secs): err(train) = 0.000281\n",
      "End Epoch 90 (0.456 secs): err(train) = 0.000280\n",
      "End Epoch 91 (0.453 secs): err(train) = 0.000278\n",
      "End Epoch 92 (0.457 secs): err(train) = 0.000277\n",
      "End Epoch 93 (0.453 secs): err(train) = 0.000276\n",
      "End Epoch 94 (0.457 secs): err(train) = 0.000275\n",
      "End Epoch 95 (0.453 secs): err(train) = 0.000273\n",
      "End Epoch 96 (0.460 secs): err(train) = 0.000272\n",
      "End Epoch 97 (0.454 secs): err(train) = 0.000271\n",
      "End Epoch 98 (0.456 secs): err(train) = 0.000270\n",
      "End Epoch 99 (0.453 secs): err(train) = 0.000269\n",
      "End Epoch 100 (0.459 secs): err(train) = 0.000268\n",
      "total test error: 0.000276796869002\n",
      "\n"
     ]
    }
   ],
   "source": [
    "#%%time\n",
    "dyn_stats, preds_dict, targets = get_or_run_nn(experiment, filename='032_autoencoder_000',\n",
    "                                              nn_runs_folder = data_path + \"/nn_runs\")"
   ]
  },
  {
   "cell_type": "code",
   "execution_count": 15,
   "metadata": {},
   "outputs": [
    {
     "data": {
      "image/png": "[encoded data removed]",
      "text/plain": [
       "<matplotlib.figure.Figure at 0x7f8aca758690>"
      ]
     },
     "metadata": {},
     "output_type": "display_data"
    }
   ],
   "source": [
    "dyn_stats.plotStats()\n",
    "plt.show()"
   ]
  },
  {
   "cell_type": "code",
   "execution_count": 16,
   "metadata": {
    "collapsed": true
   },
   "outputs": [],
   "source": [
    "r2_scores = [r2_score(y_true=targets[ind], y_pred=preds_dict[ind])\n",
    "            for ind in range(len(targets))]"
   ]
  },
  {
   "cell_type": "code",
   "execution_count": 17,
   "metadata": {},
   "outputs": [
    {
     "data": {
      "text/plain": [
       "0"
      ]
     },
     "execution_count": 17,
     "metadata": {},
     "output_type": "execute_result"
    }
   ],
   "source": [
    "ind = np.argmin(r2_scores)\n",
    "ind"
   ]
  },
  {
   "cell_type": "code",
   "execution_count": 18,
   "metadata": {
    "collapsed": true
   },
   "outputs": [],
   "source": [
    "reals = targets[ind]\n",
    "preds = preds_dict[ind]"
   ]
  },
  {
   "cell_type": "code",
   "execution_count": 19,
   "metadata": {},
   "outputs": [
    {
     "data": {
      "text/plain": [
       "0.89776930088972395"
      ]
     },
     "execution_count": 19,
     "metadata": {},
     "output_type": "execute_result"
    }
   ],
   "source": [
    "r2_score(y_true=reals, y_pred=preds)"
   ]
  },
  {
   "cell_type": "code",
   "execution_count": 20,
   "metadata": {
    "collapsed": true
   },
   "outputs": [],
   "source": [
    "#sns.tsplot(data=dp.inputs[ind].flatten())"
   ]
  },
  {
   "cell_type": "code",
   "execution_count": 21,
   "metadata": {},
   "outputs": [
    {
     "data": {
      "image/png": "[encoded data removed]",
      "text/plain": [
       "<matplotlib.figure.Figure at 0x7f8ab0201090>"
      ]
     },
     "metadata": {},
     "output_type": "display_data"
    }
   ],
   "source": [
    "fig = plt.figure(figsize=(15,6))\n",
    "plt.plot(reals, 'b')\n",
    "plt.plot(preds, 'g')\n",
    "plt.legend(['reals','preds'])\n",
    "plt.show()"
   ]
  },
  {
   "cell_type": "code",
   "execution_count": 22,
   "metadata": {},
   "outputs": [
    {
     "name": "stdout",
     "output_type": "stream",
     "text": [
      "CPU times: user 32 ms, sys: 12 ms, total: 44 ms\n",
      "Wall time: 36.2 ms\n"
     ]
    }
   ],
   "source": [
    "%%time\n",
    "dtw_scores = [fastdtw(targets[ind], preds_dict[ind])[0]\n",
    "             for ind in range(len(targets))]"
   ]
  },
  {
   "cell_type": "code",
   "execution_count": 23,
   "metadata": {},
   "outputs": [
    {
     "data": {
      "text/plain": [
       "3.3418800933828439"
      ]
     },
     "execution_count": 23,
     "metadata": {},
     "output_type": "execute_result"
    }
   ],
   "source": [
    "np.mean(dtw_scores)"
   ]
  },
  {
   "cell_type": "code",
   "execution_count": 24,
   "metadata": {},
   "outputs": [
    {
     "data": {
      "text/plain": [
       "(-2.7974720536922266,\n",
       " 0.16649034247125227,\n",
       " array([-3.94960898, -3.36552113, -3.06480509]))"
      ]
     },
     "execution_count": 24,
     "metadata": {},
     "output_type": "execute_result"
    }
   ],
   "source": [
    "coint(preds, reals)"
   ]
  },
  {
   "cell_type": "code",
   "execution_count": 25,
   "metadata": {
    "scrolled": false
   },
   "outputs": [
    {
     "data": {
      "image/png": "[encoded data removed]",
      "text/plain": [
       "<matplotlib.figure.Figure at 0x7f8ab0043ed0>"
      ]
     },
     "metadata": {},
     "output_type": "display_data"
    }
   ],
   "source": [
    "cur_ind = np.random.randint(len(targets))\n",
    "reals = targets[cur_ind]\n",
    "preds = preds_dict[cur_ind]\n",
    "fig = plt.figure(figsize=(15,6))\n",
    "plt.plot(reals, 'b', label='reals')\n",
    "plt.plot(preds, 'g')\n",
    "plt.legend(['reals','preds'])\n",
    "plt.show()"
   ]
  },
  {
   "cell_type": "markdown",
   "metadata": {},
   "source": [
    "### Conclusion\n",
    "So we see visually that the autoencoder for the time series at least for the very easy case of training (super-overfitting!!) on only one instance it works pretty well, at the end we have an autoencoder that is able to resemble the original input"
   ]
  },
  {
   "cell_type": "code",
   "execution_count": null,
   "metadata": {
    "collapsed": true
   },
   "outputs": [],
   "source": []
  }
 ],
 "metadata": {
  "kernelspec": {
   "display_name": "Python 2",
   "language": "python",
   "name": "python2"
  },
  "language_info": {
   "codemirror_mode": {
    "name": "ipython",
    "version": 2
   },
   "file_extension": ".py",
   "mimetype": "text/x-python",
   "name": "python",
   "nbconvert_exporter": "python",
   "pygments_lexer": "ipython2",
   "version": "2.7.13"
  }
 },
 "nbformat": 4,
 "nbformat_minor": 2
}
