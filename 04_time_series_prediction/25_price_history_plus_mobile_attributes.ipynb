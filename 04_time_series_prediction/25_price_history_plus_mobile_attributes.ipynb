{
 "cells": [
  {
   "cell_type": "code",
   "execution_count": 1,
   "metadata": {
    "collapsed": true
   },
   "outputs": [],
   "source": [
    "# -*- coding: UTF-8 -*-\n",
    "#%load_ext autoreload\n",
    "%reload_ext autoreload\n",
    "%autoreload 2"
   ]
  },
  {
   "cell_type": "code",
   "execution_count": 2,
   "metadata": {},
   "outputs": [
    {
     "name": "stderr",
     "output_type": "stream",
     "text": [
      "/home/student/anaconda2/envs/dis/lib/python2.7/site-packages/statsmodels/compat/pandas.py:56: FutureWarning: The pandas.core.datetools module is deprecated and will be removed in a future version. Please use the pandas.tseries module instead.\n",
      "  from pandas.core import datetools\n"
     ]
    }
   ],
   "source": [
    "from __future__ import division\n",
    "import tensorflow as tf\n",
    "from os import path, remove\n",
    "import numpy as np\n",
    "import pandas as pd\n",
    "import csv\n",
    "from sklearn.model_selection import StratifiedShuffleSplit\n",
    "from time import time\n",
    "from matplotlib import pyplot as plt\n",
    "import seaborn as sns\n",
    "from mylibs.jupyter_notebook_helper import show_graph, renderStatsList, renderStatsCollection, \\\n",
    "    renderStatsListWithLabels, renderStatsCollectionOfCrossValids\n",
    "from tensorflow.contrib import rnn\n",
    "from tensorflow.contrib import learn\n",
    "import shutil\n",
    "from tensorflow.contrib.learn.python.learn import learn_runner\n",
    "from mylibs.tf_helper import getDefaultGPUconfig\n",
    "from sklearn.metrics import r2_score\n",
    "from mylibs.py_helper import factors\n",
    "from fastdtw import fastdtw\n",
    "from collections import OrderedDict\n",
    "from scipy.spatial.distance import euclidean\n",
    "from statsmodels.tsa.stattools import coint\n",
    "from common import get_or_run_nn\n",
    "from data_providers.price_history_seq2seq_data_provider import PriceHistorySeq2SeqDataProvider\n",
    "from data_providers.price_history_dataset_generator import PriceHistoryDatasetGenerator\n",
    "from skopt.space.space import Integer, Real\n",
    "from skopt import gp_minimize\n",
    "from skopt.plots import plot_convergence\n",
    "import pickle\n",
    "import inspect\n",
    "import dill\n",
    "import sys\n",
    "#from models.price_history_21_seq2seq_dyn_dec_ins import PriceHistorySeq2SeqDynDecIns\n",
    "from data_providers.PriceHistoryMobileAttrsCombinator import PriceHistoryMobileAttrsCombinator"
   ]
  },
  {
   "cell_type": "code",
   "execution_count": 3,
   "metadata": {
    "collapsed": true
   },
   "outputs": [],
   "source": [
    "dtype = tf.float32\n",
    "seed = 16011984\n",
    "random_state = np.random.RandomState(seed=seed)\n",
    "config = getDefaultGPUconfig()\n",
    "n_jobs = 1\n",
    "%matplotlib inline"
   ]
  },
  {
   "cell_type": "markdown",
   "metadata": {},
   "source": [
    "### Step 0 - hyperparams"
   ]
  },
  {
   "cell_type": "markdown",
   "metadata": {},
   "source": [
    "vocab_size is all the potential words you could have (classification for translation case)\n",
    "and max sequence length are the SAME thing\n",
    "\n",
    "decoder RNN hidden units are usually same size as encoder RNN hidden units in translation but for our case it does not seem really to be a relationship there but we can experiment and find out later, not a priority thing right now"
   ]
  },
  {
   "cell_type": "code",
   "execution_count": 4,
   "metadata": {
    "collapsed": true
   },
   "outputs": [],
   "source": [
    "num_units = 400 #state size\n",
    "\n",
    "input_len = 60\n",
    "target_len = 30\n",
    "\n",
    "batch_size = 50\n",
    "with_EOS = False"
   ]
  },
  {
   "cell_type": "code",
   "execution_count": 18,
   "metadata": {
    "collapsed": true
   },
   "outputs": [],
   "source": [
    "total_train_size = 57994"
   ]
  },
  {
   "cell_type": "markdown",
   "metadata": {},
   "source": [
    "### Combine data"
   ]
  },
  {
   "cell_type": "code",
   "execution_count": 6,
   "metadata": {
    "collapsed": true
   },
   "outputs": [],
   "source": [
    "ph_data_path = '../data/price_history'"
   ]
  },
  {
   "cell_type": "code",
   "execution_count": 7,
   "metadata": {},
   "outputs": [],
   "source": [
    "# npz_full_train = data_path+'/price_history_03_dp_60to30_global_remove_scale_targets_normed_train.npz'\n",
    "# npz_full_train_mobattrs = data_path + \\\n",
    "#     '/price_history_03_dp_60to30_global_remove_scale_targets_normed_mobattrs_train.npz'\n",
    "\n",
    "# npz_train = data_path + '/price_history_03_dp_60to30_6400_global_remove_scale_targets_normed_train.npz'\n",
    "# npz_train_mobattrs = data_path + \\\n",
    "#     '/price_history_03_dp_60to30_6400_global_remove_scale_targets_normed_mobattrs_train.npz'\n",
    "\n",
    "# npz_test = ph_data_path + '/price_history_03_dp_60to30_global_remove_scale_targets_normed_test.npz'\n",
    "# npz_test_mobattrs = ph_data_path + \\\n",
    "#     '/price_history_03_dp_60to30_global_remove_scale_targets_normed_mobattrs_test.npz'"
   ]
  },
  {
   "cell_type": "code",
   "execution_count": null,
   "metadata": {
    "collapsed": true
   },
   "outputs": [],
   "source": []
  },
  {
   "cell_type": "code",
   "execution_count": 8,
   "metadata": {},
   "outputs": [],
   "source": [
    "#npz_full = ph_data_path + '/price_history_dp_60to30_57994.npz'\n",
    "npz_train = ph_data_path + '/price_history_dp_60to30_57994_46400_train.npz'\n",
    "npz_train_mobattrs = ph_data_path + '/price_history_mobattrs_dp_60to30_57994_train.npz'\n",
    "\n",
    "npz_test = ph_data_path + '/price_history_dp_60to30_57994_11584_test.npz'\n",
    "npz_test_mobattrs = ph_data_path + '/price_history_mobattrs_dp_60to30_57994_test.npz'"
   ]
  },
  {
   "cell_type": "code",
   "execution_count": 9,
   "metadata": {
    "collapsed": true
   },
   "outputs": [],
   "source": [
    "combinator = PriceHistoryMobileAttrsCombinator()"
   ]
  },
  {
   "cell_type": "code",
   "execution_count": null,
   "metadata": {
    "collapsed": true
   },
   "outputs": [],
   "source": []
  },
  {
   "cell_type": "code",
   "execution_count": 10,
   "metadata": {},
   "outputs": [
    {
     "name": "stdout",
     "output_type": "stream",
     "text": [
      "CPU times: user 1.4 s, sys: 24 ms, total: 1.43 s\n",
      "Wall time: 1.43 s\n"
     ]
    }
   ],
   "source": [
    "%%time\n",
    "dic, inds, count_key_errors, key_errors = combinator.combine(npz_in=npz_test)"
   ]
  },
  {
   "cell_type": "code",
   "execution_count": 11,
   "metadata": {
    "collapsed": true
   },
   "outputs": [],
   "source": [
    "np.savez(npz_test_mobattrs, **dic)"
   ]
  },
  {
   "cell_type": "code",
   "execution_count": 12,
   "metadata": {},
   "outputs": [
    {
     "data": {
      "text/plain": [
       "(78,\n",
       " {6808527,\n",
       "  7356761,\n",
       "  7509017,\n",
       "  7562927,\n",
       "  8130418,\n",
       "  9195103,\n",
       "  9333571,\n",
       "  11057089,\n",
       "  11213132})"
      ]
     },
     "execution_count": 12,
     "metadata": {},
     "output_type": "execute_result"
    }
   ],
   "source": [
    "count_key_errors, key_errors"
   ]
  },
  {
   "cell_type": "code",
   "execution_count": 13,
   "metadata": {},
   "outputs": [
    {
     "name": "stdout",
     "output_type": "stream",
     "text": [
      "(11506, 60, 1)\n",
      "(11506,)\n",
      "(11506, 60)\n",
      "(11506, 30)\n",
      "(11506,)\n",
      "(11506, 139)\n"
     ]
    }
   ],
   "source": [
    "print dic['inputs'].shape\n",
    "print dic['sku_ids'].shape\n",
    "print dic['sequence_masks'].shape\n",
    "print dic['targets'].shape\n",
    "print dic['sequence_lengths'].shape\n",
    "print dic['mobile_attrs'].shape"
   ]
  },
  {
   "cell_type": "code",
   "execution_count": null,
   "metadata": {
    "collapsed": true
   },
   "outputs": [],
   "source": []
  },
  {
   "cell_type": "code",
   "execution_count": 14,
   "metadata": {},
   "outputs": [
    {
     "name": "stdout",
     "output_type": "stream",
     "text": [
      "CPU times: user 7.92 s, sys: 80 ms, total: 8 s\n",
      "Wall time: 7.95 s\n"
     ]
    }
   ],
   "source": [
    "%%time\n",
    "dic, inds, count_key_errors, key_errors = combinator.combine(npz_in=npz_train)"
   ]
  },
  {
   "cell_type": "code",
   "execution_count": 15,
   "metadata": {
    "collapsed": true
   },
   "outputs": [],
   "source": [
    "np.savez(npz_train_mobattrs, **dic)"
   ]
  },
  {
   "cell_type": "code",
   "execution_count": 16,
   "metadata": {},
   "outputs": [
    {
     "data": {
      "text/plain": [
       "(313,\n",
       " {6808527,\n",
       "  7356761,\n",
       "  7509017,\n",
       "  7562927,\n",
       "  8130418,\n",
       "  9195103,\n",
       "  9333571,\n",
       "  11057089,\n",
       "  11213132})"
      ]
     },
     "execution_count": 16,
     "metadata": {},
     "output_type": "execute_result"
    }
   ],
   "source": [
    "count_key_errors, key_errors"
   ]
  },
  {
   "cell_type": "code",
   "execution_count": 17,
   "metadata": {},
   "outputs": [
    {
     "name": "stdout",
     "output_type": "stream",
     "text": [
      "(46087, 60, 1)\n",
      "(46087,)\n",
      "(46087, 60)\n",
      "(46087, 30)\n",
      "(46087,)\n",
      "(46087, 139)\n"
     ]
    }
   ],
   "source": [
    "print dic['inputs'].shape\n",
    "print dic['sku_ids'].shape\n",
    "print dic['sequence_masks'].shape\n",
    "print dic['targets'].shape\n",
    "print dic['sequence_lengths'].shape\n",
    "print dic['mobile_attrs'].shape"
   ]
  },
  {
   "cell_type": "code",
   "execution_count": 22,
   "metadata": {
    "collapsed": true
   },
   "outputs": [],
   "source": [
    "train_size = 46000\n",
    "test_size = 11500"
   ]
  },
  {
   "cell_type": "code",
   "execution_count": 23,
   "metadata": {
    "collapsed": true
   },
   "outputs": [],
   "source": [
    "npz_train_mobattrs_dropped = ph_data_path + '/price_history_mobattrs_dp_60to30_57994_{}_train.npz'.format(\n",
    "    train_size)\n",
    "npz_test_mobattrs_dropped = ph_data_path + '/price_history_mobattrs_dp_60to30_57994_{}_test.npz'.format(\n",
    "    test_size)"
   ]
  },
  {
   "cell_type": "code",
   "execution_count": 24,
   "metadata": {},
   "outputs": [],
   "source": [
    "PriceHistoryDatasetGenerator.create_subsampled(inpath=npz_train_mobattrs, target_size=train_size,\n",
    "                                               outpath=npz_train_mobattrs_dropped, random_state=random_state)"
   ]
  },
  {
   "cell_type": "code",
   "execution_count": 25,
   "metadata": {
    "collapsed": true
   },
   "outputs": [],
   "source": [
    "PriceHistoryDatasetGenerator.create_subsampled(inpath=npz_test_mobattrs, target_size=test_size,\n",
    "                                               outpath=npz_test_mobattrs_dropped, random_state=random_state)"
   ]
  },
  {
   "cell_type": "code",
   "execution_count": null,
   "metadata": {
    "collapsed": true
   },
   "outputs": [],
   "source": []
  }
 ],
 "metadata": {
  "kernelspec": {
   "display_name": "Python 2",
   "language": "python",
   "name": "python2"
  },
  "language_info": {
   "codemirror_mode": {
    "name": "ipython",
    "version": 2
   },
   "file_extension": ".py",
   "mimetype": "text/x-python",
   "name": "python",
   "nbconvert_exporter": "python",
   "pygments_lexer": "ipython2",
   "version": "2.7.13"
  }
 },
 "nbformat": 4,
 "nbformat_minor": 2
}
