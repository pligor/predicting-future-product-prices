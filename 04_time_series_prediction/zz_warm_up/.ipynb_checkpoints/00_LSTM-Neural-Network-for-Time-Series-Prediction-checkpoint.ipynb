{
 "cells": [
  {
   "cell_type": "code",
   "execution_count": 7,
   "metadata": {
    "collapsed": true
   },
   "outputs": [],
   "source": [
    "# -*- coding: UTF-8 -*-\n",
    "#%load_ext autoreload\n",
    "%reload_ext autoreload\n",
    "%autoreload 2"
   ]
  },
  {
   "cell_type": "markdown",
   "metadata": {},
   "source": [
    "http://colah.github.io/posts/2015-08-Understanding-LSTMs/\n",
    "\n",
    "http://www.jakob-aungiers.com/articles/a/LSTM-Neural-Network-for-Time-Series-Prediction"
   ]
  },
  {
   "cell_type": "code",
   "execution_count": 46,
   "metadata": {
    "collapsed": true
   },
   "outputs": [],
   "source": [
    "from __future__ import division\n",
    "import tensorflow as tf\n",
    "from os import path\n",
    "import numpy as np\n",
    "import pandas as pd\n",
    "import csv\n",
    "from sklearn.model_selection import StratifiedShuffleSplit\n",
    "from keras.models import Sequential\n",
    "from keras.layers import LSTM, Dropout, Dense, Activation\n",
    "from time import time\n",
    "from matplotlib import pyplot as plt"
   ]
  },
  {
   "cell_type": "code",
   "execution_count": 47,
   "metadata": {},
   "outputs": [
    {
     "data": {
      "text/plain": [
       "'1.1.0'"
      ]
     },
     "execution_count": 47,
     "metadata": {},
     "output_type": "execute_result"
    }
   ],
   "source": [
    "%matplotlib inline\n",
    "tf.__version__"
   ]
  },
  {
   "cell_type": "code",
   "execution_count": 51,
   "metadata": {
    "collapsed": true
   },
   "outputs": [],
   "source": [
    "def load_data(filename, seq_len, normalise_window):\n",
    "    f = open(filename, 'rb').read()\n",
    "    data = f.decode().split('\\n')\n",
    "\n",
    "    sequence_length = seq_len + 1\n",
    "    result = []\n",
    "    for index in range(len(data) - sequence_length):\n",
    "        result.append(data[index: index + sequence_length])\n",
    "\n",
    "    result = np.array(result)\n",
    "\n",
    "    row = round(0.9 * result.shape[0])\n",
    "    train = result[:int(row), :]\n",
    "    np.random.shuffle(train)\n",
    "    x_train = train[:, :-1]\n",
    "    y_train = train[:, -1]\n",
    "    x_test = result[int(row):, :-1]\n",
    "    y_test = result[int(row):, -1]\n",
    "    test = result[int(row):, :]\n",
    "\n",
    "    x_train = np.reshape(x_train, (x_train.shape[0], x_train.shape[1], 1))\n",
    "    x_test = np.reshape(x_test, (x_test.shape[0], x_test.shape[1], 1))  \n",
    "\n",
    "    return [x_train, y_train, x_test, y_test, test]"
   ]
  },
  {
   "cell_type": "code",
   "execution_count": 52,
   "metadata": {
    "collapsed": true
   },
   "outputs": [],
   "source": [
    "X_train, y_train, X_test, y_test, test = load_data('sinwave.csv',\n",
    "                                                   seq_len=50, normalise_window=None)"
   ]
  },
  {
   "cell_type": "code",
   "execution_count": 53,
   "metadata": {},
   "outputs": [
    {
     "data": {
      "text/plain": [
       "((4455, 50, 1), (4455,), (495, 50, 1), (495,))"
      ]
     },
     "execution_count": 53,
     "metadata": {},
     "output_type": "execute_result"
    }
   ],
   "source": [
    "X_train.shape, y_train.shape, X_test.shape, y_test.shape"
   ]
  },
  {
   "cell_type": "code",
   "execution_count": 30,
   "metadata": {
    "collapsed": true
   },
   "outputs": [],
   "source": [
    "def build_model(layers):\n",
    "    model = Sequential()\n",
    "    \n",
    "    model.add(LSTM(input_dim=layers[0], output_dim=layers[1], return_sequences=True))\n",
    "    \n",
    "    model.add(Dropout(0.2))\n",
    "    \n",
    "    model.add(LSTM(layers[2], return_sequences=False))\n",
    "    model.add(Dropout(0.2))\n",
    "    \n",
    "    model.add(Dense(output_dim=layers[3]))\n",
    "    model.add(Activation(\"linear\"))\n",
    "    \n",
    "    start = time()\n",
    "    model.compile(loss=\"mse\", optimizer=\"rmsprop\")\n",
    "    print \"compilation time: {}\".format(time() - start)\n",
    "    return model"
   ]
  },
  {
   "cell_type": "code",
   "execution_count": 31,
   "metadata": {
    "collapsed": true
   },
   "outputs": [],
   "source": [
    "epochs = 1\n",
    "seq_len = 50"
   ]
  },
  {
   "cell_type": "code",
   "execution_count": 32,
   "metadata": {},
   "outputs": [
    {
     "name": "stderr",
     "output_type": "stream",
     "text": [
      "/home/studenthp/anaconda2/envs/dis/lib/python2.7/site-packages/ipykernel_launcher.py:4: UserWarning: The `input_dim` and `input_length` arguments in recurrent layers are deprecated. Use `input_shape` instead.\n",
      "  after removing the cwd from sys.path.\n",
      "/home/studenthp/anaconda2/envs/dis/lib/python2.7/site-packages/ipykernel_launcher.py:4: UserWarning: Update your `LSTM` call to the Keras 2 API: `LSTM(units=50, return_sequences=True, input_shape=(None, 1))`\n",
      "  after removing the cwd from sys.path.\n"
     ]
    },
    {
     "name": "stdout",
     "output_type": "stream",
     "text": [
      "compilation time: 0.0149300098419\n"
     ]
    },
    {
     "name": "stderr",
     "output_type": "stream",
     "text": [
      "/home/studenthp/anaconda2/envs/dis/lib/python2.7/site-packages/ipykernel_launcher.py:11: UserWarning: Update your `Dense` call to the Keras 2 API: `Dense(units=1)`\n",
      "  # This is added back by InteractiveShellApp.init_path()\n"
     ]
    }
   ],
   "source": [
    "model = build_model([1,  # dimensionality of input, here we only have one\n",
    "                    50,  # dimensionality of lstm with 50 neurons\n",
    "                    100, # dimensionality of lstm with 100 neurons\n",
    "                    1  #dimensionality of output\n",
    "                    ])"
   ]
  },
  {
   "cell_type": "code",
   "execution_count": 33,
   "metadata": {},
   "outputs": [
    {
     "data": {
      "text/plain": [
       "8.701171875"
      ]
     },
     "execution_count": 33,
     "metadata": {},
     "output_type": "execute_result"
    }
   ],
   "source": [
    "X_train.shape[0]/512"
   ]
  },
  {
   "cell_type": "code",
   "execution_count": 34,
   "metadata": {},
   "outputs": [
    {
     "name": "stderr",
     "output_type": "stream",
     "text": [
      "/home/studenthp/anaconda2/envs/dis/lib/python2.7/site-packages/keras/models.py:826: UserWarning: The `nb_epoch` argument in `fit` has been renamed `epochs`.\n",
      "  warnings.warn('The `nb_epoch` argument in `fit` '\n"
     ]
    },
    {
     "name": "stdout",
     "output_type": "stream",
     "text": [
      "Train on 4232 samples, validate on 223 samples\n",
      "Epoch 1/1\n",
      "4232/4232 [==============================] - 6s - loss: 0.1963 - val_loss: 0.0306\n"
     ]
    },
    {
     "data": {
      "text/plain": [
       "<keras.callbacks.History at 0x7f2e827b03d0>"
      ]
     },
     "execution_count": 34,
     "metadata": {},
     "output_type": "execute_result"
    }
   ],
   "source": [
    "model.fit(X_train, y_train, batch_size=512, nb_epoch=epochs, validation_split=0.05)"
   ]
  },
  {
   "cell_type": "code",
   "execution_count": 75,
   "metadata": {
    "collapsed": true
   },
   "outputs": [],
   "source": [
    "def predict_point_by_point(model, data):\n",
    "    #Predict each timestep given the last sequence of true data,\n",
    "    # in effect only predicting 1 step ahead each time\n",
    "    predicted = model.predict(data)\n",
    "    #print predicted.shape\n",
    "    #predicted = np.reshape(predicted, (predicted.size,))\n",
    "    predicted = predicted.flatten()  #TODO flatten may be not ideal if we have more than one\n",
    "    return predicted"
   ]
  },
  {
   "cell_type": "code",
   "execution_count": 76,
   "metadata": {},
   "outputs": [],
   "source": [
    "preds = predict_point_by_point(model=model, data=X_test)"
   ]
  },
  {
   "cell_type": "code",
   "execution_count": 77,
   "metadata": {},
   "outputs": [
    {
     "data": {
      "text/plain": [
       "495"
      ]
     },
     "execution_count": 77,
     "metadata": {},
     "output_type": "execute_result"
    }
   ],
   "source": [
    "preds.size"
   ]
  },
  {
   "cell_type": "code",
   "execution_count": 78,
   "metadata": {},
   "outputs": [
    {
     "data": {
      "text/plain": [
       "(495,)"
      ]
     },
     "execution_count": 78,
     "metadata": {},
     "output_type": "execute_result"
    }
   ],
   "source": [
    "preds.shape"
   ]
  },
  {
   "cell_type": "code",
   "execution_count": 79,
   "metadata": {},
   "outputs": [
    {
     "data": {
      "text/plain": [
       "(495,)"
      ]
     },
     "execution_count": 79,
     "metadata": {},
     "output_type": "execute_result"
    }
   ],
   "source": [
    "tests = test[:, -1]\n",
    "tests.shape"
   ]
  },
  {
   "cell_type": "code",
   "execution_count": 80,
   "metadata": {},
   "outputs": [
    {
     "data": {
      "image/png": "[encoded data removed]",
      "text/plain": [
       "<matplotlib.figure.Figure at 0x7f2e7a12eb50>"
      ]
     },
     "metadata": {},
     "output_type": "display_data"
    }
   ],
   "source": [
    "fig = plt.figure(figsize=(14,6))\n",
    "plt.plot(preds, 'r')\n",
    "plt.plot(tests)\n",
    "plt.show()"
   ]
  },
  {
   "cell_type": "code",
   "execution_count": 81,
   "metadata": {
    "collapsed": true
   },
   "outputs": [],
   "source": [
    "#Predict with shifting window"
   ]
  },
  {
   "cell_type": "code",
   "execution_count": 131,
   "metadata": {},
   "outputs": [
    {
     "data": {
      "text/plain": [
       "(1, 50, 1)"
      ]
     },
     "execution_count": 131,
     "metadata": {},
     "output_type": "execute_result"
    }
   ],
   "source": [
    "X_test[0][np.newaxis].shape"
   ]
  },
  {
   "cell_type": "code",
   "execution_count": 82,
   "metadata": {},
   "outputs": [
    {
     "data": {
      "text/plain": [
       "(495, 50, 1)"
      ]
     },
     "execution_count": 82,
     "metadata": {},
     "output_type": "execute_result"
    }
   ],
   "source": [
    "X_test.shape"
   ]
  },
  {
   "cell_type": "code",
   "execution_count": 83,
   "metadata": {},
   "outputs": [
    {
     "data": {
      "text/plain": [
       "(4455, 50, 1)"
      ]
     },
     "execution_count": 83,
     "metadata": {},
     "output_type": "execute_result"
    }
   ],
   "source": [
    "X_train.shape"
   ]
  },
  {
   "cell_type": "code",
   "execution_count": 84,
   "metadata": {},
   "outputs": [
    {
     "name": "stdout",
     "output_type": "stream",
     "text": [
      "(50, 1)\n"
     ]
    }
   ],
   "source": [
    "for ii in X_test:\n",
    "    print ii.shape\n",
    "    break"
   ]
  },
  {
   "cell_type": "code",
   "execution_count": null,
   "metadata": {
    "collapsed": true
   },
   "outputs": [],
   "source": [
    "np.vstack( () )"
   ]
  },
  {
   "cell_type": "code",
   "execution_count": 93,
   "metadata": {},
   "outputs": [
    {
     "data": {
      "text/plain": [
       "(50, 1)"
      ]
     },
     "execution_count": 93,
     "metadata": {},
     "output_type": "execute_result"
    }
   ],
   "source": [
    "X_test[0].shape"
   ]
  },
  {
   "cell_type": "code",
   "execution_count": 96,
   "metadata": {},
   "outputs": [
    {
     "data": {
      "text/plain": [
       "(1, 1, 1)"
      ]
     },
     "execution_count": 96,
     "metadata": {},
     "output_type": "execute_result"
    }
   ],
   "source": [
    "dumpred = model.predict(X_test[0][np.newaxis])\n",
    "dumpred[np.newaxis].shape"
   ]
  },
  {
   "cell_type": "code",
   "execution_count": 106,
   "metadata": {},
   "outputs": [
    {
     "data": {
      "text/plain": [
       "(1, 1, 1)"
      ]
     },
     "execution_count": 106,
     "metadata": {},
     "output_type": "execute_result"
    }
   ],
   "source": [
    "somepred = dumpred[np.newaxis]\n",
    "somepred.shape"
   ]
  },
  {
   "cell_type": "code",
   "execution_count": 121,
   "metadata": {},
   "outputs": [
    {
     "data": {
      "text/plain": [
       "(49, 1)"
      ]
     },
     "execution_count": 121,
     "metadata": {},
     "output_type": "execute_result"
    }
   ],
   "source": [
    "X_test[0][1:].shape"
   ]
  },
  {
   "cell_type": "code",
   "execution_count": 108,
   "metadata": {},
   "outputs": [
    {
     "data": {
      "text/plain": [
       "(1, 50, 1)"
      ]
     },
     "execution_count": 108,
     "metadata": {},
     "output_type": "execute_result"
    }
   ],
   "source": [
    "np.vstack((X_test[0, 1:],\n",
    "          dumpred))[np.newaxis].shape"
   ]
  },
  {
   "cell_type": "code",
   "execution_count": 112,
   "metadata": {
    "collapsed": true
   },
   "outputs": [],
   "source": [
    "data = X_test"
   ]
  },
  {
   "cell_type": "code",
   "execution_count": 114,
   "metadata": {},
   "outputs": [
    {
     "data": {
      "text/plain": [
       "(495, 50, 1)"
      ]
     },
     "execution_count": 114,
     "metadata": {},
     "output_type": "execute_result"
    }
   ],
   "source": [
    "X_test.shape"
   ]
  },
  {
   "cell_type": "code",
   "execution_count": 118,
   "metadata": {},
   "outputs": [
    {
     "data": {
      "text/plain": [
       "495"
      ]
     },
     "execution_count": 118,
     "metadata": {},
     "output_type": "execute_result"
    }
   ],
   "source": [
    "X_test.shape[0]"
   ]
  },
  {
   "cell_type": "code",
   "execution_count": 119,
   "metadata": {},
   "outputs": [
    {
     "data": {
      "text/plain": [
       "(495, 1)"
      ]
     },
     "execution_count": 119,
     "metadata": {},
     "output_type": "execute_result"
    }
   ],
   "source": [
    "preds = np.empty( shape=(data.shape[0], data.shape[2]) )\n",
    "preds.shape"
   ]
  },
  {
   "cell_type": "code",
   "execution_count": 138,
   "metadata": {
    "collapsed": true
   },
   "outputs": [],
   "source": [
    "def predict_with_shifting_window(model, data):\n",
    "    cur_window = X_test[0]  #init\n",
    "    \n",
    "    preds = np.empty( (data.shape[0], data.shape[2]) )\n",
    "    for ii in range(len(data)):\n",
    "        #predict\n",
    "        one_step_pred = model.predict(cur_window[np.newaxis])\n",
    "        \n",
    "        #store\n",
    "        preds[ii, :] = one_step_pred\n",
    "        \n",
    "        #drop \"old\" (first) item from window and then insert the predicted one at the end\n",
    "        cur_window = np.vstack((cur_window[1:], one_step_pred))\n",
    "        #print cur_window.shape\n",
    "        \n",
    "    #print predicted.shape\n",
    "    #predicted = np.reshape(predicted, (predicted.size,))\n",
    "    return preds.flatten()"
   ]
  },
  {
   "cell_type": "code",
   "execution_count": 139,
   "metadata": {},
   "outputs": [
    {
     "name": "stdout",
     "output_type": "stream",
     "text": [
      "(50, 1)\n",
      "(50, 1)\n",
      "(50, 1)\n",
      "(50, 1)\n",
      "(50, 1)\n",
      "(50, 1)\n",
      "(50, 1)\n",
      "(50, 1)\n",
      "(50, 1)\n",
      "(50, 1)\n",
      "(50, 1)\n",
      "(50, 1)\n",
      "(50, 1)\n",
      "(50, 1)\n",
      "(50, 1)\n",
      "(50, 1)\n",
      "(50, 1)\n",
      "(50, 1)\n",
      "(50, 1)\n",
      "(50, 1)\n",
      "(50, 1)\n",
      "(50, 1)\n",
      "(50, 1)\n",
      "(50, 1)\n",
      "(50, 1)\n",
      "(50, 1)\n",
      "(50, 1)\n",
      "(50, 1)\n",
      "(50, 1)\n",
      "(50, 1)\n",
      "(50, 1)\n",
      "(50, 1)\n",
      "(50, 1)\n",
      "(50, 1)\n",
      "(50, 1)\n",
      "(50, 1)\n",
      "(50, 1)\n",
      "(50, 1)\n",
      "(50, 1)\n",
      "(50, 1)\n",
      "(50, 1)\n",
      "(50, 1)\n",
      "(50, 1)\n",
      "(50, 1)\n",
      "(50, 1)\n",
      "(50, 1)\n",
      "(50, 1)\n",
      "(50, 1)\n",
      "(50, 1)\n",
      "(50, 1)\n",
      "(50, 1)\n",
      "(50, 1)\n",
      "(50, 1)\n",
      "(50, 1)\n",
      "(50, 1)\n",
      "(50, 1)\n",
      "(50, 1)\n",
      "(50, 1)\n",
      "(50, 1)\n",
      "(50, 1)\n",
      "(50, 1)\n",
      "(50, 1)\n",
      "(50, 1)\n",
      "(50, 1)\n",
      "(50, 1)\n",
      "(50, 1)\n",
      "(50, 1)\n",
      "(50, 1)\n",
      "(50, 1)\n",
      "(50, 1)\n",
      "(50, 1)\n",
      "(50, 1)\n",
      "(50, 1)\n",
      "(50, 1)\n",
      "(50, 1)\n",
      "(50, 1)\n",
      "(50, 1)\n",
      "(50, 1)\n",
      "(50, 1)\n",
      "(50, 1)\n",
      "(50, 1)\n",
      "(50, 1)\n",
      "(50, 1)\n",
      "(50, 1)\n",
      "(50, 1)\n",
      "(50, 1)\n",
      "(50, 1)\n",
      "(50, 1)\n",
      "(50, 1)\n",
      "(50, 1)\n",
      "(50, 1)\n",
      "(50, 1)\n",
      "(50, 1)\n",
      "(50, 1)\n",
      "(50, 1)\n",
      "(50, 1)\n",
      "(50, 1)\n",
      "(50, 1)\n",
      "(50, 1)\n",
      "(50, 1)\n",
      "(50, 1)\n",
      "(50, 1)\n",
      "(50, 1)\n",
      "(50, 1)\n",
      "(50, 1)\n",
      "(50, 1)\n",
      "(50, 1)\n",
      "(50, 1)\n",
      "(50, 1)\n",
      "(50, 1)\n",
      "(50, 1)\n",
      "(50, 1)\n",
      "(50, 1)\n",
      "(50, 1)\n",
      "(50, 1)\n",
      "(50, 1)\n",
      "(50, 1)\n",
      "(50, 1)\n",
      "(50, 1)\n",
      "(50, 1)\n",
      "(50, 1)\n",
      "(50, 1)\n",
      "(50, 1)\n",
      "(50, 1)\n",
      "(50, 1)\n",
      "(50, 1)\n",
      "(50, 1)\n",
      "(50, 1)\n",
      "(50, 1)\n",
      "(50, 1)\n",
      "(50, 1)\n",
      "(50, 1)\n",
      "(50, 1)\n",
      "(50, 1)\n",
      "(50, 1)\n",
      "(50, 1)\n",
      "(50, 1)\n",
      "(50, 1)\n",
      "(50, 1)\n",
      "(50, 1)\n",
      "(50, 1)\n",
      "(50, 1)\n",
      "(50, 1)\n",
      "(50, 1)\n",
      "(50, 1)\n",
      "(50, 1)\n",
      "(50, 1)\n",
      "(50, 1)\n",
      "(50, 1)\n",
      "(50, 1)\n",
      "(50, 1)\n",
      "(50, 1)\n",
      "(50, 1)\n",
      "(50, 1)\n",
      "(50, 1)\n",
      "(50, 1)\n",
      "(50, 1)\n",
      "(50, 1)\n",
      "(50, 1)\n",
      "(50, 1)\n",
      "(50, 1)\n",
      "(50, 1)\n",
      "(50, 1)\n",
      "(50, 1)\n",
      "(50, 1)\n",
      "(50, 1)\n",
      "(50, 1)\n",
      "(50, 1)\n",
      "(50, 1)\n",
      "(50, 1)\n",
      "(50, 1)\n",
      "(50, 1)\n",
      "(50, 1)\n",
      "(50, 1)\n",
      "(50, 1)\n",
      "(50, 1)\n",
      "(50, 1)\n",
      "(50, 1)\n",
      "(50, 1)\n",
      "(50, 1)\n",
      "(50, 1)\n",
      "(50, 1)\n",
      "(50, 1)\n",
      "(50, 1)\n",
      "(50, 1)\n",
      "(50, 1)\n",
      "(50, 1)\n",
      "(50, 1)\n",
      "(50, 1)\n",
      "(50, 1)\n",
      "(50, 1)\n",
      "(50, 1)\n",
      "(50, 1)\n",
      "(50, 1)\n",
      "(50, 1)\n",
      "(50, 1)\n",
      "(50, 1)\n",
      "(50, 1)\n",
      "(50, 1)\n",
      "(50, 1)\n",
      "(50, 1)\n",
      "(50, 1)\n",
      "(50, 1)\n",
      "(50, 1)\n",
      "(50, 1)\n",
      "(50, 1)\n",
      "(50, 1)\n",
      "(50, 1)\n",
      "(50, 1)\n",
      "(50, 1)\n",
      "(50, 1)\n",
      "(50, 1)\n",
      "(50, 1)\n",
      "(50, 1)\n",
      "(50, 1)\n",
      "(50, 1)\n",
      "(50, 1)\n",
      "(50, 1)\n",
      "(50, 1)\n",
      "(50, 1)\n",
      "(50, 1)\n",
      "(50, 1)\n",
      "(50, 1)\n",
      "(50, 1)\n",
      "(50, 1)\n",
      "(50, 1)\n",
      "(50, 1)\n",
      "(50, 1)\n",
      "(50, 1)\n",
      "(50, 1)\n",
      "(50, 1)\n",
      "(50, 1)\n",
      "(50, 1)\n",
      "(50, 1)\n",
      "(50, 1)\n",
      "(50, 1)\n",
      "(50, 1)\n",
      "(50, 1)\n",
      "(50, 1)\n",
      "(50, 1)\n",
      "(50, 1)\n",
      "(50, 1)\n",
      "(50, 1)\n",
      "(50, 1)\n",
      "(50, 1)\n",
      "(50, 1)\n",
      "(50, 1)\n",
      "(50, 1)\n",
      "(50, 1)\n",
      "(50, 1)\n",
      "(50, 1)\n",
      "(50, 1)\n",
      "(50, 1)\n",
      "(50, 1)\n",
      "(50, 1)\n",
      "(50, 1)\n",
      "(50, 1)\n",
      "(50, 1)\n",
      "(50, 1)\n",
      "(50, 1)\n",
      "(50, 1)\n",
      "(50, 1)\n",
      "(50, 1)\n",
      "(50, 1)\n",
      "(50, 1)\n",
      "(50, 1)\n",
      "(50, 1)\n",
      "(50, 1)\n",
      "(50, 1)\n",
      "(50, 1)\n",
      "(50, 1)\n",
      "(50, 1)\n",
      "(50, 1)\n",
      "(50, 1)\n",
      "(50, 1)\n",
      "(50, 1)\n",
      "(50, 1)\n",
      "(50, 1)\n",
      "(50, 1)\n",
      "(50, 1)\n",
      "(50, 1)\n",
      "(50, 1)\n",
      "(50, 1)\n",
      "(50, 1)\n",
      "(50, 1)\n",
      "(50, 1)\n",
      "(50, 1)\n",
      "(50, 1)\n",
      "(50, 1)\n",
      "(50, 1)\n",
      "(50, 1)\n",
      "(50, 1)\n",
      "(50, 1)\n",
      "(50, 1)\n",
      "(50, 1)\n",
      "(50, 1)\n",
      "(50, 1)\n",
      "(50, 1)\n",
      "(50, 1)\n",
      "(50, 1)\n",
      "(50, 1)\n",
      "(50, 1)\n",
      "(50, 1)\n",
      "(50, 1)\n",
      "(50, 1)\n",
      "(50, 1)\n",
      "(50, 1)\n",
      "(50, 1)\n",
      "(50, 1)\n",
      "(50, 1)\n",
      "(50, 1)\n",
      "(50, 1)\n",
      "(50, 1)\n",
      "(50, 1)\n",
      "(50, 1)\n",
      "(50, 1)\n",
      "(50, 1)\n",
      "(50, 1)\n",
      "(50, 1)\n",
      "(50, 1)\n",
      "(50, 1)\n",
      "(50, 1)\n",
      "(50, 1)\n",
      "(50, 1)\n",
      "(50, 1)\n",
      "(50, 1)\n",
      "(50, 1)\n",
      "(50, 1)\n",
      "(50, 1)\n",
      "(50, 1)\n",
      "(50, 1)\n",
      "(50, 1)\n",
      "(50, 1)\n",
      "(50, 1)\n",
      "(50, 1)\n",
      "(50, 1)\n",
      "(50, 1)\n",
      "(50, 1)\n",
      "(50, 1)\n",
      "(50, 1)\n",
      "(50, 1)\n",
      "(50, 1)\n",
      "(50, 1)\n",
      "(50, 1)\n",
      "(50, 1)\n",
      "(50, 1)\n",
      "(50, 1)\n",
      "(50, 1)\n",
      "(50, 1)\n",
      "(50, 1)\n",
      "(50, 1)\n",
      "(50, 1)\n",
      "(50, 1)\n",
      "(50, 1)\n",
      "(50, 1)\n",
      "(50, 1)\n",
      "(50, 1)\n",
      "(50, 1)\n",
      "(50, 1)\n",
      "(50, 1)\n",
      "(50, 1)\n",
      "(50, 1)\n",
      "(50, 1)\n",
      "(50, 1)\n",
      "(50, 1)\n",
      "(50, 1)\n",
      "(50, 1)\n",
      "(50, 1)\n",
      "(50, 1)\n",
      "(50, 1)\n",
      "(50, 1)\n",
      "(50, 1)\n",
      "(50, 1)\n",
      "(50, 1)\n",
      "(50, 1)\n",
      "(50, 1)\n",
      "(50, 1)\n",
      "(50, 1)\n",
      "(50, 1)\n",
      "(50, 1)\n",
      "(50, 1)\n",
      "(50, 1)\n",
      "(50, 1)\n",
      "(50, 1)\n",
      "(50, 1)\n",
      "(50, 1)\n",
      "(50, 1)\n",
      "(50, 1)\n",
      "(50, 1)\n",
      "(50, 1)\n",
      "(50, 1)\n",
      "(50, 1)\n",
      "(50, 1)\n",
      "(50, 1)\n",
      "(50, 1)\n",
      "(50, 1)\n",
      "(50, 1)\n",
      "(50, 1)\n",
      "(50, 1)\n",
      "(50, 1)\n",
      "(50, 1)\n",
      "(50, 1)\n",
      "(50, 1)\n",
      "(50, 1)\n",
      "(50, 1)\n",
      "(50, 1)\n",
      "(50, 1)\n",
      "(50, 1)\n",
      "(50, 1)\n",
      "(50, 1)\n",
      "(50, 1)\n",
      "(50, 1)\n",
      "(50, 1)\n",
      "(50, 1)\n",
      "(50, 1)\n",
      "(50, 1)\n",
      "(50, 1)\n",
      "(50, 1)\n",
      "(50, 1)\n",
      "(50, 1)\n",
      "(50, 1)\n",
      "(50, 1)\n",
      "(50, 1)\n",
      "(50, 1)\n",
      "(50, 1)\n",
      "(50, 1)\n",
      "(50, 1)\n",
      "(50, 1)\n",
      "(50, 1)\n",
      "(50, 1)\n",
      "(50, 1)\n",
      "(50, 1)\n",
      "(50, 1)\n",
      "(50, 1)\n",
      "(50, 1)\n",
      "(50, 1)\n",
      "(50, 1)\n",
      "(50, 1)\n",
      "(50, 1)\n",
      "(50, 1)\n",
      "(50, 1)\n",
      "(50, 1)\n",
      "(50, 1)\n",
      "(50, 1)\n",
      "(50, 1)\n",
      "(50, 1)\n",
      "(50, 1)\n",
      "(50, 1)\n",
      "(50, 1)\n",
      "(50, 1)\n",
      "(50, 1)\n",
      "(50, 1)\n",
      "(50, 1)\n",
      "(50, 1)\n",
      "(50, 1)\n",
      "(50, 1)\n",
      "(50, 1)\n",
      "(50, 1)\n",
      "(50, 1)\n",
      "(50, 1)\n",
      "(50, 1)\n",
      "(50, 1)\n",
      "(50, 1)\n",
      "(50, 1)\n",
      "(50, 1)\n",
      "(50, 1)\n",
      "(50, 1)\n",
      "(50, 1)\n",
      "(50, 1)\n",
      "(50, 1)\n",
      "(50, 1)\n",
      "(50, 1)\n",
      "(50, 1)\n",
      "(50, 1)\n",
      "(50, 1)\n",
      "(50, 1)\n",
      "(50, 1)\n",
      "(50, 1)\n",
      "(50, 1)\n",
      "(50, 1)\n",
      "(50, 1)\n",
      "(50, 1)\n",
      "(50, 1)\n",
      "(50, 1)\n",
      "(50, 1)\n",
      "(50, 1)\n",
      "(50, 1)\n",
      "(50, 1)\n",
      "(50, 1)\n",
      "(50, 1)\n",
      "(50, 1)\n",
      "(50, 1)\n",
      "(50, 1)\n",
      "(50, 1)\n",
      "(50, 1)\n"
     ]
    }
   ],
   "source": [
    "preds2 = predict_with_shifting_window(model=model, data=X_test)"
   ]
  },
  {
   "cell_type": "code",
   "execution_count": 140,
   "metadata": {},
   "outputs": [
    {
     "data": {
      "text/plain": [
       "(495,)"
      ]
     },
     "execution_count": 140,
     "metadata": {},
     "output_type": "execute_result"
    }
   ],
   "source": [
    "preds2.shape"
   ]
  },
  {
   "cell_type": "code",
   "execution_count": 141,
   "metadata": {},
   "outputs": [
    {
     "data": {
      "image/png": "[encoded data removed]",
      "text/plain": [
       "<matplotlib.figure.Figure at 0x7f2e7a1f9350>"
      ]
     },
     "metadata": {},
     "output_type": "display_data"
    }
   ],
   "source": [
    "fig = plt.figure(figsize=(14,6))\n",
    "plt.plot(preds2, 'r')\n",
    "plt.plot(tests)\n",
    "plt.show()"
   ]
  },
  {
   "cell_type": "code",
   "execution_count": 144,
   "metadata": {
    "collapsed": true
   },
   "outputs": [],
   "source": [
    "def predict_sequence_full(model, data, window_size):\n",
    "    #Shift the window by 1 new prediction each time, re-run predictions on new window\n",
    "    curr_frame = data[0]\n",
    "    predicted = []\n",
    "    for i in range(len(data)):\n",
    "        predicted.append(model.predict(curr_frame[np.newaxis,:,:])[0,0])\n",
    "        curr_frame = curr_frame[1:]\n",
    "        curr_frame = np.insert(curr_frame, [window_size-1], predicted[-1], axis=0)\n",
    "    return predicted"
   ]
  },
  {
   "cell_type": "code",
   "execution_count": 147,
   "metadata": {},
   "outputs": [
    {
     "ename": "AttributeError",
     "evalue": "'list' object has no attribute 'shape'",
     "output_type": "error",
     "traceback": [
      "\u001b[0;31m---------------------------------------------------------------------------\u001b[0m",
      "\u001b[0;31mAttributeError\u001b[0m                            Traceback (most recent call last)",
      "\u001b[0;32m<ipython-input-147-8659666c108e>\u001b[0m in \u001b[0;36m<module>\u001b[0;34m()\u001b[0m\n\u001b[1;32m      1\u001b[0m \u001b[0mpreds3\u001b[0m \u001b[0;34m=\u001b[0m \u001b[0mpredict_sequence_full\u001b[0m\u001b[0;34m(\u001b[0m\u001b[0mmodel\u001b[0m\u001b[0;34m=\u001b[0m\u001b[0mmodel\u001b[0m\u001b[0;34m,\u001b[0m \u001b[0mdata\u001b[0m\u001b[0;34m=\u001b[0m\u001b[0mX_test\u001b[0m\u001b[0;34m,\u001b[0m \u001b[0mwindow_size\u001b[0m\u001b[0;34m=\u001b[0m\u001b[0;36m50\u001b[0m\u001b[0;34m)\u001b[0m\u001b[0;34m\u001b[0m\u001b[0m\n\u001b[0;32m----> 2\u001b[0;31m \u001b[0mpreds3\u001b[0m\u001b[0;34m.\u001b[0m\u001b[0mshape\u001b[0m\u001b[0;34m\u001b[0m\u001b[0m\n\u001b[0m",
      "\u001b[0;31mAttributeError\u001b[0m: 'list' object has no attribute 'shape'"
     ]
    }
   ],
   "source": [
    "preds3 = predict_sequence_full(model=model, data=X_test, window_size=50)\n",
    "preds3.shape"
   ]
  },
  {
   "cell_type": "code",
   "execution_count": 148,
   "metadata": {},
   "outputs": [
    {
     "data": {
      "image/png": "[encoded data removed]",
      "text/plain": [
       "<matplotlib.figure.Figure at 0x7f2e7a0517d0>"
      ]
     },
     "metadata": {},
     "output_type": "display_data"
    }
   ],
   "source": [
    "fig = plt.figure(figsize=(14,6))\n",
    "plt.plot(preds3, 'r')\n",
    "plt.plot(tests)\n",
    "plt.show()"
   ]
  },
  {
   "cell_type": "code",
   "execution_count": null,
   "metadata": {
    "collapsed": true
   },
   "outputs": [],
   "source": []
  }
 ],
 "metadata": {
  "kernelspec": {
   "display_name": "Python 2",
   "language": "python",
   "name": "python2"
  },
  "language_info": {
   "codemirror_mode": {
    "name": "ipython",
    "version": 2
   },
   "file_extension": ".py",
   "mimetype": "text/x-python",
   "name": "python",
   "nbconvert_exporter": "python",
   "pygments_lexer": "ipython2",
   "version": "2.7.13"
  }
 },
 "nbformat": 4,
 "nbformat_minor": 2
}
