{
 "cells": [
  {
   "cell_type": "code",
   "execution_count": 1,
   "metadata": {
    "collapsed": true
   },
   "outputs": [],
   "source": [
    "# -*- coding: UTF-8 -*-\n",
    "#%load_ext autoreload\n",
    "%reload_ext autoreload\n",
    "%autoreload 2"
   ]
  },
  {
   "cell_type": "markdown",
   "metadata": {},
   "source": [
    "https://www.youtube.com/watch?v=hhJIztWR_vo"
   ]
  },
  {
   "cell_type": "code",
   "execution_count": 2,
   "metadata": {},
   "outputs": [],
   "source": [
    "from __future__ import division\n",
    "import tensorflow as tf\n",
    "from os import path\n",
    "import numpy as np\n",
    "import pandas as pd\n",
    "import csv\n",
    "from sklearn.model_selection import StratifiedShuffleSplit\n",
    "from time import time\n",
    "from matplotlib import pyplot as plt\n",
    "import seaborn as sns\n",
    "from mylibs.jupyter_notebook_helper import show_graph\n",
    "from tensorflow.contrib import rnn\n",
    "from tensorflow.contrib import learn\n",
    "import shutil\n",
    "from tensorflow.contrib.learn.python.learn import learn_runner\n",
    "from IPython.display import Image\n",
    "from IPython.core.display import HTML\n",
    "from mylibs.tf_helper import getDefaultGPUconfig\n",
    "from nn_io.binary_shifter_data_provider import BinaryShifterDataProvider\n",
    "from models.shift_func import ShiftFunc"
   ]
  },
  {
   "cell_type": "code",
   "execution_count": 3,
   "metadata": {
    "collapsed": true
   },
   "outputs": [],
   "source": [
    "dtype = tf.float32\n",
    "seed = 16011984\n",
    "random_state = np.random.RandomState(seed=seed)\n",
    "config = getDefaultGPUconfig()\n",
    "%matplotlib inline"
   ]
  },
  {
   "cell_type": "code",
   "execution_count": 4,
   "metadata": {
    "collapsed": true
   },
   "outputs": [],
   "source": [
    "def plot(loss_list, predictions_series, batchX, batchY):\n",
    "    plt.subplot(2, 3, 1)\n",
    "    plt.cla()\n",
    "    plt.plot(loss_list)\n",
    "\n",
    "    for batch_series_idx in range(5):\n",
    "        one_hot_output_series = np.array(predictions_series)[:, batch_series_idx, :]\n",
    "        single_output_series = np.array([(1 if out[0] < 0.5 else 0) for out in one_hot_output_series])\n",
    "\n",
    "        plt.subplot(2, 3, batch_series_idx + 2)\n",
    "        plt.cla()\n",
    "        plt.axis([0, truncated_backprop_len, 0, 2])\n",
    "        left_offset = range(truncated_backprop_len)\n",
    "        plt.bar(left_offset, batchX[batch_series_idx, :], width=1, color=\"blue\")\n",
    "        plt.bar(left_offset, batchY[batch_series_idx, :] * 0.5, width=1, color=\"red\")\n",
    "        plt.bar(left_offset, single_output_series * 0.3, width=1, color=\"green\")\n",
    "\n",
    "    plt.draw()\n",
    "    plt.pause(0.0001)"
   ]
  },
  {
   "cell_type": "markdown",
   "metadata": {},
   "source": [
    "### Step 0 - hyperparams"
   ]
  },
  {
   "cell_type": "code",
   "execution_count": 5,
   "metadata": {
    "collapsed": true
   },
   "outputs": [],
   "source": [
    "num_epochs = 10\n",
    "\n",
    "num_instances = 100\n",
    "total_series_length = 600\n",
    "num_features = 1  #just one here, the function we are predicting is one-dimensional\n",
    "\n",
    "truncated_backprop_len = 15\n",
    "state_size = 4\n",
    "num_classes = 2  #we only have ones and zeros in our series\n",
    "echo_step = 3  #this is only for this problem where we are shifting the generated sequence\n",
    "batch_size = 5"
   ]
  },
  {
   "cell_type": "code",
   "execution_count": 6,
   "metadata": {},
   "outputs": [
    {
     "name": "stdout",
     "output_type": "stream",
     "text": [
      "8.0\n"
     ]
    },
    {
     "data": {
      "text/plain": [
       "8"
      ]
     },
     "execution_count": 6,
     "metadata": {},
     "output_type": "execute_result"
    }
   ],
   "source": [
    "num_batches = total_series_length // batch_size // truncated_backprop_len\n",
    "print total_series_length / batch_size / truncated_backprop_len\n",
    "num_batches"
   ]
  },
  {
   "cell_type": "markdown",
   "metadata": {},
   "source": [
    "### Step 1 - collect data (or like here generate them)"
   ]
  },
  {
   "cell_type": "code",
   "execution_count": 7,
   "metadata": {},
   "outputs": [],
   "source": [
    "# dp = BinaryShifterDataProvider(N_instances=num_instances,\n",
    "#                                total_series_length=total_series_length,\n",
    "#                                echo_step=echo_step,\n",
    "#                                truncated_backprop_len=truncated_backprop_len)"
   ]
  },
  {
   "cell_type": "markdown",
   "metadata": {},
   "source": [
    "### Step2 - Build model"
   ]
  },
  {
   "cell_type": "code",
   "execution_count": 8,
   "metadata": {},
   "outputs": [],
   "source": [
    "model = ShiftFunc(rng=random_state, dtype=dtype, config=config, batch_size=batch_size,\n",
    "                  truncated_backprop_len=truncated_backprop_len, state_size=state_size)"
   ]
  },
  {
   "cell_type": "code",
   "execution_count": 9,
   "metadata": {},
   "outputs": [
    {
     "name": "stdout",
     "output_type": "stream",
     "text": [
      "lamda2: 0.010000\n",
      "learning rate: 0.300000\n",
      "15\n",
      "Tensor(\"inputs/unstack:0\", shape=(5, 1), dtype=float32)\n",
      "\n",
      "15\n",
      "Tensor(\"rnn_layer/rnn/basic_rnn_cell/Tanh:0\", shape=(5, 4), dtype=float32)\n",
      "\n",
      "Tensor(\"readout_layer/add:0\", shape=(5, 2), dtype=float32)\n",
      "\n",
      "15\n",
      "Tensor(\"labels/unstack:0\", shape=(5, 1), dtype=int32)\n",
      "\n",
      "Tensor(\"error_or_loss/Mean:0\", shape=(), dtype=float32)\n"
     ]
    }
   ],
   "source": [
    "graph = model.getGraph(batch_size=batch_size, num_classes=num_classes)"
   ]
  },
  {
   "cell_type": "code",
   "execution_count": 10,
   "metadata": {},
   "outputs": [],
   "source": [
    "#show_graph(graph)"
   ]
  },
  {
   "cell_type": "markdown",
   "metadata": {},
   "source": [
    "### Step 3 training the network"
   ]
  },
  {
   "cell_type": "code",
   "execution_count": 11,
   "metadata": {},
   "outputs": [
    {
     "name": "stdout",
     "output_type": "stream",
     "text": [
      "epochs: 10\n",
      "EndEpoch01(4.607 secs):err(train)=0.0479,acc(train)=0.05,err(valid)=0.00,acc(valid)=0.00, \n",
      "EndEpoch02(4.067 secs):err(train)=0.0014,acc(train)=0.00,err(valid)=0.00,acc(valid)=0.00, \n",
      "EndEpoch03(3.948 secs):err(train)=0.0008,acc(train)=0.00,err(valid)=0.00,acc(valid)=0.00, \n",
      "EndEpoch04(3.988 secs):err(train)=0.0006,acc(train)=0.00,err(valid)=0.00,acc(valid)=0.00, \n",
      "EndEpoch05(3.975 secs):err(train)=0.0005,acc(train)=0.00,err(valid)=0.00,acc(valid)=0.00, \n",
      "EndEpoch06(4.150 secs):err(train)=0.0004,acc(train)=0.00,err(valid)=0.00,acc(valid)=0.00, \n",
      "EndEpoch07(4.161 secs):err(train)=0.0003,acc(train)=0.00,err(valid)=0.00,acc(valid)=0.00, \n",
      "EndEpoch08(4.093 secs):err(train)=0.0003,acc(train)=0.00,err(valid)=0.00,acc(valid)=0.00, \n",
      "EndEpoch09(4.016 secs):err(train)=0.0002,acc(train)=0.00,err(valid)=0.00,acc(valid)=0.00, \n",
      "EndEpoch10(3.993 secs):err(train)=0.0002,acc(train)=0.00,err(valid)=0.00,acc(valid)=0.00, \n",
      "\n"
     ]
    }
   ],
   "source": [
    "stats = model.run(num_instances=num_instances,epochs=num_epochs,\n",
    "          total_series_length=total_series_length,\n",
    "         truncated_backprop_len=truncated_backprop_len, echo_step=echo_step)"
   ]
  },
  {
   "cell_type": "code",
   "execution_count": 26,
   "metadata": {},
   "outputs": [
    {
     "data": {
      "text/plain": [
       "<matplotlib.figure.Figure at 0x7fe7b5c5ee90>"
      ]
     },
     "metadata": {},
     "output_type": "display_data"
    },
    {
     "name": "stdout",
     "output_type": "stream",
     "text": [
      "Step 0 Loss 0.729079842567\n",
      "Step 100 Loss 0.00944351777434\n",
      "Step 200 Loss 0.00310463411734\n",
      "Step 300 Loss 0.00209643901326\n",
      "Step 400 Loss 0.00138550030533\n",
      "Step 500 Loss 0.000999940559268\n",
      "Step 600 Loss 0.000905282446183\n",
      "Step 0 Loss 0.472679644823\n",
      "Step 100 Loss 0.00322539336048\n",
      "Step 200 Loss 0.00169948139228\n",
      "Step 300 Loss 0.00105082592927\n",
      "Step 400 Loss 0.000976031122264\n",
      "Step 500 Loss 0.000679070362821\n",
      "Step 600 Loss 0.000720141164493\n",
      "Step 0 Loss 0.916251182556\n",
      "Step 100 Loss 0.000642404367682\n",
      "Step 200 Loss 0.000558062805794\n",
      "Step 300 Loss 0.000513716309797\n",
      "Step 400 Loss 0.000530711084139\n",
      "Step 500 Loss 0.000425751088187\n",
      "Step 600 Loss 0.000397675787099\n",
      "Step 0 Loss 0.204983219504\n",
      "Step 100 Loss 0.000382035213988\n",
      "Step 200 Loss 0.000354223797331\n",
      "Step 300 Loss 0.000325471017277\n",
      "Step 400 Loss 0.000311979994876\n",
      "Step 500 Loss 0.000280504085822\n",
      "Step 600 Loss 0.000254779559327\n",
      "Step 0 Loss 0.978779196739\n",
      "Step 100 Loss 0.000318691250868\n",
      "Step 200 Loss 0.000309998140438\n",
      "Step 300 Loss 0.000297476071864\n",
      "Step 400 Loss 0.000286253285594\n",
      "Step 500 Loss 0.000259181222646\n",
      "Step 600 Loss 0.000227807555348\n",
      "Step 0 Loss 0.568211495876\n",
      "Step 100 Loss 0.000272576638963\n",
      "Step 200 Loss 0.000246031588176\n",
      "Step 300 Loss 0.000221125839744\n",
      "Step 400 Loss 0.000228460077778\n",
      "Step 500 Loss 0.00022040179465\n",
      "Step 600 Loss 0.00021659945196\n",
      "Step 0 Loss 1.05450129509\n",
      "Step 100 Loss 0.000276754086372\n",
      "Step 200 Loss 0.00024510192452\n",
      "Step 300 Loss 0.000222430098802\n",
      "Step 400 Loss 0.000235915969824\n",
      "Step 500 Loss 0.000219002729864\n",
      "Step 600 Loss 0.000209231729968\n",
      "Step 0 Loss 0.917268812656\n",
      "Step 100 Loss 0.000253473874182\n",
      "Step 200 Loss 0.000239400600549\n",
      "Step 300 Loss 0.000209353223909\n",
      "Step 400 Loss 0.00020343005599\n",
      "Step 500 Loss 0.000220943504246\n",
      "Step 600 Loss 0.000205994962016\n",
      "Step 0 Loss 0.483768701553\n",
      "Step 100 Loss 0.000210692029214\n",
      "Step 200 Loss 0.000191461280338\n",
      "Step 300 Loss 0.000187768106116\n",
      "Step 400 Loss 0.000191041850485\n",
      "Step 500 Loss 0.000186001998372\n",
      "Step 600 Loss 0.000172535859747\n",
      "Step 0 Loss 0.70893996954\n",
      "Step 100 Loss 0.000205311764148\n",
      "Step 200 Loss 0.000191731873201\n",
      "Step 300 Loss 0.000176923203981\n",
      "Step 400 Loss 0.000170858373167\n",
      "Step 500 Loss 0.000169228704181\n",
      "Step 600 Loss 0.000170673389221\n"
     ]
    },
    {
     "data": {
      "image/png": "[encoded data removed]",
      "text/plain": [
       "<matplotlib.figure.Figure at 0x7fe814fc38d0>"
      ]
     },
     "metadata": {},
     "output_type": "display_data"
    }
   ],
   "source": [
    "with tf.Session(graph=graph, config=config) as sess:\n",
    "    #sess.run(tf.initialize_all_variables())\n",
    "    sess.run(tf.global_variables_initializer())\n",
    "    \n",
    "    #interactive mode\n",
    "    plt.ion()\n",
    "    #initialize the figure\n",
    "    plt.figure()\n",
    "    #show the graph\n",
    "    plt.show()\n",
    "    \n",
    "    loss_list = []\n",
    "    \n",
    "    #init the hidden state #TODO why do it on every epoch ???\n",
    "    _current_state = np.zeros((batch_size, state_size)) \n",
    "    \n",
    "    for epoch in xrange(num_epochs):\n",
    "        xx, yy = generateData()\n",
    "        \n",
    "        for batch in xrange(num_batches):  #iterating our data provider\n",
    "            start_ind = batch * truncated_backprop_len\n",
    "            end_ind = start_ind + truncated_backprop_len\n",
    "            \n",
    "            batchX = xx[:, start_ind:end_ind]\n",
    "            batchY = yy[:, start_ind:end_ind]\n",
    "            \n",
    "            _total_loss, _train_step, _predictions_series, _current_state = sess.run([\n",
    "                total_loss, train_step, predictions_series, last_state\n",
    "            ], feed_dict= {\n",
    "                batchX_placeholder: batchX,\n",
    "                batchY_placeholder: batchY,\n",
    "                init_state: _current_state,\n",
    "            }) #note that the _current_state gets updated and then feeded back in\n",
    "            \n",
    "            loss_list.append(_total_loss)\n",
    "            \n",
    "            if batch % 100 == 0:\n",
    "                print \"Step {} Loss {}\".format(batch, _total_loss)\n",
    "                plot(loss_list, _predictions_series, batchX, batchY)\n",
    "                \n",
    "plt.ioff()\n",
    "plt.show()"
   ]
  },
  {
   "cell_type": "markdown",
   "metadata": {},
   "source": [
    "# Ravelling and Reshaping"
   ]
  },
  {
   "cell_type": "code",
   "execution_count": 28,
   "metadata": {},
   "outputs": [
    {
     "data": {
      "text/plain": [
       "array([[0, 1],\n",
       "       [2, 3],\n",
       "       [4, 5]])"
      ]
     },
     "execution_count": 28,
     "metadata": {},
     "output_type": "execute_result"
    }
   ],
   "source": [
    "aa = np.array([[0, 1],\n",
    "       [2, 3],\n",
    "       [4, 5]])\n",
    "aa"
   ]
  },
  {
   "cell_type": "code",
   "execution_count": 31,
   "metadata": {},
   "outputs": [
    {
     "data": {
      "text/plain": [
       "array([0, 2, 4, 1, 3, 5])"
      ]
     },
     "execution_count": 31,
     "metadata": {},
     "output_type": "execute_result"
    }
   ],
   "source": [
    "np.ravel(aa, order='F')"
   ]
  },
  {
   "cell_type": "code",
   "execution_count": 32,
   "metadata": {},
   "outputs": [
    {
     "data": {
      "text/plain": [
       "array([[0, 4, 3],\n",
       "       [2, 1, 5]])"
      ]
     },
     "execution_count": 32,
     "metadata": {},
     "output_type": "execute_result"
    }
   ],
   "source": [
    "np.reshape(aa, (2, 3), order='F')"
   ]
  },
  {
   "cell_type": "code",
   "execution_count": 34,
   "metadata": {},
   "outputs": [
    {
     "data": {
      "text/plain": [
       "array([[0, 2, 4],\n",
       "       [1, 3, 5]])"
      ]
     },
     "execution_count": 34,
     "metadata": {},
     "output_type": "execute_result"
    }
   ],
   "source": [
    "np.reshape(np.ravel(aa, order='F'), (2, 3))"
   ]
  },
  {
   "cell_type": "code",
   "execution_count": null,
   "metadata": {
    "collapsed": true
   },
   "outputs": [],
   "source": []
  }
 ],
 "metadata": {
  "kernelspec": {
   "display_name": "Python 2",
   "language": "python",
   "name": "python2"
  },
  "language_info": {
   "codemirror_mode": {
    "name": "ipython",
    "version": 2
   },
   "file_extension": ".py",
   "mimetype": "text/x-python",
   "name": "python",
   "nbconvert_exporter": "python",
   "pygments_lexer": "ipython2",
   "version": "2.7.13"
  }
 },
 "nbformat": 4,
 "nbformat_minor": 2
}
