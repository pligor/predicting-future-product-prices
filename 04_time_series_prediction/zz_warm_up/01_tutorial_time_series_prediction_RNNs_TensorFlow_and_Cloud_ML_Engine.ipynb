{
 "cells": [
  {
   "cell_type": "code",
   "execution_count": 1,
   "metadata": {
    "collapsed": true
   },
   "outputs": [],
   "source": [
    "# -*- coding: UTF-8 -*-\n",
    "#%load_ext autoreload\n",
    "%reload_ext autoreload\n",
    "%autoreload 2"
   ]
  },
  {
   "cell_type": "markdown",
   "metadata": {},
   "source": [
    "https://medium.com/google-cloud/how-to-do-time-series-prediction-using-rnns-and-tensorflow-and-cloud-ml-engine-2ad2eeb189e8"
   ]
  },
  {
   "cell_type": "code",
   "execution_count": 2,
   "metadata": {},
   "outputs": [
    {
     "name": "stderr",
     "output_type": "stream",
     "text": [
      "Using TensorFlow backend.\n"
     ]
    }
   ],
   "source": [
    "from __future__ import division\n",
    "import tensorflow as tf\n",
    "from os import path\n",
    "import numpy as np\n",
    "import pandas as pd\n",
    "import csv\n",
    "from sklearn.model_selection import StratifiedShuffleSplit\n",
    "from keras.models import Sequential\n",
    "from keras.layers import LSTM, Dropout, Dense, Activation\n",
    "from time import time\n",
    "from matplotlib import pyplot as plt\n",
    "import seaborn as sns\n",
    "from mylibs.jupyter_notebook_helper import show_graph\n",
    "from tensorflow.contrib import rnn\n",
    "from tensorflow.contrib import learn\n",
    "import shutil\n",
    "from tensorflow.contrib.learn.python.learn import learn_runner"
   ]
  },
  {
   "cell_type": "code",
   "execution_count": 3,
   "metadata": {
    "collapsed": true
   },
   "outputs": [],
   "source": [
    "dtype = tf.float32\n",
    "seed = 16011984\n",
    "random_state = np.random.RandomState(seed=seed)\n",
    "config = tf.ConfigProto(log_device_placement=True, allow_soft_placement=True)\n",
    "config.gpu_options.allow_growth = True\n",
    "%matplotlib inline"
   ]
  },
  {
   "cell_type": "code",
   "execution_count": 4,
   "metadata": {
    "collapsed": true
   },
   "outputs": [],
   "source": [
    "SEQ_LEN = 10"
   ]
  },
  {
   "cell_type": "code",
   "execution_count": 5,
   "metadata": {
    "collapsed": true
   },
   "outputs": [],
   "source": [
    "rng = np.random.RandomState(seed=0)"
   ]
  },
  {
   "cell_type": "code",
   "execution_count": 6,
   "metadata": {
    "collapsed": true
   },
   "outputs": [],
   "source": [
    "def create_time_series():\n",
    "    freq = (np.random.random()*0.5) + 0.1  # 0.1 to 0.6\n",
    "    ampl = np.random.random() + 0.5  # 0.5 to 1.5\n",
    "    x = np.sin(np.arange(0,SEQ_LEN) * freq) * ampl\n",
    "    return x"
   ]
  },
  {
   "cell_type": "code",
   "execution_count": 7,
   "metadata": {},
   "outputs": [
    {
     "data": {
      "image/png": "[encoded data removed]",
      "text/plain": [
       "<matplotlib.figure.Figure at 0x7f41d4f02550>"
      ]
     },
     "metadata": {},
     "output_type": "display_data"
    }
   ],
   "source": [
    "for ii in range(5):\n",
    "    sns.tsplot(data=create_time_series())\n",
    "plt.show()"
   ]
  },
  {
   "cell_type": "code",
   "execution_count": 8,
   "metadata": {
    "collapsed": true
   },
   "outputs": [],
   "source": [
    "def to_csv(filename, N):\n",
    "    with open(filename, 'w') as ofp:\n",
    "        for lineno in xrange(0, N):\n",
    "            seq = create_time_series()\n",
    "            line = \",\".join(map(str, seq))\n",
    "            ofp.write(line + '\\n')\n",
    "\n",
    "#to_csv('train.csv', 1000)  # 1000 sequences\n",
    "#to_csv('valid.csv',  50)"
   ]
  },
  {
   "cell_type": "code",
   "execution_count": 9,
   "metadata": {},
   "outputs": [
    {
     "data": {
      "text/plain": [
       "[[0.0], [0.0], [0.0], [0.0], [0.0], [0.0], [0.0], [0.0], [0.0], [0.0]]"
      ]
     },
     "execution_count": 9,
     "metadata": {},
     "output_type": "execute_result"
    }
   ],
   "source": [
    "DEFAULTS = [[0.] for x in xrange(0, SEQ_LEN)]  #just all zeros\n",
    "DEFAULTS"
   ]
  },
  {
   "cell_type": "code",
   "execution_count": 10,
   "metadata": {
    "collapsed": true
   },
   "outputs": [],
   "source": [
    "BATCH_SIZE = 20 #hyperparam"
   ]
  },
  {
   "cell_type": "code",
   "execution_count": 11,
   "metadata": {
    "collapsed": true
   },
   "outputs": [],
   "source": [
    "TIMESERIES_COL = 'rawdata'  #we have only one column here\n",
    "N_OUTPUTS = 2  #in each sequence, 1-8 are features and 9-10 is label\n",
    "N_INPUTS = SEQ_LEN - N_OUTPUTS"
   ]
  },
  {
   "cell_type": "code",
   "execution_count": 12,
   "metadata": {
    "collapsed": true
   },
   "outputs": [],
   "source": [
    "def read_dataset(filename, mode=tf.contrib.learn.ModeKeys.TRAIN):\n",
    "    \n",
    "    def _input_fn():\n",
    "        num_epochs = 100 if mode == tf.contrib.learn.ModeKeys.TRAIN else 1\n",
    "\n",
    "        #could be a path to one file or a file pattern\n",
    "        input_file_names = tf.train.match_filenames_once(filename)\n",
    "        print input_file_names\n",
    "\n",
    "        filename_queue = tf.train.string_input_producer(input_file_names,\n",
    "                                                        num_epochs=num_epochs,\n",
    "                                                        shuffle=True)\n",
    "\n",
    "        reader = tf.TextLineReader()\n",
    "        _, value = reader.read_up_to(filename_queue, num_records=BATCH_SIZE)\n",
    "\n",
    "        value_column = tf.expand_dims(value, -1)\n",
    "        print \"readcsv={}\".format(value_column)\n",
    "\n",
    "        #all data is a list of tensors\n",
    "        all_data = tf.decode_csv(value_column, record_defaults=DEFAULTS)\n",
    "        separation = len(all_data)- N_OUTPUTS\n",
    "        inputs = all_data[:separation]\n",
    "        label = all_data[separation:]\n",
    "\n",
    "        #from list of tensors to tensor\n",
    "        inputs = tf.concat(inputs, axis=1)\n",
    "        label = tf.concat(label, axis=1)\n",
    "        print 'inputs={}'.format(inputs)\n",
    "        print 'label={}'.format(label)\n",
    "\n",
    "        return {TIMESERIES_COL: inputs}, label  #dict of features, label <-- prescribed\n",
    "    \n",
    "    return _input_fn"
   ]
  },
  {
   "cell_type": "code",
   "execution_count": 13,
   "metadata": {
    "collapsed": true
   },
   "outputs": [],
   "source": [
    "testfun = read_dataset('train.csv')"
   ]
  },
  {
   "cell_type": "code",
   "execution_count": 14,
   "metadata": {},
   "outputs": [
    {
     "name": "stdout",
     "output_type": "stream",
     "text": [
      "<tf.Variable 'matching_filenames:0' shape=<unknown> dtype=string_ref>\n",
      "readcsv=Tensor(\"ExpandDims:0\", shape=(?, 1), dtype=string)\n",
      "inputs=Tensor(\"concat:0\", shape=(?, 8), dtype=float32)\n",
      "label=Tensor(\"concat_1:0\", shape=(?, 2), dtype=float32)\n"
     ]
    }
   ],
   "source": [
    "graph = tf.Graph()  # create new graph\n",
    "\n",
    "with graph.as_default():\n",
    "    testfun()"
   ]
  },
  {
   "cell_type": "code",
   "execution_count": 15,
   "metadata": {},
   "outputs": [
    {
     "data": {
      "text/html": [
       "\n",
       "        <iframe seamless style=\"width:900px;height:620px;border:0\" srcdoc=\"\n",
       "        <script>\n",
       "          function load() {\n",
       "            document.getElementById(&quot;graph2017-06-10_10-53-34&quot;).pbtxt = 'node {\\n  name: &quot;matching_filenames/MatchingFiles/pattern&quot;\\n  op: &quot;Const&quot;\\n  attr {\\n    key: &quot;dtype&quot;\\n    value {\\n      type: DT_STRING\\n    }\\n  }\\n  attr {\\n    key: &quot;value&quot;\\n    value {\\n      tensor {\\n        dtype: DT_STRING\\n        tensor_shape {\\n        }\\n        string_val: &quot;train.csv&quot;\\n      }\\n    }\\n  }\\n}\\nnode {\\n  name: &quot;matching_filenames/MatchingFiles&quot;\\n  op: &quot;MatchingFiles&quot;\\n  input: &quot;matching_filenames/MatchingFiles/pattern&quot;\\n}\\nnode {\\n  name: &quot;matching_filenames&quot;\\n  op: &quot;VariableV2&quot;\\n  attr {\\n    key: &quot;container&quot;\\n    value {\\n      s: &quot;&quot;\\n    }\\n  }\\n  attr {\\n    key: &quot;dtype&quot;\\n    value {\\n      type: DT_STRING\\n    }\\n  }\\n  attr {\\n    key: &quot;shape&quot;\\n    value {\\n      shape {\\n        unknown_rank: true\\n      }\\n    }\\n  }\\n  attr {\\n    key: &quot;shared_name&quot;\\n    value {\\n      s: &quot;&quot;\\n    }\\n  }\\n}\\nnode {\\n  name: &quot;matching_filenames/Assign&quot;\\n  op: &quot;Assign&quot;\\n  input: &quot;matching_filenames&quot;\\n  input: &quot;matching_filenames/MatchingFiles&quot;\\n  attr {\\n    key: &quot;T&quot;\\n    value {\\n      type: DT_STRING\\n    }\\n  }\\n  attr {\\n    key: &quot;_class&quot;\\n    value {\\n      list {\\n        s: &quot;loc:@matching_filenames&quot;\\n      }\\n    }\\n  }\\n  attr {\\n    key: &quot;use_locking&quot;\\n    value {\\n      b: true\\n    }\\n  }\\n  attr {\\n    key: &quot;validate_shape&quot;\\n    value {\\n      b: false\\n    }\\n  }\\n}\\nnode {\\n  name: &quot;matching_filenames/read&quot;\\n  op: &quot;Identity&quot;\\n  input: &quot;matching_filenames&quot;\\n  attr {\\n    key: &quot;T&quot;\\n    value {\\n      type: DT_STRING\\n    }\\n  }\\n  attr {\\n    key: &quot;_class&quot;\\n    value {\\n      list {\\n        s: &quot;loc:@matching_filenames&quot;\\n      }\\n    }\\n  }\\n}\\nnode {\\n  name: &quot;input_producer/Size&quot;\\n  op: &quot;Size&quot;\\n  input: &quot;matching_filenames/read&quot;\\n  attr {\\n    key: &quot;T&quot;\\n    value {\\n      type: DT_STRING\\n    }\\n  }\\n  attr {\\n    key: &quot;out_type&quot;\\n    value {\\n      type: DT_INT32\\n    }\\n  }\\n}\\nnode {\\n  name: &quot;input_producer/Greater/y&quot;\\n  op: &quot;Const&quot;\\n  attr {\\n    key: &quot;dtype&quot;\\n    value {\\n      type: DT_INT32\\n    }\\n  }\\n  attr {\\n    key: &quot;value&quot;\\n    value {\\n      tensor {\\n        dtype: DT_INT32\\n        tensor_shape {\\n        }\\n        int_val: 0\\n      }\\n    }\\n  }\\n}\\nnode {\\n  name: &quot;input_producer/Greater&quot;\\n  op: &quot;Greater&quot;\\n  input: &quot;input_producer/Size&quot;\\n  input: &quot;input_producer/Greater/y&quot;\\n  attr {\\n    key: &quot;T&quot;\\n    value {\\n      type: DT_INT32\\n    }\\n  }\\n}\\nnode {\\n  name: &quot;input_producer/Assert/Const&quot;\\n  op: &quot;Const&quot;\\n  attr {\\n    key: &quot;dtype&quot;\\n    value {\\n      type: DT_STRING\\n    }\\n  }\\n  attr {\\n    key: &quot;value&quot;\\n    value {\\n      tensor {\\n        dtype: DT_STRING\\n        tensor_shape {\\n        }\\n        string_val: &quot;string_input_producer requires a non-null input tensor&quot;\\n      }\\n    }\\n  }\\n}\\nnode {\\n  name: &quot;input_producer/Assert/Assert/data_0&quot;\\n  op: &quot;Const&quot;\\n  attr {\\n    key: &quot;dtype&quot;\\n    value {\\n      type: DT_STRING\\n    }\\n  }\\n  attr {\\n    key: &quot;value&quot;\\n    value {\\n      tensor {\\n        dtype: DT_STRING\\n        tensor_shape {\\n        }\\n        string_val: &quot;string_input_producer requires a non-null input tensor&quot;\\n      }\\n    }\\n  }\\n}\\nnode {\\n  name: &quot;input_producer/Assert/Assert&quot;\\n  op: &quot;Assert&quot;\\n  input: &quot;input_producer/Greater&quot;\\n  input: &quot;input_producer/Assert/Assert/data_0&quot;\\n  attr {\\n    key: &quot;T&quot;\\n    value {\\n      list {\\n        type: DT_STRING\\n      }\\n    }\\n  }\\n  attr {\\n    key: &quot;summarize&quot;\\n    value {\\n      i: 3\\n    }\\n  }\\n}\\nnode {\\n  name: &quot;input_producer/Identity&quot;\\n  op: &quot;Identity&quot;\\n  input: &quot;matching_filenames/read&quot;\\n  input: &quot;^input_producer/Assert/Assert&quot;\\n  attr {\\n    key: &quot;T&quot;\\n    value {\\n      type: DT_STRING\\n    }\\n  }\\n}\\nnode {\\n  name: &quot;input_producer/RandomShuffle&quot;\\n  op: &quot;RandomShuffle&quot;\\n  input: &quot;input_producer/Identity&quot;\\n  attr {\\n    key: &quot;T&quot;\\n    value {\\n      type: DT_STRING\\n    }\\n  }\\n  attr {\\n    key: &quot;seed&quot;\\n    value {\\n      i: 0\\n    }\\n  }\\n  attr {\\n    key: &quot;seed2&quot;\\n    value {\\n      i: 0\\n    }\\n  }\\n}\\nnode {\\n  name: &quot;input_producer/limit_epochs/Const&quot;\\n  op: &quot;Const&quot;\\n  attr {\\n    key: &quot;dtype&quot;\\n    value {\\n      type: DT_INT64\\n    }\\n  }\\n  attr {\\n    key: &quot;value&quot;\\n    value {\\n      tensor {\\n        dtype: DT_INT64\\n        tensor_shape {\\n        }\\n        int64_val: 0\\n      }\\n    }\\n  }\\n}\\nnode {\\n  name: &quot;input_producer/limit_epochs/epochs&quot;\\n  op: &quot;VariableV2&quot;\\n  attr {\\n    key: &quot;container&quot;\\n    value {\\n      s: &quot;&quot;\\n    }\\n  }\\n  attr {\\n    key: &quot;dtype&quot;\\n    value {\\n      type: DT_INT64\\n    }\\n  }\\n  attr {\\n    key: &quot;shape&quot;\\n    value {\\n      shape {\\n      }\\n    }\\n  }\\n  attr {\\n    key: &quot;shared_name&quot;\\n    value {\\n      s: &quot;&quot;\\n    }\\n  }\\n}\\nnode {\\n  name: &quot;input_producer/limit_epochs/epochs/Assign&quot;\\n  op: &quot;Assign&quot;\\n  input: &quot;input_producer/limit_epochs/epochs&quot;\\n  input: &quot;input_producer/limit_epochs/Const&quot;\\n  attr {\\n    key: &quot;T&quot;\\n    value {\\n      type: DT_INT64\\n    }\\n  }\\n  attr {\\n    key: &quot;_class&quot;\\n    value {\\n      list {\\n        s: &quot;loc:@input_producer/limit_epochs/epochs&quot;\\n      }\\n    }\\n  }\\n  attr {\\n    key: &quot;use_locking&quot;\\n    value {\\n      b: true\\n    }\\n  }\\n  attr {\\n    key: &quot;validate_shape&quot;\\n    value {\\n      b: true\\n    }\\n  }\\n}\\nnode {\\n  name: &quot;input_producer/limit_epochs/epochs/read&quot;\\n  op: &quot;Identity&quot;\\n  input: &quot;input_producer/limit_epochs/epochs&quot;\\n  attr {\\n    key: &quot;T&quot;\\n    value {\\n      type: DT_INT64\\n    }\\n  }\\n  attr {\\n    key: &quot;_class&quot;\\n    value {\\n      list {\\n        s: &quot;loc:@input_producer/limit_epochs/epochs&quot;\\n      }\\n    }\\n  }\\n}\\nnode {\\n  name: &quot;input_producer/limit_epochs/CountUpTo&quot;\\n  op: &quot;CountUpTo&quot;\\n  input: &quot;input_producer/limit_epochs/epochs&quot;\\n  attr {\\n    key: &quot;T&quot;\\n    value {\\n      type: DT_INT64\\n    }\\n  }\\n  attr {\\n    key: &quot;_class&quot;\\n    value {\\n      list {\\n        s: &quot;loc:@input_producer/limit_epochs/epochs&quot;\\n      }\\n    }\\n  }\\n  attr {\\n    key: &quot;limit&quot;\\n    value {\\n      i: 100\\n    }\\n  }\\n}\\nnode {\\n  name: &quot;input_producer/limit_epochs&quot;\\n  op: &quot;Identity&quot;\\n  input: &quot;input_producer/RandomShuffle&quot;\\n  input: &quot;^input_producer/limit_epochs/CountUpTo&quot;\\n  attr {\\n    key: &quot;T&quot;\\n    value {\\n      type: DT_STRING\\n    }\\n  }\\n}\\nnode {\\n  name: &quot;input_producer&quot;\\n  op: &quot;FIFOQueueV2&quot;\\n  attr {\\n    key: &quot;capacity&quot;\\n    value {\\n      i: 32\\n    }\\n  }\\n  attr {\\n    key: &quot;component_types&quot;\\n    value {\\n      list {\\n        type: DT_STRING\\n      }\\n    }\\n  }\\n  attr {\\n    key: &quot;container&quot;\\n    value {\\n      s: &quot;&quot;\\n    }\\n  }\\n  attr {\\n    key: &quot;shapes&quot;\\n    value {\\n      list {\\n        shape {\\n        }\\n      }\\n    }\\n  }\\n  attr {\\n    key: &quot;shared_name&quot;\\n    value {\\n      s: &quot;&quot;\\n    }\\n  }\\n}\\nnode {\\n  name: &quot;input_producer/input_producer_EnqueueMany&quot;\\n  op: &quot;QueueEnqueueManyV2&quot;\\n  input: &quot;input_producer&quot;\\n  input: &quot;input_producer/limit_epochs&quot;\\n  attr {\\n    key: &quot;Tcomponents&quot;\\n    value {\\n      list {\\n        type: DT_STRING\\n      }\\n    }\\n  }\\n  attr {\\n    key: &quot;timeout_ms&quot;\\n    value {\\n      i: -1\\n    }\\n  }\\n}\\nnode {\\n  name: &quot;input_producer/input_producer_Close&quot;\\n  op: &quot;QueueCloseV2&quot;\\n  input: &quot;input_producer&quot;\\n  attr {\\n    key: &quot;cancel_pending_enqueues&quot;\\n    value {\\n      b: false\\n    }\\n  }\\n}\\nnode {\\n  name: &quot;input_producer/input_producer_Close_1&quot;\\n  op: &quot;QueueCloseV2&quot;\\n  input: &quot;input_producer&quot;\\n  attr {\\n    key: &quot;cancel_pending_enqueues&quot;\\n    value {\\n      b: true\\n    }\\n  }\\n}\\nnode {\\n  name: &quot;input_producer/input_producer_Size&quot;\\n  op: &quot;QueueSizeV2&quot;\\n  input: &quot;input_producer&quot;\\n}\\nnode {\\n  name: &quot;input_producer/Cast&quot;\\n  op: &quot;Cast&quot;\\n  input: &quot;input_producer/input_producer_Size&quot;\\n  attr {\\n    key: &quot;DstT&quot;\\n    value {\\n      type: DT_FLOAT\\n    }\\n  }\\n  attr {\\n    key: &quot;SrcT&quot;\\n    value {\\n      type: DT_INT32\\n    }\\n  }\\n}\\nnode {\\n  name: &quot;input_producer/mul/y&quot;\\n  op: &quot;Const&quot;\\n  attr {\\n    key: &quot;dtype&quot;\\n    value {\\n      type: DT_FLOAT\\n    }\\n  }\\n  attr {\\n    key: &quot;value&quot;\\n    value {\\n      tensor {\\n        dtype: DT_FLOAT\\n        tensor_shape {\\n        }\\n        float_val: 0.03125\\n      }\\n    }\\n  }\\n}\\nnode {\\n  name: &quot;input_producer/mul&quot;\\n  op: &quot;Mul&quot;\\n  input: &quot;input_producer/Cast&quot;\\n  input: &quot;input_producer/mul/y&quot;\\n  attr {\\n    key: &quot;T&quot;\\n    value {\\n      type: DT_FLOAT\\n    }\\n  }\\n}\\nnode {\\n  name: &quot;input_producer/fraction_of_32_full/tags&quot;\\n  op: &quot;Const&quot;\\n  attr {\\n    key: &quot;dtype&quot;\\n    value {\\n      type: DT_STRING\\n    }\\n  }\\n  attr {\\n    key: &quot;value&quot;\\n    value {\\n      tensor {\\n        dtype: DT_STRING\\n        tensor_shape {\\n        }\\n        string_val: &quot;input_producer/fraction_of_32_full&quot;\\n      }\\n    }\\n  }\\n}\\nnode {\\n  name: &quot;input_producer/fraction_of_32_full&quot;\\n  op: &quot;ScalarSummary&quot;\\n  input: &quot;input_producer/fraction_of_32_full/tags&quot;\\n  input: &quot;input_producer/mul&quot;\\n  attr {\\n    key: &quot;T&quot;\\n    value {\\n      type: DT_FLOAT\\n    }\\n  }\\n}\\nnode {\\n  name: &quot;TextLineReaderV2&quot;\\n  op: &quot;TextLineReaderV2&quot;\\n  attr {\\n    key: &quot;container&quot;\\n    value {\\n      s: &quot;&quot;\\n    }\\n  }\\n  attr {\\n    key: &quot;shared_name&quot;\\n    value {\\n      s: &quot;&quot;\\n    }\\n  }\\n  attr {\\n    key: &quot;skip_header_lines&quot;\\n    value {\\n      i: 0\\n    }\\n  }\\n}\\nnode {\\n  name: &quot;ReaderReadUpToV2/num_records&quot;\\n  op: &quot;Const&quot;\\n  attr {\\n    key: &quot;dtype&quot;\\n    value {\\n      type: DT_INT64\\n    }\\n  }\\n  attr {\\n    key: &quot;value&quot;\\n    value {\\n      tensor {\\n        dtype: DT_INT64\\n        tensor_shape {\\n        }\\n        int64_val: 20\\n      }\\n    }\\n  }\\n}\\nnode {\\n  name: &quot;ReaderReadUpToV2&quot;\\n  op: &quot;ReaderReadUpToV2&quot;\\n  input: &quot;TextLineReaderV2&quot;\\n  input: &quot;input_producer&quot;\\n  input: &quot;ReaderReadUpToV2/num_records&quot;\\n}\\nnode {\\n  name: &quot;ExpandDims/dim&quot;\\n  op: &quot;Const&quot;\\n  attr {\\n    key: &quot;dtype&quot;\\n    value {\\n      type: DT_INT32\\n    }\\n  }\\n  attr {\\n    key: &quot;value&quot;\\n    value {\\n      tensor {\\n        dtype: DT_INT32\\n        tensor_shape {\\n        }\\n        int_val: -1\\n      }\\n    }\\n  }\\n}\\nnode {\\n  name: &quot;ExpandDims&quot;\\n  op: &quot;ExpandDims&quot;\\n  input: &quot;ReaderReadUpToV2:1&quot;\\n  input: &quot;ExpandDims/dim&quot;\\n  attr {\\n    key: &quot;T&quot;\\n    value {\\n      type: DT_STRING\\n    }\\n  }\\n  attr {\\n    key: &quot;Tdim&quot;\\n    value {\\n      type: DT_INT32\\n    }\\n  }\\n}\\nnode {\\n  name: &quot;DecodeCSV/record_defaults_0&quot;\\n  op: &quot;Const&quot;\\n  attr {\\n    key: &quot;dtype&quot;\\n    value {\\n      type: DT_FLOAT\\n    }\\n  }\\n  attr {\\n    key: &quot;value&quot;\\n    value {\\n      tensor {\\n        dtype: DT_FLOAT\\n        tensor_shape {\\n          dim {\\n            size: 1\\n          }\\n        }\\n        float_val: 0.0\\n      }\\n    }\\n  }\\n}\\nnode {\\n  name: &quot;DecodeCSV/record_defaults_1&quot;\\n  op: &quot;Const&quot;\\n  attr {\\n    key: &quot;dtype&quot;\\n    value {\\n      type: DT_FLOAT\\n    }\\n  }\\n  attr {\\n    key: &quot;value&quot;\\n    value {\\n      tensor {\\n        dtype: DT_FLOAT\\n        tensor_shape {\\n          dim {\\n            size: 1\\n          }\\n        }\\n        float_val: 0.0\\n      }\\n    }\\n  }\\n}\\nnode {\\n  name: &quot;DecodeCSV/record_defaults_2&quot;\\n  op: &quot;Const&quot;\\n  attr {\\n    key: &quot;dtype&quot;\\n    value {\\n      type: DT_FLOAT\\n    }\\n  }\\n  attr {\\n    key: &quot;value&quot;\\n    value {\\n      tensor {\\n        dtype: DT_FLOAT\\n        tensor_shape {\\n          dim {\\n            size: 1\\n          }\\n        }\\n        float_val: 0.0\\n      }\\n    }\\n  }\\n}\\nnode {\\n  name: &quot;DecodeCSV/record_defaults_3&quot;\\n  op: &quot;Const&quot;\\n  attr {\\n    key: &quot;dtype&quot;\\n    value {\\n      type: DT_FLOAT\\n    }\\n  }\\n  attr {\\n    key: &quot;value&quot;\\n    value {\\n      tensor {\\n        dtype: DT_FLOAT\\n        tensor_shape {\\n          dim {\\n            size: 1\\n          }\\n        }\\n        float_val: 0.0\\n      }\\n    }\\n  }\\n}\\nnode {\\n  name: &quot;DecodeCSV/record_defaults_4&quot;\\n  op: &quot;Const&quot;\\n  attr {\\n    key: &quot;dtype&quot;\\n    value {\\n      type: DT_FLOAT\\n    }\\n  }\\n  attr {\\n    key: &quot;value&quot;\\n    value {\\n      tensor {\\n        dtype: DT_FLOAT\\n        tensor_shape {\\n          dim {\\n            size: 1\\n          }\\n        }\\n        float_val: 0.0\\n      }\\n    }\\n  }\\n}\\nnode {\\n  name: &quot;DecodeCSV/record_defaults_5&quot;\\n  op: &quot;Const&quot;\\n  attr {\\n    key: &quot;dtype&quot;\\n    value {\\n      type: DT_FLOAT\\n    }\\n  }\\n  attr {\\n    key: &quot;value&quot;\\n    value {\\n      tensor {\\n        dtype: DT_FLOAT\\n        tensor_shape {\\n          dim {\\n            size: 1\\n          }\\n        }\\n        float_val: 0.0\\n      }\\n    }\\n  }\\n}\\nnode {\\n  name: &quot;DecodeCSV/record_defaults_6&quot;\\n  op: &quot;Const&quot;\\n  attr {\\n    key: &quot;dtype&quot;\\n    value {\\n      type: DT_FLOAT\\n    }\\n  }\\n  attr {\\n    key: &quot;value&quot;\\n    value {\\n      tensor {\\n        dtype: DT_FLOAT\\n        tensor_shape {\\n          dim {\\n            size: 1\\n          }\\n        }\\n        float_val: 0.0\\n      }\\n    }\\n  }\\n}\\nnode {\\n  name: &quot;DecodeCSV/record_defaults_7&quot;\\n  op: &quot;Const&quot;\\n  attr {\\n    key: &quot;dtype&quot;\\n    value {\\n      type: DT_FLOAT\\n    }\\n  }\\n  attr {\\n    key: &quot;value&quot;\\n    value {\\n      tensor {\\n        dtype: DT_FLOAT\\n        tensor_shape {\\n          dim {\\n            size: 1\\n          }\\n        }\\n        float_val: 0.0\\n      }\\n    }\\n  }\\n}\\nnode {\\n  name: &quot;DecodeCSV/record_defaults_8&quot;\\n  op: &quot;Const&quot;\\n  attr {\\n    key: &quot;dtype&quot;\\n    value {\\n      type: DT_FLOAT\\n    }\\n  }\\n  attr {\\n    key: &quot;value&quot;\\n    value {\\n      tensor {\\n        dtype: DT_FLOAT\\n        tensor_shape {\\n          dim {\\n            size: 1\\n          }\\n        }\\n        float_val: 0.0\\n      }\\n    }\\n  }\\n}\\nnode {\\n  name: &quot;DecodeCSV/record_defaults_9&quot;\\n  op: &quot;Const&quot;\\n  attr {\\n    key: &quot;dtype&quot;\\n    value {\\n      type: DT_FLOAT\\n    }\\n  }\\n  attr {\\n    key: &quot;value&quot;\\n    value {\\n      tensor {\\n        dtype: DT_FLOAT\\n        tensor_shape {\\n          dim {\\n            size: 1\\n          }\\n        }\\n        float_val: 0.0\\n      }\\n    }\\n  }\\n}\\nnode {\\n  name: &quot;DecodeCSV&quot;\\n  op: &quot;DecodeCSV&quot;\\n  input: &quot;ExpandDims&quot;\\n  input: &quot;DecodeCSV/record_defaults_0&quot;\\n  input: &quot;DecodeCSV/record_defaults_1&quot;\\n  input: &quot;DecodeCSV/record_defaults_2&quot;\\n  input: &quot;DecodeCSV/record_defaults_3&quot;\\n  input: &quot;DecodeCSV/record_defaults_4&quot;\\n  input: &quot;DecodeCSV/record_defaults_5&quot;\\n  input: &quot;DecodeCSV/record_defaults_6&quot;\\n  input: &quot;DecodeCSV/record_defaults_7&quot;\\n  input: &quot;DecodeCSV/record_defaults_8&quot;\\n  input: &quot;DecodeCSV/record_defaults_9&quot;\\n  attr {\\n    key: &quot;OUT_TYPE&quot;\\n    value {\\n      list {\\n        type: DT_FLOAT\\n        type: DT_FLOAT\\n        type: DT_FLOAT\\n        type: DT_FLOAT\\n        type: DT_FLOAT\\n        type: DT_FLOAT\\n        type: DT_FLOAT\\n        type: DT_FLOAT\\n        type: DT_FLOAT\\n        type: DT_FLOAT\\n      }\\n    }\\n  }\\n  attr {\\n    key: &quot;field_delim&quot;\\n    value {\\n      s: &quot;,&quot;\\n    }\\n  }\\n}\\nnode {\\n  name: &quot;concat/axis&quot;\\n  op: &quot;Const&quot;\\n  attr {\\n    key: &quot;dtype&quot;\\n    value {\\n      type: DT_INT32\\n    }\\n  }\\n  attr {\\n    key: &quot;value&quot;\\n    value {\\n      tensor {\\n        dtype: DT_INT32\\n        tensor_shape {\\n        }\\n        int_val: 1\\n      }\\n    }\\n  }\\n}\\nnode {\\n  name: &quot;concat&quot;\\n  op: &quot;ConcatV2&quot;\\n  input: &quot;DecodeCSV&quot;\\n  input: &quot;DecodeCSV:1&quot;\\n  input: &quot;DecodeCSV:2&quot;\\n  input: &quot;DecodeCSV:3&quot;\\n  input: &quot;DecodeCSV:4&quot;\\n  input: &quot;DecodeCSV:5&quot;\\n  input: &quot;DecodeCSV:6&quot;\\n  input: &quot;DecodeCSV:7&quot;\\n  input: &quot;concat/axis&quot;\\n  attr {\\n    key: &quot;N&quot;\\n    value {\\n      i: 8\\n    }\\n  }\\n  attr {\\n    key: &quot;T&quot;\\n    value {\\n      type: DT_FLOAT\\n    }\\n  }\\n  attr {\\n    key: &quot;Tidx&quot;\\n    value {\\n      type: DT_INT32\\n    }\\n  }\\n}\\nnode {\\n  name: &quot;concat_1/axis&quot;\\n  op: &quot;Const&quot;\\n  attr {\\n    key: &quot;dtype&quot;\\n    value {\\n      type: DT_INT32\\n    }\\n  }\\n  attr {\\n    key: &quot;value&quot;\\n    value {\\n      tensor {\\n        dtype: DT_INT32\\n        tensor_shape {\\n        }\\n        int_val: 1\\n      }\\n    }\\n  }\\n}\\nnode {\\n  name: &quot;concat_1&quot;\\n  op: &quot;ConcatV2&quot;\\n  input: &quot;DecodeCSV:8&quot;\\n  input: &quot;DecodeCSV:9&quot;\\n  input: &quot;concat_1/axis&quot;\\n  attr {\\n    key: &quot;N&quot;\\n    value {\\n      i: 2\\n    }\\n  }\\n  attr {\\n    key: &quot;T&quot;\\n    value {\\n      type: DT_FLOAT\\n    }\\n  }\\n  attr {\\n    key: &quot;Tidx&quot;\\n    value {\\n      type: DT_INT32\\n    }\\n  }\\n}\\nversions {\\n  producer: 21\\n}\\n';\n",
       "          }\n",
       "        </script>\n",
       "        <link rel=&quot;import&quot; href=&quot;https://tensorboard.appspot.com/tf-graph-basic.build.html&quot; onload=load()>\n",
       "        <div style=&quot;height:600px&quot;>\n",
       "          <tf-graph-basic id=&quot;graph2017-06-10_10-53-34&quot;></tf-graph-basic>\n",
       "        </div>\n",
       "    \"></iframe>\n",
       "    "
      ],
      "text/plain": [
       "<IPython.core.display.HTML object>"
      ]
     },
     "metadata": {},
     "output_type": "display_data"
    }
   ],
   "source": [
    "show_graph(graph)"
   ]
  },
  {
   "cell_type": "code",
   "execution_count": 16,
   "metadata": {
    "collapsed": true
   },
   "outputs": [],
   "source": [
    "#this is the state size\n",
    "LSTM_SIZE = 3  #number of hidden layers in each of the LSTM cells"
   ]
  },
  {
   "cell_type": "code",
   "execution_count": 19,
   "metadata": {
    "collapsed": true
   },
   "outputs": [],
   "source": [
    "#create the inference model\n",
    "def simple_rnn(features, targets, mode):\n",
    "    # 0. Reformat input shape to become a sequence\n",
    "    xx = tf.split(features[TIMESERIES_COL], N_INPUTS, 1)\n",
    "    print len(xx)\n",
    "    print \"xx={}\".format(xx[0])\n",
    "    print\n",
    "    \n",
    "    #1. configure the RNN\n",
    "    lstm_cell = rnn.BasicLSTMCell(LSTM_SIZE, forget_bias=1.)\n",
    "    outputs, _ = rnn.static_rnn(cell=lstm_cell, inputs=xx, dtype=dtype)\n",
    "    \n",
    "    #slice to keep only the last cell of the RNN\n",
    "    outputs = outputs[-1]\n",
    "    print \"last out: {}\".format(outputs)\n",
    "    #this is of length 3 because this is the size of layers inside the LSTM cell\n",
    "    \n",
    "    weight = tf.Variable(tf.random_normal([LSTM_SIZE, N_OUTPUTS]))\n",
    "    bias = tf.Variable(tf.random_normal([N_OUTPUTS]))\n",
    "    predictions = tf.matmul(outputs, weight) + bias\n",
    "    \n",
    "    \n",
    "    #2. define the loss function for training / evaluation\n",
    "    loss = tf.losses.mean_squared_error(labels=targets, predictions=predictions)\n",
    "    \n",
    "    eval_metric_ops = {\n",
    "        \"rmse\": tf.metrics.root_mean_squared_error(labels=targets, predictions=predictions)\n",
    "    }\n",
    "    \n",
    "    #3. Define the training operation/optimizer\n",
    "    train_op = tf.contrib.layers.optimize_loss(\n",
    "        loss, global_step=tf.contrib.framework.get_global_step(),\n",
    "        learning_rate=0.01,\n",
    "        optimizer=\"SGD\"\n",
    "    )\n",
    "    \n",
    "    #4. Create predictions\n",
    "    predictions_dict = {\"predicted\": predictions}\n",
    "    \n",
    "    #5. return ModelFnOps\n",
    "    return learn.ModelFnOps(\n",
    "        mode=mode,\n",
    "        predictions=predictions_dict,\n",
    "        loss=loss,\n",
    "        train_op=train_op,\n",
    "        eval_metric_ops=eval_metric_ops)"
   ]
  },
  {
   "cell_type": "code",
   "execution_count": 20,
   "metadata": {},
   "outputs": [
    {
     "name": "stdout",
     "output_type": "stream",
     "text": [
      "8\n",
      "xx=Tensor(\"split:0\", shape=(?, 1), dtype=float32)\n",
      "\n",
      "last out: Tensor(\"rnn/basic_lstm_cell_7/mul_2:0\", shape=(?, 3), dtype=float32)\n",
      "ModelFnOps(predictions={'predicted': <tf.Tensor 'add:0' shape=(?, 2) dtype=float32>}, loss=<tf.Tensor 'mean_squared_error/value:0' shape=() dtype=float32>, train_op=<tf.Operation 'OptimizeLoss/control_dependency' type=Identity>, eval_metric_ops={'rmse': (<tf.Tensor 'Sqrt:0' shape=() dtype=float32>, <tf.Tensor 'Sqrt_1:0' shape=() dtype=float32>)}, output_alternatives=None, training_chief_hooks=[], training_hooks=[], scaffold=None)\n"
     ]
    }
   ],
   "source": [
    "graph = tf.Graph()  # create new graph\n",
    "\n",
    "with graph.as_default():\n",
    "    inputs = tf.placeholder(dtype=dtype, shape=(None, 8), name=\"stream\")\n",
    "    targets = tf.placeholder(dtype=dtype, shape=(None, 2), name=\"targets\")\n",
    "    \n",
    "    print simple_rnn(features={TIMESERIES_COL: inputs}, targets=targets, mode=None)"
   ]
  },
  {
   "cell_type": "code",
   "execution_count": 29,
   "metadata": {
    "collapsed": true
   },
   "outputs": [],
   "source": [
    "def get_train():\n",
    "    return read_dataset('train.csv', mode=tf.contrib.learn.ModeKeys.TRAIN)"
   ]
  },
  {
   "cell_type": "code",
   "execution_count": 30,
   "metadata": {
    "collapsed": true
   },
   "outputs": [],
   "source": [
    "def get_valid():\n",
    "    return read_dataset('valid.csv', mode=tf.contrib.learn.ModeKeys.EVAL)"
   ]
  },
  {
   "cell_type": "code",
   "execution_count": 32,
   "metadata": {
    "collapsed": true
   },
   "outputs": [],
   "source": [
    "def experiment_fn(output_dir):\n",
    "    \"\"\"run experiment\"\"\"\n",
    "    \n",
    "    estimator = learn.Estimator(model_fn=simple_rnn, model_dir=output_dir)\n",
    "    \n",
    "    return learn.Experiment(estimator, train_input_fn=get_train(),\n",
    "                            eval_input_fn=get_valid(), eval_metrics= {\n",
    "                                \"rmse\": learn.MetricSpec(\n",
    "                                    metric_fn=tf.metrics.root_mean_squared_error\n",
    "                                )\n",
    "                            })"
   ]
  },
  {
   "cell_type": "code",
   "execution_count": 38,
   "metadata": {
    "collapsed": true
   },
   "outputs": [],
   "source": [
    "OUTPUT_DIR = 'outputdir'"
   ]
  },
  {
   "cell_type": "code",
   "execution_count": 39,
   "metadata": {
    "collapsed": true
   },
   "outputs": [],
   "source": [
    "shutil.rmtree(OUTPUT_DIR, ignore_errors=True)  #start fresh"
   ]
  },
  {
   "cell_type": "code",
   "execution_count": 44,
   "metadata": {},
   "outputs": [
    {
     "name": "stdout",
     "output_type": "stream",
     "text": [
      "INFO:tensorflow:Using default config.\n",
      "INFO:tensorflow:Using config: {'_model_dir': None, '_save_checkpoints_secs': 600, '_num_ps_replicas': 0, '_keep_checkpoint_max': 5, '_tf_random_seed': None, '_task_type': None, '_environment': 'local', '_is_chief': True, '_cluster_spec': <tensorflow.python.training.server_lib.ClusterSpec object at 0x7fa817409710>, '_tf_config': gpu_options {\n",
      "  per_process_gpu_memory_fraction: 1.0\n",
      "}\n",
      ", '_num_worker_replicas': 0, '_task_id': 0, '_save_summary_steps': 100, '_save_checkpoints_steps': None, '_evaluation_master': '', '_keep_checkpoint_every_n_hours': 10000, '_master': ''}\n",
      "WARNING:tensorflow:From /home/studenthp/anaconda2/envs/dis/lib/python2.7/site-packages/tensorflow/contrib/learn/python/learn/monitors.py:267: __init__ (from tensorflow.contrib.learn.python.learn.monitors) is deprecated and will be removed after 2016-12-05.\n",
      "Instructions for updating:\n",
      "Monitors are deprecated. Please use tf.train.SessionRunHook.\n",
      "<tf.Variable 'matching_filenames:0' shape=<unknown> dtype=string_ref>\n",
      "readcsv=Tensor(\"ExpandDims:0\", shape=(?, 1), dtype=string)\n",
      "inputs=Tensor(\"concat:0\", shape=(?, 8), dtype=float32)\n",
      "label=Tensor(\"concat_1:0\", shape=(?, 2), dtype=float32)\n",
      "xx=[<tf.Tensor 'split:0' shape=(?, 1) dtype=float32>, <tf.Tensor 'split:1' shape=(?, 1) dtype=float32>, <tf.Tensor 'split:2' shape=(?, 1) dtype=float32>, <tf.Tensor 'split:3' shape=(?, 1) dtype=float32>, <tf.Tensor 'split:4' shape=(?, 1) dtype=float32>, <tf.Tensor 'split:5' shape=(?, 1) dtype=float32>, <tf.Tensor 'split:6' shape=(?, 1) dtype=float32>, <tf.Tensor 'split:7' shape=(?, 1) dtype=float32>]\n",
      "last out: Tensor(\"rnn/basic_lstm_cell_7/mul_2:0\", shape=(?, 3), dtype=float32)\n",
      "INFO:tensorflow:Create CheckpointSaverHook.\n",
      "INFO:tensorflow:Saving checkpoints for 1 into outputdir/model.ckpt.\n",
      "INFO:tensorflow:loss = 1.63465, step = 1\n",
      "<tf.Variable 'matching_filenames:0' shape=<unknown> dtype=string_ref>\n",
      "readcsv=Tensor(\"ExpandDims:0\", shape=(?, 1), dtype=string)\n",
      "inputs=Tensor(\"concat:0\", shape=(?, 8), dtype=float32)\n",
      "label=Tensor(\"concat_1:0\", shape=(?, 2), dtype=float32)\n",
      "xx=[<tf.Tensor 'split:0' shape=(?, 1) dtype=float32>, <tf.Tensor 'split:1' shape=(?, 1) dtype=float32>, <tf.Tensor 'split:2' shape=(?, 1) dtype=float32>, <tf.Tensor 'split:3' shape=(?, 1) dtype=float32>, <tf.Tensor 'split:4' shape=(?, 1) dtype=float32>, <tf.Tensor 'split:5' shape=(?, 1) dtype=float32>, <tf.Tensor 'split:6' shape=(?, 1) dtype=float32>, <tf.Tensor 'split:7' shape=(?, 1) dtype=float32>]\n",
      "last out: Tensor(\"rnn/basic_lstm_cell_7/mul_2:0\", shape=(?, 3), dtype=float32)\n",
      "INFO:tensorflow:Starting evaluation at 2017-06-09-15:28:48\n",
      "INFO:tensorflow:Restoring parameters from outputdir/model.ckpt-1\n",
      "INFO:tensorflow:Evaluation [1/100]\n",
      "INFO:tensorflow:Evaluation [2/100]\n",
      "INFO:tensorflow:Evaluation [3/100]\n",
      "INFO:tensorflow:Finished evaluation at 2017-06-09-15:28:48\n",
      "INFO:tensorflow:Saving dict for global step 1: RMSE = 1.41687, global_step = 1, loss = 2.10078, rmse = 1.41687\n",
      "WARNING:tensorflow:Skipping summary for global_step, must be a float or np.float32.\n",
      "INFO:tensorflow:Validation (step 1): loss = 2.10078, rmse = 1.41687, global_step = 1, RMSE = 1.41687\n",
      "INFO:tensorflow:global_step/sec: 41.0998\n",
      "INFO:tensorflow:loss = 0.417606, step = 101 (2.433 sec)\n",
      "INFO:tensorflow:global_step/sec: 132.539\n",
      "INFO:tensorflow:loss = 0.325984, step = 201 (0.754 sec)\n",
      "INFO:tensorflow:global_step/sec: 137.873\n",
      "INFO:tensorflow:loss = 0.28163, step = 301 (0.725 sec)\n",
      "INFO:tensorflow:global_step/sec: 130.368\n",
      "INFO:tensorflow:loss = 0.246528, step = 401 (0.767 sec)\n",
      "INFO:tensorflow:global_step/sec: 110.425\n",
      "INFO:tensorflow:loss = 0.217216, step = 501 (0.906 sec)\n",
      "INFO:tensorflow:global_step/sec: 113.871\n",
      "INFO:tensorflow:loss = 0.192553, step = 601 (0.878 sec)\n",
      "INFO:tensorflow:global_step/sec: 137.965\n",
      "INFO:tensorflow:loss = 0.171816, step = 701 (0.725 sec)\n",
      "INFO:tensorflow:global_step/sec: 128.9\n",
      "INFO:tensorflow:loss = 0.154449, step = 801 (0.776 sec)\n",
      "INFO:tensorflow:global_step/sec: 131.016\n",
      "INFO:tensorflow:loss = 0.13997, step = 901 (0.763 sec)\n",
      "INFO:tensorflow:global_step/sec: 130.554\n",
      "INFO:tensorflow:loss = 0.127942, step = 1001 (0.766 sec)\n",
      "INFO:tensorflow:global_step/sec: 131.383\n",
      "INFO:tensorflow:loss = 0.117969, step = 1101 (0.761 sec)\n",
      "INFO:tensorflow:global_step/sec: 130.925\n",
      "INFO:tensorflow:loss = 0.109696, step = 1201 (0.764 sec)\n",
      "INFO:tensorflow:global_step/sec: 136.598\n",
      "INFO:tensorflow:loss = 0.102816, step = 1301 (0.732 sec)\n",
      "INFO:tensorflow:global_step/sec: 145.204\n",
      "INFO:tensorflow:loss = 0.0970707, step = 1401 (0.690 sec)\n",
      "INFO:tensorflow:global_step/sec: 132.757\n",
      "INFO:tensorflow:loss = 0.0922424, step = 1501 (0.752 sec)\n",
      "INFO:tensorflow:global_step/sec: 131.132\n",
      "INFO:tensorflow:loss = 0.0881542, step = 1601 (0.763 sec)\n",
      "INFO:tensorflow:global_step/sec: 119.681\n",
      "INFO:tensorflow:loss = 0.0846625, step = 1701 (0.836 sec)\n",
      "INFO:tensorflow:global_step/sec: 138.83\n",
      "INFO:tensorflow:loss = 0.0816519, step = 1801 (0.720 sec)\n",
      "INFO:tensorflow:global_step/sec: 142.583\n",
      "INFO:tensorflow:loss = 0.0790301, step = 1901 (0.701 sec)\n",
      "INFO:tensorflow:global_step/sec: 140.629\n",
      "INFO:tensorflow:loss = 0.0767237, step = 2001 (0.711 sec)\n",
      "INFO:tensorflow:global_step/sec: 137.51\n",
      "INFO:tensorflow:loss = 0.074674, step = 2101 (0.727 sec)\n",
      "INFO:tensorflow:global_step/sec: 128.545\n",
      "INFO:tensorflow:loss = 0.0728347, step = 2201 (0.778 sec)\n",
      "INFO:tensorflow:global_step/sec: 140.428\n",
      "INFO:tensorflow:loss = 0.0711688, step = 2301 (0.712 sec)\n",
      "INFO:tensorflow:global_step/sec: 129.899\n",
      "INFO:tensorflow:loss = 0.0696467, step = 2401 (0.770 sec)\n",
      "INFO:tensorflow:global_step/sec: 139.311\n",
      "INFO:tensorflow:loss = 0.068245, step = 2501 (0.718 sec)\n",
      "INFO:tensorflow:global_step/sec: 119.751\n",
      "INFO:tensorflow:loss = 0.0669446, step = 2601 (0.835 sec)\n",
      "INFO:tensorflow:global_step/sec: 115.335\n",
      "INFO:tensorflow:loss = 0.0657302, step = 2701 (0.868 sec)\n",
      "INFO:tensorflow:global_step/sec: 126.831\n",
      "INFO:tensorflow:loss = 0.0645894, step = 2801 (0.787 sec)\n",
      "INFO:tensorflow:global_step/sec: 124.47\n",
      "INFO:tensorflow:loss = 0.0635117, step = 2901 (0.803 sec)\n",
      "INFO:tensorflow:global_step/sec: 133.468\n",
      "INFO:tensorflow:loss = 0.0624889, step = 3001 (0.749 sec)\n",
      "INFO:tensorflow:global_step/sec: 108.533\n",
      "INFO:tensorflow:loss = 0.0615136, step = 3101 (0.921 sec)\n",
      "INFO:tensorflow:global_step/sec: 110.124\n",
      "INFO:tensorflow:loss = 0.06058, step = 3201 (0.908 sec)\n",
      "INFO:tensorflow:global_step/sec: 106.175\n",
      "INFO:tensorflow:loss = 0.0596828, step = 3301 (0.942 sec)\n",
      "INFO:tensorflow:global_step/sec: 119.229\n",
      "INFO:tensorflow:loss = 0.0588176, step = 3401 (0.838 sec)\n",
      "INFO:tensorflow:global_step/sec: 127.268\n",
      "INFO:tensorflow:loss = 0.0579804, step = 3501 (0.786 sec)\n",
      "INFO:tensorflow:global_step/sec: 133.745\n",
      "INFO:tensorflow:loss = 0.0571678, step = 3601 (0.747 sec)\n",
      "INFO:tensorflow:global_step/sec: 133.315\n",
      "INFO:tensorflow:loss = 0.0563768, step = 3701 (0.750 sec)\n",
      "INFO:tensorflow:global_step/sec: 133.427\n",
      "INFO:tensorflow:loss = 0.0556044, step = 3801 (0.749 sec)\n",
      "INFO:tensorflow:global_step/sec: 120.425\n",
      "INFO:tensorflow:loss = 0.0548482, step = 3901 (0.830 sec)\n",
      "INFO:tensorflow:global_step/sec: 127.484\n",
      "INFO:tensorflow:loss = 0.0541057, step = 4001 (0.785 sec)\n",
      "INFO:tensorflow:global_step/sec: 122.154\n",
      "INFO:tensorflow:loss = 0.0533748, step = 4101 (0.818 sec)\n",
      "INFO:tensorflow:global_step/sec: 121.845\n",
      "INFO:tensorflow:loss = 0.0526535, step = 4201 (0.821 sec)\n",
      "INFO:tensorflow:global_step/sec: 129.406\n",
      "INFO:tensorflow:loss = 0.0519397, step = 4301 (0.773 sec)\n",
      "INFO:tensorflow:global_step/sec: 123.94\n",
      "INFO:tensorflow:loss = 0.0512317, step = 4401 (0.806 sec)\n",
      "INFO:tensorflow:global_step/sec: 134.041\n",
      "INFO:tensorflow:loss = 0.0505278, step = 4501 (0.746 sec)\n",
      "INFO:tensorflow:global_step/sec: 137.861\n",
      "INFO:tensorflow:loss = 0.0498262, step = 4601 (0.725 sec)\n",
      "INFO:tensorflow:global_step/sec: 132.746\n",
      "INFO:tensorflow:loss = 0.0491253, step = 4701 (0.753 sec)\n",
      "INFO:tensorflow:global_step/sec: 134.561\n",
      "INFO:tensorflow:loss = 0.0484237, step = 4801 (0.743 sec)\n",
      "INFO:tensorflow:global_step/sec: 135.047\n",
      "INFO:tensorflow:loss = 0.0477197, step = 4901 (0.741 sec)\n",
      "INFO:tensorflow:Saving checkpoints for 5000 into outputdir/model.ckpt.\n",
      "INFO:tensorflow:Loss for final step: 0.0444429.\n",
      "<tf.Variable 'matching_filenames:0' shape=<unknown> dtype=string_ref>\n",
      "readcsv=Tensor(\"ExpandDims:0\", shape=(?, 1), dtype=string)\n",
      "inputs=Tensor(\"concat:0\", shape=(?, 8), dtype=float32)\n",
      "label=Tensor(\"concat_1:0\", shape=(?, 2), dtype=float32)\n",
      "xx=[<tf.Tensor 'split:0' shape=(?, 1) dtype=float32>, <tf.Tensor 'split:1' shape=(?, 1) dtype=float32>, <tf.Tensor 'split:2' shape=(?, 1) dtype=float32>, <tf.Tensor 'split:3' shape=(?, 1) dtype=float32>, <tf.Tensor 'split:4' shape=(?, 1) dtype=float32>, <tf.Tensor 'split:5' shape=(?, 1) dtype=float32>, <tf.Tensor 'split:6' shape=(?, 1) dtype=float32>, <tf.Tensor 'split:7' shape=(?, 1) dtype=float32>]\n"
     ]
    },
    {
     "name": "stdout",
     "output_type": "stream",
     "text": [
      "last out: Tensor(\"rnn/basic_lstm_cell_7/mul_2:0\", shape=(?, 3), dtype=float32)\n",
      "INFO:tensorflow:Starting evaluation at 2017-06-09-15:29:28\n",
      "INFO:tensorflow:Restoring parameters from outputdir/model.ckpt-5000\n",
      "INFO:tensorflow:Evaluation [1/100]\n",
      "INFO:tensorflow:Evaluation [2/100]\n",
      "INFO:tensorflow:Evaluation [3/100]\n",
      "INFO:tensorflow:Finished evaluation at 2017-06-09-15:29:28\n",
      "INFO:tensorflow:Saving dict for global step 5000: RMSE = 0.246303, global_step = 5000, loss = 0.0671288, rmse = 0.246303\n",
      "WARNING:tensorflow:Skipping summary for global_step, must be a float or np.float32.\n"
     ]
    },
    {
     "data": {
      "text/plain": [
       "({'RMSE': 0.24630338,\n",
       "  'global_step': 5000,\n",
       "  'loss': 0.067128815,\n",
       "  'rmse': 0.24630338},\n",
       " [])"
      ]
     },
     "execution_count": 44,
     "metadata": {},
     "output_type": "execute_result"
    }
   ],
   "source": [
    "#takes as inputs the experiment function and its arguments\n",
    "learn_runner.run(experiment_fn=experiment_fn, output_dir=OUTPUT_DIR)"
   ]
  },
  {
   "cell_type": "code",
   "execution_count": 31,
   "metadata": {
    "scrolled": true
   },
   "outputs": [
    {
     "name": "stdout",
     "output_type": "stream",
     "text": [
      "[5]\n"
     ]
    }
   ],
   "source": [
    "with tf.Session(graph=graph, config=config) as sess:\n",
    "    print sess.run(tf.constant([5]))"
   ]
  },
  {
   "cell_type": "code",
   "execution_count": 33,
   "metadata": {},
   "outputs": [
    {
     "data": {
      "text/plain": [
       "8.701171875"
      ]
     },
     "execution_count": 33,
     "metadata": {},
     "output_type": "execute_result"
    }
   ],
   "source": [
    "X_train.shape[0]/512"
   ]
  },
  {
   "cell_type": "code",
   "execution_count": 34,
   "metadata": {},
   "outputs": [
    {
     "name": "stderr",
     "output_type": "stream",
     "text": [
      "/home/studenthp/anaconda2/envs/dis/lib/python2.7/site-packages/keras/models.py:826: UserWarning: The `nb_epoch` argument in `fit` has been renamed `epochs`.\n",
      "  warnings.warn('The `nb_epoch` argument in `fit` '\n"
     ]
    },
    {
     "name": "stdout",
     "output_type": "stream",
     "text": [
      "Train on 4232 samples, validate on 223 samples\n",
      "Epoch 1/1\n",
      "4232/4232 [==============================] - 6s - loss: 0.1963 - val_loss: 0.0306\n"
     ]
    },
    {
     "data": {
      "text/plain": [
       "<keras.callbacks.History at 0x7f2e827b03d0>"
      ]
     },
     "execution_count": 34,
     "metadata": {},
     "output_type": "execute_result"
    }
   ],
   "source": [
    "model.fit(X_train, y_train, batch_size=512, nb_epoch=epochs, validation_split=0.05)"
   ]
  },
  {
   "cell_type": "code",
   "execution_count": null,
   "metadata": {
    "collapsed": true
   },
   "outputs": [],
   "source": []
  }
 ],
 "metadata": {
  "kernelspec": {
   "display_name": "Python 2",
   "language": "python",
   "name": "python2"
  },
  "language_info": {
   "codemirror_mode": {
    "name": "ipython",
    "version": 2
   },
   "file_extension": ".py",
   "mimetype": "text/x-python",
   "name": "python",
   "nbconvert_exporter": "python",
   "pygments_lexer": "ipython2",
   "version": "2.7.13"
  }
 },
 "nbformat": 4,
 "nbformat_minor": 2
}
