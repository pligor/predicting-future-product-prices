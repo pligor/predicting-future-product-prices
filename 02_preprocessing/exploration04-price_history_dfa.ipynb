{
 "cells": [
  {
   "cell_type": "code",
   "execution_count": 1,
   "metadata": {
    "collapsed": true
   },
   "outputs": [],
   "source": [
    "#%load_ext autoreload\n",
    "%reload_ext autoreload\n",
    "%autoreload 2"
   ]
  },
  {
   "cell_type": "markdown",
   "metadata": {},
   "source": [
    "https://cschoel.github.io/nolds/nolds.html#detrended-fluctuation-analysis"
   ]
  },
  {
   "cell_type": "code",
   "execution_count": null,
   "metadata": {
    "collapsed": true
   },
   "outputs": [],
   "source": []
  },
  {
   "cell_type": "code",
   "execution_count": 2,
   "metadata": {
    "collapsed": true
   },
   "outputs": [],
   "source": [
    "# -*- coding: UTF-8 -*-\n",
    "from __future__ import division\n",
    "import numpy as np\n",
    "import pandas as pd\n",
    "import sys\n",
    "import math\n",
    "from sklearn.preprocessing import LabelEncoder, OneHotEncoder\n",
    "import re\n",
    "import os\n",
    "import csv\n",
    "from helpers.outliers import MyOutliers\n",
    "from skroutz_mobile import SkroutzMobile\n",
    "from sklearn.ensemble import IsolationForest\n",
    "import matplotlib.pyplot as plt\n",
    "import seaborn as sns\n",
    "from sklearn.preprocessing import LabelEncoder\n",
    "from sklearn.model_selection import train_test_split\n",
    "from sklearn.linear_model import LinearRegression\n",
    "from sklearn.tree import DecisionTreeClassifier, export_graphviz\n",
    "from sklearn.ensemble import RandomForestClassifier\n",
    "from sklearn.metrics import accuracy_score, confusion_matrix, r2_score\n",
    "from skroutz_mobile import SkroutzMobile\n",
    "from sklearn.model_selection import StratifiedShuffleSplit\n",
    "from helpers.my_train_test_split import MySplitTrainTest\n",
    "from sklearn.preprocessing import StandardScaler\n",
    "from preprocess_price_history import PreprocessPriceHistory\n",
    "from price_history import PriceHistory\n",
    "from dfa import dfa\n",
    "import scipy.signal as ss\n",
    "import nolds\n",
    "%matplotlib inline"
   ]
  },
  {
   "cell_type": "code",
   "execution_count": 3,
   "metadata": {
    "collapsed": true
   },
   "outputs": [],
   "source": [
    "random_state = np.random.RandomState(seed=16011984)"
   ]
  },
  {
   "cell_type": "code",
   "execution_count": 4,
   "metadata": {
    "collapsed": true
   },
   "outputs": [],
   "source": [
    "csv_in = \"../price_history_02_with_seq_start.csv\""
   ]
  },
  {
   "cell_type": "code",
   "execution_count": 5,
   "metadata": {},
   "outputs": [
    {
     "data": {
      "text/plain": [
       "(837, 684)"
      ]
     },
     "execution_count": 5,
     "metadata": {},
     "output_type": "execute_result"
    }
   ],
   "source": [
    "orig_df = pd.read_csv(csv_in, index_col=0, encoding='utf-8', quoting=csv.QUOTE_ALL)\n",
    "orig_df.shape"
   ]
  },
  {
   "cell_type": "code",
   "execution_count": 6,
   "metadata": {},
   "outputs": [
    {
     "data": {
      "text/plain": [
       "(837, 682)"
      ]
     },
     "execution_count": 6,
     "metadata": {},
     "output_type": "execute_result"
    }
   ],
   "source": [
    "df = orig_df.drop(labels=PriceHistory.SPECIAL_COLS, axis=1)\n",
    "df.shape"
   ]
  },
  {
   "cell_type": "code",
   "execution_count": 7,
   "metadata": {
    "collapsed": true
   },
   "outputs": [],
   "source": [
    "CSV_FILEPATH = \"../price_history_02_with_seq_start.csv\""
   ]
  },
  {
   "cell_type": "code",
   "execution_count": 8,
   "metadata": {
    "collapsed": true
   },
   "outputs": [],
   "source": [
    "#xx = df.iloc[0, ]\n",
    "ph = PriceHistory(CSV_FILEPATH)"
   ]
  },
  {
   "cell_type": "code",
   "execution_count": 9,
   "metadata": {},
   "outputs": [
    {
     "data": {
      "text/plain": [
       "(210,)"
      ]
     },
     "execution_count": 9,
     "metadata": {},
     "output_type": "execute_result"
    }
   ],
   "source": [
    "tt = ph.extractSequenceByLocation(iloc=0)\n",
    "tt.shape"
   ]
  },
  {
   "cell_type": "code",
   "execution_count": 10,
   "metadata": {},
   "outputs": [
    {
     "data": {
      "text/plain": [
       "90.849999999999994"
      ]
     },
     "execution_count": 10,
     "metadata": {},
     "output_type": "execute_result"
    }
   ],
   "source": [
    "tt[-1]"
   ]
  },
  {
   "cell_type": "code",
   "execution_count": 11,
   "metadata": {},
   "outputs": [
    {
     "data": {
      "text/plain": [
       "1.8906391964332503"
      ]
     },
     "execution_count": 11,
     "metadata": {},
     "output_type": "execute_result"
    }
   ],
   "source": [
    "alpha = nolds.dfa(tt)\n",
    "alpha"
   ]
  },
  {
   "cell_type": "code",
   "execution_count": 12,
   "metadata": {},
   "outputs": [
    {
     "data": {
      "text/plain": [
       "837"
      ]
     },
     "execution_count": 12,
     "metadata": {},
     "output_type": "execute_result"
    }
   ],
   "source": [
    "seqs = [ph.extractSequenceByLocation(iloc=ii) for ii in xrange(len(ph.df))]\n",
    "len(seqs)"
   ]
  },
  {
   "cell_type": "code",
   "execution_count": 13,
   "metadata": {},
   "outputs": [
    {
     "data": {
      "text/plain": [
       "210"
      ]
     },
     "execution_count": 13,
     "metadata": {},
     "output_type": "execute_result"
    }
   ],
   "source": [
    "len(seqs[0])"
   ]
  },
  {
   "cell_type": "code",
   "execution_count": 14,
   "metadata": {},
   "outputs": [
    {
     "name": "stderr",
     "output_type": "stream",
     "text": [
      "/home/student/anaconda2/envs/dis/lib/python2.7/site-packages/nolds/measures.py:73: RuntimeWarning: RANSAC did not reach consensus, using numpy's polyfit\n",
      "  RuntimeWarning)\n",
      "/home/student/anaconda2/envs/dis/lib/python2.7/site-packages/nolds/measures.py:74: RankWarning: Polyfit may be poorly conditioned\n",
      "  coef = np.polyfit(x, y, degree)\n",
      "/home/student/anaconda2/envs/dis/lib/python2.7/site-packages/nolds/measures.py:74: RankWarning: Polyfit may be poorly conditioned\n",
      "  coef = np.polyfit(x, y, degree)\n",
      "/home/student/anaconda2/envs/dis/lib/python2.7/site-packages/nolds/measures.py:74: RankWarning: Polyfit may be poorly conditioned\n",
      "  coef = np.polyfit(x, y, degree)\n",
      "/home/student/anaconda2/envs/dis/lib/python2.7/site-packages/nolds/measures.py:74: RankWarning: Polyfit may be poorly conditioned\n",
      "  coef = np.polyfit(x, y, degree)\n",
      "/home/student/anaconda2/envs/dis/lib/python2.7/site-packages/nolds/measures.py:74: RankWarning: Polyfit may be poorly conditioned\n",
      "  coef = np.polyfit(x, y, degree)\n",
      "/home/student/anaconda2/envs/dis/lib/python2.7/site-packages/nolds/measures.py:74: RankWarning: Polyfit may be poorly conditioned\n",
      "  coef = np.polyfit(x, y, degree)\n",
      "/home/student/anaconda2/envs/dis/lib/python2.7/site-packages/nolds/measures.py:74: RankWarning: Polyfit may be poorly conditioned\n",
      "  coef = np.polyfit(x, y, degree)\n",
      "/home/student/anaconda2/envs/dis/lib/python2.7/site-packages/nolds/measures.py:74: RankWarning: Polyfit may be poorly conditioned\n",
      "  coef = np.polyfit(x, y, degree)\n",
      "/home/student/anaconda2/envs/dis/lib/python2.7/site-packages/nolds/measures.py:74: RankWarning: Polyfit may be poorly conditioned\n",
      "  coef = np.polyfit(x, y, degree)\n",
      "/home/student/anaconda2/envs/dis/lib/python2.7/site-packages/nolds/measures.py:74: RankWarning: Polyfit may be poorly conditioned\n",
      "  coef = np.polyfit(x, y, degree)\n",
      "/home/student/anaconda2/envs/dis/lib/python2.7/site-packages/nolds/measures.py:74: RankWarning: Polyfit may be poorly conditioned\n",
      "  coef = np.polyfit(x, y, degree)\n",
      "/home/student/anaconda2/envs/dis/lib/python2.7/site-packages/nolds/measures.py:74: RankWarning: Polyfit may be poorly conditioned\n",
      "  coef = np.polyfit(x, y, degree)\n",
      "/home/student/anaconda2/envs/dis/lib/python2.7/site-packages/nolds/measures.py:74: RankWarning: Polyfit may be poorly conditioned\n",
      "  coef = np.polyfit(x, y, degree)\n",
      "/home/student/anaconda2/envs/dis/lib/python2.7/site-packages/nolds/measures.py:74: RankWarning: Polyfit may be poorly conditioned\n",
      "  coef = np.polyfit(x, y, degree)\n",
      "/home/student/anaconda2/envs/dis/lib/python2.7/site-packages/nolds/measures.py:74: RankWarning: Polyfit may be poorly conditioned\n",
      "  coef = np.polyfit(x, y, degree)\n",
      "/home/student/anaconda2/envs/dis/lib/python2.7/site-packages/nolds/measures.py:74: RankWarning: Polyfit may be poorly conditioned\n",
      "  coef = np.polyfit(x, y, degree)\n",
      "/home/student/anaconda2/envs/dis/lib/python2.7/site-packages/nolds/measures.py:74: RankWarning: Polyfit may be poorly conditioned\n",
      "  coef = np.polyfit(x, y, degree)\n",
      "/home/student/anaconda2/envs/dis/lib/python2.7/site-packages/nolds/measures.py:74: RankWarning: Polyfit may be poorly conditioned\n",
      "  coef = np.polyfit(x, y, degree)\n",
      "/home/student/anaconda2/envs/dis/lib/python2.7/site-packages/nolds/measures.py:74: RankWarning: Polyfit may be poorly conditioned\n",
      "  coef = np.polyfit(x, y, degree)\n",
      "/home/student/anaconda2/envs/dis/lib/python2.7/site-packages/nolds/measures.py:74: RankWarning: Polyfit may be poorly conditioned\n",
      "  coef = np.polyfit(x, y, degree)\n",
      "/home/student/anaconda2/envs/dis/lib/python2.7/site-packages/nolds/measures.py:74: RankWarning: Polyfit may be poorly conditioned\n",
      "  coef = np.polyfit(x, y, degree)\n",
      "/home/student/anaconda2/envs/dis/lib/python2.7/site-packages/nolds/measures.py:74: RankWarning: Polyfit may be poorly conditioned\n",
      "  coef = np.polyfit(x, y, degree)\n",
      "/home/student/anaconda2/envs/dis/lib/python2.7/site-packages/nolds/measures.py:74: RankWarning: Polyfit may be poorly conditioned\n",
      "  coef = np.polyfit(x, y, degree)\n"
     ]
    },
    {
     "data": {
      "text/plain": [
       "734"
      ]
     },
     "execution_count": 14,
     "metadata": {},
     "output_type": "execute_result"
    }
   ],
   "source": [
    "alphas = []\n",
    "for seq in seqs:\n",
    "    try:\n",
    "        alpha = nolds.dfa(seq.values)\n",
    "        if not np.isnan(alpha):\n",
    "            alphas.append(alpha)\n",
    "    except AssertionError, ee:\n",
    "        pass\n",
    "    \n",
    "#alphas = [seq for seq in seqs if len(seq) > 1 and not np.all(seq[0] == seq)]\n",
    "len(alphas)"
   ]
  },
  {
   "cell_type": "code",
   "execution_count": 18,
   "metadata": {},
   "outputs": [
    {
     "data": {
      "image/png": "[encoded data removed]",
      "text/plain": [
       "<matplotlib.figure.Figure at 0x7f7d0bcb3a90>"
      ]
     },
     "metadata": {},
     "output_type": "display_data"
    }
   ],
   "source": [
    "plt.figure(figsize=(17,8))\n",
    "sns.distplot(alphas, rug=True,\n",
    "             axlabel='Alpha of Detrended Flunctuation Analysis')\n",
    "plt.show()"
   ]
  },
  {
   "cell_type": "markdown",
   "metadata": {},
   "source": [
    "#### Conclusion\n",
    "the estimate alpha for the Hurst parameter (alpha < 1: stationary process similar to fractional Gaussian noise with H = alpha, alpha > 1: non-stationary process similar to fractional Brownian motion with H = alpha - 1)\n",
    "\n",
    "So most price histories are identified as we would expect, as non-stationary processes"
   ]
  },
  {
   "cell_type": "code",
   "execution_count": 19,
   "metadata": {
    "collapsed": true
   },
   "outputs": [],
   "source": [
    "# References"
   ]
  },
  {
   "cell_type": "markdown",
   "metadata": {},
   "source": [
    "https://cschoel.github.io/nolds/nolds.html#detrended-fluctuation-analysis\n",
    "\n",
    "https://scholar.google.co.uk/scholar?q=Detrended+fluctuation+analysis%3A+A+scale-free+view+on+neuronal+oscillations&btnG=&hl=en&as_sdt=0%2C5\n",
    "\n",
    "MLA format:  \n",
    "Hardstone, Richard, et al. \"Detrended fluctuation analysis: a scale-free view on neuronal oscillations.\" Frontiers in physiology 3 (2012)."
   ]
  },
  {
   "cell_type": "markdown",
   "metadata": {},
   "source": [
    "### Price histories Detrended"
   ]
  },
  {
   "cell_type": "code",
   "execution_count": 42,
   "metadata": {
    "collapsed": true
   },
   "outputs": [],
   "source": [
    "seq = seqs[0].values"
   ]
  },
  {
   "cell_type": "code",
   "execution_count": 43,
   "metadata": {},
   "outputs": [
    {
     "data": {
      "text/plain": [
       "[<matplotlib.lines.Line2D at 0x7f8f1c4e9410>]"
      ]
     },
     "execution_count": 43,
     "metadata": {},
     "output_type": "execute_result"
    },
    {
     "data": {
      "image/png": "[encoded data removed]",
      "text/plain": [
       "<matplotlib.figure.Figure at 0x7f8f1c522190>"
      ]
     },
     "metadata": {},
     "output_type": "display_data"
    }
   ],
   "source": [
    "plt.plot(seq)"
   ]
  },
  {
   "cell_type": "code",
   "execution_count": 53,
   "metadata": {},
   "outputs": [
    {
     "data": {
      "text/plain": [
       "837"
      ]
     },
     "execution_count": 53,
     "metadata": {},
     "output_type": "execute_result"
    }
   ],
   "source": [
    "detrendeds = [ss.detrend(seq) for seq in seqs]\n",
    "len(detrendeds)"
   ]
  },
  {
   "cell_type": "code",
   "execution_count": 54,
   "metadata": {},
   "outputs": [
    {
     "data": {
      "text/plain": [
       "[<matplotlib.lines.Line2D at 0x7f8f1bbd5cd0>]"
      ]
     },
     "execution_count": 54,
     "metadata": {},
     "output_type": "execute_result"
    },
    {
     "data": {
      "image/png": "[encoded data removed]",
      "text/plain": [
       "<matplotlib.figure.Figure at 0x7f8f1bd70190>"
      ]
     },
     "metadata": {},
     "output_type": "display_data"
    }
   ],
   "source": [
    "plt.plot(detrendeds[0])"
   ]
  },
  {
   "cell_type": "code",
   "execution_count": 56,
   "metadata": {},
   "outputs": [
    {
     "data": {
      "text/plain": [
       "array([  4.22443737,   4.56679819,   4.70915901,   4.64151983,\n",
       "         4.77388065,   4.91624146,   5.25860228,   5.4009631 ,\n",
       "         5.54332392,   4.80568474,   4.94804555,   4.97040637,\n",
       "         5.10276719,   5.23512801,   5.38748883,   5.52984964,\n",
       "         5.67221046,   5.81457128,   5.9469321 ,   6.07929292,\n",
       "         6.22165373,   6.36401455,   6.45637537,   5.79873619,\n",
       "         5.94109701,   6.03345782,   6.12581864,   4.35817946,\n",
       "         3.40054028,   3.4529011 ,   1.67526191,   1.78762273,\n",
       "         1.07998355,   1.02234437,   1.06470519,   1.107066  ,\n",
       "       -12.59057318, -12.44821236, -12.30585154, -12.16349072,\n",
       "         1.21887009,   1.36123091,   1.50359173,   1.54595255,\n",
       "         1.66831337,   1.79067418,   1.943035  ,   2.07539582,\n",
       "         2.15775664,   2.19011746,   2.32247827,   2.38483909,\n",
       "         2.50719991,   2.63956073,   2.76192155,   2.83428236,\n",
       "         2.94664318,   3.019004  ,   3.16136482,   3.30372564,\n",
       "         3.06608645,   3.19844727,   2.35080809,   2.44316891,\n",
       "         2.58552973,   2.70789054,   2.46025136,   2.59261218,\n",
       "         2.194973  ,  -0.65266618,  -1.51030536,  -1.36794455,\n",
       "         0.77441627,   0.41677709,   0.54913791,   0.59149873,\n",
       "        -0.70614046,  -1.02377964,  -1.31141882,  -1.549058  ,\n",
       "        -1.82669718,  -2.12433637,  -2.55197555,  -7.70961473,\n",
       "        -8.08725391,  -8.52489309,  -8.84253228,  -9.32017146,\n",
       "        -9.58781064,  -9.92544982, -10.323089  , -10.60072819,\n",
       "       -10.87836737, -10.73600655, -10.59364573,   1.04871509,\n",
       "         1.1910759 ,   1.33343672,   1.47579754,   1.61815836,\n",
       "         1.75051918,   1.89287999,   2.03524081,   1.67760163,\n",
       "        -1.68003755,  -2.03767673,  -5.38531592,  -5.2429551 ,\n",
       "        -5.10059428,  -4.95823346,  -4.81587264,  -4.69351183,\n",
       "        -5.53115101,  -5.48879019,  -5.34642937,  -5.20406855,\n",
       "        -5.06170774,  -4.91934692,  -4.7869861 ,  -5.15462528,\n",
       "        -5.49226446,  -5.74990365,  -6.10754283,  -5.96518201,\n",
       "        -5.92282119,  -5.82046037,  -5.68809956,  -5.54573874,\n",
       "        -5.40337792,  -5.3010171 ,  -5.29865628,  -5.56629547,\n",
       "        -5.80393465,  -6.14157383,  -5.99921301,  -4.26685219,\n",
       "        -4.21449137,  -4.30213056,  -4.36976974,  -4.38740892,\n",
       "        -4.3650481 ,  -4.25268728,  -4.11032647,  -3.96796565,\n",
       "        -3.85560483,  -3.71324401,  -3.59088319,  -3.54852238,\n",
       "        -3.43616156,  -3.29380074,  -3.15143992,  -3.0090791 ,\n",
       "        -3.07671829,  -2.93435747,  -2.84199665,  -2.74963583,\n",
       "        -2.88727501,  -2.8649142 ,  -3.00255338,  -3.04019256,\n",
       "        -3.14783174,  -3.20547092,  -3.39311011,  -3.61074929,\n",
       "        -3.62838847,  -3.97602765,  -3.85366683,  -3.75130602,\n",
       "        -3.6089452 ,  -3.48658438,  -3.37422356,  -3.42186274,\n",
       "        -3.28950193,  -3.20714111,  -3.16478029,  -3.19241947,\n",
       "        -3.17005865,  -3.33769784,  -3.19533702,  -3.2429762 ,\n",
       "        -3.12061538,  -2.97825456,  -2.82589375,  -2.68353293,\n",
       "        -2.54117211,  -2.39881129,   3.99354953,   4.13591034,\n",
       "        11.27827116,  11.42063198,  11.5629928 ,  11.70535362,\n",
       "        11.84771443,  11.99007525,  12.13243607,  12.27479689,\n",
       "        12.41715771,  12.55951852,  12.20187934,  12.34424016,\n",
       "        12.48660098,  12.6289618 ,  12.60132262,  12.30368343,\n",
       "        11.90604425,  11.00840507,  11.15076589,  11.29312671,\n",
       "        11.43548752,   5.12784834])"
      ]
     },
     "execution_count": 56,
     "metadata": {},
     "output_type": "execute_result"
    }
   ],
   "source": [
    "detrendeds[0]"
   ]
  },
  {
   "cell_type": "code",
   "execution_count": 57,
   "metadata": {},
   "outputs": [
    {
     "data": {
      "text/plain": [
       "145702"
      ]
     },
     "execution_count": 57,
     "metadata": {},
     "output_type": "execute_result"
    }
   ],
   "source": [
    "alldetr = []\n",
    "for detrended in detrendeds:\n",
    "    alldetr += list(detrended)\n",
    "len(alldetr)"
   ]
  },
  {
   "cell_type": "code",
   "execution_count": 60,
   "metadata": {},
   "outputs": [
    {
     "data": {
      "image/png": "[encoded data removed]",
      "text/plain": [
       "<matplotlib.figure.Figure at 0x7f8f0d018750>"
      ]
     },
     "metadata": {},
     "output_type": "display_data"
    }
   ],
   "source": [
    "fig = plt.figure( figsize=(14, 6) )\n",
    "sns.distplot(alldetr, axlabel=\"Price Deviation from zero after detrend\")\n",
    "plt.show()"
   ]
  },
  {
   "cell_type": "code",
   "execution_count": 72,
   "metadata": {
    "collapsed": true
   },
   "outputs": [],
   "source": [
    "stdsca = StandardScaler(with_std=False)"
   ]
  },
  {
   "cell_type": "code",
   "execution_count": 94,
   "metadata": {},
   "outputs": [
    {
     "data": {
      "text/plain": [
       "(837, (210, 1), (303, 1))"
      ]
     },
     "execution_count": 94,
     "metadata": {},
     "output_type": "execute_result"
    }
   ],
   "source": [
    "seqs_zero_mean = [stdsca.fit_transform(seq.values.reshape(1, -1).T) for seq in seqs]\n",
    "len(seqs_zero_mean), seqs_zero_mean[0].shape, seqs_zero_mean[3].shape"
   ]
  },
  {
   "cell_type": "code",
   "execution_count": 96,
   "metadata": {},
   "outputs": [
    {
     "data": {
      "text/plain": [
       "(145702, 1)"
      ]
     },
     "execution_count": 96,
     "metadata": {},
     "output_type": "execute_result"
    }
   ],
   "source": [
    "allzeromean = np.empty(shape=(0, 1))\n",
    "for seq in seqs_zero_mean:\n",
    "    allzeromean = np.vstack( (allzeromean, seq) )\n",
    "allzeromean.shape"
   ]
  },
  {
   "cell_type": "code",
   "execution_count": 98,
   "metadata": {},
   "outputs": [
    {
     "data": {
      "image/png": "[encoded data removed]",
      "text/plain": [
       "<matplotlib.figure.Figure at 0x7f8f0c4487d0>"
      ]
     },
     "metadata": {},
     "output_type": "display_data"
    }
   ],
   "source": [
    "fig = plt.figure( figsize=(14, 6) )\n",
    "sns.distplot(allzeromean.flatten(),\n",
    "            axlabel=\"Price Deviation from zero before detrend\")\n",
    "plt.show()"
   ]
  },
  {
   "cell_type": "code",
   "execution_count": null,
   "metadata": {
    "collapsed": true
   },
   "outputs": [],
   "source": []
  }
 ],
 "metadata": {
  "kernelspec": {
   "display_name": "Python 2",
   "language": "python",
   "name": "python2"
  },
  "language_info": {
   "codemirror_mode": {
    "name": "ipython",
    "version": 2
   },
   "file_extension": ".py",
   "mimetype": "text/x-python",
   "name": "python",
   "nbconvert_exporter": "python",
   "pygments_lexer": "ipython2",
   "version": "2.7.13"
  }
 },
 "nbformat": 4,
 "nbformat_minor": 2
}
