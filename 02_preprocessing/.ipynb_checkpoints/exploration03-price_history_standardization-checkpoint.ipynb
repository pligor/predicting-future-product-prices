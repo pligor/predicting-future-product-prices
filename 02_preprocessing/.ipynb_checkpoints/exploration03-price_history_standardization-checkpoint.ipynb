{
 "cells": [
  {
   "cell_type": "code",
   "execution_count": 1,
   "metadata": {
    "collapsed": true
   },
   "outputs": [],
   "source": [
    "# -*- coding: UTF-8 -*-\n",
    "#%load_ext autoreload\n",
    "%reload_ext autoreload\n",
    "%autoreload 2"
   ]
  },
  {
   "cell_type": "code",
   "execution_count": 2,
   "metadata": {
    "collapsed": true
   },
   "outputs": [],
   "source": [
    "from __future__ import division\n",
    "import numpy as np\n",
    "import pandas as pd\n",
    "import sys\n",
    "import math\n",
    "from sklearn.preprocessing import LabelEncoder, OneHotEncoder\n",
    "import re\n",
    "import os\n",
    "import csv\n",
    "from helpers.outliers import MyOutliers\n",
    "from skroutz_mobile import SkroutzMobile\n",
    "from sklearn.ensemble import IsolationForest\n",
    "import matplotlib.pyplot as plt\n",
    "import seaborn as sns\n",
    "from sklearn.preprocessing import LabelEncoder\n",
    "from sklearn.model_selection import train_test_split\n",
    "from sklearn.linear_model import LinearRegression\n",
    "from sklearn.tree import DecisionTreeClassifier, export_graphviz\n",
    "from sklearn.ensemble import RandomForestClassifier\n",
    "from sklearn.metrics import accuracy_score, confusion_matrix, r2_score\n",
    "from skroutz_mobile import SkroutzMobile\n",
    "from sklearn.model_selection import StratifiedShuffleSplit\n",
    "from helpers.my_train_test_split import MySplitTrainTest\n",
    "from sklearn.preprocessing import StandardScaler\n",
    "from preprocess_price_history import PreprocessPriceHistory\n",
    "from price_history import PriceHistory\n",
    "%matplotlib inline"
   ]
  },
  {
   "cell_type": "code",
   "execution_count": 3,
   "metadata": {
    "collapsed": true
   },
   "outputs": [],
   "source": [
    "random_state = np.random.RandomState(seed=16011984)"
   ]
  },
  {
   "cell_type": "code",
   "execution_count": 4,
   "metadata": {
    "collapsed": true
   },
   "outputs": [],
   "source": [
    "csv_in = \"../price_history_01_no_spikes.csv\"\n",
    "csv_middle = \"../price_history_02_with_seq_start.csv\"\n",
    "csv_out = \"../price_history_03_standardized.csv\""
   ]
  },
  {
   "cell_type": "code",
   "execution_count": 5,
   "metadata": {
    "collapsed": true
   },
   "outputs": [],
   "source": [
    "df = pd.read_csv(csv_in, index_col=0, encoding='utf-8', quoting=csv.QUOTE_ALL)"
   ]
  },
  {
   "cell_type": "code",
   "execution_count": 6,
   "metadata": {},
   "outputs": [
    {
     "data": {
      "text/plain": [
       "10084353    472\n",
       "7653378     472\n",
       "8617989     470\n",
       "9615369     379\n",
       "8212493     466\n",
       "8491027     472\n",
       "11718680    626\n",
       "7562927     338\n",
       "10010654    563\n",
       "5539871     466\n",
       "8742945     472\n",
       "8874019     438\n",
       "9672740     479\n",
       "10536998    487\n",
       "12198699    680\n",
       "8095786     464\n",
       "10742791    515\n",
       "11159597    571\n",
       "9517102     471\n",
       "10680367    506\n",
       "9877558     410\n",
       "11057217    561\n",
       "9500739     469\n",
       "10977348    553\n",
       "11067464    562\n",
       "10010698    525\n",
       "7219275     471\n",
       "8212556     358\n",
       "10242128    465\n",
       "9501836     471\n",
       "           ... \n",
       "8648639     473\n",
       "8984512     473\n",
       "9561760     472\n",
       "6756290     386\n",
       "10000323    473\n",
       "10644470    500\n",
       "11617813    616\n",
       "11201527    578\n",
       "10620877    498\n",
       "11222349    602\n",
       "10774486    665\n",
       "11448281    598\n",
       "11181013    576\n",
       "6918108     412\n",
       "9304030     473\n",
       "6757029     473\n",
       "9517024     471\n",
       "8385872     471\n",
       "9672674     473\n",
       "11860310    644\n",
       "10555365    518\n",
       "6666214     472\n",
       "10297324    467\n",
       "9815037     472\n",
       "10766323    611\n",
       "9815038     662\n",
       "11087863    597\n",
       "10065912    472\n",
       "9824249     472\n",
       "9875453     472\n",
       "Name: seq_start, Length: 837, dtype: int64"
      ]
     },
     "execution_count": 6,
     "metadata": {},
     "output_type": "execute_result"
    }
   ],
   "source": [
    "df_with_seq_start = PreprocessPriceHistory.createSeqStartColumnOutOfOriginalPrices(df=df)\n",
    "#df_with_seq_start.to_csv(csv_middle, encoding='utf-8', quoting=csv.QUOTE_ALL)\n",
    "df_with_seq_start['seq_start']"
   ]
  },
  {
   "cell_type": "code",
   "execution_count": 7,
   "metadata": {},
   "outputs": [
    {
     "data": {
      "text/plain": [
       "(837, 684)"
      ]
     },
     "execution_count": 7,
     "metadata": {},
     "output_type": "execute_result"
    }
   ],
   "source": [
    "df_norm = PreprocessPriceHistory.convertToPriceDifferences(df=df_with_seq_start)\n",
    "df_norm.shape"
   ]
  },
  {
   "cell_type": "code",
   "execution_count": 8,
   "metadata": {
    "collapsed": true
   },
   "outputs": [],
   "source": [
    "#df_norm.to_csv(csv_out, encoding='utf-8', quoting=csv.QUOTE_ALL)"
   ]
  },
  {
   "cell_type": "code",
   "execution_count": 31,
   "metadata": {},
   "outputs": [
    {
     "data": {
      "text/plain": [
       "(837, 682)"
      ]
     },
     "execution_count": 31,
     "metadata": {},
     "output_type": "execute_result"
    }
   ],
   "source": [
    "df_norm_prices = df_norm.drop(labels=PriceHistory.SPECIAL_COLS, axis=1)\n",
    "df_norm_prices.shape"
   ]
  },
  {
   "cell_type": "code",
   "execution_count": 32,
   "metadata": {},
   "outputs": [
    {
     "data": {
      "text/plain": [
       "(570834,)"
      ]
     },
     "execution_count": 32,
     "metadata": {},
     "output_type": "execute_result"
    }
   ],
   "source": [
    "flatvals = df_norm_prices.values.flatten()\n",
    "flatvals.shape"
   ]
  },
  {
   "cell_type": "code",
   "execution_count": 34,
   "metadata": {},
   "outputs": [
    {
     "data": {
      "text/plain": [
       "True"
      ]
     },
     "execution_count": 34,
     "metadata": {},
     "output_type": "execute_result"
    }
   ],
   "source": [
    "np.all(flatvals[682:682*2] == df_norm_prices.values[1])"
   ]
  },
  {
   "cell_type": "code",
   "execution_count": 35,
   "metadata": {},
   "outputs": [
    {
     "data": {
      "image/png": "[encoded data removed]",
      "text/plain": [
       "<matplotlib.figure.Figure at 0x7f457969f810>"
      ]
     },
     "metadata": {},
     "output_type": "display_data"
    }
   ],
   "source": [
    "plt.figure(figsize=(15,6))\n",
    "sns.distplot(flatvals)\n",
    "plt.show()"
   ]
  },
  {
   "cell_type": "code",
   "execution_count": 46,
   "metadata": {},
   "outputs": [
    {
     "data": {
      "text/plain": [
       "25.116962448782928"
      ]
     },
     "execution_count": 46,
     "metadata": {},
     "output_type": "execute_result"
    }
   ],
   "source": [
    "std = np.std(flatvals)\n",
    "std"
   ]
  },
  {
   "cell_type": "code",
   "execution_count": 47,
   "metadata": {},
   "outputs": [
    {
     "data": {
      "text/plain": [
       "-2.617446017581293"
      ]
     },
     "execution_count": 47,
     "metadata": {},
     "output_type": "execute_result"
    }
   ],
   "source": [
    "np.mean(flatvals)"
   ]
  },
  {
   "cell_type": "markdown",
   "metadata": {},
   "source": [
    "Trust only up to three standard deviations.  \n",
    "Which is expected, ~75 euros difference from the original price is the maximum of what\n",
    "normally see as a customer"
   ]
  },
  {
   "cell_type": "code",
   "execution_count": 64,
   "metadata": {},
   "outputs": [
    {
     "data": {
      "text/plain": [
       "75.350887346348784"
      ]
     },
     "execution_count": 64,
     "metadata": {},
     "output_type": "execute_result"
    }
   ],
   "source": [
    "stds_threshold = std*3\n",
    "stds_threshold"
   ]
  },
  {
   "cell_type": "code",
   "execution_count": 65,
   "metadata": {},
   "outputs": [
    {
     "data": {
      "text/plain": [
       "-32.969999999999999"
      ]
     },
     "execution_count": 65,
     "metadata": {},
     "output_type": "execute_result"
    }
   ],
   "source": [
    "min(df_norm_prices.iloc[0])"
   ]
  },
  {
   "cell_type": "markdown",
   "metadata": {},
   "source": [
    "#### this is to trim according to minimum and maximum value"
   ]
  },
  {
   "cell_type": "code",
   "execution_count": 63,
   "metadata": {},
   "outputs": [
    {
     "data": {
      "text/plain": [
       "619"
      ]
     },
     "execution_count": 63,
     "metadata": {},
     "output_type": "execute_result"
    }
   ],
   "source": [
    "keep_inds = [ii for ii in range(len(df_norm_prices))\n",
    "     if max(df_norm_prices.iloc[ii]) < stds_threshold and \n",
    "             -stds_threshold < min(df_norm_prices.iloc[ii])\n",
    "    ]\n",
    "len(keep_inds)"
   ]
  },
  {
   "cell_type": "markdown",
   "metadata": {},
   "source": [
    "#### another idea is to trim according to the rate of change"
   ]
  },
  {
   "cell_type": "code",
   "execution_count": 84,
   "metadata": {},
   "outputs": [
    {
     "data": {
      "text/plain": [
       "689"
      ]
     },
     "execution_count": 84,
     "metadata": {},
     "output_type": "execute_result"
    }
   ],
   "source": [
    "keep_inds = [ii for ii in range(len(df_norm_prices))\n",
    "     if np.all(\n",
    "            np.absolute(df_norm_prices.iloc[ii][1:] - \n",
    "                np.roll(df_norm_prices.iloc[ii], 1)[1:]) < stds_threshold\n",
    "        )\n",
    "    ]\n",
    "len(keep_inds)"
   ]
  },
  {
   "cell_type": "markdown",
   "metadata": {},
   "source": [
    "#### and indeed those changing more than 75 euros / day are outliers\n",
    "#### TODO maybe later we can filter those when choosing windows directly, because now we neglect entire time series"
   ]
  },
  {
   "cell_type": "code",
   "execution_count": 86,
   "metadata": {},
   "outputs": [
    {
     "data": {
      "text/plain": [
       "(689, 684)"
      ]
     },
     "execution_count": 86,
     "metadata": {},
     "output_type": "execute_result"
    }
   ],
   "source": [
    "df_seq_start_trimmed = df_with_seq_start.iloc[keep_inds]\n",
    "df_seq_start_trimmed.shape"
   ]
  },
  {
   "cell_type": "code",
   "execution_count": 88,
   "metadata": {},
   "outputs": [
    {
     "data": {
      "text/plain": [
       "469898"
      ]
     },
     "execution_count": 88,
     "metadata": {},
     "output_type": "execute_result"
    }
   ],
   "source": [
    "flatvals2 = df_norm_prices.iloc[keep_inds].values.flatten()\n",
    "len(flatvals2)"
   ]
  },
  {
   "cell_type": "code",
   "execution_count": 89,
   "metadata": {},
   "outputs": [
    {
     "data": {
      "image/png": "[encoded data removed]",
      "text/plain": [
       "<matplotlib.figure.Figure at 0x7f4579656f50>"
      ]
     },
     "metadata": {},
     "output_type": "display_data"
    }
   ],
   "source": [
    "plt.figure(figsize=(15,6))\n",
    "sns.distplot(flatvals2)\n",
    "plt.show()"
   ]
  },
  {
   "cell_type": "code",
   "execution_count": 91,
   "metadata": {
    "collapsed": true
   },
   "outputs": [],
   "source": [
    "csv_path = \"../price_history_03_seq_start_suddens_trimmed.csv\""
   ]
  },
  {
   "cell_type": "code",
   "execution_count": 93,
   "metadata": {
    "collapsed": true
   },
   "outputs": [],
   "source": [
    "df_seq_start_trimmed.to_csv(csv_path, encoding='utf-8', quoting=csv.QUOTE_ALL)"
   ]
  },
  {
   "cell_type": "code",
   "execution_count": null,
   "metadata": {
    "collapsed": true
   },
   "outputs": [],
   "source": []
  }
 ],
 "metadata": {
  "kernelspec": {
   "display_name": "Python 2",
   "language": "python",
   "name": "python2"
  },
  "language_info": {
   "codemirror_mode": {
    "name": "ipython",
    "version": 2
   },
   "file_extension": ".py",
   "mimetype": "text/x-python",
   "name": "python",
   "nbconvert_exporter": "python",
   "pygments_lexer": "ipython2",
   "version": "2.7.13"
  }
 },
 "nbformat": 4,
 "nbformat_minor": 2
}
