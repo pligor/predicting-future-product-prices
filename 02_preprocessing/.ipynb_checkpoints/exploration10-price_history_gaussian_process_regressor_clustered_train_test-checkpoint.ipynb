{
 "cells": [
  {
   "cell_type": "code",
   "execution_count": 1,
   "metadata": {
    "collapsed": true
   },
   "outputs": [],
   "source": [
    "# -*- coding: UTF-8 -*-\n",
    "#%load_ext autoreload\n",
    "%reload_ext autoreload\n",
    "%autoreload 2"
   ]
  },
  {
   "cell_type": "markdown",
   "metadata": {},
   "source": [
    "http://nbviewer.jupyter.org/github/alexminnaar/time-series-classification-and-clustering/blob/master/Time%20Series%20Classification%20and%20Clustering.ipynb"
   ]
  },
  {
   "cell_type": "code",
   "execution_count": 2,
   "metadata": {
    "collapsed": true
   },
   "outputs": [],
   "source": [
    "from __future__ import division\n",
    "import numpy as np\n",
    "import pandas as pd\n",
    "import sys\n",
    "import math\n",
    "from sklearn.preprocessing import LabelEncoder, OneHotEncoder\n",
    "import re\n",
    "import os\n",
    "import csv\n",
    "from helpers.outliers import MyOutliers\n",
    "from skroutz_mobile import SkroutzMobile\n",
    "from sklearn.ensemble import IsolationForest\n",
    "import matplotlib.pyplot as plt\n",
    "import seaborn as sns\n",
    "from sklearn.preprocessing import LabelEncoder\n",
    "from sklearn.model_selection import train_test_split\n",
    "from sklearn.linear_model import LinearRegression\n",
    "from sklearn.tree import DecisionTreeClassifier, export_graphviz\n",
    "from sklearn.ensemble import RandomForestClassifier\n",
    "from sklearn.metrics import accuracy_score, confusion_matrix, r2_score\n",
    "from skroutz_mobile import SkroutzMobile\n",
    "from sklearn.model_selection import StratifiedShuffleSplit\n",
    "from helpers.my_train_test_split import MySplitTrainTest\n",
    "from sklearn.preprocessing import StandardScaler\n",
    "from preprocess_price_history import PreprocessPriceHistory\n",
    "from price_history import PriceHistory\n",
    "from dfa import dfa\n",
    "import scipy.signal as ss\n",
    "from scipy.spatial.distance import euclidean\n",
    "from fastdtw import fastdtw\n",
    "from sklearn.cluster import KMeans\n",
    "from sklearn.preprocessing import MinMaxScaler\n",
    "import random\n",
    "from sklearn.metrics import silhouette_score\n",
    "from os.path import isfile\n",
    "from preprocess_price_history import PreprocessPriceHistory\n",
    "from os.path import isfile\n",
    "from sklearn.gaussian_process import GaussianProcessRegressor\n",
    "from mobattrs_price_history_merger import MobAttrsPriceHistoryMerger\n",
    "#from george import kernels\n",
    "#import george\n",
    "from sklearn.manifold import TSNE\n",
    "import matplotlib  as mpl\n",
    "import pickle\n",
    "import dill"
   ]
  },
  {
   "cell_type": "code",
   "execution_count": 3,
   "metadata": {
    "collapsed": true
   },
   "outputs": [],
   "source": [
    "random_state = np.random.RandomState(seed=16011984)\n",
    "%matplotlib inline\n",
    "\n",
    "mpl.rc('figure', figsize=(17,7)) #setting the default value of figsize for our plots\n",
    "#https://matplotlib.org/users/customizing.html"
   ]
  },
  {
   "cell_type": "code",
   "execution_count": 4,
   "metadata": {
    "collapsed": true
   },
   "outputs": [],
   "source": [
    "data_path = '../../../../Dropbox/data'\n",
    "mobattrs_ph_path = data_path + '/mobattrs_price_history'\n",
    "mobattrs_ph_norm_path = mobattrs_ph_path + '/mobattrs_ph_norm.npy'\n",
    "sku_ids_groups_path = data_path + '/sku_ids_groups'\n",
    "npz_sku_ids_group_kmeans_six = sku_ids_groups_path + '/sku_ids_kmeans_six.npz'"
   ]
  },
  {
   "cell_type": "markdown",
   "metadata": {},
   "source": [
    "## Some processing"
   ]
  },
  {
   "cell_type": "code",
   "execution_count": 5,
   "metadata": {
    "collapsed": true
   },
   "outputs": [],
   "source": [
    "csv_in = \"../price_history_03_seq_start_suddens_trimmed.csv\""
   ]
  },
  {
   "cell_type": "code",
   "execution_count": 6,
   "metadata": {
    "collapsed": true
   },
   "outputs": [],
   "source": [
    "#csv_out = \"../price_history_for_sfa.csv\"\n",
    "#df_fixed_width.to_csv(csv_path, encoding='utf-8', quoting=csv.QUOTE_ALL)"
   ]
  },
  {
   "cell_type": "code",
   "execution_count": 7,
   "metadata": {
    "collapsed": true
   },
   "outputs": [],
   "source": [
    "ph = PriceHistory(csv_in)"
   ]
  },
  {
   "cell_type": "code",
   "execution_count": 8,
   "metadata": {},
   "outputs": [
    {
     "name": "stdout",
     "output_type": "stream",
     "text": [
      "<class 'pandas.core.series.Series'>\n"
     ]
    },
    {
     "data": {
      "text/plain": [
       "((210,), 10084353)"
      ]
     },
     "execution_count": 8,
     "metadata": {},
     "output_type": "execute_result"
    }
   ],
   "source": [
    "seq = ph.extractSequenceByLocation(0)\n",
    "print type(seq)\n",
    "seq.shape, seq.name"
   ]
  },
  {
   "cell_type": "markdown",
   "metadata": {},
   "source": [
    "# Loading data"
   ]
  },
  {
   "cell_type": "code",
   "execution_count": 9,
   "metadata": {},
   "outputs": [
    {
     "name": "stdout",
     "output_type": "stream",
     "text": [
      "1 , (206,)\n",
      "0 , (3,)\n",
      "3 , (115,)\n",
      "2 , (80,)\n",
      "5 , (47,)\n",
      "4 , (238,)\n"
     ]
    }
   ],
   "source": [
    "sku_id_groups = np.load(npz_sku_ids_group_kmeans_six)\n",
    "for key, val in sku_id_groups.iteritems():\n",
    "    print key, \",\", val.shape"
   ]
  },
  {
   "cell_type": "code",
   "execution_count": 10,
   "metadata": {
    "collapsed": true
   },
   "outputs": [],
   "source": [
    "chosen_cluster = '3' #str because this is how values are stored as keys in npz files"
   ]
  },
  {
   "cell_type": "code",
   "execution_count": 11,
   "metadata": {
    "collapsed": true
   },
   "outputs": [],
   "source": [
    "mobiles_path = data_path + '/mobiles'"
   ]
  },
  {
   "cell_type": "code",
   "execution_count": 12,
   "metadata": {
    "collapsed": true
   },
   "outputs": [],
   "source": [
    "mobs_norm_path = mobiles_path + '/mobiles_norm.csv'\n",
    "assert isfile(mobs_norm_path)"
   ]
  },
  {
   "cell_type": "code",
   "execution_count": 13,
   "metadata": {},
   "outputs": [
    {
     "data": {
      "text/plain": [
       "(798, 139)"
      ]
     },
     "execution_count": 13,
     "metadata": {},
     "output_type": "execute_result"
    }
   ],
   "source": [
    "df = pd.read_csv(mobs_norm_path, index_col=0, encoding='utf-8', quoting=csv.QUOTE_ALL)\n",
    "df.shape"
   ]
  },
  {
   "cell_type": "code",
   "execution_count": 14,
   "metadata": {},
   "outputs": [
    {
     "data": {
      "text/plain": [
       "True"
      ]
     },
     "execution_count": 14,
     "metadata": {},
     "output_type": "execute_result"
    }
   ],
   "source": [
    "np.all(np.logical_not(np.isnan(df.values.flatten())))"
   ]
  },
  {
   "cell_type": "code",
   "execution_count": 15,
   "metadata": {},
   "outputs": [
    {
     "data": {
      "text/plain": [
       "112"
      ]
     },
     "execution_count": 15,
     "metadata": {},
     "output_type": "execute_result"
    }
   ],
   "source": [
    "cluster_sku_ids = set(sku_id_groups[chosen_cluster]).intersection(df.index)\n",
    "len(cluster_sku_ids)"
   ]
  },
  {
   "cell_type": "code",
   "execution_count": 16,
   "metadata": {},
   "outputs": [
    {
     "data": {
      "text/plain": [
       "(112, 139)"
      ]
     },
     "execution_count": 16,
     "metadata": {},
     "output_type": "execute_result"
    }
   ],
   "source": [
    "df_cluster = df.loc[cluster_sku_ids]\n",
    "df_cluster.shape"
   ]
  },
  {
   "cell_type": "code",
   "execution_count": 17,
   "metadata": {},
   "outputs": [
    {
     "data": {
      "text/plain": [
       "6317061"
      ]
     },
     "execution_count": 17,
     "metadata": {},
     "output_type": "execute_result"
    }
   ],
   "source": [
    "cur_sku_id = list(cluster_sku_ids)[0]\n",
    "cur_sku_id"
   ]
  },
  {
   "cell_type": "markdown",
   "metadata": {},
   "source": [
    "## train test split"
   ]
  },
  {
   "cell_type": "code",
   "execution_count": 18,
   "metadata": {
    "collapsed": true
   },
   "outputs": [],
   "source": [
    "ph = PriceHistory(csv_in)\n",
    "seqs = ph.extractAllSequences()"
   ]
  },
  {
   "cell_type": "code",
   "execution_count": 19,
   "metadata": {},
   "outputs": [
    {
     "data": {
      "text/plain": [
       "689"
      ]
     },
     "execution_count": 19,
     "metadata": {},
     "output_type": "execute_result"
    }
   ],
   "source": [
    "len(seqs)"
   ]
  },
  {
   "cell_type": "code",
   "execution_count": 20,
   "metadata": {
    "collapsed": true
   },
   "outputs": [],
   "source": [
    "selseq = [seq for seq in seqs if seq.name == cur_sku_id]\n",
    "assert len(selseq) == 1\n",
    "selseq = selseq[0]"
   ]
  },
  {
   "cell_type": "code",
   "execution_count": 21,
   "metadata": {
    "collapsed": true
   },
   "outputs": [],
   "source": [
    "target_len = 30"
   ]
  },
  {
   "cell_type": "code",
   "execution_count": 22,
   "metadata": {},
   "outputs": [
    {
     "data": {
      "text/plain": [
       "Index([u'2017-05-16', u'2017-05-17', u'2017-05-18', u'2017-05-19',\n",
       "       u'2017-05-20', u'2017-05-21', u'2017-05-22', u'2017-05-23',\n",
       "       u'2017-05-24', u'2017-05-25', u'2017-05-26', u'2017-05-27',\n",
       "       u'2017-05-28', u'2017-05-29', u'2017-05-30', u'2017-05-31',\n",
       "       u'2017-06-01', u'2017-06-02', u'2017-06-03', u'2017-06-04',\n",
       "       u'2017-06-05', u'2017-06-06', u'2017-06-07', u'2017-06-08',\n",
       "       u'2017-06-09', u'2017-06-10', u'2017-06-11', u'2017-06-12',\n",
       "       u'2017-06-13', u'2017-06-14'],\n",
       "      dtype='object')"
      ]
     },
     "execution_count": 22,
     "metadata": {},
     "output_type": "execute_result"
    }
   ],
   "source": [
    "selseq.index[-target_len:]"
   ]
  },
  {
   "cell_type": "code",
   "execution_count": 23,
   "metadata": {},
   "outputs": [
    {
     "data": {
      "text/plain": [
       "u'2017-05-16'"
      ]
     },
     "execution_count": 23,
     "metadata": {},
     "output_type": "execute_result"
    }
   ],
   "source": [
    "threshold_date = selseq.index[-target_len]\n",
    "threshold_date"
   ]
  },
  {
   "cell_type": "code",
   "execution_count": 24,
   "metadata": {
    "collapsed": true
   },
   "outputs": [],
   "source": [
    "subseq = selseq[selseq.index < threshold_date]"
   ]
  },
  {
   "cell_type": "code",
   "execution_count": 25,
   "metadata": {},
   "outputs": [
    {
     "data": {
      "text/plain": [
       "689"
      ]
     },
     "execution_count": 25,
     "metadata": {},
     "output_type": "execute_result"
    }
   ],
   "source": [
    "train_seqs = [seq[seq.index < threshold_date] for seq in seqs]\n",
    "len(train_seqs)"
   ]
  },
  {
   "cell_type": "code",
   "execution_count": 26,
   "metadata": {},
   "outputs": [
    {
     "data": {
      "text/plain": [
       "689"
      ]
     },
     "execution_count": 26,
     "metadata": {},
     "output_type": "execute_result"
    }
   ],
   "source": [
    "test_seqs = [seq[seq.index >= threshold_date] for seq in seqs]\n",
    "len(test_seqs)"
   ]
  },
  {
   "cell_type": "markdown",
   "metadata": {},
   "source": [
    "### merging"
   ]
  },
  {
   "cell_type": "code",
   "execution_count": 27,
   "metadata": {
    "collapsed": true
   },
   "outputs": [],
   "source": [
    "obj = MobAttrsPriceHistoryMerger(mobs_norm_path=mobs_norm_path, price_history_csv=csv_in)"
   ]
  },
  {
   "cell_type": "code",
   "execution_count": 28,
   "metadata": {},
   "outputs": [
    {
     "data": {
      "text/plain": [
       "(112, 137)"
      ]
     },
     "execution_count": 28,
     "metadata": {},
     "output_type": "execute_result"
    }
   ],
   "source": [
    "df_cluster_no_price =  df_cluster.drop(labels=SkroutzMobile.PRICE_COLS, axis=1)\n",
    "df_cluster_no_price.shape"
   ]
  },
  {
   "cell_type": "code",
   "execution_count": 29,
   "metadata": {},
   "outputs": [
    {
     "name": "stdout",
     "output_type": "stream",
     "text": [
      "CPU times: user 1.87 s, sys: 12 ms, total: 1.88 s\n",
      "Wall time: 1.89 s\n"
     ]
    }
   ],
   "source": [
    "%%time\n",
    "df_full = obj.get_table(df = df_cluster_no_price, normalize_dates=False, normalize_price=False)"
   ]
  },
  {
   "cell_type": "code",
   "execution_count": 30,
   "metadata": {},
   "outputs": [
    {
     "data": {
      "text/plain": [
       "{-1: (263.4700050590219, 138.2747737644176)}"
      ]
     },
     "execution_count": 30,
     "metadata": {},
     "output_type": "execute_result"
    }
   ],
   "source": [
    "price_metrics = obj.get_normalize_price_metrics(df_full.values)\n",
    "price_metrics"
   ]
  },
  {
   "cell_type": "code",
   "execution_count": 31,
   "metadata": {},
   "outputs": [
    {
     "data": {
      "text/plain": [
       "OrderedDict([(137, (4.9529510961214163, 3.3037667369944099)),\n",
       "             (138, (15.531309724564363, 8.8007168587478191)),\n",
       "             (139, (2.9931422147273747, 1.9966971512432328)),\n",
       "             (140, (2016.8302417088253, 0.37542031611544852)),\n",
       "             (141, (135.00365373805508, 101.58545824442047)),\n",
       "             (142, (19.525014052838674, 14.416054165142638))])"
      ]
     },
     "execution_count": 31,
     "metadata": {},
     "output_type": "execute_result"
    }
   ],
   "source": [
    "dic_metrics = obj.get_normalize_date_metrics(df_full.values)\n",
    "dic_metrics"
   ]
  },
  {
   "cell_type": "code",
   "execution_count": 32,
   "metadata": {
    "scrolled": false
   },
   "outputs": [
    {
     "name": "stdout",
     "output_type": "stream",
     "text": [
      "CPU times: user 1.52 s, sys: 4 ms, total: 1.53 s\n",
      "Wall time: 1.53 s\n"
     ]
    }
   ],
   "source": [
    "%%time\n",
    "train_df = obj.get_table(df = df_cluster_no_price, seqs=train_seqs, normalize_dates=False, normalize_price=False)"
   ]
  },
  {
   "cell_type": "code",
   "execution_count": 33,
   "metadata": {},
   "outputs": [
    {
     "data": {
      "text/plain": [
       "(14464, 144)"
      ]
     },
     "execution_count": 33,
     "metadata": {},
     "output_type": "execute_result"
    }
   ],
   "source": [
    "train_df.shape"
   ]
  },
  {
   "cell_type": "code",
   "execution_count": 34,
   "metadata": {
    "collapsed": true
   },
   "outputs": [],
   "source": [
    "train_df = obj.normalize_df(train_df, price_metrics)"
   ]
  },
  {
   "cell_type": "code",
   "execution_count": 36,
   "metadata": {
    "collapsed": true
   },
   "outputs": [],
   "source": [
    "train_df = obj.normalize_df(train_df, dic_metrics)"
   ]
  },
  {
   "cell_type": "code",
   "execution_count": 37,
   "metadata": {},
   "outputs": [
    {
     "data": {
      "text/html": [
       "<div>\n",
       "<style>\n",
       "    .dataframe thead tr:only-child th {\n",
       "        text-align: right;\n",
       "    }\n",
       "\n",
       "    .dataframe thead th {\n",
       "        text-align: left;\n",
       "    }\n",
       "\n",
       "    .dataframe tbody tr th {\n",
       "        vertical-align: top;\n",
       "    }\n",
       "</style>\n",
       "<table border=\"1\" class=\"dataframe\">\n",
       "  <thead>\n",
       "    <tr style=\"text-align: right;\">\n",
       "      <th></th>\n",
       "      <th>0</th>\n",
       "      <th>1</th>\n",
       "      <th>2</th>\n",
       "      <th>3</th>\n",
       "      <th>4</th>\n",
       "      <th>5</th>\n",
       "      <th>6</th>\n",
       "      <th>7</th>\n",
       "      <th>8</th>\n",
       "      <th>9</th>\n",
       "      <th>...</th>\n",
       "      <th>134</th>\n",
       "      <th>135</th>\n",
       "      <th>136</th>\n",
       "      <th>137</th>\n",
       "      <th>138</th>\n",
       "      <th>139</th>\n",
       "      <th>140</th>\n",
       "      <th>141</th>\n",
       "      <th>142</th>\n",
       "      <th>143</th>\n",
       "    </tr>\n",
       "  </thead>\n",
       "  <tbody>\n",
       "    <tr>\n",
       "      <th>8742945</th>\n",
       "      <td>0.286418</td>\n",
       "      <td>0.586033</td>\n",
       "      <td>-0.17609</td>\n",
       "      <td>1.38675</td>\n",
       "      <td>0.360987</td>\n",
       "      <td>-0.266723</td>\n",
       "      <td>-0.705114</td>\n",
       "      <td>0.197642</td>\n",
       "      <td>0.310087</td>\n",
       "      <td>-0.187135</td>\n",
       "      <td>...</td>\n",
       "      <td>-0.433571</td>\n",
       "      <td>-0.356766</td>\n",
       "      <td>0.703808</td>\n",
       "      <td>1.83035</td>\n",
       "      <td>0.166883</td>\n",
       "      <td>0.504262</td>\n",
       "      <td>-2.211499</td>\n",
       "      <td>1.840779</td>\n",
       "      <td>1.836493</td>\n",
       "      <td>-0.604376</td>\n",
       "    </tr>\n",
       "    <tr>\n",
       "      <th>8742945</th>\n",
       "      <td>0.286418</td>\n",
       "      <td>0.586033</td>\n",
       "      <td>-0.17609</td>\n",
       "      <td>1.38675</td>\n",
       "      <td>0.360987</td>\n",
       "      <td>-0.266723</td>\n",
       "      <td>-0.705114</td>\n",
       "      <td>0.197642</td>\n",
       "      <td>0.310087</td>\n",
       "      <td>-0.187135</td>\n",
       "      <td>...</td>\n",
       "      <td>-0.433571</td>\n",
       "      <td>-0.356766</td>\n",
       "      <td>0.703808</td>\n",
       "      <td>1.83035</td>\n",
       "      <td>0.280510</td>\n",
       "      <td>1.005089</td>\n",
       "      <td>-2.211499</td>\n",
       "      <td>1.850623</td>\n",
       "      <td>1.836493</td>\n",
       "      <td>-0.618117</td>\n",
       "    </tr>\n",
       "    <tr>\n",
       "      <th>8742945</th>\n",
       "      <td>0.286418</td>\n",
       "      <td>0.586033</td>\n",
       "      <td>-0.17609</td>\n",
       "      <td>1.38675</td>\n",
       "      <td>0.360987</td>\n",
       "      <td>-0.266723</td>\n",
       "      <td>-0.705114</td>\n",
       "      <td>0.197642</td>\n",
       "      <td>0.310087</td>\n",
       "      <td>-0.187135</td>\n",
       "      <td>...</td>\n",
       "      <td>-0.433571</td>\n",
       "      <td>-0.356766</td>\n",
       "      <td>0.703808</td>\n",
       "      <td>1.83035</td>\n",
       "      <td>0.394137</td>\n",
       "      <td>1.505916</td>\n",
       "      <td>-2.211499</td>\n",
       "      <td>1.860467</td>\n",
       "      <td>1.836493</td>\n",
       "      <td>-0.618117</td>\n",
       "    </tr>\n",
       "    <tr>\n",
       "      <th>8742945</th>\n",
       "      <td>0.286418</td>\n",
       "      <td>0.586033</td>\n",
       "      <td>-0.17609</td>\n",
       "      <td>1.38675</td>\n",
       "      <td>0.360987</td>\n",
       "      <td>-0.266723</td>\n",
       "      <td>-0.705114</td>\n",
       "      <td>0.197642</td>\n",
       "      <td>0.310087</td>\n",
       "      <td>-0.187135</td>\n",
       "      <td>...</td>\n",
       "      <td>-0.433571</td>\n",
       "      <td>-0.356766</td>\n",
       "      <td>0.703808</td>\n",
       "      <td>1.83035</td>\n",
       "      <td>0.507764</td>\n",
       "      <td>-1.499047</td>\n",
       "      <td>-2.211499</td>\n",
       "      <td>1.870310</td>\n",
       "      <td>1.836493</td>\n",
       "      <td>-0.618840</td>\n",
       "    </tr>\n",
       "    <tr>\n",
       "      <th>8742945</th>\n",
       "      <td>0.286418</td>\n",
       "      <td>0.586033</td>\n",
       "      <td>-0.17609</td>\n",
       "      <td>1.38675</td>\n",
       "      <td>0.360987</td>\n",
       "      <td>-0.266723</td>\n",
       "      <td>-0.705114</td>\n",
       "      <td>0.197642</td>\n",
       "      <td>0.310087</td>\n",
       "      <td>-0.187135</td>\n",
       "      <td>...</td>\n",
       "      <td>-0.433571</td>\n",
       "      <td>-0.356766</td>\n",
       "      <td>0.703808</td>\n",
       "      <td>1.83035</td>\n",
       "      <td>0.621391</td>\n",
       "      <td>-0.998220</td>\n",
       "      <td>-2.211499</td>\n",
       "      <td>1.880154</td>\n",
       "      <td>1.905860</td>\n",
       "      <td>-0.618840</td>\n",
       "    </tr>\n",
       "  </tbody>\n",
       "</table>\n",
       "<p>5 rows × 144 columns</p>\n",
       "</div>"
      ],
      "text/plain": [
       "              0         1        2        3         4         5         6    \\\n",
       "8742945  0.286418  0.586033 -0.17609  1.38675  0.360987 -0.266723 -0.705114   \n",
       "8742945  0.286418  0.586033 -0.17609  1.38675  0.360987 -0.266723 -0.705114   \n",
       "8742945  0.286418  0.586033 -0.17609  1.38675  0.360987 -0.266723 -0.705114   \n",
       "8742945  0.286418  0.586033 -0.17609  1.38675  0.360987 -0.266723 -0.705114   \n",
       "8742945  0.286418  0.586033 -0.17609  1.38675  0.360987 -0.266723 -0.705114   \n",
       "\n",
       "              7         8         9      ...          134       135       136  \\\n",
       "8742945  0.197642  0.310087 -0.187135    ...    -0.433571 -0.356766  0.703808   \n",
       "8742945  0.197642  0.310087 -0.187135    ...    -0.433571 -0.356766  0.703808   \n",
       "8742945  0.197642  0.310087 -0.187135    ...    -0.433571 -0.356766  0.703808   \n",
       "8742945  0.197642  0.310087 -0.187135    ...    -0.433571 -0.356766  0.703808   \n",
       "8742945  0.197642  0.310087 -0.187135    ...    -0.433571 -0.356766  0.703808   \n",
       "\n",
       "             137       138       139       140       141       142       143  \n",
       "8742945  1.83035  0.166883  0.504262 -2.211499  1.840779  1.836493 -0.604376  \n",
       "8742945  1.83035  0.280510  1.005089 -2.211499  1.850623  1.836493 -0.618117  \n",
       "8742945  1.83035  0.394137  1.505916 -2.211499  1.860467  1.836493 -0.618117  \n",
       "8742945  1.83035  0.507764 -1.499047 -2.211499  1.870310  1.836493 -0.618840  \n",
       "8742945  1.83035  0.621391 -0.998220 -2.211499  1.880154  1.905860 -0.618840  \n",
       "\n",
       "[5 rows x 144 columns]"
      ]
     },
     "execution_count": 37,
     "metadata": {},
     "output_type": "execute_result"
    }
   ],
   "source": [
    "train_df[:5]"
   ]
  },
  {
   "cell_type": "code",
   "execution_count": 38,
   "metadata": {},
   "outputs": [
    {
     "name": "stdout",
     "output_type": "stream",
     "text": [
      "CPU times: user 372 ms, sys: 0 ns, total: 372 ms\n",
      "Wall time: 373 ms\n"
     ]
    }
   ],
   "source": [
    "%%time\n",
    "test_df = obj.get_table(df = df_cluster_no_price, seqs=test_seqs, normalize_dates=False, normalize_price=False)"
   ]
  },
  {
   "cell_type": "code",
   "execution_count": 39,
   "metadata": {
    "collapsed": true
   },
   "outputs": [],
   "source": [
    "test_df = obj.normalize_df(test_df, price_metrics)\n",
    "test_df = obj.normalize_df(test_df, dic_metrics)"
   ]
  },
  {
   "cell_type": "code",
   "execution_count": 40,
   "metadata": {},
   "outputs": [
    {
     "data": {
      "text/html": [
       "<div>\n",
       "<style>\n",
       "    .dataframe thead tr:only-child th {\n",
       "        text-align: right;\n",
       "    }\n",
       "\n",
       "    .dataframe thead th {\n",
       "        text-align: left;\n",
       "    }\n",
       "\n",
       "    .dataframe tbody tr th {\n",
       "        vertical-align: top;\n",
       "    }\n",
       "</style>\n",
       "<table border=\"1\" class=\"dataframe\">\n",
       "  <thead>\n",
       "    <tr style=\"text-align: right;\">\n",
       "      <th></th>\n",
       "      <th>0</th>\n",
       "      <th>1</th>\n",
       "      <th>2</th>\n",
       "      <th>3</th>\n",
       "      <th>4</th>\n",
       "      <th>5</th>\n",
       "      <th>6</th>\n",
       "      <th>7</th>\n",
       "      <th>8</th>\n",
       "      <th>9</th>\n",
       "      <th>...</th>\n",
       "      <th>134</th>\n",
       "      <th>135</th>\n",
       "      <th>136</th>\n",
       "      <th>137</th>\n",
       "      <th>138</th>\n",
       "      <th>139</th>\n",
       "      <th>140</th>\n",
       "      <th>141</th>\n",
       "      <th>142</th>\n",
       "      <th>143</th>\n",
       "    </tr>\n",
       "  </thead>\n",
       "  <tbody>\n",
       "    <tr>\n",
       "      <th>8742945</th>\n",
       "      <td>0.286418</td>\n",
       "      <td>0.586033</td>\n",
       "      <td>-0.17609</td>\n",
       "      <td>1.38675</td>\n",
       "      <td>0.360987</td>\n",
       "      <td>-0.266723</td>\n",
       "      <td>-0.705114</td>\n",
       "      <td>0.197642</td>\n",
       "      <td>0.310087</td>\n",
       "      <td>-0.187135</td>\n",
       "      <td>...</td>\n",
       "      <td>-0.433571</td>\n",
       "      <td>-0.356766</td>\n",
       "      <td>0.703808</td>\n",
       "      <td>0.014241</td>\n",
       "      <td>0.053256</td>\n",
       "      <td>-0.497393</td>\n",
       "      <td>0.452182</td>\n",
       "      <td>0.009808</td>\n",
       "      <td>0.032948</td>\n",
       "      <td>-0.907613</td>\n",
       "    </tr>\n",
       "    <tr>\n",
       "      <th>8742945</th>\n",
       "      <td>0.286418</td>\n",
       "      <td>0.586033</td>\n",
       "      <td>-0.17609</td>\n",
       "      <td>1.38675</td>\n",
       "      <td>0.360987</td>\n",
       "      <td>-0.266723</td>\n",
       "      <td>-0.705114</td>\n",
       "      <td>0.197642</td>\n",
       "      <td>0.310087</td>\n",
       "      <td>-0.187135</td>\n",
       "      <td>...</td>\n",
       "      <td>-0.433571</td>\n",
       "      <td>-0.356766</td>\n",
       "      <td>0.703808</td>\n",
       "      <td>0.014241</td>\n",
       "      <td>0.166883</td>\n",
       "      <td>0.003435</td>\n",
       "      <td>0.452182</td>\n",
       "      <td>0.019652</td>\n",
       "      <td>0.032948</td>\n",
       "      <td>-0.915351</td>\n",
       "    </tr>\n",
       "    <tr>\n",
       "      <th>8742945</th>\n",
       "      <td>0.286418</td>\n",
       "      <td>0.586033</td>\n",
       "      <td>-0.17609</td>\n",
       "      <td>1.38675</td>\n",
       "      <td>0.360987</td>\n",
       "      <td>-0.266723</td>\n",
       "      <td>-0.705114</td>\n",
       "      <td>0.197642</td>\n",
       "      <td>0.310087</td>\n",
       "      <td>-0.187135</td>\n",
       "      <td>...</td>\n",
       "      <td>-0.433571</td>\n",
       "      <td>-0.356766</td>\n",
       "      <td>0.703808</td>\n",
       "      <td>0.014241</td>\n",
       "      <td>0.280510</td>\n",
       "      <td>0.504262</td>\n",
       "      <td>0.452182</td>\n",
       "      <td>0.029496</td>\n",
       "      <td>0.032948</td>\n",
       "      <td>-0.915351</td>\n",
       "    </tr>\n",
       "    <tr>\n",
       "      <th>8742945</th>\n",
       "      <td>0.286418</td>\n",
       "      <td>0.586033</td>\n",
       "      <td>-0.17609</td>\n",
       "      <td>1.38675</td>\n",
       "      <td>0.360987</td>\n",
       "      <td>-0.266723</td>\n",
       "      <td>-0.705114</td>\n",
       "      <td>0.197642</td>\n",
       "      <td>0.310087</td>\n",
       "      <td>-0.187135</td>\n",
       "      <td>...</td>\n",
       "      <td>-0.433571</td>\n",
       "      <td>-0.356766</td>\n",
       "      <td>0.703808</td>\n",
       "      <td>0.014241</td>\n",
       "      <td>0.394137</td>\n",
       "      <td>1.005089</td>\n",
       "      <td>0.452182</td>\n",
       "      <td>0.039340</td>\n",
       "      <td>0.032948</td>\n",
       "      <td>-0.921860</td>\n",
       "    </tr>\n",
       "    <tr>\n",
       "      <th>8742945</th>\n",
       "      <td>0.286418</td>\n",
       "      <td>0.586033</td>\n",
       "      <td>-0.17609</td>\n",
       "      <td>1.38675</td>\n",
       "      <td>0.360987</td>\n",
       "      <td>-0.266723</td>\n",
       "      <td>-0.705114</td>\n",
       "      <td>0.197642</td>\n",
       "      <td>0.310087</td>\n",
       "      <td>-0.187135</td>\n",
       "      <td>...</td>\n",
       "      <td>-0.433571</td>\n",
       "      <td>-0.356766</td>\n",
       "      <td>0.703808</td>\n",
       "      <td>0.014241</td>\n",
       "      <td>0.507764</td>\n",
       "      <td>1.505916</td>\n",
       "      <td>0.452182</td>\n",
       "      <td>0.049184</td>\n",
       "      <td>0.032948</td>\n",
       "      <td>-0.921860</td>\n",
       "    </tr>\n",
       "  </tbody>\n",
       "</table>\n",
       "<p>5 rows × 144 columns</p>\n",
       "</div>"
      ],
      "text/plain": [
       "              0         1        2        3         4         5         6    \\\n",
       "8742945  0.286418  0.586033 -0.17609  1.38675  0.360987 -0.266723 -0.705114   \n",
       "8742945  0.286418  0.586033 -0.17609  1.38675  0.360987 -0.266723 -0.705114   \n",
       "8742945  0.286418  0.586033 -0.17609  1.38675  0.360987 -0.266723 -0.705114   \n",
       "8742945  0.286418  0.586033 -0.17609  1.38675  0.360987 -0.266723 -0.705114   \n",
       "8742945  0.286418  0.586033 -0.17609  1.38675  0.360987 -0.266723 -0.705114   \n",
       "\n",
       "              7         8         9      ...          134       135       136  \\\n",
       "8742945  0.197642  0.310087 -0.187135    ...    -0.433571 -0.356766  0.703808   \n",
       "8742945  0.197642  0.310087 -0.187135    ...    -0.433571 -0.356766  0.703808   \n",
       "8742945  0.197642  0.310087 -0.187135    ...    -0.433571 -0.356766  0.703808   \n",
       "8742945  0.197642  0.310087 -0.187135    ...    -0.433571 -0.356766  0.703808   \n",
       "8742945  0.197642  0.310087 -0.187135    ...    -0.433571 -0.356766  0.703808   \n",
       "\n",
       "              137       138       139       140       141       142       143  \n",
       "8742945  0.014241  0.053256 -0.497393  0.452182  0.009808  0.032948 -0.907613  \n",
       "8742945  0.014241  0.166883  0.003435  0.452182  0.019652  0.032948 -0.915351  \n",
       "8742945  0.014241  0.280510  0.504262  0.452182  0.029496  0.032948 -0.915351  \n",
       "8742945  0.014241  0.394137  1.005089  0.452182  0.039340  0.032948 -0.921860  \n",
       "8742945  0.014241  0.507764  1.505916  0.452182  0.049184  0.032948 -0.921860  \n",
       "\n",
       "[5 rows x 144 columns]"
      ]
     },
     "execution_count": 40,
     "metadata": {},
     "output_type": "execute_result"
    }
   ],
   "source": [
    "test_df[:5]"
   ]
  },
  {
   "cell_type": "code",
   "execution_count": 41,
   "metadata": {
    "collapsed": true
   },
   "outputs": [],
   "source": [
    "train_arr = train_df.values\n",
    "test_arr = test_df.values"
   ]
  },
  {
   "cell_type": "code",
   "execution_count": 42,
   "metadata": {},
   "outputs": [
    {
     "data": {
      "text/plain": [
       "((14464, 144), (3326, 144))"
      ]
     },
     "execution_count": 42,
     "metadata": {},
     "output_type": "execute_result"
    }
   ],
   "source": [
    "train_arr.shape, test_arr.shape"
   ]
  },
  {
   "cell_type": "code",
   "execution_count": 43,
   "metadata": {
    "collapsed": true
   },
   "outputs": [],
   "source": [
    "#np.all(np.logical_not(np.isnan(arr.flatten())))"
   ]
  },
  {
   "cell_type": "markdown",
   "metadata": {},
   "source": [
    "# Gaussian Process Regressor"
   ]
  },
  {
   "cell_type": "code",
   "execution_count": 45,
   "metadata": {},
   "outputs": [
    {
     "data": {
      "text/plain": [
       "(14464, 143)"
      ]
     },
     "execution_count": 45,
     "metadata": {},
     "output_type": "execute_result"
    }
   ],
   "source": [
    "XX = train_arr[:, :MobAttrsPriceHistoryMerger.PRICE_IND]\n",
    "XX.shape"
   ]
  },
  {
   "cell_type": "code",
   "execution_count": 46,
   "metadata": {},
   "outputs": [
    {
     "data": {
      "text/plain": [
       "(14464,)"
      ]
     },
     "execution_count": 46,
     "metadata": {},
     "output_type": "execute_result"
    }
   ],
   "source": [
    "yy = train_arr[:, MobAttrsPriceHistoryMerger.PRICE_IND]\n",
    "yy.shape"
   ]
  },
  {
   "cell_type": "code",
   "execution_count": 47,
   "metadata": {},
   "outputs": [
    {
     "name": "stdout",
     "output_type": "stream",
     "text": [
      "CPU times: user 7min 46s, sys: 1min 20s, total: 9min 6s\n",
      "Wall time: 2min 14s\n"
     ]
    }
   ],
   "source": [
    "%%time\n",
    "gp = GaussianProcessRegressor()\n",
    "gp.fit(XX, yy)"
   ]
  },
  {
   "cell_type": "markdown",
   "metadata": {},
   "source": [
    "# Reconstruct time series"
   ]
  },
  {
   "cell_type": "code",
   "execution_count": 50,
   "metadata": {
    "collapsed": true
   },
   "outputs": [],
   "source": [
    "# Do not run this again unless you have enough space in the disk and lots of memory\n",
    "# with open('cur_gp.pickle', 'w') as fp:  # Python 3: open(..., 'wb')\n",
    "#     pickle.dump(gp, fp)"
   ]
  },
  {
   "cell_type": "code",
   "execution_count": 89,
   "metadata": {},
   "outputs": [
    {
     "data": {
      "text/plain": [
       "8332719"
      ]
     },
     "execution_count": 89,
     "metadata": {},
     "output_type": "execute_result"
    }
   ],
   "source": [
    "#cur_sku_id = 6317061\n",
    "cur_sku_id = list(cluster_sku_ids)[6]\n",
    "cur_sku_id"
   ]
  },
  {
   "cell_type": "code",
   "execution_count": 90,
   "metadata": {},
   "outputs": [
    {
     "data": {
      "text/plain": [
       "(30, 144)"
      ]
     },
     "execution_count": 90,
     "metadata": {},
     "output_type": "execute_result"
    }
   ],
   "source": [
    "vals = test_df.loc[cur_sku_id].values\n",
    "vals.shape"
   ]
  },
  {
   "cell_type": "code",
   "execution_count": 91,
   "metadata": {},
   "outputs": [
    {
     "data": {
      "text/plain": [
       "(30, 143)"
      ]
     },
     "execution_count": 91,
     "metadata": {},
     "output_type": "execute_result"
    }
   ],
   "source": [
    "xx = vals[:, :-1]\n",
    "xx.shape"
   ]
  },
  {
   "cell_type": "code",
   "execution_count": 92,
   "metadata": {},
   "outputs": [
    {
     "data": {
      "text/plain": [
       "(30,)"
      ]
     },
     "execution_count": 92,
     "metadata": {},
     "output_type": "execute_result"
    }
   ],
   "source": [
    "tars = vals[:, -1]\n",
    "tars.shape"
   ]
  },
  {
   "cell_type": "code",
   "execution_count": 93,
   "metadata": {},
   "outputs": [
    {
     "data": {
      "text/plain": [
       "(30,)"
      ]
     },
     "execution_count": 93,
     "metadata": {},
     "output_type": "execute_result"
    }
   ],
   "source": [
    "preds = gp.predict(xx)\n",
    "preds.shape"
   ]
  },
  {
   "cell_type": "code",
   "execution_count": 94,
   "metadata": {},
   "outputs": [
    {
     "data": {
      "image/png": "[encoded data removed]",
      "text/plain": [
       "<matplotlib.figure.Figure at 0x7ff69d535790>"
      ]
     },
     "metadata": {},
     "output_type": "display_data"
    }
   ],
   "source": [
    "plt.figure()\n",
    "plt.plot(tars, 'r-', label='targets')\n",
    "plt.plot(preds, 'b-', label='predictions')\n",
    "plt.legend()\n",
    "plt.show()"
   ]
  },
  {
   "cell_type": "code",
   "execution_count": null,
   "metadata": {
    "collapsed": true
   },
   "outputs": [],
   "source": []
  }
 ],
 "metadata": {
  "kernelspec": {
   "display_name": "Python 2",
   "language": "python",
   "name": "python2"
  },
  "language_info": {
   "codemirror_mode": {
    "name": "ipython",
    "version": 2
   },
   "file_extension": ".py",
   "mimetype": "text/x-python",
   "name": "python",
   "nbconvert_exporter": "python",
   "pygments_lexer": "ipython2",
   "version": "2.7.13"
  }
 },
 "nbformat": 4,
 "nbformat_minor": 2
}
