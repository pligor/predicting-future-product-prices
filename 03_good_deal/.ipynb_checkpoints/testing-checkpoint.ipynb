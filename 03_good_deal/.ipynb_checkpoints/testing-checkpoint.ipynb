{
 "cells": [
  {
   "cell_type": "code",
   "execution_count": 1,
   "metadata": {
    "collapsed": true
   },
   "outputs": [],
   "source": [
    "# -*- coding: UTF-8 -*-\n",
    "#%load_ext autoreload\n",
    "%reload_ext autoreload\n",
    "%autoreload 2"
   ]
  },
  {
   "cell_type": "code",
   "execution_count": 19,
   "metadata": {},
   "outputs": [],
   "source": [
    "from __future__ import division\n",
    "import tensorflow as tf\n",
    "from os import path\n",
    "import numpy as np\n",
    "import pandas as pd\n",
    "import csv\n",
    "from sklearn.model_selection import StratifiedShuffleSplit\n",
    "from libs.data_providers import ProductPairsDataProvider\n",
    "from models.deal_classifier import DealClassifier\n",
    "from mylibs.jupyter_notebook_helper import show_graph\n",
    "from models.inference import siamese\n",
    "from mylibs.jupyter_notebook_helper import plotStats, DynStats"
   ]
  },
  {
   "cell_type": "code",
   "execution_count": 3,
   "metadata": {},
   "outputs": [
    {
     "data": {
      "text/plain": [
       "'1.1.0'"
      ]
     },
     "execution_count": 3,
     "metadata": {},
     "output_type": "execute_result"
    }
   ],
   "source": [
    "tf.__version__"
   ]
  },
  {
   "cell_type": "code",
   "execution_count": 20,
   "metadata": {
    "collapsed": true
   },
   "outputs": [],
   "source": [
    "dtype = tf.float32\n",
    "seed = 16011984\n",
    "random_state = np.random.RandomState(seed=seed)\n",
    "config = tf.ConfigProto(log_device_placement=True, allow_soft_placement=True)\n",
    "config.gpu_options.allow_growth = True\n",
    "%matplotlib inline"
   ]
  },
  {
   "cell_type": "code",
   "execution_count": 5,
   "metadata": {},
   "outputs": [],
   "source": [
    "# dp = ProductPairsDataProvider()\n",
    "# aa, bb = dp.next()#.targets.shape\n",
    "# aa.shape, bb.shape\n",
    "# dp = ProductPairsDataProvider(indices=np.arange(200))\n",
    "# dp.inputs.shape"
   ]
  },
  {
   "cell_type": "code",
   "execution_count": 6,
   "metadata": {
    "collapsed": true
   },
   "outputs": [],
   "source": [
    "clf = DealClassifier(rng=random_state, dtype=dtype, config=config)"
   ]
  },
  {
   "cell_type": "code",
   "execution_count": 7,
   "metadata": {},
   "outputs": [],
   "source": [
    "#graph = clf.getGraph()"
   ]
  },
  {
   "cell_type": "code",
   "execution_count": 8,
   "metadata": {},
   "outputs": [],
   "source": [
    "#show_graph(graph)"
   ]
  },
  {
   "cell_type": "code",
   "execution_count": 9,
   "metadata": {},
   "outputs": [
    {
     "name": "stdout",
     "output_type": "stream",
     "text": [
      "lamda2: 0.010000\n",
      "hidden dim: 200\n",
      "learning rate: 0.000100\n",
      "epochs: 30\n",
      "input_keep_prob: 1.000000\n",
      "hidden_keep_prob: 1.000000\n",
      "End epoch 01 (2.944 secs):err(train)=7.03,acc(train)=0.63,err(valid)=5.92,acc(valid)=0.54, \n",
      "End epoch 02 (2.731 secs):err(train)=5.02,acc(train)=0.69,err(valid)=4.43,acc(valid)=0.66, \n",
      "End epoch 03 (2.736 secs):err(train)=3.85,acc(train)=0.73,err(valid)=3.54,acc(valid)=0.65, \n",
      "End epoch 04 (2.713 secs):err(train)=3.11,acc(train)=0.76,err(valid)=2.96,acc(valid)=0.70, \n",
      "End epoch 05 (2.719 secs):err(train)=2.63,acc(train)=0.77,err(valid)=2.56,acc(valid)=0.68, \n",
      "End epoch 06 (2.782 secs):err(train)=2.28,acc(train)=0.79,err(valid)=2.25,acc(valid)=0.74, \n",
      "End epoch 07 (2.817 secs):err(train)=2.01,acc(train)=0.80,err(valid)=2.01,acc(valid)=0.74, \n",
      "End epoch 08 (2.921 secs):err(train)=1.81,acc(train)=0.81,err(valid)=1.90,acc(valid)=0.67, \n",
      "End epoch 09 (2.720 secs):err(train)=1.63,acc(train)=0.83,err(valid)=1.67,acc(valid)=0.75, \n",
      "End epoch 10 (2.718 secs):err(train)=1.50,acc(train)=0.83,err(valid)=1.51,acc(valid)=0.80, \n",
      "End epoch 11 (2.747 secs):err(train)=1.36,acc(train)=0.84,err(valid)=1.41,acc(valid)=0.80, \n",
      "End epoch 12 (2.787 secs):err(train)=1.26,acc(train)=0.85,err(valid)=1.35,acc(valid)=0.75, \n",
      "End epoch 13 (2.736 secs):err(train)=1.18,acc(train)=0.84,err(valid)=1.24,acc(valid)=0.79, \n",
      "End epoch 14 (2.751 secs):err(train)=1.09,acc(train)=0.85,err(valid)=1.13,acc(valid)=0.80, \n",
      "End epoch 15 (2.738 secs):err(train)=1.02,acc(train)=0.86,err(valid)=1.13,acc(valid)=0.78, \n",
      "End epoch 16 (2.728 secs):err(train)=0.95,acc(train)=0.86,err(valid)=1.01,acc(valid)=0.82, \n",
      "End epoch 17 (2.738 secs):err(train)=0.90,acc(train)=0.86,err(valid)=1.12,acc(valid)=0.79, \n",
      "End epoch 18 (2.728 secs):err(train)=0.84,acc(train)=0.87,err(valid)=0.89,acc(valid)=0.82, \n",
      "End epoch 19 (2.726 secs):err(train)=0.81,acc(train)=0.87,err(valid)=0.87,acc(valid)=0.81, \n",
      "End epoch 20 (2.725 secs):err(train)=0.76,acc(train)=0.87,err(valid)=0.78,acc(valid)=0.85, \n",
      "End epoch 21 (2.721 secs):err(train)=0.73,acc(train)=0.88,err(valid)=0.77,acc(valid)=0.83, \n",
      "End epoch 22 (2.908 secs):err(train)=0.70,acc(train)=0.88,err(valid)=0.83,acc(valid)=0.79, \n",
      "End epoch 23 (2.745 secs):err(train)=0.67,acc(train)=0.88,err(valid)=0.73,acc(valid)=0.84, \n",
      "End epoch 24 (2.724 secs):err(train)=0.64,acc(train)=0.88,err(valid)=0.65,acc(valid)=0.88, \n",
      "End epoch 25 (2.734 secs):err(train)=0.62,acc(train)=0.88,err(valid)=0.92,acc(valid)=0.75, \n",
      "End epoch 26 (2.720 secs):err(train)=0.60,acc(train)=0.88,err(valid)=0.62,acc(valid)=0.87, \n",
      "End epoch 27 (2.719 secs):err(train)=0.59,acc(train)=0.88,err(valid)=0.69,acc(valid)=0.81, \n",
      "End epoch 28 (2.718 secs):err(train)=0.56,acc(train)=0.89,err(valid)=0.58,acc(valid)=0.87, \n",
      "End epoch 29 (2.722 secs):err(train)=0.55,acc(train)=0.89,err(valid)=0.71,acc(valid)=0.79, \n",
      "End epoch 30 (2.726 secs):err(train)=0.54,acc(train)=0.88,err(valid)=0.65,acc(valid)=0.81, \n",
      "\n",
      "epochs: 30\n",
      "input_keep_prob: 1.000000\n",
      "hidden_keep_prob: 1.000000\n",
      "End epoch 01 (2.866 secs):err(train)=7.03,acc(train)=0.63,err(valid)=5.94,acc(valid)=0.53, \n",
      "End epoch 02 (2.973 secs):err(train)=4.98,acc(train)=0.68,err(valid)=4.38,acc(valid)=0.58, \n",
      "End epoch 03 (2.835 secs):err(train)=3.75,acc(train)=0.71,err(valid)=3.44,acc(valid)=0.60, \n",
      "End epoch 04 (2.774 secs):err(train)=2.98,acc(train)=0.74,err(valid)=2.84,acc(valid)=0.65, \n",
      "End epoch 05 (2.777 secs):err(train)=2.48,acc(train)=0.77,err(valid)=2.45,acc(valid)=0.66, \n",
      "End epoch 06 (2.782 secs):err(train)=2.14,acc(train)=0.79,err(valid)=2.22,acc(valid)=0.64, \n",
      "End epoch 07 (2.780 secs):err(train)=1.90,acc(train)=0.80,err(valid)=1.98,acc(valid)=0.71, \n",
      "End epoch 08 (2.772 secs):err(train)=1.70,acc(train)=0.82,err(valid)=1.80,acc(valid)=0.71, \n",
      "End epoch 09 (2.787 secs):err(train)=1.54,acc(train)=0.83,err(valid)=1.67,acc(valid)=0.70, \n",
      "End epoch 10 (2.809 secs):err(train)=1.41,acc(train)=0.83,err(valid)=1.47,acc(valid)=0.77, \n",
      "End epoch 11 (2.874 secs):err(train)=1.30,acc(train)=0.84,err(valid)=1.35,acc(valid)=0.78, \n",
      "End epoch 12 (2.933 secs):err(train)=1.19,acc(train)=0.85,err(valid)=1.29,acc(valid)=0.75, \n",
      "End epoch 13 (2.790 secs):err(train)=1.11,acc(train)=0.86,err(valid)=1.25,acc(valid)=0.76, \n",
      "End epoch 14 (2.787 secs):err(train)=1.03,acc(train)=0.86,err(valid)=1.22,acc(valid)=0.72, \n",
      "End epoch 15 (2.820 secs):err(train)=0.96,acc(train)=0.86,err(valid)=1.39,acc(valid)=0.70, \n",
      "End epoch 16 (2.770 secs):err(train)=0.91,acc(train)=0.86,err(valid)=1.10,acc(valid)=0.75, \n",
      "End epoch 17 (2.765 secs):err(train)=0.86,acc(train)=0.87,err(valid)=1.01,acc(valid)=0.77, \n",
      "End epoch 18 (2.774 secs):err(train)=0.81,acc(train)=0.87,err(valid)=0.89,acc(valid)=0.81, \n",
      "End epoch 19 (2.767 secs):err(train)=0.78,acc(train)=0.87,err(valid)=0.96,acc(valid)=0.76, \n",
      "End epoch 20 (2.796 secs):err(train)=0.75,acc(train)=0.87,err(valid)=1.07,acc(valid)=0.77, \n",
      "End epoch 21 (2.820 secs):err(train)=0.71,acc(train)=0.87,err(valid)=0.88,acc(valid)=0.76, \n",
      "End epoch 22 (2.769 secs):err(train)=0.68,acc(train)=0.88,err(valid)=0.78,acc(valid)=0.80, \n",
      "End epoch 23 (2.756 secs):err(train)=0.65,acc(train)=0.88,err(valid)=0.84,acc(valid)=0.77, \n",
      "End epoch 24 (2.769 secs):err(train)=0.63,acc(train)=0.88,err(valid)=0.73,acc(valid)=0.81, \n",
      "End epoch 25 (2.766 secs):err(train)=0.61,acc(train)=0.88,err(valid)=0.89,acc(valid)=0.74, \n",
      "End epoch 26 (2.761 secs):err(train)=0.59,acc(train)=0.88,err(valid)=0.88,acc(valid)=0.72, \n",
      "End epoch 27 (2.759 secs):err(train)=0.58,acc(train)=0.88,err(valid)=1.09,acc(valid)=0.66, \n",
      "End epoch 28 (2.758 secs):err(train)=0.55,acc(train)=0.88,err(valid)=0.72,acc(valid)=0.80, \n",
      "End epoch 29 (2.765 secs):err(train)=0.54,acc(train)=0.88,err(valid)=0.74,acc(valid)=0.78, \n",
      "End epoch 30 (2.763 secs):err(train)=0.53,acc(train)=0.88,err(valid)=0.97,acc(valid)=0.70, \n",
      "\n",
      "epochs: 30\n",
      "input_keep_prob: 1.000000\n",
      "hidden_keep_prob: 1.000000\n",
      "End epoch 01 (2.854 secs):err(train)=7.00,acc(train)=0.61,err(valid)=5.87,acc(valid)=0.53, \n",
      "End epoch 02 (2.753 secs):err(train)=4.89,acc(train)=0.66,err(valid)=4.25,acc(valid)=0.60, \n",
      "End epoch 03 (2.770 secs):err(train)=3.64,acc(train)=0.70,err(valid)=3.30,acc(valid)=0.63, \n",
      "End epoch 04 (2.765 secs):err(train)=2.88,acc(train)=0.74,err(valid)=2.73,acc(valid)=0.68, \n",
      "End epoch 05 (2.747 secs):err(train)=2.40,acc(train)=0.77,err(valid)=2.35,acc(valid)=0.68, \n",
      "End epoch 06 (2.756 secs):err(train)=2.06,acc(train)=0.79,err(valid)=2.08,acc(valid)=0.70, \n",
      "End epoch 07 (2.761 secs):err(train)=1.81,acc(train)=0.81,err(valid)=1.89,acc(valid)=0.71, \n",
      "End epoch 08 (2.748 secs):err(train)=1.62,acc(train)=0.82,err(valid)=1.70,acc(valid)=0.73, \n",
      "End epoch 09 (2.748 secs):err(train)=1.46,acc(train)=0.84,err(valid)=1.58,acc(valid)=0.71, \n",
      "End epoch 10 (2.761 secs):err(train)=1.34,acc(train)=0.84,err(valid)=1.39,acc(valid)=0.79, \n",
      "End epoch 11 (2.746 secs):err(train)=1.23,acc(train)=0.85,err(valid)=1.34,acc(valid)=0.76, \n",
      "End epoch 12 (2.748 secs):err(train)=1.13,acc(train)=0.86,err(valid)=1.27,acc(valid)=0.74, \n",
      "End epoch 13 (2.756 secs):err(train)=1.04,acc(train)=0.86,err(valid)=1.10,acc(valid)=0.82, \n",
      "End epoch 14 (2.766 secs):err(train)=0.97,acc(train)=0.86,err(valid)=1.13,acc(valid)=0.72, \n",
      "End epoch 15 (2.755 secs):err(train)=0.90,acc(train)=0.87,err(valid)=1.02,acc(valid)=0.78, \n",
      "End epoch 16 (2.743 secs):err(train)=0.84,acc(train)=0.87,err(valid)=0.94,acc(valid)=0.81, \n",
      "End epoch 17 (2.755 secs):err(train)=0.79,acc(train)=0.88,err(valid)=0.85,acc(valid)=0.83, \n",
      "End epoch 18 (2.773 secs):err(train)=0.75,acc(train)=0.87,err(valid)=0.88,acc(valid)=0.79, \n",
      "End epoch 19 (2.753 secs):err(train)=0.71,acc(train)=0.88,err(valid)=0.88,acc(valid)=0.75, \n",
      "End epoch 20 (2.766 secs):err(train)=0.68,acc(train)=0.88,err(valid)=0.74,acc(valid)=0.84, \n",
      "End epoch 21 (2.815 secs):err(train)=0.64,acc(train)=0.88,err(valid)=0.69,acc(valid)=0.85, \n",
      "End epoch 22 (2.830 secs):err(train)=0.61,acc(train)=0.88,err(valid)=0.91,acc(valid)=0.76, \n",
      "End epoch 23 (2.832 secs):err(train)=0.59,acc(train)=0.89,err(valid)=0.75,acc(valid)=0.78, \n",
      "End epoch 24 (2.878 secs):err(train)=0.57,acc(train)=0.89,err(valid)=0.57,acc(valid)=0.89, \n",
      "End epoch 25 (2.767 secs):err(train)=0.55,acc(train)=0.88,err(valid)=0.58,acc(valid)=0.87, \n",
      "End epoch 26 (2.751 secs):err(train)=0.53,acc(train)=0.89,err(valid)=0.59,acc(valid)=0.85, \n",
      "End epoch 27 (2.749 secs):err(train)=0.51,acc(train)=0.89,err(valid)=0.58,acc(valid)=0.84, \n"
     ]
    },
    {
     "name": "stdout",
     "output_type": "stream",
     "text": [
      "End epoch 28 (2.739 secs):err(train)=0.50,acc(train)=0.89,err(valid)=0.65,acc(valid)=0.80, \n",
      "End epoch 29 (2.755 secs):err(train)=0.49,acc(train)=0.89,err(valid)=0.52,acc(valid)=0.87, \n",
      "End epoch 30 (2.747 secs):err(train)=0.47,acc(train)=0.90,err(valid)=0.49,acc(valid)=0.88, \n",
      "\n",
      "epochs: 30\n",
      "input_keep_prob: 1.000000\n",
      "hidden_keep_prob: 1.000000\n",
      "End epoch 01 (2.851 secs):err(train)=7.05,acc(train)=0.63,err(valid)=5.91,acc(valid)=0.55, \n",
      "End epoch 02 (2.897 secs):err(train)=4.99,acc(train)=0.69,err(valid)=4.37,acc(valid)=0.63, \n",
      "End epoch 03 (3.344 secs):err(train)=3.79,acc(train)=0.72,err(valid)=3.50,acc(valid)=0.61, \n",
      "End epoch 04 (2.975 secs):err(train)=3.04,acc(train)=0.74,err(valid)=2.91,acc(valid)=0.61, \n",
      "End epoch 05 (3.163 secs):err(train)=2.53,acc(train)=0.77,err(valid)=2.52,acc(valid)=0.64, \n",
      "End epoch 06 (2.972 secs):err(train)=2.19,acc(train)=0.79,err(valid)=2.22,acc(valid)=0.67, \n",
      "End epoch 07 (2.820 secs):err(train)=1.93,acc(train)=0.81,err(valid)=2.01,acc(valid)=0.68, \n",
      "End epoch 08 (2.745 secs):err(train)=1.73,acc(train)=0.83,err(valid)=1.88,acc(valid)=0.65, \n",
      "End epoch 09 (2.736 secs):err(train)=1.56,acc(train)=0.83,err(valid)=1.77,acc(valid)=0.70, \n",
      "End epoch 10 (2.753 secs):err(train)=1.43,acc(train)=0.84,err(valid)=1.59,acc(valid)=0.69, \n",
      "End epoch 11 (2.744 secs):err(train)=1.31,acc(train)=0.85,err(valid)=1.55,acc(valid)=0.67, \n",
      "End epoch 12 (2.739 secs):err(train)=1.20,acc(train)=0.86,err(valid)=1.39,acc(valid)=0.73, \n",
      "End epoch 13 (2.746 secs):err(train)=1.12,acc(train)=0.86,err(valid)=1.21,acc(valid)=0.77, \n",
      "End epoch 14 (2.765 secs):err(train)=1.04,acc(train)=0.86,err(valid)=1.23,acc(valid)=0.72, \n",
      "End epoch 15 (2.777 secs):err(train)=0.97,acc(train)=0.86,err(valid)=1.08,acc(valid)=0.76, \n",
      "End epoch 16 (2.762 secs):err(train)=0.91,acc(train)=0.86,err(valid)=1.35,acc(valid)=0.63, \n",
      "End epoch 17 (2.754 secs):err(train)=0.86,acc(train)=0.87,err(valid)=1.15,acc(valid)=0.74, \n",
      "End epoch 18 (2.760 secs):err(train)=0.81,acc(train)=0.87,err(valid)=1.08,acc(valid)=0.76, \n",
      "End epoch 19 (2.760 secs):err(train)=0.77,acc(train)=0.88,err(valid)=1.08,acc(valid)=0.73, \n",
      "End epoch 20 (2.766 secs):err(train)=0.73,acc(train)=0.88,err(valid)=0.87,acc(valid)=0.81, \n",
      "End epoch 21 (2.768 secs):err(train)=0.70,acc(train)=0.88,err(valid)=0.76,acc(valid)=0.83, \n",
      "End epoch 22 (2.775 secs):err(train)=0.67,acc(train)=0.88,err(valid)=0.81,acc(valid)=0.79, \n",
      "End epoch 23 (2.752 secs):err(train)=0.64,acc(train)=0.88,err(valid)=1.03,acc(valid)=0.70, \n",
      "End epoch 24 (2.754 secs):err(train)=0.62,acc(train)=0.88,err(valid)=0.77,acc(valid)=0.79, \n",
      "End epoch 25 (2.748 secs):err(train)=0.60,acc(train)=0.88,err(valid)=0.62,acc(valid)=0.87, \n",
      "End epoch 26 (2.748 secs):err(train)=0.58,acc(train)=0.88,err(valid)=0.68,acc(valid)=0.81, \n",
      "End epoch 27 (2.751 secs):err(train)=0.56,acc(train)=0.89,err(valid)=0.58,acc(valid)=0.87, \n",
      "End epoch 28 (2.738 secs):err(train)=0.54,acc(train)=0.89,err(valid)=0.63,acc(valid)=0.84, \n",
      "End epoch 29 (2.737 secs):err(train)=0.53,acc(train)=0.89,err(valid)=0.73,acc(valid)=0.76, \n",
      "End epoch 30 (2.741 secs):err(train)=0.50,acc(train)=0.89,err(valid)=0.69,acc(valid)=0.79, \n",
      "\n",
      "epochs: 30\n",
      "input_keep_prob: 1.000000\n",
      "hidden_keep_prob: 1.000000\n",
      "End epoch 01 (2.871 secs):err(train)=6.97,acc(train)=0.63,err(valid)=5.87,acc(valid)=0.53, \n",
      "End epoch 02 (2.860 secs):err(train)=4.89,acc(train)=0.69,err(valid)=4.28,acc(valid)=0.59, \n",
      "End epoch 03 (2.961 secs):err(train)=3.68,acc(train)=0.72,err(valid)=3.38,acc(valid)=0.60, \n",
      "End epoch 04 (2.825 secs):err(train)=2.94,acc(train)=0.75,err(valid)=2.81,acc(valid)=0.64, \n",
      "End epoch 05 (2.771 secs):err(train)=2.46,acc(train)=0.77,err(valid)=2.42,acc(valid)=0.65, \n",
      "End epoch 06 (2.772 secs):err(train)=2.12,acc(train)=0.79,err(valid)=2.14,acc(valid)=0.70, \n",
      "End epoch 07 (2.772 secs):err(train)=1.87,acc(train)=0.81,err(valid)=1.96,acc(valid)=0.68, \n",
      "End epoch 08 (2.773 secs):err(train)=1.68,acc(train)=0.82,err(valid)=1.83,acc(valid)=0.65, \n",
      "End epoch 09 (2.760 secs):err(train)=1.52,acc(train)=0.83,err(valid)=1.63,acc(valid)=0.71, \n",
      "End epoch 10 (2.767 secs):err(train)=1.39,acc(train)=0.84,err(valid)=1.46,acc(valid)=0.76, \n",
      "End epoch 11 (2.759 secs):err(train)=1.27,acc(train)=0.85,err(valid)=1.36,acc(valid)=0.76, \n",
      "End epoch 12 (2.748 secs):err(train)=1.18,acc(train)=0.85,err(valid)=1.22,acc(valid)=0.81, \n",
      "End epoch 13 (2.757 secs):err(train)=1.09,acc(train)=0.86,err(valid)=1.21,acc(valid)=0.76, \n",
      "End epoch 14 (2.773 secs):err(train)=1.02,acc(train)=0.86,err(valid)=1.15,acc(valid)=0.75, \n",
      "End epoch 15 (2.753 secs):err(train)=0.95,acc(train)=0.87,err(valid)=1.03,acc(valid)=0.80, \n",
      "End epoch 16 (2.772 secs):err(train)=0.90,acc(train)=0.87,err(valid)=0.96,acc(valid)=0.82, \n",
      "End epoch 17 (2.756 secs):err(train)=0.84,acc(train)=0.87,err(valid)=0.87,acc(valid)=0.86, \n",
      "End epoch 18 (2.754 secs):err(train)=0.79,acc(train)=0.88,err(valid)=0.94,acc(valid)=0.77, \n",
      "End epoch 19 (2.756 secs):err(train)=0.76,acc(train)=0.88,err(valid)=0.83,acc(valid)=0.82, \n",
      "End epoch 20 (2.747 secs):err(train)=0.72,acc(train)=0.88,err(valid)=0.76,acc(valid)=0.86, \n",
      "End epoch 21 (2.750 secs):err(train)=0.69,acc(train)=0.88,err(valid)=0.74,acc(valid)=0.84, \n",
      "End epoch 22 (2.754 secs):err(train)=0.66,acc(train)=0.88,err(valid)=0.80,acc(valid)=0.78, \n",
      "End epoch 23 (2.739 secs):err(train)=0.64,acc(train)=0.88,err(valid)=0.67,acc(valid)=0.86, \n",
      "End epoch 24 (2.743 secs):err(train)=0.61,acc(train)=0.88,err(valid)=0.74,acc(valid)=0.80, \n",
      "End epoch 25 (2.869 secs):err(train)=0.59,acc(train)=0.88,err(valid)=0.89,acc(valid)=0.73, \n",
      "End epoch 26 (2.759 secs):err(train)=0.57,acc(train)=0.88,err(valid)=0.59,acc(valid)=0.89, \n",
      "End epoch 27 (2.753 secs):err(train)=0.55,acc(train)=0.89,err(valid)=0.61,acc(valid)=0.85, \n",
      "End epoch 28 (2.764 secs):err(train)=0.54,acc(train)=0.89,err(valid)=0.73,acc(valid)=0.78, \n",
      "End epoch 29 (2.750 secs):err(train)=0.52,acc(train)=0.89,err(valid)=0.75,acc(valid)=0.78, \n",
      "End epoch 30 (2.760 secs):err(train)=0.51,acc(train)=0.89,err(valid)=1.03,acc(valid)=0.69, \n",
      "\n",
      "epochs: 30\n",
      "input_keep_prob: 1.000000\n",
      "hidden_keep_prob: 1.000000\n",
      "End epoch 01 (2.868 secs):err(train)=7.06,acc(train)=0.62,err(valid)=6.00,acc(valid)=0.52, \n",
      "End epoch 02 (2.757 secs):err(train)=5.06,acc(train)=0.68,err(valid)=4.46,acc(valid)=0.58, \n",
      "End epoch 03 (2.866 secs):err(train)=3.88,acc(train)=0.72,err(valid)=3.57,acc(valid)=0.63, \n",
      "End epoch 04 (2.760 secs):err(train)=3.14,acc(train)=0.75,err(valid)=3.00,acc(valid)=0.68, \n",
      "End epoch 05 (2.754 secs):err(train)=2.65,acc(train)=0.78,err(valid)=2.60,acc(valid)=0.69, \n",
      "End epoch 06 (2.780 secs):err(train)=2.30,acc(train)=0.80,err(valid)=2.39,acc(valid)=0.65, \n",
      "End epoch 07 (2.769 secs):err(train)=2.05,acc(train)=0.81,err(valid)=2.26,acc(valid)=0.62, \n",
      "End epoch 08 (2.761 secs):err(train)=1.83,acc(train)=0.83,err(valid)=2.03,acc(valid)=0.64, \n",
      "End epoch 09 (2.751 secs):err(train)=1.66,acc(train)=0.84,err(valid)=1.90,acc(valid)=0.65, \n",
      "End epoch 10 (2.761 secs):err(train)=1.51,acc(train)=0.84,err(valid)=1.98,acc(valid)=0.63, \n",
      "End epoch 11 (2.818 secs):err(train)=1.39,acc(train)=0.85,err(valid)=1.63,acc(valid)=0.66, \n",
      "End epoch 12 (2.756 secs):err(train)=1.28,acc(train)=0.85,err(valid)=1.46,acc(valid)=0.70, \n",
      "End epoch 13 (2.844 secs):err(train)=1.18,acc(train)=0.86,err(valid)=1.30,acc(valid)=0.76, \n",
      "End epoch 14 (2.919 secs):err(train)=1.10,acc(train)=0.87,err(valid)=1.20,acc(valid)=0.77, \n",
      "End epoch 15 (2.949 secs):err(train)=1.02,acc(train)=0.87,err(valid)=1.20,acc(valid)=0.74, \n",
      "End epoch 16 (2.957 secs):err(train)=0.96,acc(train)=0.87,err(valid)=1.09,acc(valid)=0.78, \n",
      "End epoch 17 (2.981 secs):err(train)=0.90,acc(train)=0.87,err(valid)=0.98,acc(valid)=0.82, \n",
      "End epoch 18 (2.808 secs):err(train)=0.84,acc(train)=0.88,err(valid)=0.96,acc(valid)=0.80, \n",
      "End epoch 19 (2.796 secs):err(train)=0.80,acc(train)=0.88,err(valid)=0.91,acc(valid)=0.79, \n",
      "End epoch 20 (2.756 secs):err(train)=0.75,acc(train)=0.88,err(valid)=1.01,acc(valid)=0.74, \n",
      "End epoch 21 (2.923 secs):err(train)=0.71,acc(train)=0.88,err(valid)=0.75,acc(valid)=0.86, \n",
      "End epoch 22 (2.777 secs):err(train)=0.68,acc(train)=0.88,err(valid)=0.80,acc(valid)=0.81, \n",
      "End epoch 23 (2.754 secs):err(train)=0.65,acc(train)=0.89,err(valid)=0.82,acc(valid)=0.81, \n",
      "End epoch 24 (2.748 secs):err(train)=0.63,acc(train)=0.89,err(valid)=0.79,acc(valid)=0.78, \n"
     ]
    },
    {
     "name": "stdout",
     "output_type": "stream",
     "text": [
      "End epoch 25 (2.771 secs):err(train)=0.60,acc(train)=0.89,err(valid)=0.66,acc(valid)=0.85, \n",
      "End epoch 26 (2.764 secs):err(train)=0.59,acc(train)=0.88,err(valid)=0.85,acc(valid)=0.74, \n",
      "End epoch 27 (2.768 secs):err(train)=0.57,acc(train)=0.88,err(valid)=0.67,acc(valid)=0.81, \n",
      "End epoch 28 (2.848 secs):err(train)=0.54,acc(train)=0.89,err(valid)=0.74,acc(valid)=0.79, \n",
      "End epoch 29 (2.766 secs):err(train)=0.52,acc(train)=0.89,err(valid)=1.10,acc(valid)=0.67, \n",
      "End epoch 30 (2.750 secs):err(train)=0.51,acc(train)=0.89,err(valid)=0.63,acc(valid)=0.84, \n",
      "\n",
      "epochs: 30\n",
      "input_keep_prob: 1.000000\n",
      "hidden_keep_prob: 1.000000\n",
      "End epoch 01 (2.893 secs):err(train)=6.93,acc(train)=0.62,err(valid)=5.73,acc(valid)=0.56, \n",
      "End epoch 02 (2.767 secs):err(train)=4.82,acc(train)=0.68,err(valid)=4.18,acc(valid)=0.68, \n",
      "End epoch 03 (2.751 secs):err(train)=3.62,acc(train)=0.72,err(valid)=3.30,acc(valid)=0.71, \n",
      "End epoch 04 (2.765 secs):err(train)=2.90,acc(train)=0.75,err(valid)=2.76,acc(valid)=0.68, \n",
      "End epoch 05 (2.778 secs):err(train)=2.43,acc(train)=0.78,err(valid)=2.39,acc(valid)=0.67, \n",
      "End epoch 06 (2.881 secs):err(train)=2.09,acc(train)=0.80,err(valid)=2.12,acc(valid)=0.67, \n",
      "End epoch 07 (2.774 secs):err(train)=1.85,acc(train)=0.81,err(valid)=1.89,acc(valid)=0.74, \n",
      "End epoch 08 (2.777 secs):err(train)=1.66,acc(train)=0.82,err(valid)=1.73,acc(valid)=0.72, \n",
      "End epoch 09 (2.762 secs):err(train)=1.50,acc(train)=0.83,err(valid)=1.68,acc(valid)=0.66, \n",
      "End epoch 10 (2.741 secs):err(train)=1.36,acc(train)=0.84,err(valid)=1.43,acc(valid)=0.77, \n",
      "End epoch 11 (2.746 secs):err(train)=1.25,acc(train)=0.85,err(valid)=1.34,acc(valid)=0.76, \n",
      "End epoch 12 (2.744 secs):err(train)=1.15,acc(train)=0.86,err(valid)=1.26,acc(valid)=0.75, \n",
      "End epoch 13 (2.749 secs):err(train)=1.06,acc(train)=0.86,err(valid)=1.21,acc(valid)=0.74, \n",
      "End epoch 14 (2.752 secs):err(train)=0.99,acc(train)=0.86,err(valid)=1.05,acc(valid)=0.82, \n",
      "End epoch 15 (2.748 secs):err(train)=0.92,acc(train)=0.87,err(valid)=1.09,acc(valid)=0.74, \n",
      "End epoch 16 (2.759 secs):err(train)=0.87,acc(train)=0.87,err(valid)=0.90,acc(valid)=0.84, \n",
      "End epoch 17 (2.765 secs):err(train)=0.82,acc(train)=0.87,err(valid)=0.89,acc(valid)=0.82, \n",
      "End epoch 18 (2.759 secs):err(train)=0.78,acc(train)=0.87,err(valid)=0.88,acc(valid)=0.79, \n",
      "End epoch 19 (2.743 secs):err(train)=0.73,acc(train)=0.88,err(valid)=0.82,acc(valid)=0.81, \n",
      "End epoch 20 (2.755 secs):err(train)=0.70,acc(train)=0.88,err(valid)=0.85,acc(valid)=0.77, \n",
      "End epoch 21 (2.745 secs):err(train)=0.67,acc(train)=0.88,err(valid)=0.72,acc(valid)=0.85, \n",
      "End epoch 22 (2.758 secs):err(train)=0.64,acc(train)=0.88,err(valid)=0.74,acc(valid)=0.82, \n",
      "End epoch 23 (3.034 secs):err(train)=0.61,acc(train)=0.88,err(valid)=0.65,acc(valid)=0.86, \n",
      "End epoch 24 (2.960 secs):err(train)=0.58,acc(train)=0.89,err(valid)=0.62,acc(valid)=0.86, \n",
      "End epoch 25 (2.929 secs):err(train)=0.56,acc(train)=0.89,err(valid)=1.19,acc(valid)=0.63, \n",
      "End epoch 26 (2.938 secs):err(train)=0.54,acc(train)=0.89,err(valid)=0.59,acc(valid)=0.84, \n",
      "End epoch 27 (3.261 secs):err(train)=0.53,acc(train)=0.88,err(valid)=0.67,acc(valid)=0.82, \n",
      "End epoch 28 (2.990 secs):err(train)=0.52,acc(train)=0.89,err(valid)=0.53,acc(valid)=0.89, \n",
      "End epoch 29 (3.077 secs):err(train)=0.50,acc(train)=0.89,err(valid)=0.69,acc(valid)=0.78, \n",
      "End epoch 30 (3.107 secs):err(train)=0.48,acc(train)=0.89,err(valid)=0.58,acc(valid)=0.84, \n",
      "\n",
      "epochs: 30\n",
      "input_keep_prob: 1.000000\n",
      "hidden_keep_prob: 1.000000\n",
      "End epoch 01 (3.112 secs):err(train)=7.01,acc(train)=0.62,err(valid)=5.85,acc(valid)=0.57, \n",
      "End epoch 02 (2.801 secs):err(train)=4.93,acc(train)=0.68,err(valid)=4.28,acc(valid)=0.61, \n",
      "End epoch 03 (2.751 secs):err(train)=3.70,acc(train)=0.71,err(valid)=3.41,acc(valid)=0.61, \n",
      "End epoch 04 (2.773 secs):err(train)=2.94,acc(train)=0.75,err(valid)=2.76,acc(valid)=0.72, \n",
      "End epoch 05 (2.776 secs):err(train)=2.45,acc(train)=0.77,err(valid)=2.38,acc(valid)=0.73, \n",
      "End epoch 06 (2.780 secs):err(train)=2.11,acc(train)=0.79,err(valid)=2.10,acc(valid)=0.73, \n",
      "End epoch 07 (2.764 secs):err(train)=1.85,acc(train)=0.81,err(valid)=1.90,acc(valid)=0.73, \n",
      "End epoch 08 (2.761 secs):err(train)=1.66,acc(train)=0.82,err(valid)=1.76,acc(valid)=0.69, \n",
      "End epoch 09 (2.749 secs):err(train)=1.50,acc(train)=0.83,err(valid)=1.75,acc(valid)=0.62, \n",
      "End epoch 10 (2.756 secs):err(train)=1.36,acc(train)=0.84,err(valid)=1.45,acc(valid)=0.75, \n",
      "End epoch 11 (2.750 secs):err(train)=1.25,acc(train)=0.85,err(valid)=1.55,acc(valid)=0.64, \n",
      "End epoch 12 (2.767 secs):err(train)=1.16,acc(train)=0.85,err(valid)=1.51,acc(valid)=0.65, \n",
      "End epoch 13 (2.764 secs):err(train)=1.07,acc(train)=0.86,err(valid)=1.26,acc(valid)=0.76, \n",
      "End epoch 14 (2.751 secs):err(train)=1.00,acc(train)=0.86,err(valid)=1.21,acc(valid)=0.71, \n",
      "End epoch 15 (2.760 secs):err(train)=0.94,acc(train)=0.86,err(valid)=1.03,acc(valid)=0.78, \n",
      "End epoch 16 (2.755 secs):err(train)=0.88,acc(train)=0.87,err(valid)=1.08,acc(valid)=0.74, \n",
      "End epoch 17 (2.769 secs):err(train)=0.83,acc(train)=0.87,err(valid)=0.94,acc(valid)=0.78, \n",
      "End epoch 18 (2.759 secs):err(train)=0.78,acc(train)=0.87,err(valid)=0.96,acc(valid)=0.75, \n",
      "End epoch 19 (2.760 secs):err(train)=0.74,acc(train)=0.87,err(valid)=0.83,acc(valid)=0.81, \n",
      "End epoch 20 (2.760 secs):err(train)=0.71,acc(train)=0.87,err(valid)=0.75,acc(valid)=0.83, \n",
      "End epoch 21 (2.760 secs):err(train)=0.67,acc(train)=0.88,err(valid)=0.81,acc(valid)=0.81, \n",
      "End epoch 22 (2.752 secs):err(train)=0.65,acc(train)=0.88,err(valid)=0.73,acc(valid)=0.82, \n",
      "End epoch 23 (2.744 secs):err(train)=0.61,acc(train)=0.88,err(valid)=0.76,acc(valid)=0.78, \n",
      "End epoch 24 (2.749 secs):err(train)=0.60,acc(train)=0.88,err(valid)=0.73,acc(valid)=0.80, \n",
      "End epoch 25 (2.746 secs):err(train)=0.56,acc(train)=0.89,err(valid)=0.69,acc(valid)=0.82, \n",
      "End epoch 26 (2.759 secs):err(train)=0.55,acc(train)=0.89,err(valid)=0.71,acc(valid)=0.79, \n",
      "End epoch 27 (2.767 secs):err(train)=0.54,acc(train)=0.88,err(valid)=0.65,acc(valid)=0.81, \n",
      "End epoch 28 (2.763 secs):err(train)=0.52,acc(train)=0.89,err(valid)=0.61,acc(valid)=0.83, \n",
      "End epoch 29 (2.851 secs):err(train)=0.50,acc(train)=0.89,err(valid)=0.69,acc(valid)=0.81, \n",
      "End epoch 30 (2.834 secs):err(train)=0.49,acc(train)=0.89,err(valid)=0.60,acc(valid)=0.83, \n",
      "\n",
      "epochs: 30\n",
      "input_keep_prob: 1.000000\n",
      "hidden_keep_prob: 1.000000\n",
      "End epoch 01 (2.874 secs):err(train)=6.98,acc(train)=0.61,err(valid)=5.96,acc(valid)=0.50, \n",
      "End epoch 02 (2.783 secs):err(train)=4.86,acc(train)=0.67,err(valid)=4.22,acc(valid)=0.60, \n",
      "End epoch 03 (2.900 secs):err(train)=3.63,acc(train)=0.71,err(valid)=3.30,acc(valid)=0.66, \n",
      "End epoch 04 (2.943 secs):err(train)=2.88,acc(train)=0.75,err(valid)=2.72,acc(valid)=0.70, \n",
      "End epoch 05 (3.319 secs):err(train)=2.39,acc(train)=0.77,err(valid)=2.36,acc(valid)=0.68, \n",
      "End epoch 06 (3.101 secs):err(train)=2.06,acc(train)=0.80,err(valid)=2.11,acc(valid)=0.67, \n",
      "End epoch 07 (2.797 secs):err(train)=1.81,acc(train)=0.81,err(valid)=1.88,acc(valid)=0.70, \n",
      "End epoch 08 (2.793 secs):err(train)=1.62,acc(train)=0.83,err(valid)=1.68,acc(valid)=0.77, \n",
      "End epoch 09 (2.780 secs):err(train)=1.46,acc(train)=0.84,err(valid)=1.52,acc(valid)=0.80, \n",
      "End epoch 10 (2.793 secs):err(train)=1.33,acc(train)=0.85,err(valid)=1.40,acc(valid)=0.79, \n",
      "End epoch 11 (2.774 secs):err(train)=1.21,acc(train)=0.86,err(valid)=1.31,acc(valid)=0.76, \n",
      "End epoch 12 (2.934 secs):err(train)=1.11,acc(train)=0.86,err(valid)=1.21,acc(valid)=0.78, \n",
      "End epoch 13 (3.251 secs):err(train)=1.03,acc(train)=0.87,err(valid)=1.11,acc(valid)=0.81, \n",
      "End epoch 14 (2.935 secs):err(train)=0.96,acc(train)=0.87,err(valid)=1.13,acc(valid)=0.73, \n",
      "End epoch 15 (2.805 secs):err(train)=0.90,acc(train)=0.87,err(valid)=0.95,acc(valid)=0.83, \n",
      "End epoch 16 (2.763 secs):err(train)=0.84,acc(train)=0.87,err(valid)=1.10,acc(valid)=0.70, \n",
      "End epoch 17 (2.773 secs):err(train)=0.79,acc(train)=0.88,err(valid)=0.86,acc(valid)=0.81, \n",
      "End epoch 18 (2.768 secs):err(train)=0.75,acc(train)=0.88,err(valid)=0.83,acc(valid)=0.81, \n",
      "End epoch 19 (2.769 secs):err(train)=0.71,acc(train)=0.88,err(valid)=0.73,acc(valid)=0.86, \n",
      "End epoch 20 (2.857 secs):err(train)=0.67,acc(train)=0.88,err(valid)=0.70,acc(valid)=0.85, \n",
      "End epoch 21 (2.794 secs):err(train)=0.64,acc(train)=0.88,err(valid)=0.67,acc(valid)=0.85, \n"
     ]
    },
    {
     "name": "stdout",
     "output_type": "stream",
     "text": [
      "End epoch 22 (2.776 secs):err(train)=0.61,acc(train)=0.89,err(valid)=0.68,acc(valid)=0.83, \n",
      "End epoch 23 (2.854 secs):err(train)=0.59,acc(train)=0.89,err(valid)=0.66,acc(valid)=0.84, \n",
      "End epoch 24 (2.948 secs):err(train)=0.56,acc(train)=0.89,err(valid)=0.60,acc(valid)=0.87, \n",
      "End epoch 25 (2.813 secs):err(train)=0.55,acc(train)=0.89,err(valid)=0.85,acc(valid)=0.77, \n",
      "End epoch 26 (2.821 secs):err(train)=0.52,acc(train)=0.89,err(valid)=0.57,acc(valid)=0.86, \n",
      "End epoch 27 (2.978 secs):err(train)=0.51,acc(train)=0.89,err(valid)=0.55,acc(valid)=0.88, \n",
      "End epoch 28 (2.791 secs):err(train)=0.49,acc(train)=0.89,err(valid)=0.59,acc(valid)=0.82, \n",
      "End epoch 29 (2.990 secs):err(train)=0.48,acc(train)=0.89,err(valid)=0.53,acc(valid)=0.85, \n",
      "End epoch 30 (2.811 secs):err(train)=0.46,acc(train)=0.90,err(valid)=0.80,acc(valid)=0.74, \n",
      "\n",
      "epochs: 30\n",
      "input_keep_prob: 1.000000\n",
      "hidden_keep_prob: 1.000000\n",
      "End epoch 01 (3.130 secs):err(train)=6.92,acc(train)=0.62,err(valid)=5.73,acc(valid)=0.57, \n",
      "End epoch 02 (3.165 secs):err(train)=4.82,acc(train)=0.68,err(valid)=4.19,acc(valid)=0.62, \n",
      "End epoch 03 (2.941 secs):err(train)=3.63,acc(train)=0.72,err(valid)=3.34,acc(valid)=0.61, \n",
      "End epoch 04 (2.785 secs):err(train)=2.92,acc(train)=0.75,err(valid)=2.77,acc(valid)=0.70, \n",
      "End epoch 05 (3.311 secs):err(train)=2.45,acc(train)=0.77,err(valid)=2.40,acc(valid)=0.72, \n",
      "End epoch 06 (3.446 secs):err(train)=2.14,acc(train)=0.79,err(valid)=2.16,acc(valid)=0.69, \n",
      "End epoch 07 (3.139 secs):err(train)=1.90,acc(train)=0.81,err(valid)=2.00,acc(valid)=0.67, \n",
      "End epoch 08 (3.209 secs):err(train)=1.71,acc(train)=0.81,err(valid)=1.90,acc(valid)=0.70, \n",
      "End epoch 09 (3.248 secs):err(train)=1.55,acc(train)=0.84,err(valid)=1.64,acc(valid)=0.76, \n",
      "End epoch 10 (2.863 secs):err(train)=1.43,acc(train)=0.83,err(valid)=1.57,acc(valid)=0.72, \n",
      "End epoch 11 (2.995 secs):err(train)=1.31,acc(train)=0.84,err(valid)=1.42,acc(valid)=0.77, \n",
      "End epoch 12 (3.198 secs):err(train)=1.22,acc(train)=0.85,err(valid)=1.38,acc(valid)=0.74, \n",
      "End epoch 13 (2.828 secs):err(train)=1.13,acc(train)=0.86,err(valid)=1.46,acc(valid)=0.69, \n",
      "End epoch 14 (2.859 secs):err(train)=1.05,acc(train)=0.86,err(valid)=1.23,acc(valid)=0.72, \n",
      "End epoch 15 (2.903 secs):err(train)=0.99,acc(train)=0.86,err(valid)=1.10,acc(valid)=0.78, \n",
      "End epoch 16 (2.871 secs):err(train)=0.93,acc(train)=0.86,err(valid)=1.21,acc(valid)=0.68, \n",
      "End epoch 17 (2.862 secs):err(train)=0.88,acc(train)=0.87,err(valid)=1.01,acc(valid)=0.77, \n",
      "End epoch 18 (2.826 secs):err(train)=0.83,acc(train)=0.87,err(valid)=1.01,acc(valid)=0.74, \n",
      "End epoch 19 (2.836 secs):err(train)=0.79,acc(train)=0.87,err(valid)=0.84,acc(valid)=0.83, \n",
      "End epoch 20 (2.936 secs):err(train)=0.75,acc(train)=0.88,err(valid)=1.24,acc(valid)=0.66, \n",
      "End epoch 21 (2.853 secs):err(train)=0.72,acc(train)=0.88,err(valid)=1.02,acc(valid)=0.73, \n",
      "End epoch 22 (2.877 secs):err(train)=0.68,acc(train)=0.88,err(valid)=0.83,acc(valid)=0.78, \n",
      "End epoch 23 (2.846 secs):err(train)=0.66,acc(train)=0.88,err(valid)=0.76,acc(valid)=0.81, \n",
      "End epoch 24 (2.978 secs):err(train)=0.64,acc(train)=0.88,err(valid)=0.77,acc(valid)=0.81, \n",
      "End epoch 25 (2.794 secs):err(train)=0.61,acc(train)=0.88,err(valid)=0.74,acc(valid)=0.82, \n",
      "End epoch 26 (3.283 secs):err(train)=0.58,acc(train)=0.89,err(valid)=0.73,acc(valid)=0.82, \n",
      "End epoch 27 (2.897 secs):err(train)=0.57,acc(train)=0.88,err(valid)=0.74,acc(valid)=0.78, \n",
      "End epoch 28 (3.064 secs):err(train)=0.55,acc(train)=0.89,err(valid)=0.70,acc(valid)=0.84, \n",
      "End epoch 29 (2.772 secs):err(train)=0.53,acc(train)=0.89,err(valid)=0.60,acc(valid)=0.85, \n",
      "End epoch 30 (2.896 secs):err(train)=0.52,acc(train)=0.89,err(valid)=0.58,acc(valid)=0.85, \n",
      "\n"
     ]
    }
   ],
   "source": [
    "stats_list = clf.run(n_splits=10, hidden_dim=200, lamda2=1e-2,\n",
    "                     learning_rate=1e-4, epochs=30)"
   ]
  },
  {
   "cell_type": "code",
   "execution_count": 11,
   "metadata": {},
   "outputs": [
    {
     "data": {
      "text/plain": [
       "10"
      ]
     },
     "execution_count": 11,
     "metadata": {},
     "output_type": "execute_result"
    }
   ],
   "source": [
    "len(stats_list)"
   ]
  },
  {
   "cell_type": "code",
   "execution_count": 12,
   "metadata": {},
   "outputs": [
    {
     "data": {
      "text/plain": [
       "(30, 4)"
      ]
     },
     "execution_count": 12,
     "metadata": {},
     "output_type": "execute_result"
    }
   ],
   "source": [
    "stats_list[0].shape"
   ]
  },
  {
   "cell_type": "code",
   "execution_count": 23,
   "metadata": {},
   "outputs": [
    {
     "data": {
      "text/plain": [
       "(30, 4)"
      ]
     },
     "execution_count": 23,
     "metadata": {},
     "output_type": "execute_result"
    }
   ],
   "source": [
    "stats_mean = np.mean(np.array(stats_list), axis=0)\n",
    "stats_mean.shape"
   ]
  },
  {
   "cell_type": "code",
   "execution_count": 24,
   "metadata": {},
   "outputs": [
    {
     "data": {
      "image/png": "[encoded data removed]",
      "text/plain": [
       "<matplotlib.figure.Figure at 0x7fd82ffa7bd0>"
      ]
     },
     "metadata": {},
     "output_type": "display_data"
    },
    {
     "data": {
      "image/png": "[encoded data removed]",
      "text/plain": [
       "<matplotlib.figure.Figure at 0x7fd82fed2790>"
      ]
     },
     "metadata": {},
     "output_type": "display_data"
    }
   ],
   "source": [
    "fig_1, ax_1, fig_2, ax_2 = plotStats(stats_mean, DynStats.keys)"
   ]
  },
  {
   "cell_type": "code",
   "execution_count": 9,
   "metadata": {},
   "outputs": [
    {
     "name": "stdout",
     "output_type": "stream",
     "text": [
      "[[0 1]\n",
      " [4 5]]\n",
      "\n",
      "[[2 3]\n",
      " [6 7]]\n",
      "\n",
      "[[0 1 2 3]\n",
      " [4 5 6 7]]\n"
     ]
    }
   ],
   "source": [
    "with tf.Session() as sess:\n",
    "    arra = tf.constant([[0,1,2,3],[4,5,6,7]])\n",
    "    feature_len = int(arra.get_shape()[1])\n",
    "    half_len = feature_len // 2\n",
    "    assert half_len == feature_len / 2  # only even number are accepted\n",
    "    arl = tf.slice(arra, [0, 0], [-1, half_len])\n",
    "    arr = tf.slice(arra, [0, half_len], [-1, -1])\n",
    "    print sess.run(arl)\n",
    "    print\n",
    "    print sess.run(arr)\n",
    "    print\n",
    "    print sess.run(tf.concat((arl,arr), axis=1))"
   ]
  },
  {
   "cell_type": "code",
   "execution_count": 37,
   "metadata": {
    "collapsed": true
   },
   "outputs": [],
   "source": [
    "# mt = np.load('/home/student/pligor.george@gmail.com/msc_Artificial_Intelligence/mlp_Machine_Learning_Practical/mlpractical/data/mnist-train.npz')\n",
    "# print mt.keys()\n",
    "# mt['targets']"
   ]
  },
  {
   "cell_type": "code",
   "execution_count": null,
   "metadata": {
    "collapsed": true
   },
   "outputs": [],
   "source": []
  }
 ],
 "metadata": {
  "kernelspec": {
   "display_name": "Python 2",
   "language": "python",
   "name": "python2"
  },
  "language_info": {
   "codemirror_mode": {
    "name": "ipython",
    "version": 2
   },
   "file_extension": ".py",
   "mimetype": "text/x-python",
   "name": "python",
   "nbconvert_exporter": "python",
   "pygments_lexer": "ipython2",
   "version": "2.7.13"
  }
 },
 "nbformat": 4,
 "nbformat_minor": 2
}
